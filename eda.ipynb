{
 "cells": [
  {
   "cell_type": "markdown",
   "id": "ee4b1873",
   "metadata": {},
   "source": [
    "# Exploratory Data Analysis of the OCR Berrutti Dataset"
   ]
  },
  {
   "cell_type": "code",
   "execution_count": 1,
   "id": "b602afc0",
   "metadata": {},
   "outputs": [],
   "source": [
    "from pathlib import Path\n",
    "import json\n",
    "from typing import Any, Dict, List\n",
    "\n",
    "import numpy as np\n",
    "import pandas as pd\n",
    "from PIL import Image\n",
    "\n",
    "\n",
    "class OCRBerruttiDataset:\n",
    "    \"\"\"\n",
    "    OCR Berrutti Dataset loader.\n",
    "    The dataset contains three folders:\n",
    "        - images: document images\n",
    "        - bounding_boxes_lines: JSON with line bounding boxes\n",
    "        - full_text_transcription: text files with full transcriptions\n",
    "    \"\"\"\n",
    "\n",
    "    def __init__(self, path: Path) -> None:\n",
    "        \"\"\"\n",
    "        Initialize the dataset loader.\n",
    "\n",
    "        Args:\n",
    "            path (Path): Path to the dataset directory.\n",
    "        \"\"\"\n",
    "        self.path: Path = path\n",
    "        self.images_dir: Path = self.path / \"images\"\n",
    "        self.boxes_json: Path = (\n",
    "            self.path / \"bounding_boxes_lines\" / \"bounding_boxes_lines_via2.json\"\n",
    "        )\n",
    "        self.transcriptions_dir: Path = self.path / \"full_text_transcription\"\n",
    "\n",
    "    def get_docs_list(self) -> List[str]:\n",
    "        \"\"\"\n",
    "        Return a list of document names (without extension).\n",
    "\n",
    "        Returns:\n",
    "            List[str]: Document stems.\n",
    "        \"\"\"\n",
    "        return [\n",
    "            p.stem\n",
    "            for p in self.images_dir.iterdir()\n",
    "            if p.is_file() and p.suffix.lower() == \".png\"\n",
    "        ]\n",
    "\n",
    "    def get_bounding_boxes(self, doc_name: str) -> pd.DataFrame:\n",
    "        \"\"\"\n",
    "        Load bounding boxes for a document, including the image crop as a NumPy array.\n",
    "\n",
    "        Args:\n",
    "            doc_name (str): Document name (without extension).\n",
    "\n",
    "        Returns:\n",
    "            pd.DataFrame: DataFrame with columns x, y, width, height, text, crop.\n",
    "        \"\"\"\n",
    "        with open(self.boxes_json, \"r\") as f:\n",
    "            data: Dict[str, Any] = json.load(f)\n",
    "        regions: List[Dict[str, Any]] = data[doc_name][\"regions\"]\n",
    "\n",
    "        image_path = self.images_dir / f\"{doc_name}.png\"\n",
    "        img_array: np.ndarray = np.array(Image.open(image_path))\n",
    "\n",
    "        records: List[Dict[str, Any]] = []\n",
    "        for region in regions:\n",
    "            x = region[\"shape_attributes\"][\"x\"]\n",
    "            y = region[\"shape_attributes\"][\"y\"]\n",
    "            w = region[\"shape_attributes\"][\"width\"]\n",
    "            h = region[\"shape_attributes\"][\"height\"]\n",
    "            text = region[\"region_attributes\"][\"text\"]\n",
    "            crop = img_array[y : y + h, x : x + w]\n",
    "            records.append(\n",
    "                {\"x\": x, \"y\": y, \"width\": w, \"height\": h, \"text\": text, \"crop\": crop}\n",
    "            )\n",
    "\n",
    "        return pd.DataFrame(records)\n",
    "\n",
    "    def plot_document(self, doc_name: str, show_boxes: bool = True) -> None:\n",
    "        \"\"\"\n",
    "        Display the document image with optional bounding boxes overlay.\n",
    "\n",
    "        Args:\n",
    "            doc_name (str): Document name (without extension).\n",
    "            show_boxes (bool): If True, draw bounding boxes with hover text.\n",
    "        \"\"\"\n",
    "        import plotly.graph_objects as go\n",
    "\n",
    "        image_path = self.images_dir / f\"{doc_name}.png\"\n",
    "        img = Image.open(image_path)\n",
    "        width, height = img.size\n",
    "\n",
    "        fig = go.Figure()\n",
    "        fig.add_layout_image(\n",
    "            dict(\n",
    "                source=img,\n",
    "                x=0,\n",
    "                y=0,\n",
    "                sizex=width,\n",
    "                sizey=height,\n",
    "                xref=\"x\",\n",
    "                yref=\"y\",\n",
    "                sizing=\"stretch\",\n",
    "                layer=\"below\",\n",
    "            )\n",
    "        )\n",
    "\n",
    "        if show_boxes:\n",
    "            df = self.get_bounding_boxes(doc_name)\n",
    "            for _, row in df.iterrows():\n",
    "                fig.add_shape(\n",
    "                    type=\"rect\",\n",
    "                    x0=row[\"x\"],\n",
    "                    y0=row[\"y\"],\n",
    "                    x1=row[\"x\"] + row[\"width\"],\n",
    "                    y1=row[\"y\"] + row[\"height\"],\n",
    "                    xref=\"x\",\n",
    "                    yref=\"y\",\n",
    "                    line=dict(color=\"red\", width=2),\n",
    "                )\n",
    "                fig.add_trace(\n",
    "                    go.Scatter(\n",
    "                        x=[\n",
    "                            row[\"x\"],\n",
    "                            row[\"x\"] + row[\"width\"],\n",
    "                            row[\"x\"] + row[\"width\"],\n",
    "                            row[\"x\"],\n",
    "                            row[\"x\"],\n",
    "                        ],\n",
    "                        y=[\n",
    "                            row[\"y\"],\n",
    "                            row[\"y\"],\n",
    "                            row[\"y\"] + row[\"height\"],\n",
    "                            row[\"y\"] + row[\"height\"],\n",
    "                            row[\"y\"],\n",
    "                        ],\n",
    "                        mode=\"none\",\n",
    "                        fill=\"toself\",\n",
    "                        fillcolor=\"rgba(0,0,0,0)\",\n",
    "                        hoverinfo=\"text\",\n",
    "                        text=row[\"text\"],\n",
    "                        showlegend=False,\n",
    "                    )\n",
    "                )\n",
    "\n",
    "        fig.update_xaxes(visible=False, range=[0, width], constrain=\"domain\")\n",
    "        fig.update_yaxes(visible=False, range=[height, 0], scaleanchor=\"x\")\n",
    "        fig.update_layout(\n",
    "            title=dict(text=f\"Detections: {doc_name}\", x=0.5),\n",
    "            margin=dict(l=0, r=0, t=30, b=0),\n",
    "            dragmode=\"zoom\",\n",
    "            showlegend=False,\n",
    "        )\n",
    "        fig.show()\n",
    "\n",
    "\n",
    "ocr_berrutti_dataset = OCRBerruttiDataset(Path(\"berrutti_dataset\"))"
   ]
  },
  {
   "cell_type": "markdown",
   "id": "e76c3c1a",
   "metadata": {},
   "source": [
    "### Show list of documents"
   ]
  },
  {
   "cell_type": "code",
   "execution_count": 2,
   "id": "77c11ddb",
   "metadata": {},
   "outputs": [
    {
     "name": "stdout",
     "output_type": "stream",
     "text": [
      "['medium_r0547_1444',\n",
      " 'high_r0602_2316',\n",
      " 'high_r0814_1006',\n",
      " 'high_r1060-071',\n",
      " 'medium_r0463_0408',\n",
      " 'high_r0814_0325',\n",
      " 'high_r0602_2317',\n",
      " 'high_r0795_0638',\n",
      " 'high_r1291_0465',\n",
      " 'high_r0795_0148',\n",
      " 'low_r1060-155',\n",
      " 'high_r0814_1005',\n",
      " 'medium_r0463_0393',\n",
      " 'medium_r0114_0208',\n",
      " 'low_r0606_2299',\n",
      " 'medium_r0114_0209',\n",
      " 'medium_r0463_0392',\n",
      " 'low_r1060-168',\n",
      " 'medium_r1060-190',\n",
      " 'high_r0791_1063',\n",
      " 'high_r0126_0317',\n",
      " 'high_r0795_1938',\n",
      " 'high_r0828_2229',\n",
      " 'medium_r1060-180',\n",
      " 'medium_r0114_0231',\n",
      " 'high_r0798_0329',\n",
      " 'high_r0952_0233',\n",
      " 'medium_r0114_0218',\n",
      " 'high_r0955_2440',\n",
      " 'low_r1060-145',\n",
      " 'low_r0726_0260',\n",
      " 'low_r1060-147',\n",
      " 'medium_r1060-020',\n",
      " 'high_r0828_2410',\n",
      " 'low_r1060-184',\n",
      " 'medium_r0114_0226',\n",
      " 'medium_r0114_0232',\n",
      " 'low_r0661_1680',\n",
      " 'low_r0438_2571',\n",
      " 'low_r0341_0080',\n",
      " 'medium_r0139_0955',\n",
      " 'medium_r0463_0394',\n",
      " 'high_r0813_0153',\n",
      " 'medium_r0547_1427',\n",
      " 'high_r0792_1086',\n",
      " 'high_r0791_2047',\n",
      " 'medium_r0580_2249',\n",
      " 'low_r629-1710.1975',\n",
      " 'low_r0863_0808',\n",
      " 'low_r0458_1018',\n",
      " 'low_r1424_0195',\n",
      " 'high_r0802_0550',\n",
      " 'high_r1060-011',\n",
      " 'high_r0814_0185',\n",
      " 'high_r0952_0241',\n",
      " 'low_r0290_0317',\n",
      " 'low_r0438_2529',\n",
      " 'medium_r0419_1498',\n",
      " 'high_r0795_1383',\n",
      " 'high_r0955_1488',\n",
      " 'high_r1060-004',\n",
      " 'medium_r0139_1390',\n",
      " 'medium_r1060-093',\n",
      " 'high_r0828_1800',\n",
      " 'low_r0130_0343',\n",
      " 'medium_r1060-050',\n",
      " 'low_r0863_0771',\n",
      " 'high_r0814_0157',\n",
      " 'high_r0828_1421',\n",
      " 'high_r0828_1420',\n",
      " 'high_r0814_0156',\n",
      " 'high_r1060-015',\n",
      " 'high_r1060-177',\n",
      " 'high_r0795_1031',\n",
      " 'medium_r0114_0245',\n",
      " 'medium_r0438_1769',\n",
      " 'high_r1060-003',\n",
      " 'high_r0952_2337',\n",
      " 'high_r0813_0911',\n",
      " 'low_r0794_1959',\n",
      " 'high_r0809_1451',\n",
      " 'medium_r0580_2254',\n",
      " 'high_r0813_0459',\n",
      " 'low_r0111_0900',\n",
      " 'high_r0814_0825',\n",
      " 'low_r0290_1002',\n",
      " 'low_r0863_0814',\n",
      " 'high_r0814_1079',\n",
      " 'high_r0813_0921',\n",
      " 'high_r0126_0626',\n",
      " 'high_r0795_2051',\n",
      " 'medium_r0547_1439',\n",
      " 'medium_r0159_2251',\n",
      " 'medium_r0463_0460',\n",
      " 'high_r0791_0920',\n",
      " 'medium_r0438_1773',\n",
      " 'high_r0792_2023',\n",
      " 'low_r0139_1789',\n",
      " 'medium_r0139_1004',\n",
      " 'low_r0643_0520',\n",
      " 'low_r0111_0899',\n",
      " 'low_r1424_0166',\n",
      " 'low_r0291_1824',\n",
      " 'medium_r0547_1414',\n",
      " 'high_r0955_0406',\n",
      " 'high_r0795_2122',\n",
      " 'medium_r0419_1494',\n",
      " 'low_r1221_0614',\n",
      " 'high_r0814_1080',\n",
      " 'medium_r1060-048',\n",
      " 'medium_r0580_2253',\n",
      " 'high_r0814_0573',\n",
      " 'low_r0458_1017',\n",
      " 'low_r1424_0167',\n",
      " 'low_r0794_1960',\n",
      " 'low_r0162_0477',\n",
      " 'medium_r0580_2251',\n",
      " 'medium_r0170_2250',\n",
      " 'medium_r0463_0472',\n",
      " 'medium_r0419_1496',\n",
      " 'low_r0327_0670',\n",
      " 'high_r0792_1464',\n",
      " 'medium_r0580_2250',\n",
      " 'low_r0139_1764',\n",
      " 'high_r1713-718',\n",
      " 'high_r0792_0829',\n",
      " 'high_r0126_0308',\n",
      " 'high_r0828_2024',\n",
      " 'medium_r0139_0958',\n",
      " 'medium_r0114_0216',\n",
      " 'low_r0438_2555',\n",
      " 'low_r0438_2554',\n",
      " 'medium_r0114_0217',\n",
      " 'low_r1060-200',\n",
      " 'high_r0126_0309',\n",
      " 'high_r0602_2320',\n",
      " 'high_r0814_2471',\n",
      " 'medium_r0580_2234',\n",
      " 'medium_r0114_0215',\n",
      " 'medium_r0463_0417',\n",
      " 'low_r0577_0176',\n",
      " 'high_r0814_0886',\n",
      " 'low_r0577_0177',\n",
      " 'medium_r0114_0228',\n",
      " 'medium_r0463_0416',\n",
      " 'low_r1525_1267',\n",
      " 'high_r0809_2307',\n",
      " 'medium_r0580_2235',\n",
      " 'low_r1566_2427',\n",
      " 'high_r0602_2321',\n",
      " 'high_r0602_2325',\n",
      " 'medium_r1060-176',\n",
      " 'low_r0300_1273',\n",
      " 'high_r0792_0280',\n",
      " 'low_r0438_2553',\n",
      " 'high_r0828_1338',\n",
      " 'medium_r0114_0211',\n",
      " 'high_r0602_2324',\n",
      " 'high_r0809_1421',\n",
      " 'high_r0809_1435',\n",
      " 'high_r0602_2326',\n",
      " 'high_r0809_1437',\n",
      " 'high_r0798_0733',\n",
      " 'low_r1060-199',\n",
      " 'medium_r0114_0207',\n",
      " 'low_r0643_0356',\n",
      " 'high_r0802_1391',\n",
      " 'low_r0945_0144',\n",
      " 'high_r0813_1052',\n",
      " 'medium_r0114_0212',\n",
      " 'medium_r0114_0206',\n",
      " 'medium_r0139_0960',\n",
      " 'medium_r0580_2233',\n",
      " 'high_r0809_1620',\n",
      " 'medium_r0159_2194']\n"
     ]
    }
   ],
   "source": [
    "from pprint import pprint\n",
    "\n",
    "pprint(ocr_berrutti_dataset.get_docs_list())"
   ]
  },
  {
   "cell_type": "markdown",
   "id": "ce9f1ed5",
   "metadata": {},
   "source": [
    "### Bounding boxes of one document"
   ]
  },
  {
   "cell_type": "code",
   "execution_count": 3,
   "id": "aaf04209",
   "metadata": {},
   "outputs": [
    {
     "name": "stdout",
     "output_type": "stream",
     "text": [
      "medium_r0547_1444\n"
     ]
    },
    {
     "data": {
      "text/html": [
       "<div>\n",
       "<style scoped>\n",
       "    .dataframe tbody tr th:only-of-type {\n",
       "        vertical-align: middle;\n",
       "    }\n",
       "\n",
       "    .dataframe tbody tr th {\n",
       "        vertical-align: top;\n",
       "    }\n",
       "\n",
       "    .dataframe thead th {\n",
       "        text-align: right;\n",
       "    }\n",
       "</style>\n",
       "<table border=\"1\" class=\"dataframe\">\n",
       "  <thead>\n",
       "    <tr style=\"text-align: right;\">\n",
       "      <th></th>\n",
       "      <th>x</th>\n",
       "      <th>y</th>\n",
       "      <th>width</th>\n",
       "      <th>height</th>\n",
       "      <th>text</th>\n",
       "      <th>crop</th>\n",
       "    </tr>\n",
       "  </thead>\n",
       "  <tbody>\n",
       "    <tr>\n",
       "      <th>0</th>\n",
       "      <td>1572</td>\n",
       "      <td>736</td>\n",
       "      <td>459</td>\n",
       "      <td>57</td>\n",
       "      <td>R E S E R V A D O</td>\n",
       "      <td>[[255, 255, 255, 255, 255, 255, 255, 255, 255,...</td>\n",
       "    </tr>\n",
       "    <tr>\n",
       "      <th>1</th>\n",
       "      <td>1675</td>\n",
       "      <td>804</td>\n",
       "      <td>183</td>\n",
       "      <td>62</td>\n",
       "      <td>27 / I</td>\n",
       "      <td>[[255, 255, 255, 255, 255, 255, 255, 255, 255,...</td>\n",
       "    </tr>\n",
       "    <tr>\n",
       "      <th>2</th>\n",
       "      <td>1177</td>\n",
       "      <td>933</td>\n",
       "      <td>1655</td>\n",
       "      <td>60</td>\n",
       "      <td>- Por otra parte, se han producido hechos de s...</td>\n",
       "      <td>[[255, 255, 255, 255, 255, 255, 255, 255, 255,...</td>\n",
       "    </tr>\n",
       "    <tr>\n",
       "      <th>3</th>\n",
       "      <td>1173</td>\n",
       "      <td>989</td>\n",
       "      <td>1669</td>\n",
       "      <td>60</td>\n",
       "      <td>escenario político y social que podrían tener ...</td>\n",
       "      <td>[[255, 255, 255, 255, 255, 255, 255, 255, 255,...</td>\n",
       "    </tr>\n",
       "    <tr>\n",
       "      <th>4</th>\n",
       "      <td>1175</td>\n",
       "      <td>1038</td>\n",
       "      <td>394</td>\n",
       "      <td>45</td>\n",
       "      <td>en el futuro.</td>\n",
       "      <td>[[255, 255, 255, 255, 255, 255, 255, 255, 255,...</td>\n",
       "    </tr>\n",
       "    <tr>\n",
       "      <th>5</th>\n",
       "      <td>1177</td>\n",
       "      <td>1091</td>\n",
       "      <td>1691</td>\n",
       "      <td>56</td>\n",
       "      <td>En el campo opositor, Rodo fo SEGUEL, líder de...</td>\n",
       "      <td>[[255, 255, 255, 255, 255, 255, 255, 255, 255,...</td>\n",
       "    </tr>\n",
       "    <tr>\n",
       "      <th>6</th>\n",
       "      <td>1178</td>\n",
       "      <td>1139</td>\n",
       "      <td>1657</td>\n",
       "      <td>55</td>\n",
       "      <td>que están dispuestos a retomar la movilización...</td>\n",
       "      <td>[[255, 255, 255, 255, 255, 255, 255, 255, 255,...</td>\n",
       "    </tr>\n",
       "    <tr>\n",
       "      <th>7</th>\n",
       "      <td>1171</td>\n",
       "      <td>1191</td>\n",
       "      <td>1667</td>\n",
       "      <td>52</td>\n",
       "      <td>los analistas chilenos que la organización lab...</td>\n",
       "      <td>[[255, 255, 255, 255, 255, 255, 255, 255, 255,...</td>\n",
       "    </tr>\n",
       "    <tr>\n",
       "      <th>8</th>\n",
       "      <td>1171</td>\n",
       "      <td>1242</td>\n",
       "      <td>1669</td>\n",
       "      <td>57</td>\n",
       "      <td>dora de las masivas protestas nacionales del a...</td>\n",
       "      <td>[[255, 255, 255, 255, 255, 255, 255, 255, 255,...</td>\n",
       "    </tr>\n",
       "    <tr>\n",
       "      <th>9</th>\n",
       "      <td>1170</td>\n",
       "      <td>1294</td>\n",
       "      <td>1499</td>\n",
       "      <td>47</td>\n",
       "      <td>capacidad para aunar a la disidencia es \"incue...</td>\n",
       "      <td>[[255, 255, 255, 255, 255, 255, 255, 255, 255,...</td>\n",
       "    </tr>\n",
       "    <tr>\n",
       "      <th>10</th>\n",
       "      <td>1166</td>\n",
       "      <td>1393</td>\n",
       "      <td>1675</td>\n",
       "      <td>51</td>\n",
       "      <td>- Igualmente el Presidente de la Centrista Ali...</td>\n",
       "      <td>[[255, 255, 255, 255, 255, 255, 255, 255, 255,...</td>\n",
       "    </tr>\n",
       "    <tr>\n",
       "      <th>11</th>\n",
       "      <td>1170</td>\n",
       "      <td>1442</td>\n",
       "      <td>1677</td>\n",
       "      <td>56</td>\n",
       "      <td>anunció que su coalición está estudiando la po...</td>\n",
       "      <td>[[255, 255, 255, 255, 255, 255, 255, 255, 255,...</td>\n",
       "    </tr>\n",
       "    <tr>\n",
       "      <th>12</th>\n",
       "      <td>1162</td>\n",
       "      <td>1493</td>\n",
       "      <td>1686</td>\n",
       "      <td>53</td>\n",
       "      <td>car a una nueva \"protesta pacífica nacional\". ...</td>\n",
       "      <td>[[255, 255, 255, 255, 255, 255, 255, 255, 255,...</td>\n",
       "    </tr>\n",
       "    <tr>\n",
       "      <th>13</th>\n",
       "      <td>1157</td>\n",
       "      <td>1536</td>\n",
       "      <td>1703</td>\n",
       "      <td>58</td>\n",
       "      <td>reiteró el Bloque Socialista y el Movimiento D...</td>\n",
       "      <td>[[255, 255, 255, 255, 255, 255, 255, 255, 255,...</td>\n",
       "    </tr>\n",
       "    <tr>\n",
       "      <th>14</th>\n",
       "      <td>1160</td>\n",
       "      <td>1594</td>\n",
       "      <td>1705</td>\n",
       "      <td>49</td>\n",
       "      <td>y ya han realizado intentos de movilización co...</td>\n",
       "      <td>[[255, 255, 255, 255, 255, 255, 255, 255, 255,...</td>\n",
       "    </tr>\n",
       "    <tr>\n",
       "      <th>15</th>\n",
       "      <td>1825</td>\n",
       "      <td>3887</td>\n",
       "      <td>145</td>\n",
       "      <td>73</td>\n",
       "      <td>027</td>\n",
       "      <td>[[255, 255, 255, 255, 255, 255, 255, 255, 255,...</td>\n",
       "    </tr>\n",
       "    <tr>\n",
       "      <th>16</th>\n",
       "      <td>1157</td>\n",
       "      <td>1744</td>\n",
       "      <td>1671</td>\n",
       "      <td>53</td>\n",
       "      <td>- Observadores locales políticos, explican que...</td>\n",
       "      <td>[[255, 255, 255, 255, 255, 255, 255, 255, 255,...</td>\n",
       "    </tr>\n",
       "    <tr>\n",
       "      <th>17</th>\n",
       "      <td>1160</td>\n",
       "      <td>1795</td>\n",
       "      <td>1684</td>\n",
       "      <td>56</td>\n",
       "      <td>oposición se produce porque en todo el espectr...</td>\n",
       "      <td>[[255, 255, 255, 255, 255, 255, 255, 255, 255,...</td>\n",
       "    </tr>\n",
       "    <tr>\n",
       "      <th>18</th>\n",
       "      <td>1155</td>\n",
       "      <td>1846</td>\n",
       "      <td>1682</td>\n",
       "      <td>53</td>\n",
       "      <td>ciencia de que \"nada ha cambiado en el país\", ...</td>\n",
       "      <td>[[255, 255, 255, 255, 255, 255, 255, 255, 255,...</td>\n",
       "    </tr>\n",
       "    <tr>\n",
       "      <th>19</th>\n",
       "      <td>1160</td>\n",
       "      <td>1893</td>\n",
       "      <td>1686</td>\n",
       "      <td>51</td>\n",
       "      <td>mino factible el reinicio de la \"movilización ...</td>\n",
       "      <td>[[255, 255, 255, 255, 255, 255, 255, 255, 255,...</td>\n",
       "    </tr>\n",
       "    <tr>\n",
       "      <th>20</th>\n",
       "      <td>1162</td>\n",
       "      <td>1947</td>\n",
       "      <td>1579</td>\n",
       "      <td>56</td>\n",
       "      <td>forma de presión para provocar cambios polític...</td>\n",
       "      <td>[[255, 255, 255, 255, 255, 255, 255, 255, 255,...</td>\n",
       "    </tr>\n",
       "    <tr>\n",
       "      <th>21</th>\n",
       "      <td>1162</td>\n",
       "      <td>2050</td>\n",
       "      <td>1669</td>\n",
       "      <td>49</td>\n",
       "      <td>- Otra de las novedades es la convocatoria del...</td>\n",
       "      <td>[[255, 255, 255, 255, 255, 255, 255, 255, 255,...</td>\n",
       "    </tr>\n",
       "    <tr>\n",
       "      <th>22</th>\n",
       "      <td>1160</td>\n",
       "      <td>2101</td>\n",
       "      <td>1679</td>\n",
       "      <td>56</td>\n",
       "      <td>demócrata a formar una \"multipartidaria\" oposi...</td>\n",
       "      <td>[[255, 255, 255, 255, 255, 255, 255, 255, 255,...</td>\n",
       "    </tr>\n",
       "    <tr>\n",
       "      <th>23</th>\n",
       "      <td>1155</td>\n",
       "      <td>2150</td>\n",
       "      <td>1688</td>\n",
       "      <td>49</td>\n",
       "      <td>así, nuevamente el tema de la \"unidad disident...</td>\n",
       "      <td>[[255, 255, 255, 255, 255, 255, 255, 255, 255,...</td>\n",
       "    </tr>\n",
       "    <tr>\n",
       "      <th>24</th>\n",
       "      <td>1162</td>\n",
       "      <td>2204</td>\n",
       "      <td>1649</td>\n",
       "      <td>51</td>\n",
       "      <td>mado han efectuado en tal sentido las coalicio...</td>\n",
       "      <td>[[255, 255, 255, 255, 255, 255, 255, 255, 255,...</td>\n",
       "    </tr>\n",
       "    <tr>\n",
       "      <th>25</th>\n",
       "      <td>1160</td>\n",
       "      <td>2304</td>\n",
       "      <td>1677</td>\n",
       "      <td>49</td>\n",
       "      <td>- En tanto, el gobierno reafirmó su objetivo d...</td>\n",
       "      <td>[[255, 255, 255, 255, 255, 255, 255, 255, 255,...</td>\n",
       "    </tr>\n",
       "    <tr>\n",
       "      <th>26</th>\n",
       "      <td>1160</td>\n",
       "      <td>2349</td>\n",
       "      <td>1697</td>\n",
       "      <td>49</td>\n",
       "      <td>siva extremista\" a través de diversos caminos....</td>\n",
       "      <td>[[255, 255, 255, 255, 255, 255, 255, 255, 255,...</td>\n",
       "    </tr>\n",
       "    <tr>\n",
       "      <th>27</th>\n",
       "      <td>1155</td>\n",
       "      <td>2405</td>\n",
       "      <td>1688</td>\n",
       "      <td>51</td>\n",
       "      <td>funda sobre la base de que la izquierda comuni...</td>\n",
       "      <td>[[255, 255, 255, 255, 255, 255, 255, 255, 255,...</td>\n",
       "    </tr>\n",
       "    <tr>\n",
       "      <th>28</th>\n",
       "      <td>1160</td>\n",
       "      <td>2454</td>\n",
       "      <td>1716</td>\n",
       "      <td>49</td>\n",
       "      <td>peligro para la consolidación del proceso de i...</td>\n",
       "      <td>[[255, 255, 255, 255, 255, 255, 255, 255, 255,...</td>\n",
       "    </tr>\n",
       "    <tr>\n",
       "      <th>29</th>\n",
       "      <td>1155</td>\n",
       "      <td>2503</td>\n",
       "      <td>1707</td>\n",
       "      <td>53</td>\n",
       "      <td>En una demostración de enfrentar un desafío, l...</td>\n",
       "      <td>[[255, 255, 255, 255, 255, 255, 255, 255, 255,...</td>\n",
       "    </tr>\n",
       "    <tr>\n",
       "      <th>30</th>\n",
       "      <td>1155</td>\n",
       "      <td>2559</td>\n",
       "      <td>1703</td>\n",
       "      <td>49</td>\n",
       "      <td>guridad han informado, que hubo detenciones y ...</td>\n",
       "      <td>[[255, 255, 255, 255, 255, 255, 255, 255, 255,...</td>\n",
       "    </tr>\n",
       "    <tr>\n",
       "      <th>31</th>\n",
       "      <td>1155</td>\n",
       "      <td>2610</td>\n",
       "      <td>1709</td>\n",
       "      <td>49</td>\n",
       "      <td>mados con grupos señalados como izquierdistas....</td>\n",
       "      <td>[[255, 255, 255, 255, 255, 255, 255, 255, 255,...</td>\n",
       "    </tr>\n",
       "    <tr>\n",
       "      <th>32</th>\n",
       "      <td>1155</td>\n",
       "      <td>2657</td>\n",
       "      <td>1705</td>\n",
       "      <td>51</td>\n",
       "      <td>el gobierno siguió estudiando iniciativas lega...</td>\n",
       "      <td>[[255, 255, 255, 255, 255, 255, 255, 255, 255,...</td>\n",
       "    </tr>\n",
       "    <tr>\n",
       "      <th>33</th>\n",
       "      <td>1155</td>\n",
       "      <td>2711</td>\n",
       "      <td>1617</td>\n",
       "      <td>45</td>\n",
       "      <td>ra de la ley y declaren inconstitucional al Pa...</td>\n",
       "      <td>[[255, 255, 255, 255, 255, 255, 255, 255, 255,...</td>\n",
       "    </tr>\n",
       "    <tr>\n",
       "      <th>34</th>\n",
       "      <td>1157</td>\n",
       "      <td>2809</td>\n",
       "      <td>1692</td>\n",
       "      <td>49</td>\n",
       "      <td>- Pero entre los sectores partidarios del gobi...</td>\n",
       "      <td>[[255, 255, 255, 255, 255, 255, 255, 255, 255,...</td>\n",
       "    </tr>\n",
       "    <tr>\n",
       "      <th>35</th>\n",
       "      <td>1151</td>\n",
       "      <td>2860</td>\n",
       "      <td>1735</td>\n",
       "      <td>47</td>\n",
       "      <td>do un fraccionamiento que podría tener consecu...</td>\n",
       "      <td>[[255, 255, 255, 255, 255, 255, 255, 255, 255,...</td>\n",
       "    </tr>\n",
       "    <tr>\n",
       "      <th>36</th>\n",
       "      <td>1149</td>\n",
       "      <td>2912</td>\n",
       "      <td>1739</td>\n",
       "      <td>47</td>\n",
       "      <td>Mientras el derechista Partido Nacional se ha ...</td>\n",
       "      <td>[[255, 255, 255, 255, 255, 255, 255, 255, 255,...</td>\n",
       "    </tr>\n",
       "    <tr>\n",
       "      <th>37</th>\n",
       "      <td>1149</td>\n",
       "      <td>2961</td>\n",
       "      <td>1714</td>\n",
       "      <td>47</td>\n",
       "      <td>de los ocho\", al no firmar el documento de Acu...</td>\n",
       "      <td>[[255, 255, 255, 255, 255, 255, 255, 255, 255,...</td>\n",
       "    </tr>\n",
       "    <tr>\n",
       "      <th>38</th>\n",
       "      <td>1149</td>\n",
       "      <td>3010</td>\n",
       "      <td>1737</td>\n",
       "      <td>51</td>\n",
       "      <td>pulsado por esa coalición, la fuerte Unión Dem...</td>\n",
       "      <td>[[255, 255, 255, 255, 255, 255, 255, 255, 255,...</td>\n",
       "    </tr>\n",
       "    <tr>\n",
       "      <th>39</th>\n",
       "      <td>1151</td>\n",
       "      <td>3059</td>\n",
       "      <td>1750</td>\n",
       "      <td>56</td>\n",
       "      <td>quizás uno de los grupos más sólidos de apoyo ...</td>\n",
       "      <td>[[255, 255, 255, 255, 255, 255, 255, 255, 255,...</td>\n",
       "    </tr>\n",
       "    <tr>\n",
       "      <th>40</th>\n",
       "      <td>1149</td>\n",
       "      <td>3113</td>\n",
       "      <td>1750</td>\n",
       "      <td>49</td>\n",
       "      <td>do también por no suscribir ese acuerdo explic...</td>\n",
       "      <td>[[255, 255, 255, 255, 255, 255, 255, 255, 255,...</td>\n",
       "    </tr>\n",
       "    <tr>\n",
       "      <th>41</th>\n",
       "      <td>1153</td>\n",
       "      <td>3164</td>\n",
       "      <td>1207</td>\n",
       "      <td>45</td>\n",
       "      <td>aporta a la unidad de los distintos sectores.</td>\n",
       "      <td>[[255, 255, 255, 255, 255, 255, 255, 255, 255,...</td>\n",
       "    </tr>\n",
       "    <tr>\n",
       "      <th>42</th>\n",
       "      <td>1153</td>\n",
       "      <td>3265</td>\n",
       "      <td>1739</td>\n",
       "      <td>53</td>\n",
       "      <td>- Finalmente en este marco de creciente activi...</td>\n",
       "      <td>[[255, 255, 255, 255, 255, 255, 255, 255, 255,...</td>\n",
       "    </tr>\n",
       "    <tr>\n",
       "      <th>43</th>\n",
       "      <td>1153</td>\n",
       "      <td>3312</td>\n",
       "      <td>1739</td>\n",
       "      <td>51</td>\n",
       "      <td>lición izquierdista Movimiento Democrático Pop...</td>\n",
       "      <td>[[255, 255, 255, 255, 255, 255, 255, 255, 255,...</td>\n",
       "    </tr>\n",
       "    <tr>\n",
       "      <th>44</th>\n",
       "      <td>1149</td>\n",
       "      <td>3363</td>\n",
       "      <td>1748</td>\n",
       "      <td>49</td>\n",
       "      <td>\"ola\" de detención, relegaciones y expulsiones...</td>\n",
       "      <td>[[255, 255, 255, 255, 255, 255, 255, 255, 255,...</td>\n",
       "    </tr>\n",
       "    <tr>\n",
       "      <th>45</th>\n",
       "      <td>1153</td>\n",
       "      <td>3417</td>\n",
       "      <td>1752</td>\n",
       "      <td>49</td>\n",
       "      <td>rigentes y a la oposición, y mencionan que esa...</td>\n",
       "      <td>[[255, 255, 255, 255, 255, 255, 255, 255, 255,...</td>\n",
       "    </tr>\n",
       "    <tr>\n",
       "      <th>46</th>\n",
       "      <td>1155</td>\n",
       "      <td>3466</td>\n",
       "      <td>1087</td>\n",
       "      <td>49</td>\n",
       "      <td>cirían en Santiago, Concepción y Arica.-</td>\n",
       "      <td>[[255, 255, 255, 255, 255, 255, 255, 255, 255,...</td>\n",
       "    </tr>\n",
       "    <tr>\n",
       "      <th>47</th>\n",
       "      <td>1070</td>\n",
       "      <td>3562</td>\n",
       "      <td>334</td>\n",
       "      <td>51</td>\n",
       "      <td>7.- ECUADOR.</td>\n",
       "      <td>[[255, 255, 255, 255, 255, 255, 255, 255, 255,...</td>\n",
       "    </tr>\n",
       "    <tr>\n",
       "      <th>48</th>\n",
       "      <td>1160</td>\n",
       "      <td>3667</td>\n",
       "      <td>1763</td>\n",
       "      <td>53</td>\n",
       "      <td>- Diversos sectores políticos ecuatorianos exi...</td>\n",
       "      <td>[[255, 255, 255, 255, 255, 255, 255, 255, 255,...</td>\n",
       "    </tr>\n",
       "    <tr>\n",
       "      <th>49</th>\n",
       "      <td>1155</td>\n",
       "      <td>3718</td>\n",
       "      <td>1748</td>\n",
       "      <td>49</td>\n",
       "      <td>nes para una comisión parlamentaria que invest...</td>\n",
       "      <td>[[255, 255, 255, 255, 255, 255, 255, 255, 255,...</td>\n",
       "    </tr>\n",
       "    <tr>\n",
       "      <th>50</th>\n",
       "      <td>1153</td>\n",
       "      <td>3765</td>\n",
       "      <td>1759</td>\n",
       "      <td>51</td>\n",
       "      <td>laciones de Diputados con el narcotráfico, al ...</td>\n",
       "      <td>[[255, 255, 255, 255, 255, 255, 255, 255, 255,...</td>\n",
       "    </tr>\n",
       "    <tr>\n",
       "      <th>51</th>\n",
       "      <td>1160</td>\n",
       "      <td>3821</td>\n",
       "      <td>1401</td>\n",
       "      <td>47</td>\n",
       "      <td>de los tres partidos del Estado declararon la ...</td>\n",
       "      <td>[[255, 255, 255, 255, 255, 255, 255, 255, 255,...</td>\n",
       "    </tr>\n",
       "    <tr>\n",
       "      <th>52</th>\n",
       "      <td>2378</td>\n",
       "      <td>3902</td>\n",
       "      <td>362</td>\n",
       "      <td>101</td>\n",
       "      <td>8405750</td>\n",
       "      <td>[[255, 255, 255, 255, 255, 255, 255, 255, 255,...</td>\n",
       "    </tr>\n",
       "    <tr>\n",
       "      <th>53</th>\n",
       "      <td>1155</td>\n",
       "      <td>1639</td>\n",
       "      <td>1165</td>\n",
       "      <td>62</td>\n",
       "      <td>en el sector céntrico de Santiago de Chile.</td>\n",
       "      <td>[[255, 255, 255, 255, 255, 255, 255, 255, 255,...</td>\n",
       "    </tr>\n",
       "    <tr>\n",
       "      <th>54</th>\n",
       "      <td>1545</td>\n",
       "      <td>3960</td>\n",
       "      <td>479</td>\n",
       "      <td>58</td>\n",
       "      <td>R E S E R V A D O</td>\n",
       "      <td>[[255, 255, 255, 255, 255, 255, 255, 255, 255,...</td>\n",
       "    </tr>\n",
       "  </tbody>\n",
       "</table>\n",
       "</div>"
      ],
      "text/plain": [
       "       x     y  width  height  \\\n",
       "0   1572   736    459      57   \n",
       "1   1675   804    183      62   \n",
       "2   1177   933   1655      60   \n",
       "3   1173   989   1669      60   \n",
       "4   1175  1038    394      45   \n",
       "5   1177  1091   1691      56   \n",
       "6   1178  1139   1657      55   \n",
       "7   1171  1191   1667      52   \n",
       "8   1171  1242   1669      57   \n",
       "9   1170  1294   1499      47   \n",
       "10  1166  1393   1675      51   \n",
       "11  1170  1442   1677      56   \n",
       "12  1162  1493   1686      53   \n",
       "13  1157  1536   1703      58   \n",
       "14  1160  1594   1705      49   \n",
       "15  1825  3887    145      73   \n",
       "16  1157  1744   1671      53   \n",
       "17  1160  1795   1684      56   \n",
       "18  1155  1846   1682      53   \n",
       "19  1160  1893   1686      51   \n",
       "20  1162  1947   1579      56   \n",
       "21  1162  2050   1669      49   \n",
       "22  1160  2101   1679      56   \n",
       "23  1155  2150   1688      49   \n",
       "24  1162  2204   1649      51   \n",
       "25  1160  2304   1677      49   \n",
       "26  1160  2349   1697      49   \n",
       "27  1155  2405   1688      51   \n",
       "28  1160  2454   1716      49   \n",
       "29  1155  2503   1707      53   \n",
       "30  1155  2559   1703      49   \n",
       "31  1155  2610   1709      49   \n",
       "32  1155  2657   1705      51   \n",
       "33  1155  2711   1617      45   \n",
       "34  1157  2809   1692      49   \n",
       "35  1151  2860   1735      47   \n",
       "36  1149  2912   1739      47   \n",
       "37  1149  2961   1714      47   \n",
       "38  1149  3010   1737      51   \n",
       "39  1151  3059   1750      56   \n",
       "40  1149  3113   1750      49   \n",
       "41  1153  3164   1207      45   \n",
       "42  1153  3265   1739      53   \n",
       "43  1153  3312   1739      51   \n",
       "44  1149  3363   1748      49   \n",
       "45  1153  3417   1752      49   \n",
       "46  1155  3466   1087      49   \n",
       "47  1070  3562    334      51   \n",
       "48  1160  3667   1763      53   \n",
       "49  1155  3718   1748      49   \n",
       "50  1153  3765   1759      51   \n",
       "51  1160  3821   1401      47   \n",
       "52  2378  3902    362     101   \n",
       "53  1155  1639   1165      62   \n",
       "54  1545  3960    479      58   \n",
       "\n",
       "                                                 text  \\\n",
       "0                                   R E S E R V A D O   \n",
       "1                                              27 / I   \n",
       "2   - Por otra parte, se han producido hechos de s...   \n",
       "3   escenario político y social que podrían tener ...   \n",
       "4                                       en el futuro.   \n",
       "5   En el campo opositor, Rodo fo SEGUEL, líder de...   \n",
       "6   que están dispuestos a retomar la movilización...   \n",
       "7   los analistas chilenos que la organización lab...   \n",
       "8   dora de las masivas protestas nacionales del a...   \n",
       "9   capacidad para aunar a la disidencia es \"incue...   \n",
       "10  - Igualmente el Presidente de la Centrista Ali...   \n",
       "11  anunció que su coalición está estudiando la po...   \n",
       "12  car a una nueva \"protesta pacífica nacional\". ...   \n",
       "13  reiteró el Bloque Socialista y el Movimiento D...   \n",
       "14  y ya han realizado intentos de movilización co...   \n",
       "15                                                027   \n",
       "16  - Observadores locales políticos, explican que...   \n",
       "17  oposición se produce porque en todo el espectr...   \n",
       "18  ciencia de que \"nada ha cambiado en el país\", ...   \n",
       "19  mino factible el reinicio de la \"movilización ...   \n",
       "20  forma de presión para provocar cambios polític...   \n",
       "21  - Otra de las novedades es la convocatoria del...   \n",
       "22  demócrata a formar una \"multipartidaria\" oposi...   \n",
       "23  así, nuevamente el tema de la \"unidad disident...   \n",
       "24  mado han efectuado en tal sentido las coalicio...   \n",
       "25  - En tanto, el gobierno reafirmó su objetivo d...   \n",
       "26  siva extremista\" a través de diversos caminos....   \n",
       "27  funda sobre la base de que la izquierda comuni...   \n",
       "28  peligro para la consolidación del proceso de i...   \n",
       "29  En una demostración de enfrentar un desafío, l...   \n",
       "30  guridad han informado, que hubo detenciones y ...   \n",
       "31  mados con grupos señalados como izquierdistas....   \n",
       "32  el gobierno siguió estudiando iniciativas lega...   \n",
       "33  ra de la ley y declaren inconstitucional al Pa...   \n",
       "34  - Pero entre los sectores partidarios del gobi...   \n",
       "35  do un fraccionamiento que podría tener consecu...   \n",
       "36  Mientras el derechista Partido Nacional se ha ...   \n",
       "37  de los ocho\", al no firmar el documento de Acu...   \n",
       "38  pulsado por esa coalición, la fuerte Unión Dem...   \n",
       "39  quizás uno de los grupos más sólidos de apoyo ...   \n",
       "40  do también por no suscribir ese acuerdo explic...   \n",
       "41      aporta a la unidad de los distintos sectores.   \n",
       "42  - Finalmente en este marco de creciente activi...   \n",
       "43  lición izquierdista Movimiento Democrático Pop...   \n",
       "44  \"ola\" de detención, relegaciones y expulsiones...   \n",
       "45  rigentes y a la oposición, y mencionan que esa...   \n",
       "46           cirían en Santiago, Concepción y Arica.-   \n",
       "47                                       7.- ECUADOR.   \n",
       "48  - Diversos sectores políticos ecuatorianos exi...   \n",
       "49  nes para una comisión parlamentaria que invest...   \n",
       "50  laciones de Diputados con el narcotráfico, al ...   \n",
       "51  de los tres partidos del Estado declararon la ...   \n",
       "52                                            8405750   \n",
       "53        en el sector céntrico de Santiago de Chile.   \n",
       "54                                  R E S E R V A D O   \n",
       "\n",
       "                                                 crop  \n",
       "0   [[255, 255, 255, 255, 255, 255, 255, 255, 255,...  \n",
       "1   [[255, 255, 255, 255, 255, 255, 255, 255, 255,...  \n",
       "2   [[255, 255, 255, 255, 255, 255, 255, 255, 255,...  \n",
       "3   [[255, 255, 255, 255, 255, 255, 255, 255, 255,...  \n",
       "4   [[255, 255, 255, 255, 255, 255, 255, 255, 255,...  \n",
       "5   [[255, 255, 255, 255, 255, 255, 255, 255, 255,...  \n",
       "6   [[255, 255, 255, 255, 255, 255, 255, 255, 255,...  \n",
       "7   [[255, 255, 255, 255, 255, 255, 255, 255, 255,...  \n",
       "8   [[255, 255, 255, 255, 255, 255, 255, 255, 255,...  \n",
       "9   [[255, 255, 255, 255, 255, 255, 255, 255, 255,...  \n",
       "10  [[255, 255, 255, 255, 255, 255, 255, 255, 255,...  \n",
       "11  [[255, 255, 255, 255, 255, 255, 255, 255, 255,...  \n",
       "12  [[255, 255, 255, 255, 255, 255, 255, 255, 255,...  \n",
       "13  [[255, 255, 255, 255, 255, 255, 255, 255, 255,...  \n",
       "14  [[255, 255, 255, 255, 255, 255, 255, 255, 255,...  \n",
       "15  [[255, 255, 255, 255, 255, 255, 255, 255, 255,...  \n",
       "16  [[255, 255, 255, 255, 255, 255, 255, 255, 255,...  \n",
       "17  [[255, 255, 255, 255, 255, 255, 255, 255, 255,...  \n",
       "18  [[255, 255, 255, 255, 255, 255, 255, 255, 255,...  \n",
       "19  [[255, 255, 255, 255, 255, 255, 255, 255, 255,...  \n",
       "20  [[255, 255, 255, 255, 255, 255, 255, 255, 255,...  \n",
       "21  [[255, 255, 255, 255, 255, 255, 255, 255, 255,...  \n",
       "22  [[255, 255, 255, 255, 255, 255, 255, 255, 255,...  \n",
       "23  [[255, 255, 255, 255, 255, 255, 255, 255, 255,...  \n",
       "24  [[255, 255, 255, 255, 255, 255, 255, 255, 255,...  \n",
       "25  [[255, 255, 255, 255, 255, 255, 255, 255, 255,...  \n",
       "26  [[255, 255, 255, 255, 255, 255, 255, 255, 255,...  \n",
       "27  [[255, 255, 255, 255, 255, 255, 255, 255, 255,...  \n",
       "28  [[255, 255, 255, 255, 255, 255, 255, 255, 255,...  \n",
       "29  [[255, 255, 255, 255, 255, 255, 255, 255, 255,...  \n",
       "30  [[255, 255, 255, 255, 255, 255, 255, 255, 255,...  \n",
       "31  [[255, 255, 255, 255, 255, 255, 255, 255, 255,...  \n",
       "32  [[255, 255, 255, 255, 255, 255, 255, 255, 255,...  \n",
       "33  [[255, 255, 255, 255, 255, 255, 255, 255, 255,...  \n",
       "34  [[255, 255, 255, 255, 255, 255, 255, 255, 255,...  \n",
       "35  [[255, 255, 255, 255, 255, 255, 255, 255, 255,...  \n",
       "36  [[255, 255, 255, 255, 255, 255, 255, 255, 255,...  \n",
       "37  [[255, 255, 255, 255, 255, 255, 255, 255, 255,...  \n",
       "38  [[255, 255, 255, 255, 255, 255, 255, 255, 255,...  \n",
       "39  [[255, 255, 255, 255, 255, 255, 255, 255, 255,...  \n",
       "40  [[255, 255, 255, 255, 255, 255, 255, 255, 255,...  \n",
       "41  [[255, 255, 255, 255, 255, 255, 255, 255, 255,...  \n",
       "42  [[255, 255, 255, 255, 255, 255, 255, 255, 255,...  \n",
       "43  [[255, 255, 255, 255, 255, 255, 255, 255, 255,...  \n",
       "44  [[255, 255, 255, 255, 255, 255, 255, 255, 255,...  \n",
       "45  [[255, 255, 255, 255, 255, 255, 255, 255, 255,...  \n",
       "46  [[255, 255, 255, 255, 255, 255, 255, 255, 255,...  \n",
       "47  [[255, 255, 255, 255, 255, 255, 255, 255, 255,...  \n",
       "48  [[255, 255, 255, 255, 255, 255, 255, 255, 255,...  \n",
       "49  [[255, 255, 255, 255, 255, 255, 255, 255, 255,...  \n",
       "50  [[255, 255, 255, 255, 255, 255, 255, 255, 255,...  \n",
       "51  [[255, 255, 255, 255, 255, 255, 255, 255, 255,...  \n",
       "52  [[255, 255, 255, 255, 255, 255, 255, 255, 255,...  \n",
       "53  [[255, 255, 255, 255, 255, 255, 255, 255, 255,...  \n",
       "54  [[255, 255, 255, 255, 255, 255, 255, 255, 255,...  "
      ]
     },
     "execution_count": 3,
     "metadata": {},
     "output_type": "execute_result"
    }
   ],
   "source": [
    "doc = ocr_berrutti_dataset.get_docs_list()[0]\n",
    "print(doc)\n",
    "bounding_boxes = ocr_berrutti_dataset.get_bounding_boxes(doc)\n",
    "bounding_boxes"
   ]
  },
  {
   "cell_type": "markdown",
   "id": "3ebdf21a",
   "metadata": {},
   "source": [
    "### Plotting the bounding boxes"
   ]
  },
  {
   "cell_type": "code",
   "execution_count": 4,
   "id": "58abf0ce",
   "metadata": {},
   "outputs": [
    {
     "data": {
      "application/vnd.plotly.v1+json": {
       "config": {
        "plotlyServerURL": "https://plot.ly"
       },
       "data": [
        {
         "fill": "toself",
         "fillcolor": "rgba(0,0,0,0)",
         "hoverinfo": "text",
         "mode": "none",
         "showlegend": false,
         "text": "R E S E R V A D O",
         "type": "scatter",
         "x": [
          1572,
          2031,
          2031,
          1572,
          1572
         ],
         "y": [
          736,
          736,
          793,
          793,
          736
         ]
        },
        {
         "fill": "toself",
         "fillcolor": "rgba(0,0,0,0)",
         "hoverinfo": "text",
         "mode": "none",
         "showlegend": false,
         "text": "27 / I",
         "type": "scatter",
         "x": [
          1675,
          1858,
          1858,
          1675,
          1675
         ],
         "y": [
          804,
          804,
          866,
          866,
          804
         ]
        },
        {
         "fill": "toself",
         "fillcolor": "rgba(0,0,0,0)",
         "hoverinfo": "text",
         "mode": "none",
         "showlegend": false,
         "text": "- Por otra parte, se han producido hechos de significación en el",
         "type": "scatter",
         "x": [
          1177,
          2832,
          2832,
          1177,
          1177
         ],
         "y": [
          933,
          933,
          993,
          993,
          933
         ]
        },
        {
         "fill": "toself",
         "fillcolor": "rgba(0,0,0,0)",
         "hoverinfo": "text",
         "mode": "none",
         "showlegend": false,
         "text": "escenario político y social que podrían tener mayor repercusión",
         "type": "scatter",
         "x": [
          1173,
          2842,
          2842,
          1173,
          1173
         ],
         "y": [
          989,
          989,
          1049,
          1049,
          989
         ]
        },
        {
         "fill": "toself",
         "fillcolor": "rgba(0,0,0,0)",
         "hoverinfo": "text",
         "mode": "none",
         "showlegend": false,
         "text": "en el futuro.",
         "type": "scatter",
         "x": [
          1175,
          1569,
          1569,
          1175,
          1175
         ],
         "y": [
          1038,
          1038,
          1083,
          1083,
          1038
         ]
        },
        {
         "fill": "toself",
         "fillcolor": "rgba(0,0,0,0)",
         "hoverinfo": "text",
         "mode": "none",
         "showlegend": false,
         "text": "En el campo opositor, Rodo fo SEGUEL, líder de la C.N.T., anunció",
         "type": "scatter",
         "x": [
          1177,
          2868,
          2868,
          1177,
          1177
         ],
         "y": [
          1091,
          1091,
          1147,
          1147,
          1091
         ]
        },
        {
         "fill": "toself",
         "fillcolor": "rgba(0,0,0,0)",
         "hoverinfo": "text",
         "mode": "none",
         "showlegend": false,
         "text": "que están dispuestos a retomar la movilización masiva. Recuerdan",
         "type": "scatter",
         "x": [
          1178,
          2835,
          2835,
          1178,
          1178
         ],
         "y": [
          1139,
          1139,
          1194,
          1194,
          1139
         ]
        },
        {
         "fill": "toself",
         "fillcolor": "rgba(0,0,0,0)",
         "hoverinfo": "text",
         "mode": "none",
         "showlegend": false,
         "text": "los analistas chilenos que la organización laboral fue la funda-",
         "type": "scatter",
         "x": [
          1171,
          2838,
          2838,
          1171,
          1171
         ],
         "y": [
          1191,
          1191,
          1243,
          1243,
          1191
         ]
        },
        {
         "fill": "toself",
         "fillcolor": "rgba(0,0,0,0)",
         "hoverinfo": "text",
         "mode": "none",
         "showlegend": false,
         "text": "dora de las masivas protestas nacionales del año pasado y que su",
         "type": "scatter",
         "x": [
          1171,
          2840,
          2840,
          1171,
          1171
         ],
         "y": [
          1242,
          1242,
          1299,
          1299,
          1242
         ]
        },
        {
         "fill": "toself",
         "fillcolor": "rgba(0,0,0,0)",
         "hoverinfo": "text",
         "mode": "none",
         "showlegend": false,
         "text": "capacidad para aunar a la disidencia es \"incuestionable\".",
         "type": "scatter",
         "x": [
          1170,
          2669,
          2669,
          1170,
          1170
         ],
         "y": [
          1294,
          1294,
          1341,
          1341,
          1294
         ]
        },
        {
         "fill": "toself",
         "fillcolor": "rgba(0,0,0,0)",
         "hoverinfo": "text",
         "mode": "none",
         "showlegend": false,
         "text": "- Igualmente el Presidente de la Centrista Alianza Democrática -",
         "type": "scatter",
         "x": [
          1166,
          2841,
          2841,
          1166,
          1166
         ],
         "y": [
          1393,
          1393,
          1444,
          1444,
          1393
         ]
        },
        {
         "fill": "toself",
         "fillcolor": "rgba(0,0,0,0)",
         "hoverinfo": "text",
         "mode": "none",
         "showlegend": false,
         "text": "anunció que su coalición está estudiando la posibllidad de convo",
         "type": "scatter",
         "x": [
          1170,
          2847,
          2847,
          1170,
          1170
         ],
         "y": [
          1442,
          1442,
          1498,
          1498,
          1442
         ]
        },
        {
         "fill": "toself",
         "fillcolor": "rgba(0,0,0,0)",
         "hoverinfo": "text",
         "mode": "none",
         "showlegend": false,
         "text": "car a una nueva \"protesta pacífica nacional\". El mismo propósito",
         "type": "scatter",
         "x": [
          1162,
          2848,
          2848,
          1162,
          1162
         ],
         "y": [
          1493,
          1493,
          1546,
          1546,
          1493
         ]
        },
        {
         "fill": "toself",
         "fillcolor": "rgba(0,0,0,0)",
         "hoverinfo": "text",
         "mode": "none",
         "showlegend": false,
         "text": "reiteró el Bloque Socialista y el Movimiento Democrático Popular",
         "type": "scatter",
         "x": [
          1157,
          2860,
          2860,
          1157,
          1157
         ],
         "y": [
          1536,
          1536,
          1594,
          1594,
          1536
         ]
        },
        {
         "fill": "toself",
         "fillcolor": "rgba(0,0,0,0)",
         "hoverinfo": "text",
         "mode": "none",
         "showlegend": false,
         "text": "y ya han realizado intentos de movilización con manifestaciones -",
         "type": "scatter",
         "x": [
          1160,
          2865,
          2865,
          1160,
          1160
         ],
         "y": [
          1594,
          1594,
          1643,
          1643,
          1594
         ]
        },
        {
         "fill": "toself",
         "fillcolor": "rgba(0,0,0,0)",
         "hoverinfo": "text",
         "mode": "none",
         "showlegend": false,
         "text": "027",
         "type": "scatter",
         "x": [
          1825,
          1970,
          1970,
          1825,
          1825
         ],
         "y": [
          3887,
          3887,
          3960,
          3960,
          3887
         ]
        },
        {
         "fill": "toself",
         "fillcolor": "rgba(0,0,0,0)",
         "hoverinfo": "text",
         "mode": "none",
         "showlegend": false,
         "text": "- Observadores locales políticos, explican que el concenso en la",
         "type": "scatter",
         "x": [
          1157,
          2828,
          2828,
          1157,
          1157
         ],
         "y": [
          1744,
          1744,
          1797,
          1797,
          1744
         ]
        },
        {
         "fill": "toself",
         "fillcolor": "rgba(0,0,0,0)",
         "hoverinfo": "text",
         "mode": "none",
         "showlegend": false,
         "text": "oposición se produce porque en todo el espectro opositor hay con",
         "type": "scatter",
         "x": [
          1160,
          2844,
          2844,
          1160,
          1160
         ],
         "y": [
          1795,
          1795,
          1851,
          1851,
          1795
         ]
        },
        {
         "fill": "toself",
         "fillcolor": "rgba(0,0,0,0)",
         "hoverinfo": "text",
         "mode": "none",
         "showlegend": false,
         "text": "ciencia de que \"nada ha cambiado en el país\", y se ve como un ca",
         "type": "scatter",
         "x": [
          1155,
          2837,
          2837,
          1155,
          1155
         ],
         "y": [
          1846,
          1846,
          1899,
          1899,
          1846
         ]
        },
        {
         "fill": "toself",
         "fillcolor": "rgba(0,0,0,0)",
         "hoverinfo": "text",
         "mode": "none",
         "showlegend": false,
         "text": "mino factible el reinicio de la \"movilización social\" como una --",
         "type": "scatter",
         "x": [
          1160,
          2846,
          2846,
          1160,
          1160
         ],
         "y": [
          1893,
          1893,
          1944,
          1944,
          1893
         ]
        },
        {
         "fill": "toself",
         "fillcolor": "rgba(0,0,0,0)",
         "hoverinfo": "text",
         "mode": "none",
         "showlegend": false,
         "text": "forma de presión para provocar cambios políticos y sociales.",
         "type": "scatter",
         "x": [
          1162,
          2741,
          2741,
          1162,
          1162
         ],
         "y": [
          1947,
          1947,
          2003,
          2003,
          1947
         ]
        },
        {
         "fill": "toself",
         "fillcolor": "rgba(0,0,0,0)",
         "hoverinfo": "text",
         "mode": "none",
         "showlegend": false,
         "text": "- Otra de las novedades es la convocatoria del Movimiento Social",
         "type": "scatter",
         "x": [
          1162,
          2831,
          2831,
          1162,
          1162
         ],
         "y": [
          2050,
          2050,
          2099,
          2099,
          2050
         ]
        },
        {
         "fill": "toself",
         "fillcolor": "rgba(0,0,0,0)",
         "hoverinfo": "text",
         "mode": "none",
         "showlegend": false,
         "text": "demócrata a formar una \"multipartidaria\" opositora apareciendo -",
         "type": "scatter",
         "x": [
          1160,
          2839,
          2839,
          1160,
          1160
         ],
         "y": [
          2101,
          2101,
          2157,
          2157,
          2101
         ]
        },
        {
         "fill": "toself",
         "fillcolor": "rgba(0,0,0,0)",
         "hoverinfo": "text",
         "mode": "none",
         "showlegend": false,
         "text": "así, nuevamente el tema de la \"unidad disidente\". Idéntico lla-",
         "type": "scatter",
         "x": [
          1155,
          2843,
          2843,
          1155,
          1155
         ],
         "y": [
          2150,
          2150,
          2199,
          2199,
          2150
         ]
        },
        {
         "fill": "toself",
         "fillcolor": "rgba(0,0,0,0)",
         "hoverinfo": "text",
         "mode": "none",
         "showlegend": false,
         "text": "mado han efectuado en tal sentido las coaliciones de izquierda.",
         "type": "scatter",
         "x": [
          1162,
          2811,
          2811,
          1162,
          1162
         ],
         "y": [
          2204,
          2204,
          2255,
          2255,
          2204
         ]
        },
        {
         "fill": "toself",
         "fillcolor": "rgba(0,0,0,0)",
         "hoverinfo": "text",
         "mode": "none",
         "showlegend": false,
         "text": "- En tanto, el gobierno reafirmó su objetivo de detener la \"ofen",
         "type": "scatter",
         "x": [
          1160,
          2837,
          2837,
          1160,
          1160
         ],
         "y": [
          2304,
          2304,
          2353,
          2353,
          2304
         ]
        },
        {
         "fill": "toself",
         "fillcolor": "rgba(0,0,0,0)",
         "hoverinfo": "text",
         "mode": "none",
         "showlegend": false,
         "text": "siva extremista\" a través de diversos caminos. Esta posición se --",
         "type": "scatter",
         "x": [
          1160,
          2857,
          2857,
          1160,
          1160
         ],
         "y": [
          2349,
          2349,
          2398,
          2398,
          2349
         ]
        },
        {
         "fill": "toself",
         "fillcolor": "rgba(0,0,0,0)",
         "hoverinfo": "text",
         "mode": "none",
         "showlegend": false,
         "text": "funda sobre la base de que la izquierda comunista, representa un",
         "type": "scatter",
         "x": [
          1155,
          2843,
          2843,
          1155,
          1155
         ],
         "y": [
          2405,
          2405,
          2456,
          2456,
          2405
         ]
        },
        {
         "fill": "toself",
         "fillcolor": "rgba(0,0,0,0)",
         "hoverinfo": "text",
         "mode": "none",
         "showlegend": false,
         "text": "peligro para la consolidación del proceso de institucionalización.",
         "type": "scatter",
         "x": [
          1160,
          2876,
          2876,
          1160,
          1160
         ],
         "y": [
          2454,
          2454,
          2503,
          2503,
          2454
         ]
        },
        {
         "fill": "toself",
         "fillcolor": "rgba(0,0,0,0)",
         "hoverinfo": "text",
         "mode": "none",
         "showlegend": false,
         "text": "En una demostración de enfrentar un desafío, los organismos de se",
         "type": "scatter",
         "x": [
          1155,
          2862,
          2862,
          1155,
          1155
         ],
         "y": [
          2503,
          2503,
          2556,
          2556,
          2503
         ]
        },
        {
         "fill": "toself",
         "fillcolor": "rgba(0,0,0,0)",
         "hoverinfo": "text",
         "mode": "none",
         "showlegend": false,
         "text": "guridad han informado, que hubo detenciones y enfrentamientos ar-",
         "type": "scatter",
         "x": [
          1155,
          2858,
          2858,
          1155,
          1155
         ],
         "y": [
          2559,
          2559,
          2608,
          2608,
          2559
         ]
        },
        {
         "fill": "toself",
         "fillcolor": "rgba(0,0,0,0)",
         "hoverinfo": "text",
         "mode": "none",
         "showlegend": false,
         "text": "mados con grupos señalados como izquierdistas. Otro punto es que-",
         "type": "scatter",
         "x": [
          1155,
          2864,
          2864,
          1155,
          1155
         ],
         "y": [
          2610,
          2610,
          2659,
          2659,
          2610
         ]
        },
        {
         "fill": "toself",
         "fillcolor": "rgba(0,0,0,0)",
         "hoverinfo": "text",
         "mode": "none",
         "showlegend": false,
         "text": "el gobierno siguió estudiando iniciativas legales que pongan fue-",
         "type": "scatter",
         "x": [
          1155,
          2860,
          2860,
          1155,
          1155
         ],
         "y": [
          2657,
          2657,
          2708,
          2708,
          2657
         ]
        },
        {
         "fill": "toself",
         "fillcolor": "rgba(0,0,0,0)",
         "hoverinfo": "text",
         "mode": "none",
         "showlegend": false,
         "text": "ra de la ley y declaren inconstitucional al Partido Comunista.",
         "type": "scatter",
         "x": [
          1155,
          2772,
          2772,
          1155,
          1155
         ],
         "y": [
          2711,
          2711,
          2756,
          2756,
          2711
         ]
        },
        {
         "fill": "toself",
         "fillcolor": "rgba(0,0,0,0)",
         "hoverinfo": "text",
         "mode": "none",
         "showlegend": false,
         "text": "- Pero entre los sectores partidarios del gobierno se ha produci-",
         "type": "scatter",
         "x": [
          1157,
          2849,
          2849,
          1157,
          1157
         ],
         "y": [
          2809,
          2809,
          2858,
          2858,
          2809
         ]
        },
        {
         "fill": "toself",
         "fillcolor": "rgba(0,0,0,0)",
         "hoverinfo": "text",
         "mode": "none",
         "showlegend": false,
         "text": "do un fraccionamiento que podría tener consecuencias en el futuro.",
         "type": "scatter",
         "x": [
          1151,
          2886,
          2886,
          1151,
          1151
         ],
         "y": [
          2860,
          2860,
          2907,
          2907,
          2860
         ]
        },
        {
         "fill": "toself",
         "fillcolor": "rgba(0,0,0,0)",
         "hoverinfo": "text",
         "mode": "none",
         "showlegend": false,
         "text": "Mientras el derechista Partido Nacional se ha marginado del \"Grupo",
         "type": "scatter",
         "x": [
          1149,
          2888,
          2888,
          1149,
          1149
         ],
         "y": [
          2912,
          2912,
          2959,
          2959,
          2912
         ]
        },
        {
         "fill": "toself",
         "fillcolor": "rgba(0,0,0,0)",
         "hoverinfo": "text",
         "mode": "none",
         "showlegend": false,
         "text": "de los ocho\", al no firmar el documento de Acuerdo Nacional, im--",
         "type": "scatter",
         "x": [
          1149,
          2863,
          2863,
          1149,
          1149
         ],
         "y": [
          2961,
          2961,
          3008,
          3008,
          2961
         ]
        },
        {
         "fill": "toself",
         "fillcolor": "rgba(0,0,0,0)",
         "hoverinfo": "text",
         "mode": "none",
         "showlegend": false,
         "text": "pulsado por esa coalición, la fuerte Unión Demócrata Independiente",
         "type": "scatter",
         "x": [
          1149,
          2886,
          2886,
          1149,
          1149
         ],
         "y": [
          3010,
          3010,
          3061,
          3061,
          3010
         ]
        },
        {
         "fill": "toself",
         "fillcolor": "rgba(0,0,0,0)",
         "hoverinfo": "text",
         "mode": "none",
         "showlegend": false,
         "text": "quizás uno de los grupos más sólidos de apoyo al gobierno. ha opta",
         "type": "scatter",
         "x": [
          1151,
          2901,
          2901,
          1151,
          1151
         ],
         "y": [
          3059,
          3059,
          3115,
          3115,
          3059
         ]
        },
        {
         "fill": "toself",
         "fillcolor": "rgba(0,0,0,0)",
         "hoverinfo": "text",
         "mode": "none",
         "showlegend": false,
         "text": "do también por no suscribir ese acuerdo explicando que ello no - -",
         "type": "scatter",
         "x": [
          1149,
          2899,
          2899,
          1149,
          1149
         ],
         "y": [
          3113,
          3113,
          3162,
          3162,
          3113
         ]
        },
        {
         "fill": "toself",
         "fillcolor": "rgba(0,0,0,0)",
         "hoverinfo": "text",
         "mode": "none",
         "showlegend": false,
         "text": "aporta a la unidad de los distintos sectores.",
         "type": "scatter",
         "x": [
          1153,
          2360,
          2360,
          1153,
          1153
         ],
         "y": [
          3164,
          3164,
          3209,
          3209,
          3164
         ]
        },
        {
         "fill": "toself",
         "fillcolor": "rgba(0,0,0,0)",
         "hoverinfo": "text",
         "mode": "none",
         "showlegend": false,
         "text": "- Finalmente en este marco de creciente actividad política, la coa",
         "type": "scatter",
         "x": [
          1153,
          2892,
          2892,
          1153,
          1153
         ],
         "y": [
          3265,
          3265,
          3318,
          3318,
          3265
         ]
        },
        {
         "fill": "toself",
         "fillcolor": "rgba(0,0,0,0)",
         "hoverinfo": "text",
         "mode": "none",
         "showlegend": false,
         "text": "lición izquierdista Movimiento Democrático Popular afirmó que una-",
         "type": "scatter",
         "x": [
          1153,
          2892,
          2892,
          1153,
          1153
         ],
         "y": [
          3312,
          3312,
          3363,
          3363,
          3312
         ]
        },
        {
         "fill": "toself",
         "fillcolor": "rgba(0,0,0,0)",
         "hoverinfo": "text",
         "mode": "none",
         "showlegend": false,
         "text": "\"ola\" de detención, relegaciones y expulsiones afectaría a sus di-",
         "type": "scatter",
         "x": [
          1149,
          2897,
          2897,
          1149,
          1149
         ],
         "y": [
          3363,
          3363,
          3412,
          3412,
          3363
         ]
        },
        {
         "fill": "toself",
         "fillcolor": "rgba(0,0,0,0)",
         "hoverinfo": "text",
         "mode": "none",
         "showlegend": false,
         "text": "rigentes y a la oposición, y mencionan que esas acciones se produ-",
         "type": "scatter",
         "x": [
          1153,
          2905,
          2905,
          1153,
          1153
         ],
         "y": [
          3417,
          3417,
          3466,
          3466,
          3417
         ]
        },
        {
         "fill": "toself",
         "fillcolor": "rgba(0,0,0,0)",
         "hoverinfo": "text",
         "mode": "none",
         "showlegend": false,
         "text": "cirían en Santiago, Concepción y Arica.-",
         "type": "scatter",
         "x": [
          1155,
          2242,
          2242,
          1155,
          1155
         ],
         "y": [
          3466,
          3466,
          3515,
          3515,
          3466
         ]
        },
        {
         "fill": "toself",
         "fillcolor": "rgba(0,0,0,0)",
         "hoverinfo": "text",
         "mode": "none",
         "showlegend": false,
         "text": "7.- ECUADOR.",
         "type": "scatter",
         "x": [
          1070,
          1404,
          1404,
          1070,
          1070
         ],
         "y": [
          3562,
          3562,
          3613,
          3613,
          3562
         ]
        },
        {
         "fill": "toself",
         "fillcolor": "rgba(0,0,0,0)",
         "hoverinfo": "text",
         "mode": "none",
         "showlegend": false,
         "text": "- Diversos sectores políticos ecuatorianos exigen amplias atribucio",
         "type": "scatter",
         "x": [
          1160,
          2923,
          2923,
          1160,
          1160
         ],
         "y": [
          3667,
          3667,
          3720,
          3720,
          3667
         ]
        },
        {
         "fill": "toself",
         "fillcolor": "rgba(0,0,0,0)",
         "hoverinfo": "text",
         "mode": "none",
         "showlegend": false,
         "text": "nes para una comisión parlamentaria que investigan supuestas vincu-",
         "type": "scatter",
         "x": [
          1155,
          2903,
          2903,
          1155,
          1155
         ],
         "y": [
          3718,
          3718,
          3767,
          3767,
          3718
         ]
        },
        {
         "fill": "toself",
         "fillcolor": "rgba(0,0,0,0)",
         "hoverinfo": "text",
         "mode": "none",
         "showlegend": false,
         "text": "laciones de Diputados con el narcotráfico, al que las autoridades -",
         "type": "scatter",
         "x": [
          1153,
          2912,
          2912,
          1153,
          1153
         ],
         "y": [
          3765,
          3765,
          3816,
          3816,
          3765
         ]
        },
        {
         "fill": "toself",
         "fillcolor": "rgba(0,0,0,0)",
         "hoverinfo": "text",
         "mode": "none",
         "showlegend": false,
         "text": "de los tres partidos del Estado declararon la guerra.",
         "type": "scatter",
         "x": [
          1160,
          2561,
          2561,
          1160,
          1160
         ],
         "y": [
          3821,
          3821,
          3868,
          3868,
          3821
         ]
        },
        {
         "fill": "toself",
         "fillcolor": "rgba(0,0,0,0)",
         "hoverinfo": "text",
         "mode": "none",
         "showlegend": false,
         "text": "8405750",
         "type": "scatter",
         "x": [
          2378,
          2740,
          2740,
          2378,
          2378
         ],
         "y": [
          3902,
          3902,
          4003,
          4003,
          3902
         ]
        },
        {
         "fill": "toself",
         "fillcolor": "rgba(0,0,0,0)",
         "hoverinfo": "text",
         "mode": "none",
         "showlegend": false,
         "text": "en el sector céntrico de Santiago de Chile.",
         "type": "scatter",
         "x": [
          1155,
          2320,
          2320,
          1155,
          1155
         ],
         "y": [
          1639,
          1639,
          1701,
          1701,
          1639
         ]
        },
        {
         "fill": "toself",
         "fillcolor": "rgba(0,0,0,0)",
         "hoverinfo": "text",
         "mode": "none",
         "showlegend": false,
         "text": "R E S E R V A D O",
         "type": "scatter",
         "x": [
          1545,
          2024,
          2024,
          1545,
          1545
         ],
         "y": [
          3960,
          3960,
          4018,
          4018,
          3960
         ]
        }
       ],
       "layout": {
        "dragmode": "zoom",
        "images": [
         {
          "layer": "below",
          "sizex": 3744,
          "sizey": 4832,
          "sizing": "stretch",
          "source": "data:image/png;base64,iVBORw0KGgoAAAANSUhEUgAADqAAABLgCAAAAAADy5R8AAEAAElEQVR4nOzdi5arKNco0KLHfv9XtkdVbl5Awaigzvmf8/WuJIoxibJcC/z5AQAAAAAAAAAAAAAAAAAAAAAAAAAAAAAAAAAAAACAM+sObu7g9gAAgI/Q+zdn053083sFgWHy6OeRXqAYEo91oQvPXTAbVoYuFMW5v69/bM3v+qPNJxfNbai31eNlnu19Wv7bivmPunts9N+L4y845zcFAICb0W09scWwpQ1/sVEvQBqEY73tf4VrsVDwL0Rb78vFm/J5L8+IdPlFf3+8ItjPAnPfHQEtAAA16IaeNzn6CDt+WvWb1Ov9WZKH3FxZBvU8npneDVYTuzxQ8N3qJ5oBAGC1f+sXZUfdFmnVDaOGwarehbW9JtMp0fHG1XDN8HSz99WrJo4/nHjgXQHdXaLyPGHlz+irHHTjCeyczat/zWJYoA/N8kUFGHFUbLMDuXTCeo2SnL6qX/ebiBRSK3/U4kZGhv75rPT9V1dYQHulStub+B2GO/zYhqnw+Ec6vELSeLSV9nlv/asz/f/0Xjt64L13cmK53wz/5JJPYsHPK39Xvs/FgIW15ryr4Vv4/RZ9vU3JRvvF6+NKje8bvr7TXlF6VOkMh+g/v3jpa6ivkRGRQ9frBDiZAKF/JOidERO1JuMVJ6YFmKzFVxXgzRGx/gXP8tNSbAKh/lOzgwsTSz4mBRo9FZm9J3J65rrG4enjwWjydvDo+LvSstEPcJIVjoSOo3mrxjUFc4snrv/0Xhnt9r6XfP2j18Bngd5mRA4rn4dmQ5KMKbkyXjB4C3nHuG8HLUx3zXAr4p9UxjZFDrODT3UaC4WysoX83bO48s9O7G9J/9HP12S0o3rXXiKnmPlPvX/qiJwYJpUXk3PMwhfyzqKhdvQ48prd77BNA9iLI9ka0SzlUscneeLodT1jz3/mqX2GhLGhne8u0iDEfAUX745HbLrY53aNVnr3PgGFxjXC/e/QuqPM7j2tZ/LlmTZ5/M4+P5heBm7a5x/3/YdhzzgJ83onkR/4Zx+9Yt7RgoP9Gr8y8Nrbj1/7JJv4SdD0nhy8dvj61J4fbd4k3/PcxMFhZrLB0QtqjyfiV8dee6UfeL/3Z/x4Odkzvfx3fCtmTD7pSEgVy+BNm4sH6e9vVOJC0HvJ8VH/sbrXJsU+yUmty2TbvzvK73KJUpXNOQw7HMmv9uub2/8Gv/+t9wnMuNEhYpOs57jP3TvOLvSnk12jwSrGkWrG2fpR5DTtg3U5t1rp5UxnepWwLB09Tbvmcz/G4WzD+x2hxldrRmFl7/HJQ+NItffcwg9nvC9Kf2fR9f+Gx+OM7eiHPSqOmCbIxtHM6KA2vbQ16HbGrp2VvY9BK+8bPZWtI/YVHGefHrHdc4c9A73hCPtP1cAozEsmZl+LJCfY/mtv+hFtHIw931rvesjjUcdyTuRGfVLgXgeDT0YzdoE/7/0OLk5PV9JbUaQjM+nTjTsriTX2np109vJ6MnOvKrkXaG98q74NGxp28x/d9mPnDonUFl4wozOMhSbBZVZUPRp5vLiSz8Mrd9krdJzbqIyVRA6ovdLfyc2W5hv86sA7s3D8Ys4jtNz0C+cYzj1NrgctSV4QNTQY6jjDT6+kGmTy2v6wq3j52/TVo8vdvezD5Jg3vbyerNQa9vfem6H7wI2kJlWKlbdvXAb2LpSUU1rhJAcqny2wt3hNfmoIR2ScwRl63lBZ9Z9JP2yMpVNmLoNFfueTOtq/sr2ZJUdRa76/Q04vRzqXYIiN9xlW5QHDQXfDAoQNTEbyAUBD4iU+w0Hm1fvtcIRaX/TR7B/9ktje1abpoJ/h8KjR3BkLTU5/+P0RnzPlWHO1btEHexHpZ2YSXWOod5x6/BD9CgG4sNAfGV97Y+CEAWovQo2mGGc7k59pDPtLJqoo3snKyAwhiRj4a9KjsKFvbxJoVDUAt/TqAy+fAMcZmfeM78NRuskxu3ChADV1U7ZpWjI6LHShxzn+PS7+PkWW0KrPXDejAojHP0cXjHsF/pFh5ADA11JliP1ywqO3ibOr/JUZ5DZLuo7CSLi7weRkf//bC1DfF4xLJrCGc3AGBM5seHfEyAQ0Itq7O/obkBpduiWnbriFXuQ5uLVk/xYDW99tEupzzQW4oMiUo8/5I1732Hie5oWv1ydABa7M8YDLEaACt1B6Bn8fHAeFmb3SKqHtWVT5pJxaAQCAPeqqBv9aGEg4HBzUn9pin+2kwQzqwe0BAAD3kzl9f/92l3/TV3z+fvzz9djjj102lT4BKgAAcK8i4d48FYPbA0TX8JzZ6R22vkPWccA6SsTGZoFiycH7THwKAAA0oT+z4nSept4Dg3l03jeJnY527cbh7l9sm5947Xrr+vv7hhHuMW9ZXAoAAJzCb3o1FrCOHhrMWhdGAeormdqrFn69YrDa+SxrJ0Ddh/gUAAC49tzCC1XFv//T5UZi3WKoNqkvvkgwe8TbEJ8CAAAshmLdZJqmFU4dq8qgAgAA1Ln9+rji96d3b5zfGYQHweY0bu1+C43/ZhruvfDUszPJoAIAAFTSnxPp7++/SHM4lHVcH9yPRUcPDrOnr1B1uWK4Gf9qbwAAAMCtDe55040ejKb8nqHn7wKD2ZoScl7TBhlUAACAWvoTBodu5o6tsSUf+je+eYSs5yVABQAAaEHoihKgfzdZjUW34bwzKB2weeJTAACA7SdaCsmIduTvzq5nyK7+t38Tre8CAACAFnRZcVQIiZeE4SPdn8dKf//xl4ptPH94QIAKAABAWS6vSz77CjLDaw2PCZP+npqutxssMHzingGqFCoAAECZLudFg1vODOPQ9/K9eYEHd7VpMZtqkiQAAIAzC6Pa4MSUSt3zmc/NUdtLJirxBQAAqCu8x5V+53cticRo91sznKoDboZZfAEAAE4gzNwSdeZ+qZOXNhudHrJh4lMAAIDNhFiMlRmgvsanthqhClABAADOIeTGV8N49fcuqK9/tM0YVAAAgHPo3v8KJXHse1hqixP3DghQAQAAWhLSTw2n6+3fAvXzcAjTNUzuOdOof3s30Pj7BwAAaErIes0zPH3dOub3Jqddf3xpeI0zPVVItnsN8qn2BgAAwCmFaPQ1ebTxUagCVAAAgOsK47LglhmDCgAA0LywdsEzxaf7j0EFAACgodrUrt1IVYAKAABwZeFv6qRuGuW+5lFqhzGoAAAATY0UTXpOzdsVruI11e9rxt/XfVKbi08FqAAAAKcRHjHWJBh9BK7zYe5z2V7A2pz9N0mECgAAsLUwCbXCMEAd/TmMUH+6FuPTY7ZJjAoAANCM8Ps/3W+M21iU6jYzAAAAt9Q9s4mv/9ZnFl8AAIB76T6Z09c/27j3zBGb0EgsDgAAwPvOM3//aiIufTtgW8SnAAAArQo/dxqDKj4FAABoNCINvzP6drcJUJt5pwAAAPSFV7DaSoi6eza3kfcJAADAwCs6HfxVldvMAAAA8NNCclGACgAAcEvd3/+8EqihgQhViS8AAMAthV7A1kKBrwwqAADATXWtxac//2pvAAAAABU1Epz+UuILAABwa6FrJVDdvcS3gfcIAADACdKK+49BFaECAADQxiRJIlQAAIDWhdobYBZfAAAAWin0FaACAADw00KEGm7xLgEAAMiZzjdcO4MqPgUAADiDrvYGKPEFAACgiSBVgAoAAEATEaoAFQAAgCYiVAEqAAAATRCgAgAA8FFxHl8BKgAAAE0QoAIAAHCTALXqbV4BAAA4yyxJB2RQRagAAAAsU+ILAABAE0nG/659m1cAAACKQtCuu3BoLD4FAAA4i1CzcSW+AAAANJFiPCA6lkIFAAA4j3DplkWoAAAAJxEqtq3EFwAAgBdjUAEAAGhC1QpYASoAAABNEKACAADQRArVLL4AAAA0MQ71v4uPsQUAAOAkIZwSXwAAAJqIUAWoAAAANEGACgAAQBPTCAlQAQAAaMK/2hsAAABAM6rOciuDCgAAQBP3CRWgAgAA0ESEKkAFAACgiRpfASoAAABvMqgAAAC0wW1mAAAAuDu3mQEAAODNGFQAAACa0CnxBQAA4O4EqAAAADRBgAoAAEATBKgAAAA0QYAKAABAE9P4ClABAABoggAVAACAJghQAQAAaIIAFQAAgCYIUAEAALhNgFpxDigAAADOQgYVAACAj+6nGgEqAAAATRCgAgAA0MQgTQEqAAAAb0GJLwAAAA0IMqgAAAA0oO5NWASoAAAAPFWs7xWgAgAA0AoBKgAAAE2kUP+7fI4YAACAU5BBBQAAoIlZkg5pXAoVAADgJEK9pmVQAQAAaCKFKkAFAACgCQJUAAAAmiBABQAAoIlJkgSoAAAA3OY+qAAAAJxEV7FtASoAAABvZvEFAACgCTKoAAAA3J4AFQAAgDclvgAAANxeuPw8xQAAAJwiiSqDCgAAQBNFvgJUAAAAmhiEKkAFAACgCQJUAAAAmiBABQAA4M1tZgAAALi9IwJUd5kBAAA4i65e0zKoAAAAvHVm8QUAAKAFxqACAADQhK5ije8hwbFBqAAXFxzqAeBywvFNyqACcPZqIABgD93x158FqAAAADRBiS8AAABNlEf9q9AmAAAAzQrVWhagArCFoF4GAC4i1GvaGFQAtiA6BYCr6Oo1bQwqAAAATeRQZVABAAB4CxVrfAWoAAAANFEBK0AFAACgiRDVLL4AAAC0MImvDCoAAAAfSnwBAAC4PQEqAAAATaRQBagAAAA0QYAKAABAEwSoAAAANDGNb7j6LFAAAACcI0Z1H1QAAACaSKEq8QUAAKCJEl8BKgAAAD1dtVGaxqACAADQQgJVBhUAAIA2EowCVAAAAJqIUP+7eooYAACAc0SoMqgAAAA04ZAA1SRJAAAALFHiCwAAQBP+1d4AAAAA2uE2MwAAADShu/okScagAgAAnEH4+79aZFABAABoIr0oQAUAAKCJEFWACgAAQBMEqAAAADRBgAoAAEATNb4CVAAAAHq6aiGqABUAAIAm/Ku9AQAAADSk3m1QZVABAABoIj4VoAIAAPDhPqgAAAC0IPx09SZJClePwAEAADhHka8MKgAAAE2kGP+7+iBbAAAASsigAgAAcHMCVAAAAJogQAUAAKCJMZqHBKhm8QUAADiJrl7TMqgAAADcZxZfAAAATqNahPrv5yol0uqIAQAATn2b0CtkUN1mFQAAYCOdEt+vPPaeMBUAAOBrwSRJAAAAtKFe9u8SAWpn/CkAAMDpS3wPCY3FjwAAAGcRrp1BNTwUAADgJEK9pi9R4gsAAMD5CVABAAD4MIsvAAAATbh6ia9JkgAAAM4gVJ1DSAYVAACApy7UTDAKUAEAAGjhNqgCVAAAAPrqRajHlBcbhAoAAHAOoV7TMqgAAAC8XX6SJAlUAACAc+gqti2DCgAAwH0yqAAAALBEgAoAAMBtSnwNQQUAAKCFAFV8CgAAcBbh4m2LUAEAAM4j1GrYGFQAAACaoMQXAACAmwSo4lMAAIATCdcNUMWnAAAAJxLqRXHGoAIAAPDR1cszClABAAB4Cz+hWo3v3g2r8AUAADiPULNxGVQAAACaIEAFAACgCQJUAAAAXrqaIzUFqAAAANzjPqgAAACcSHfZ0NgkvgAAAKcR/oK4ainUf7UaBgAAoDFd3eaV+AIAANAEGVQAAABamCNJBhUAAIA2ynxlUAEAAHgIP13FBKoMKgAAAE/dcx7fSgSoAAAAPHXGoAIAAIAAFQAAgKeaI1AFqAAAALx1P50xqAAAALTALL4AAAD83P0+MwJUAAAAnirW9wpQAQAA6KmZQBWgAgAA0EYOVYAKAADAS6gZoQpQAQAAeAvXbbvuAFsAAACKk6fVYlQZVAAAAH5+frqudpGvABUAAIAm5vEVoAIAANAEASoAAAB9xqACAABw72l8BagAcCWh5s0BALiCcN223WYGAADgPELV1mVQAQAA7i60kWQUoAIAANxd1wtTK8aoAlQAAAB+dT+hbgpVgAoAAMDDb3hqFl8AAADuToAKAADAW1exyrfVANVN3AAAACoIFadJajNADUGECgAAUEW9aGzfALXuLXQAAAAoj0yrRaj7NixABQAAOI/wG8fVy6AKUAEAAHj7vRVquGSJr4GkAAAAp9JddgwqAAAA59LVi1AFqAAAAPR0bjMDAADAvQlQAQAA6FPiCwAAwL3tHKCaxhcAAIAmAlQ3QgUAADiZrlbDSnwBAABowr/aGwAAAEBTQldpvKYMKgAAAOMS3yplvjKoAAAANDHfrQwqAAAATRCgAgAA0AQBKgAAAPXre/dv2X1QAQAATiVctmkBKgAAwNmESu0q8QUAAKAJAlQAAACaIEAFAADgwxhUAAAA7h2eyqACAADwCU6rZhkFqAAAAPy8gtOaEaoAFQAAgCZqfAWoAAAANEGACgAAwB0C1KoTQAEAAHAie0eQ7jMDAABwLuGiGVTxKQAAAHmMQQUAAOAGAaoEKgAAwMmEai3LoAIAANDEXLf7Bqgm8QUAADidWsWwMqgAAAAM8oy1co0CVAAAAJ5C1bmE9g2MTZIEAABwHqFu8zKoAAAANJFk3DVAlUAFAAAglxJfAAAAmqjyFaACAADQRJxqDCoAAABNpBsFqAAAADSRQf1Xo1EAAAAaFeo1LYMKAABAE5MkCVABAABoggAVAACAFhKoAlQAAADauFmoABUAAIAmIlQBKgAAAE1EqAJUAAAA+rpaMar7oAIAANDEREkyqAAAADQxj68AFQAAgOvHxlXnJwYAAKDUde+DWvWdAQAAcCpKfAEAAHgK1Wbw/SVABQAAoImBmgJUAAAAmiBABQAAoAkCVAAAAD4qjkIVoAIAANAEASoAAAB91VKo/2o1DAAAQItCtZZlUAEAAPjEpvXiUwEqAAAATdwGVYAKAADAR8UEqgAVAACANpKoAlQAAACa8N+Fy5cBAAA4ERlUAAAA3oxBBQAA4Pb+u2rkDQAAwLnsG0MahAoAAHAioauZbFTiCwAAQD8+rUYGFQAAgCYGa+6bQTUIFQAA4FRCxbb3DVBlUAEAAE4k/HQVy3yNQQUAAOCpq1oHawwqAAAANyjxBQAAgEwCVAAAAF6qlvgKUAEAAGhioKYAFQAAgBcZVAAAAH7uHp+axRcAAIA2YlQZVAAAAD7BacVEowAVAACAp1A1g6rEFwAAgCbGoMqgAgAA3Fno/9Ep8QUAAKCShipfBagAAAB8mMUXAACABnQ1E6oCVAAAAD6MQQUAAODuBKgAAAA0QYAKAADAYI6k7pLzMzU0XTEAAACLQldxIt9d2xWfAgAAnEv4+elqBahKfAEAAHhzmxkAAAAa0f2V+dYgQAUAAKAnVBuDKkAFAACgiRpfASoAAABNRKgCVAAAAJogQAUAAKAJ+459dSNUAACAcwkXzaCKTwEAAMilxBcAAIAWEqgCVAAAAN6CWXwBAABoJX/aXTJ7awwqAADAuYSKbcugAgAA8NYp8QUAAODuOVQlvgAAADQRosqgAgAA0IT/rjq4FgAAgHP5V3sDAAAAaMdvorGrlG1U4gsAAEBfrfhUgAoAAMDwNjO1JrzdNzA2jS8AAMDJhGoty6ACAADQBAEqAAAATdyORYAKAABAEwSoAAAAfHT1JhMSoJ42+Q0AAHAtZvH9SrjBewQAAO4kVGxbBnW9EP4+OUlUAADgWhW+XaW2ZVC/IYEKAABcT6jV8L9aDV+C6BQAAOAcJb7iNwAAgJMJFw1QbzE68xZvEgAAuItw3bYvn0MNd3iTAADAfYSKbZvF92viUwAAgPYnSbpB7HaDtwgAAHAIJb4AAAA0McuOEl8AAACaIECFMTMzAwBwZ129SlgBKoyITwEAuLHuJ9TrEQtQYSgYOg0AAHUIUGGok0IFAODGwk9Xr8Z35wC1Ym4Y1gmKfAEAuLVQ734su/fEVUsCAACca8xbqNb2zgSoAAAAJxKuPgZVxSQAAMAZhJrh2+4B6u+bE58CAACcQlez8YNiR4W+AAAA5xAuXuIrPgUAADiJrlrL7oMKAADAfTKo3e84WwNRAQAAWhcuP4tv1WmgAAAAKLoPai1HhY5GoQIAAJxBqNf0v0NaEZ4CAACwQAYVAACA+0ySVDdJDAAAQK4Qrj8GVRIVAACgfaFm4+6DCgAAwFPoaqYWBagAAAA0Ufl6bPpWlS8AAEDDwk9XschXBhUAAICn7jdE/bn2fVABAAA4g65m48dmUN1sBgAAgBZCRkNQAQAA2hbuk0ENkqgAAAAN6yreaObQADUo8gUAAGhZuFXjynwBAAAaFurdacZtZgAAABjeaaYSASoAAABNODxANQgVAACgYaFe08dnUEWoAAAA7ep+qs3jW6HEV4QKAADQrHCrMajm8QUAAGDq6MhYdAoAANCyUK/pozOo6nsBAACIMosvAAAAP+9orWLdq/ugAgAA8NPCiMz/7veWAQAASLrRGFTxKQAAQMu6ek2bJAkAAIAmglSTJAEAADDQVQrcjEEFAACgicSiDCoAAABNOP42MyJUAAAAGrkPqhAVAACgTSHcKkCtNdoWAACABaHqtEFKfAEAAHjrblbiCwAAQLO6ai0LUAEAAGjixqA1AlS3QgUAAGhOqB6z1RkRKkQFAABoVrhViW/ViYsBAABoUa0xqCJUAAAABkySBAAAQBOjMgWoAAAANFHtWqlxsyQBAAD5giDiAKG75yRJhqACAAA0pov86yaTJAlRAQCATL/hgxDiBoxBBQAAGveITUWo11ctQO18uwAAgAIGoV5fpQC18+0CAAAyCR7uok6A2j2+YZKoAABABhHqTfZ4nQD1GZn6lgEAALSou9VtZkKQPwUAAAqIIK7vX7WWfbsAAIAsgoe7qHibGQW+AABAPhHE9Xd3vQDVtwsAAMgR/uZZFUHcQMUMKgAAQIZOke9d1AtQfcMAAIBsQQRxA0p8AQAA6Kl3LUAGFQAAOAUhxPWziXU/Y1lUAAAgO24RQBwl/HRVgkWTJAEAACchh3r1Mb//fqpOxeUKCAAAsEQC9S5MkgQAAJxAJ4Q4TPit8L1Zjty3CwAAKIlaxBCXDxOrFnH7fgEAAIsEqLcJFAWoAABA+4L44Q6Roll8AQCA5pm/9x4EqAAAQOvEpzdR+YOWpAcAABYYg3qw8NPds8TXhRAAAGDBMzAVn14/UqscoPqKAQAAWQQPx90Etdq+NgYVAAA4A+WXB+kq7uv6H7LrIAAAQE7YInY4zE1LfP/eef0gGQAAgJ9naFotRqsfoLoOAgAAwM/Pz7/aGwAAAEArao5AbSODCgAAsEjp5UHqTeLbQoAajEEFAABoQ9X4rIEAtYWphAEAAHjpbhsb/pU4S9YDAAApbjNzl0CxfoDqWwYAAGSFLWKHg9z5NjMNxMgAAMAJiB2uvp8bCFDNkgQAAMyROb2LFgJUISoAADCne8SoAtWrayQy9EUDAABSTJJ0sBuPQa14E1gAAOAMHjGDyOEYoeKu/vdTm3vMAAAAGQm9IHK4vPoZVCNQAQAAmlHzOkATsaELIQAAQJLboN4mWGwgg+pbBgAA0JgqycwGAlQRKgAAQDt+R2GGu5b4ik8BAICMuEXocPlAsYEA9ZdvGgAAkCRAvUmk2EKJry8aAACwHC01kl67he7GAerve/ddAwAA5okarh6h/tfM1yy4HSoAABAhUrjNDm8iQAUAAFhmbODVg9R/P+18zXzbAACANBHDQbp7z+LrewYAACxFLeKGA916Fl8AAIAUkeltCFABAIBTaKL88yZCpXYFqAAAADShiQDVDWYAAABaEapVVTcRoKopBwAAFklsXT5Aa+EjFp4CAAA5UYvY4eKhYgMZ1K6ROBkAAGhaJz49zL1vM+OLBgAAzBM1HOfGs/jKngIAANBEgOo6CAAAsExq6zj3nsUXAABggdTW9cf7ClABAAAYqxKh/vupyjUQAABgQae49y4qZ1B90QAAABoUbphB/QmSqAAAAI257X1QgyzqSfigAADgHkKtRGL9AJWzkOsGAIDb6H5uVuLbPXJywh4AAICWPIO1O5VtCkwBAICCqEUIcZRQbeLkaiW+vlwAAABtCpXaNQYVAACAnq5aPvG/u71hAADgZEQPRwvdvQJUdywBAABoVneTANXFDwAAYA1prsN0tXb2wbeZEZ4CAACcocY3XD1A7arG4gAAALTssGCxC9KnAADACte/D2q1SYlmVEksHpVB7a78bQIAAFivvSLT8HPpSZJe0Wlob88DAABU1d5tOLtKG3VMgNq1u+MBAIDGPaIIscSh6uzuQ0p8fZMAAABOpKtT5Xv4fVABAABWMFzwBg4JUH2TAACA1QQUt9np+5b4Vrq5KwAAAGuFrlYct2u7xp4CAAAbxS3CixtEqLuW+MqeAgAAGxCc3sS+MaSvEQAAsFXcIr44TK1ko1l8AQCAxl29NjM09QZDxWsBAlQAAKBtTYVvu2grNxzqRcz/3WcvAwAAtKi1yClUa9kkSQAAALx13W/A/Pc/h3ObGQAAoHHPsEWAcagaCUdjUAEAgMY9IlPx6fUJUAEAgDO4bHza6NDIcLUA9bJfIAAA4HCNxnGcJUD1BQIAADYLLa4aYMjsffzr/RsAAAB+ws9PZ5IkAACABJnG43QXHIMKAADwvavW9jYrVNvlAlQAAAB6qlT3/tm1YSl4AABgoxGRwotjKfEFAACIUuZ79L6uckFAgAoAALTt2neZaU9Xb1fv27IkPAAAsFHUIrw4jkmSAAAAuLVdA1RXOAAAgK8JLG5DBhUAAGicCPXowt2u0n7/d3iLAAAA1IhOQ9f4SNRdM6im2QIAAL535cgitNhOqLXHZVABAAAur/sJJyiVFqACAADcQFfy0kopVLP4AgAAZ3DR8KLRt9XVaVYGFQAAaFx35UGoLQq1GnabGQAAoHHi07sQoAIAAGeIT68ZpV7zXa0mQAUAANrW6DDNTVz5va0gQAUAANomy3ibsFmACgAAQE8ItSJUASoAANC2R7SkGPYooV7SWoAKAADAR1fvaoAAFQAAaJsxqIeTQQUAAEgTpt7Av9obAAAAQEu6ahcEZFABAIC2mR7pNntdgAoAAEATlPgCAABtM/r0cCZJAgAASFPoe4NLAgJUAAAAmiBABQAA2iZ3ehsCVAAA4AQRqij1QNV2tgAVAABoW/gdEmmmpKPU3NMCVAAAAN66i06SJAcPAABsFVlIod6ADCoAAABNEKACAADQ19UqhxWgAgAAbXsU9xpCeKBwwQBVjTgAALAV8cUNyKACAABnIIN6A/9qbwAAAADtuOp9UF3hAAAAvieyOFCouruNQQUAABp31Qi1xZCpqziHrzGoAADAObQYzV1Xd8EP+arXOQAAgOOjFvHF9S8FyKACAABnID49yFUnSQIAANiKEt9jBGNQAQAAaED4jU6rRagCVAAAAJ66y95mBgAAYCvGoN6gnFqACgAAnID49A4EqAAAQNvEpocKxqACAADMCWbxvYGKAaovGAAAkEHkcKjLTpLkewQAAGwUMSn0vUEycd+GfYUAAICNohbhxUHCRTOovkAAAACn09WK5UySBAAAnIH810GC+6ACAADQgL/gtFaE+q9SuwAAALSaqw51mjaLLwAAcIbiXuHFDUqpzeILAAC07RG1iC6OctVZfAEAADibrlrLAlQAAKBtcqe34T6oAAAAvAX3QQUAALiTdud86ipmGs3iCwAAcLi2601DpXZlUAEAgJ/2o6W2A7prCdVaFqACAAAncLX6zJbfT1etZQEqAAAAA5ecJEkS/hpC01d3AADgjNqOlkKldmVQWdQ1/uMBAOAWZE2OEoxBBQAAiHvkS2RNjtLVuxiwZ4DqCwQAAHA63c8VA1QpeAAAALIp8QUAANom9XWbFKoAFQAAgL5LjkEFAADYKJ9nipvjmMUXAABgJl5S53uA6jtZgAoAAMCv7nET1GvO4gsAALARJb7H3QRViS8AAEDL1ad30f2EehcD/lVrGQAAgCZzqLXIoAIAANCEXQNUSXgAAGAbxqAexyRJAAAAM6S/7sAYVAAAAJq4FiCDCgAAQBMEqAAAALyFrt4g1F0DVMOYAQCAbQIL0cVxumpFvjKoAAAAvNW8FCBABQAAoAkCVAAAoG3uMHO0a45BBQAA2CZcEqUexm1mAAAAqC/8hC5cc5Ik1zgAAABOJPz9XzUyqAAAALx1Fafx/VevaQAAAJrSXXgMqlvpAgAAnE5Xq2ElvgAAALyFijnUPQNUCVQAAACyyaACAADwEmqmGk2SBAAAtM39K4/UXXaSJAAAAE6mq5dCFaACAAAnYIqbO+ztPZO3vkEAAMBWUYv44gYV1TKoAAAANGHPANVQZgAA4Htyp7chgwoAALSv4sQ99xKu27qvEAAAsE3YIro4QOgqh6nugwoAAMDPX3z6G6JWTKIKUAEAAPj5y1J3dWt8jUEFAABOwBysdyBABQAAoAlKfAEAAGgiUS2DCgAAnCBoMovvIbq6u1qACgAAwFvNSwFKfAEAAG4v/P1v90ihViv0FaACAADcXvf7PyFULqVW4gsAALSt8rjI+wnXbNl3CAAA4GRCvaZlUAEAAGiCABUAAGhcqHx3znsJFdsWoAIAAG0LQtRDPHZy6NwHFQAAIMHkNsf4i0zrXgnYM0D1NQIAALYhujhK94xULxegSsIDAACcKkTqqo75VeILAAC0LZwktlskDbxEgAoAAJzAJSJUFghQAQCAE5B9PM41x6ACAABAGwGqJDwAAMDphFoNy6ACAADQp8QXAAAgTX3mcS56mxnDmAEAAGghQBWfAgAAGxFe3GFf/6vWMgAAAA0KfzFqjTpfY1ABAABoYrivDCoAAABN1PgKUAEAAPjo3AcVAACANrgPKgAAAPceg7pjgGoaaAAAgNPp6jUtgwoAAJxAxbTezYRgDCoAAMCVKzTPE2F39ZoWoAIAAOzv9BH2yQPU81wgAAAAoPpdZmRQAQAAaCPZ+69aywAAALQm1AxQZVABAAB4+Y1Oq0Wo7oMKAADAW/d7o5lKTJIEAABAE7nGPaNIKVQAAIBzCV3FbKMAFQAAgEGE+vjHz+F2bVKECgAAbBO1iC4OE7rwt7srBKhm8QUAAKDnEZ9e7T6oLnEAAACcS+j97+FkUAEAABioNUuSABUAAIAmKmEFqAAAADQRoQpQAQAA9lXtvqJni1L3DFDP9yEAAABs72wTyHYmSQIAAEiFd2cL8c6sq5dsFKACAADQU+9qwJ4BqmscF6JeGwCAqp1RHdIjdbWCuX+V2uVUgosNwLNn0O34egDg7gSoZNHFhNsLvf/kHRJCP0h9LF6wYObLw9oD1WtBhzcAiAhXbNdZH+AiQvERPnF+KV2uW9FKV7hEVx7NhvxTXMFLAUgpuD7apvNVJIYrtnu6TwGA5aRmXjJ0ZYBaGAnHW+kKl8iPgrvS5Gtpxvmdb+7u02kDyGDUSJ1dXiFKVeILQOE0/4/a3V36CfufCGPn2v0ua4f89YdRLXVX1sTf/+q7AXD2LKrbzACwbBD5dF/M/jd/qnvnJrvMyQNXNPJZ86eV3BPwkQFgWPEyE1wCl+Ygd6BQbW8r8QUgxyBFl1dVOszq9SpY5xcYFtJm1gR3JWNFpxuWV0hc8FYSS2a89KMk7/q+o7pTL3BNhjPc5lqADCoAB8qOT1d1Q8Z515B7jp1/VXxTNu4nTVcXli9fP0Pt3vuWXwBgA7mlTNsToAJw9nLi8es/RbzrpxvOa2lLnxUWzBD8ebm8AgBb+YtOK4WoewaozpUA17QipvtNBi6NLB09+XdyLG5oGJNWu/77xR7rus9mFy1XuE0A0OCZRQYVgLZuD/C5pU1pePlXEpu7UKvx3DAfOhuhRqfuVeML0CAH52wCVABWKY43dz+L/444DbvEpsPJfsNO7+TbkLnVkBuAEwq1GnYfVAD2PWetilC7o06le95A9JuTe417owOwl5NdQwy73iR8ngAVgHzh6yzk7EvCqprg4Yblvvhx4l0dn+bfp7U0nh+uubx/UKtHAbA3h7fDdL9nr0pXSpX4AlBuxeRDOee5UWz2s6vwK9LshjMLP+YUXtejWl5KjhWA6xGgAtCOUYR6SAiWFUA+XlO2PZ/Znva86i+hANA+lxTzCVABaMgoWmznjN7brszy4985m6YLzy8AQJrD5JGq3ahNgArA7vf1LDG8W2puQ8W3pLkM/TWA9p3yHNVdL0B1zgS4rPxDfLdmQqUjT4phv9efskMCAL9MkgRA8z6RY9Fp63epwjxqeTtdV5ZHfadqC95K4UvDaDYmAL7gqt9RHrPd/9ThNjMAlOhWnbG6Q+4DekjXJZS01Ltvjn4VwH2d7CTQ/f2PDCoAp7DjSbafaVzdzGK2MnyTF819rZQpwNZOfGQ9V3wanRTiMDKoABxkMff4VxX77ckwlKyj4PJw/6X5639t0umungNwZ6Fe0zKoABRaGWk9B2TmvWy10NJ5uFt/E9WvGwW4nPMe386T+w21N0CACsDKbsGOk9/OtltNV7xN79cdE6E20KsA2JPD3P4aOOsKUAFYl//M7Cg857AN2ae+sLYf0m8m5+WJf28iusJ9ppfSYQNoXQNhX4kQQsW7i+85BvVkHwQAy0FQ6B3cw/KI0ti/lxvr8uPZUFY/PGnnNbJ04xGiq4LGx7YMN2Rus+Lb7uQLXJYDXNMT9p8hg+qubwD37SIkzgFd2WS+ufFpid6tX3otZKypK+0hfTNdcM7tbIbb7qQLwEZq3WJm9xJfFzkArulV+bPxcX68ukMKjPZo45vz+t9UxpnXeD8R6u//DR4CuJ7TXog7X94uVNzZe7bsJAlwJf3q3swFRjKWL7yXy8o07ShB28+kZixWMCy018DismGDAajOvMBVZZSVNOx0dxoLV237bB8EAC2clst6IeHAE8/aSHYcsM4ttDqgd94Friz3AMzpY1QBKgDsHZTndKzWJJyPjc8BzlTGw0lD1H2b9S0CgFxZlcCpxZxygWs7XZXsRYSLtehrBAAl9MAAYhbubMZ1AtRdZ/EFAIrofwEknG4q3AsIFXa6ABUAAGjfaSPUk254qHN7HAEqAADAXk4an9byb9e1G0kDAABsQWhxi6h63wyqLxEAAHBn3RmDou6iAap0NgAAwNl0tRqWQQUAANp23rhCyq6QSZIAAIC2nTjMqzMX7nkrk3cNUM97oQMAAOCeI1D/hCvO4gsAAHBn54xQQ62GBagAAEDzzhnnnVSo1/SuJb4nLbcGAABa0oktDnbRWXwBAAC2IEK9xchZJb4AAAD8hHfitN7VgF1bVicOAABsErUILo5ULUJV4gsAAEA/NjUGFQAAgNq68PMTZFABAACorqtZTy1ABQAAoKfeJEkCVAAAAPqqpVDdZgYAAIB+9tQYVAAAACoLde/oI0AFAADa5h6oR+pq7u9dU7e+RwAAwDZhi+jiSLVqfGVQaXsaLwAA0Bs9fE/XuhwgQCWHy1UAANTtjeqR3uKCgFl8AQAA+NU9olP3QQUAAODecyQJUAEAAHZx0rGzoWLbAlQAAKBtdatOOZAAFQAAYA9nndipu2aAetaPAwAA4MY3nO2qbYAMKgAA0D7pr8P2skmSAAAAUgSnhzJJEk0zHh0AgOp0Sm+xr3dt2oUOAADge0FwcZMQVQYVgHsJLsEDwIJqlwMEqADcSlAkBnBOjt5HXbENNfe1ABWAO/k75erjAJyMA/dBWdLHjg7ugwoAR9DDAeA4bZ91usRjNcPTn59/NRvnNILLDcCVOKQB8HP3+HSOWXxpXd3rKMAdfU5Q3eypq+zw9FjWIQ3gbH6P347eBwldxQhVBpUsDgfAsULyElk44gLauBEHQQDuo/sJndvMAMDb8LS43UkyM4EarlOkBQDlLjpJEheibwZU0HXd9Bh0xDlz0oYMKkBdOqO3IUAli74ZUOfIE4tQu273g1I3PO45BgJwJyF5i9QD2t5z5U7oAHw7F0aYOaWEwpNN2RRJr1OksxlAdaUHfE6bsZZBBeDUirsr+jcA5+PYfazXGJsKBKjkUPUPHKvb5di07limUwTArYSKBb5uMwNAkz5R4XYT3bvWBgDLup3u4VY/g+qa83X4LIFq0mGlAUkAt3HKa4yn3OgHt5kBgGOIaAGgXQJUrn79B7h0WFk8hS8AZ3TKq4un3OjqBKhk8fMCKim7MwwAsEJo5qquABWA5qVvgrrNqgA4A6UwO+rP3BvcBxUAdp4iqfxcK5YF4CbC8M6nNS8FCFABOGOBr8voALCVQXha9wqtABWAZhmACgDHq3nmFaAC0Kqw/boEuwCQHn4azageSoAKQKPmYkq5VQDYRjQarXaKFaAC0LRNz5AiWgCYU32Oh3+1NwAAfkqTpOEW52gAOFz4O/W6DyoADCjiBYDDVRx9+iBABeCs8WnxXVBrn3QB+Iaj+CHqJlAFqACcz8rzpp4NwFkZdXF4lW+tk6YAFYBWeyLdxgnUQuJZgGY4JB8o/IWnta4JCFABOGdv5KjOiqv2AI1wQD7wxqjVLgmYxReARvsgf6fHV2+kO7zC991KzdM0ABztcdLrKl0PEKAC0Jx+bPj61zcxYvh2CTEqQAMciY+kxBcAspiRFwB2FerVUwtQAWhON/tQty4+7b55cfXbwgFgDOpxuot+ys7mADRAyhXgEodyB/I7XA0wBhUAAIAmktVKfAEAAGiillqACsDVrRy0CgDnFtYtVusOM3+U+AJweYJTAO6o+2a8b6UoVQYVAABo21+wZBbfY3RVp64XoAIAAFxYOE8CVYAKAAA0zmwCX/nqVuAHE6ACAADwFt73ED8+WjVJEgAAwN2Fd+40vOp7ayRTdy0tloS/iuDDBACgIv3Ro/d2rTGoAlQAAKBxz5l7OELoKs6YvOcYVN8gAABgI24zc3y17/FMkgQAAMBHCNUiVAEqAABwAgo0D9J1jxrfKjtcgAoAAHBRYWVldFeppnrPAFWROAAAwOl01Vp2H1QAAICL6k6WbVTiCwAAQBNkUAEAAGhisKYMKgAAcAKmuDmO+6ACAABw89hfgAoAAHBn3eTvrlYOVYAKAABwXeHnRP67ZOEyAAAAq+Myt5kBAAC4glPlLNt6BwJUAACgcYoz7xJh7xmgnv+6AQAAQCGBUKP7znUOAABgo7BFeHGDIPvfjuv2BQIAADiT0FVNACvxBQAAuK8w+bNiqtEkSQAAAPfN1HXDv7qqlbACVAAAgBtHqBMVk6gCVAAAAJqIsQWo3OASEAAA53eeOVjrFsmeu/O/5yy+XET4ncur9kYAAACXz03t27yoBgAA+Jr7oN6ldHLXEl/fIAAAYBuiiwOCz672fjYGFQAAOIHqyb2z6zZ70UkD1NrvDQAAgBNFcTKoAAAAGzp3rjdUbd0svgAAADQRW8ugAgAAJ3CeEYTn2dJJTNrVvpGrABUAAOC2uvFfVePr/66cHgYAAK5CeHHMju1+ulBvX8ugAgAA3FL4jUS7Xogafv8KFXOoAlQAAIBb6p5jTj8P1E5Um8UXAAA4gXNNPXReoeqO3jM+9g0CAAC2ClvEFwf6q/2tkE1V4gsAAMCk+LdGta8AFQAA4ObCY8Kk6oxBBQAAuLluUEHtNjMAAADU0ETudP8AtaG3CQAAcG8h9UdD00/JoAIAANxAN3nkb9zpJLEYwvP+qBcLUBuKwwEAABhHa48INfRnSKpaCWuSJAAAgFvq/m53+vfP0E8wmiQJAACAYz1rebvBJL71CnwFqAAAADcW/sp7fyPUZ9709x+XHIMKAABAK8LkgZDKl9aKUPcsLjZJEgAAsIXPWEk2F2J7ttIwVPdBBQAAuJMQJlMlDe+ROpjV91Bm8QUAABon97VnRvr9RzSVeixjUAEAAO6kS0zV29WfxnfPDGr98BsAAIDZUG0UuFWcw1cGFQAAgJ9+wW+9kmoBKgAA0DjFmTeJTwWoAAAA9xUe4eh4Jt9KBKgAAAB3FX7/X3gkqV/T+VZMWO8ZJMvDAwAAW4Ut4ovvpG4i84xOR7MjVUqnyqACAADcRhj//Y5Kn3eX+RuFWqvcV4BKjhbK0QEAuDd90u88A9FXLe/n4fFtT98p1QoEqORQTgEAQG36pEftSrP4AgAAcITl+LNaha8AFQAA4D7C36S9rWaqBagAAAB30i09Xy9G/VetZVjjcbXH+AMAAFgn1Zd+3WUm/ISuM4sv5DODGwDArchPHHA72a57v6DeGFQZVE7IAQoAALbvRr/vRFMtQN2zYVEEAACwe+qPr7xKewd/1YpQBagAAEDrfuMW8cVBwk+1IajGoAIAANBTLz4VoAIAAK0zR+aRaqaqBagAAAA0QYAKAAA0zvDTu+xyASoAANA4Jb532eUCVAAAAJrIWAtQAQCAxinxvcsOF6ACAADQhH+1NwAAAGCeMah32d07BqjS8AAAACcTajauxJcMrlgBAFCdTulhLjlJku/PdciGAwBQnU7pMbq//6vEGFTguh7XyZzMAOAagpP6MWruZwEqcFlhWs7hvAYA0LAdS3z1A4G6IkehEIw+AABo1o5dNQEq0Mwhruv94eB0JX+fqo8U4Poc8I/e212li/pKfIELex1anc8uSj6835GovREAu6oVLt1XqNSuWXyBK+sm/8sFnfZ8E7apOX+s5LR7gTPztQM2J4MK3I0ZAGlqEq9u/xAhuD7DPsSnHMn37UhdxR0uQAVuo05xkOLLHV2i3uvbCDUcFAdvwACyy/FpcrgmDmb3EKq1LEAF2PNGqqeLoATUh0fXTXe3thvGfYq3Wyz4tcCx/ORucA1YgArc2bT33Zvrd7sO9dIaGuqyh8a2J+v0eZrN3dUue+F0F1gOLm8ON6+fdj0LLir8dDKoADtKxVvvY++ni9l/qLCR53+7VH3ldCsej/y+ZJM+biKXkwzCX48UNb5BUpltL04vBOmXKINe7+/ntdv3taX66Rqes3Pd9e0DOxGgAjfwiQT7Pfmwy0DAeLg3jkLD5ArlcAMKCit7b2PaU/w8+Vn/u8VP6+MFE3uj9yY3Kfm8e792qwh1k7Uk1n3v8HZBOCobeUChQPI61cwFLF8OuJAw+KV3m8wxv9aebd+95wE0oB/oTROHA13yqLh4NJssNM7HLj/RbyUUtB1/F9EnU288umGP2DVjbSv1Vvb9GN+ZNYSZe+HWLw8+6D69X73R7XLm8SKDPYXnJZi9Wuz9XLZaWVf2Y9noKs/CjyTxBj/bpcPHMZTwzNm0lKPy5ScBKnBp7z7xpCuZHTxmHMvenbjwRYCaeG5p+GpyPcl3MtN4KtL+PDd5j6vMvMeS6Hy6Vavi87x3kgoFei1POk9LAcxBAepXJeQb9giPervjZveu8N2mQD+5qvRPYrPPJvmjXrVZsBcB6mH+Lu6aJAkgx1wAlbfgMEhLZ01L1v45Z76O5s8u8eTg/lph7Kg/Fz5m+ARIIbWmbzrqnx32Cga/WNvMe1xXd/2pPY5Fh4OnIm0vNvMuhH6KNRIppp4tvk5cUVi6HnF8z2zDHkqlzk537hbSO22z3Vm+otMV9956Kqur8Ukeofs7YFe7FaoAFTiPWGxRdK4a5xa7Qb95ElUWx6eTLvjgz262q74yqoxVsI4WGc/Elw4T0vH/oJVv44zPyobxfCSoLO6KLC0Rtgj7FhqJhsKxNkav6L8slij4fWxUsbpQKf3c0LBraeZtZwjaZRLpdA5z8uz2/cbiC0Jn8fhtCWxg3WXv4wlQgbvYfRzao5V4enHS+GwYvJDYTawonZgdhaj9a6Jdcl2Zba7WzzjH4uC1bUzC82EYt83pdj4o+3v2HWJOrzk8nxlmiyMvST3y7mkPHowWYUYv6kTWlBYyOv6p+Di68itFCRu/l+RFjKb22YpBEDX1Cxka31QWmbXtYEp8IUuD52pqm+1zZKaK4ie9btcT6MzkPeu/4cOMbRinbRebei+fswlre3vpn/EXedrUpd4uHcTnNxB55evNR1cyHI+auGbxfiJrX+du6vJC8crntMdWxn9Jc0XMr3zvTEqwNGG35gsX3YQGdWftq7e+c5vYSXAeoYnftACVE3GeISbvWLrfEXdaFpseX5rhs/QXX/hXsfLngcIVdEf9+CKTBQ8H6maeK/txaH+R2ZGfqXv8LDTzjL3mItS5uu/eM8/Yb7nxVOH3TIgSloO9VOC8uC3xJfoh6iByTX4K46bj12w+60pf0zlDh2t7k0tQq1eU/JgiRczpmmPYW7jnT/1QvyfG1JCjSwSoviTsxXfrtspDv0Sacv6oW5DYytyOFeNk5yqA8y2dXspHeG6gl5L7m3Npg7WvKCWdpFbXfiUyxixPA9FpdDvclFhMG8sSJ8cIDTY4JALn4bDXcr3gZb4QOCNCTYa0333n5kqcM9/3oCoh8mi0tLqwjZW6/VfVbXN8rKeNPDOH8FmvEDk8v04cNX/kMqicyHNCMW7snfVp7ouw9Qb1skbdhU/X8RLQQVi13TlyuKZv1jvM7UbnqRo+0uskJwds5nWkM7vboWShr2q1+6F2bP7i+RZSS8wX7q9IOceeynvfw0sFkcTCZDWDJ0sqmZs7rF3iVDyeJA7oafS3vGOAepYjLSfiO8Uh34I13ZkNw6itVrR7fLrRW57O0/PYmZts/WIKedUFj7Y6vLERss9ntm3nvd6lb/unjDhkripVw7zy15j51Iopor6oxx49H0nGRn4KqWU2tJBRjkSjZzsVS6Leh9hjM6HuT0cGFaCl8+J0SOuKlQwKP7eL9lZvz3gV43TZXAn2FRPI38TDsVG7pauKZXazFhlEnLHq2f52dXNzSA1vp9uPv6JBcEYd8WTDYuXP76Rv2ar6j0xrw0ep+dcmj1K1yVB3eVWRp+eiypnq48+lg5LS6vgE0anmGyRChfzuyvsgV/N3I0AF2Lbv89UxvR8NbDPgs7/y73uT3Yn6i+FindV3SXHpAvuID33d4CsWNsl3d/NFyXnjb/th2EzVdH8tn+g4Oo44sVSh2eBxEHJGk7fpmas+C8ymmufKpItrEuZG885NsZVe1TmiZqily3q67qlSgApc2btCbnhA7mayNKub2q5XtMXp4VxdtWiKabP06daD0L5e21f1q0dbGsA6fPH4oZIv8fB7H/tBZY1+nAyNjW9rwZZNk6ZLadjJEjONpbOxky9uzu8h2VLeMN/SGubEdzk/zR8LtsefWuGaMkq3OamSud1ZqYn9K0AFLmzuQn/8dYMHvzhKfzPtzBf6GZJjlWQ6Fuaw3/Tk+CxN3WF/bLeZy/eMOYtIOXnvlgXjF4fSQbW/dwZaFIqeKeiKTTcr/Q5m/pq23YWsXZFYzXxVcCIlOmPxuBct0F+9byfR7to1TS9FtNDLhvPp/n5zoat6SvqvYtsAx4kkesa5nsljIevw/F7umfhZbHw/xWnTkPn4Z+jbw+O/vdf/XdbOH9f32tANM9ijNaR3xfcf0MyI2YS8QGYzlboVw49z6eGcr9u4Rv2njt6Xaekru+qT7tL76BXDdoNXdFtE5/N7s6yJ+LqWP6/xMSP3gJTl/Bd8iHPpYf9v/d/VwOFh51gyqMB1xUvRfgZTtLz/lTX2aqm9xH1X3yWskTlIFmdEzSxvmy3YG5c0L49FGz06upSa6Fbmp6NGO7ZrvCRp9t1n30y15IlNr10f0VPvNt+qxNQ8Wfm9jb8Pr02d/K5Tr+/SH+h8bXCmVKax9/y3rSSa6DfwOoh2a7+uvX3yOkSlXrn0iX7eurj0vromilOr6rZdXb1fkwAVuK5BV2V83H6PQ40/va6Z5MrGEWI/T5to/R315W3bZ4V/iZ7P0sMXTXuu8fWH7rfGp7TpAn/rjmdjVnwWiWW2Pln39t78qh/7P3bXzN6Keh38/NbXGkzks+V+2btHuDjnc6nwRduLTS+GR/3RqV99DnMBZLc27hy/Ni/v+tWNdONDfFf6O/bJnd7X7ePTbf1W+da64qPEF7jD2SpWqTIomesKh4/NvqjLGH4W//OZl/gtfOsX0OZsxKjJsszvaOHHRvzV4ubW7a4wWfe4WPpVT5y1svf/JJ+N5UFXJD+n0ebCVkXWkVuBvHLnj+PiZ7d9obGj5X5FJ7/dA7d6bdNzl8Zyntk20ft5LKNiL6uo71V5PH5gWo1cuq7B4r1/L+z5v6cr1iPCOYT8k+qgKuxSGVSJdqC2hZFf0TChV7yW3YWOhniTpwoM5icoOJj2e4yRltcfliNpiU/4/6kYXtfAa6lo3jd/ldNK408F99Ki3ZdF3AubVKyfcv++izD+qL6dvnrn8/sgRx3ecccePaXSN5KsN3ivcHwxpF5X6O+7//nop09//pna3PyvXuEPY7Fw/rWuVV/+LTLUNGlQmsLaM3neHhxeKD+YEl/gxuYr4YpWlOyexYPXyD0rxo8X9szmW069ZvLw8l0oZ1e1yua9jd6guJl85+Acndvlmdb3fqLzki9Uv1p4OI3vsPZ5eIvNd465n+pOv4X0m+pPvfptxeykgGBSzz7Z1JLV92a7/a63FFv4+5LdpSXWXOTaTDSYjvw1yLXX8d3ltERFCrD+h7X1DdqKCFABtlBax9fNnxKSRZklrfwFOulyv8SKBqekvExbWed6JtCdnhCz+/eRFS+sa2VnfBxpDv94J4OHT0wvTWQWBg+WmUbXkYLg/p4Y3GTk75+JwckzFl+Y/sJ89T3pvkmYzC1RWP0+Tt/GVx1/tOAXs0VPcH7/LrfQfZ+q7F9qyTR97WPx12WJ/HWJS7mnsNeVpYpTjglQAdrSVV7ZTDb4Z6MIdaaFmfg43fKoRHj4Z6rmehivlQTCua8MX+Woc7Yj9vphVXAYd2LGbaz+ui1fXe9NBTXY3FRvKjmnVLUeVeilt+c3q/Q60GP13YEdUNEbXFXYotvwNzPiTysEqAB8H9V+W4+8Oj6ey/FmZLVKS7lLM879+Pn9cMZo3uFTXxeapl+Xub5RxnZ2bOwnOn7XMQ/7PYP65mlT0w2L5YuztrfwqZzXLy3dQLns4fHpZm91TdV93tq4EB/syHZzYLdDgApwBQ1d+fxWd6XNTcbI8RGrf89EH8/OLKcGbE6Lj4t2dKxYPJWNzaoj/rzmPSFY+uWFefXoXhzFzc/Vdpv8tmJ7p7wQIe3rlQw2JrSQ0e0Zryxs0uTJjiPc8my3ke56O1aACnBqbVTutbEV1x60HEnNdXMRUrTCeb7pUqnpqycX9BeazJ7Pq2Cb/vpag6Li9y4MhbdVjVZST/5OFS5vscO/7TiOJm7a7+e6ZkO37RQ31MXmUoMi7yB0zQSsAlSAS8jpaO/Y+D06h1UvMHebj4Esb/YV433SsfEbMsUzvoNbkQyG/yZHxq4IXWfysZvdsCc5+DfTZDRuag6mXp65YO0rc8zl3+8DhgsXHluufgiCDSR+6ZNHzeILwImjp0c8ct2+4cIUrncyTdTOvG48nDQ9YLiX7hw+NRyumrX7V0wWvMmrk1+O8b2CRts3/LO3zyZzNHe5gWYvkI4s0897RxrvMhoZ/P11evf2vyo4VJf7MrP40jRnDziDqr9TBwk2iP4SAVLhtys90VZp7XH5q+enforGekWbEFvhbOZjervfflZ2NhUcK4Ue7MFUMF2qPwlWr2x9mGmf83lRb+Mdk67KJ3uDkmoBKsCpOVdzHd3e6ym7jdHi3WwTjfbHBv/979a/0ukI2EeldCpO7E8QldnjnLxsGPHF76E0XiT3fce3aX2MGbaqYaYxhqAeK1SLUAWoZHBEB27NzByX8Un35ZULpx6fRHrZJ8ov5n96/SOs/6ZmfJOTGdHozYV6yc/nP3qvmA8Ioxs7rGv+7OXcaDUSu4/+0qWBXNVOfee4MRYAVKdqkAXjUbfpe830YrdpV2zpexabACr+XKxct/9cahKqaPcw8lzsocjzCdF3nlpX6arG68pdEyf6gbGhwWD56NHhQDKoAJBFt4jNjCeCKlt4ZnLjXljWb6P/WC+DPAhgY6+PtPF5bma25ckWxJ+O5GMHkz1/wc/1ghSz7KipX4wMKgDAFsax1Uax1kZKb1YzmO53ev+b5JjUklmXIynSfrCcNdZ1sqb362VQrya/PJ8S02r88Hc1oNoVAQEqAMAmhvFWW/HpORUNG53OaFxeP03DlPgeqWa6WoAKALCNueGhVFJ2I10aZpqrm0SoxqACAGxjVBKnL90CnwKs4T6oANRgRA9sKn/iWYBWhaopVCW+APcVme0T+JKhp7ALY1CPU3fCZAEqwG1voFkwQyYAVCVAvUuEqsQX4IijfIMh6qqzz3SWTACgsvDV2Xlyp5nJbYqPJIMKcOkJJJNXnAfH/9xtu8n1azNFArTHsfkQz2DVLL4AbC/M3oV7/Qqna7uSW7zJAzVYPABAu/GpABXgskL2M90ZJk04WnaEaqqp89W3AxBXPz79+W/HdTsfXci9uqVwjWPi5vHpPZSWZIf3Ag6UE3YJAKWMQQW46qiZ/hG+Sx75C7bsFqnCwgA1tZMZ7Bu7BvjaTWZBaELdy4tKfAH2VutsmpiDb3V8unqJU+nKbmL5evk9lFxrEboDnFVXNUSVQQW4tEi4NRuBmSSx1H3uJluUQV81SzRAmgzqgdwHFeDkp6/X3UHLkm+1zG3erfKBV7jO3CrxKbC1v4oVx5NDKPEF2GCIYP9gGrupSjpfmDrdJW7N8nuG7D7PhcX23a/k6u5V5pthtD/8AADOeDEgVGpdiS9wibzM3Ly0yRLMwifiYzejh9HIk90mUw6lMsTpQDuV1I2vaesU8C2mVTpL5vywNyp7SlXqQK9LBvVIod7FVwEqcIHMzPRQloxdu4VedDLSnbQxF6F2GdPElM4hM9Prn5t4NhZSpOPmmdRX6e1Xvp3F9VU2fWxXdV2oKUCNvCjjlbC9m1wVu6e5mic2Fa7bvC8QsLFUkDgToObGlekbU6eeKQxQkyFi5NmpuRB8Pl+VniQp8vrMvTUTbH9xO5tBv7Jk5qHF9PGaeX3Ssf4BiefLZFCvv0eoIn3hyb2Nrk0G9eDfWK041RhU4Dz6gchgyOdCtJpaVT/4TA1STQ8hfT0+miOnG/177k4vvefnB6rmnyPS7yNr4a8Xmw7OnT6ztLqyd/DagfPJ88l+ibw+zG7F/CDn7ZR/goeHx0stHbYl22TZOZ3kkcpo8DswrcMRHt2Tar8oASpwTo/rerET1eCK3/zRdbL08tXCbjYeWNqc4VZ12Rcou2l28f3WywPBfpMbnOrDXHzVS4fu06sI3z71CXLmPopwTA/p8dE+N6dgkcc/upsFfX9Xls6ysWzn9Z0fffiiU7gKASpwGrndj24avH3CytiqooHJ6MHHnwshZVlfueTVzzYHBbSD2uOiQDB1Y5TJO3uvabwD+9sx8/Aw8lvYsFfrw51cXPucitz78Vsi3Ex/spMndomLQvqNDN5UaoR1yUYl6qJfEXJX+BOsMTRMPEKf78NduCi1k/EZJFScoX7PANVlTWBL40Rd6gXd5PyVCitHl9+7YZCULN1dF5+mgorC6G3878Ha81b1fP3ciafLX2R6DeCv+YxLANMWBmNA06PMUtsbuQYRL/ue/QTrdXPjLT8/06xLEIuf/EzQPnw6ko5d3onDayZLgwS/7SOIR+hZOr4DC6bjYOodZf+r1jLAKr/HzBDmijE/Tw6ClGcMN1zV4L8f09dOl9rMV/2oaBi3ehMHu6rk6e4vul9acd52lWx95BOOrSQehv1tdOFlhvgyW+qGbUQz/8Nv+O8Sz2WKP/lBPfxMlUHeqie/y0iC+7PtsSfnf9uQddVv9CTX4hCxu/oHYiW+wNlEeiJ5wzAT9YxfNV3H+A1/KnGLt7D7MhqOPPR1GrL38RUWTfeLYaeLj74Wv1nyftJ3cc2P9e1W89Tblb02Zpub1lHnD0R9pduTk4ul57v6QrQk+fmxfcLvnPcwCtZTCd+Sb1Bskc8urlHFTNS0vCI5OAE4IwEqcAGTMZULAceaDvd2nfRVa0oXVB4u3e5vv/GbjerHi6vCgdkte4kOdV1e8zts2ilCzSlpjjXdre3Zv341j89zGJxNc6mTyw6pgcxFQ3k/D0Yj1xnTXG087/x5/PUOEyXG/UXGuyH2XHK7uqyXiaC+sVisAXzhdYq45hhUBwlgQ/Nd8/FhdEX/rzSmPbSLGRKpwtBYhPrlmovPhq+0YaqKN3c1Ja/ZMz7NHJm7fksW9vAwedgrGx6EtNEt630tUrFrLzT8djDtvFjz0/LoSCnAd+0PQu1EHrgsTZx54aLUBsngpVUcPBl00ZB1IEtXL0KVQQXOJt4HSedzVqz1+2Lg0hYXXzzbof+iO79DJFBHdgd1bnTq0oLffsu2NfxOfBetrnpfn+XHQ5BnJ+Hap1A6We85yBBPn4gssVJqAG5iyyLTcEcWeYe70fX09nPmBbbPZa1pCXfyuJeqnx5Eob1f4Kh6/BvTi0/xB7uN7rLE1ShW+Eq1CFWACpzEzGHy0V1JdUNn1zl77pqsbFQsWPftN3Ha3bXcNectjjZgx7zNb0MthaeR+tPtjEPXbv7zztznvXs1Rdvqj0PNHBX8+Gc3G4y9K8aX70j0G+Y8kvIbfo1Sg3lD/3rH8PJHdGTwpFp58PTsFkevREwmXR58PMOW02H2KLSeK9X+fY/ZO7a/obHGxz/1XkFJE4dGOLnQha6rNleSWXyB03t0KENyltWZA2yiJxOWKmxLNzG29CbH/WO7Yl9X8O7QwtppdZOLxUOZ2lMaVvnYc9/zfKVn/4WfKYr79fm9/+Z/nO+lntemxk0+W/qLW1JvZPy77kbtT7dm1TTO6y8ljEculLe9uPZ43ne6y77Mtj9nBQ3pDyPV3OCv+fnbM17E3bhcsdb4yHos90EFrm+vkW5Fq0s/uWL01EIH7CJH36K8XPx+tmnLtwxN1oyef5+l3vy4bDJv8S/Ga+5nFLT2E66T5oeJt2QKtSCpmyd0yVG9/Y1cURuywrvtZML5m6NopLY5mrJNFalEG0mPIh5noD/7+SLHRthV/RBOBhU4i3fX5XEt/nOVPJaR7PJKcucvtSdTna8hVuPnY3m25Uhp6QUZy+1Z7Zm9EXO7br8NC8++6Px4wrDPTUrb8AqsWty46fDBp2obMjw0REQOJEuLJJpMfB6TytTpX5P4dFhIW74pyUc/lSeJQuTUQebz5sLKfGj/SzD8Rqw4jo4XGbV4wJEIrqP7Kal32IMxqMBpjG8VMhoYNdf16M+T0rv95Wclo8Fxw3lVPkPVYrmMSP4u+txnzNTgDpRrupyR7lt/+cydMrP+hdLnyfN5Oeqc99hLKeUmZn7zUMMBjIntevb0V59ym4v+Vhdi1Xsn+/d3XtHP+BpJRlJ97smsL+/0xxwdOz74qsYm3ko39nxb/YWeR5H5DZxvZbrS8dp7bX+WeL2P3ydmG5iWEY9+rV9/LSaZ0mQiuH5qCM6hq3k5R4AKXPFw+U5EJFKLybt1xEOwksvv/Qk9ov2yXvOjssPMG6oMFunfOjS6NZHNGjwzDvNn1tYL68c7eLLA8Imw00kx+tJuo97o0i49sTt00ucuHO31KfZngRocCD4/1kEmdNYo2k39Lkb1AwvbNlhlekOG4ebgr2TQ19/A7qsv40z0noo6389+lrjDl/ymfLI3IEAFTmTSR1scSrf6EuBghs3triS+6lGn3a7lJecX+SQMEpV3vUh0GjinwteZlY0H+fVeFk/hdnt3QtL5klGCvPfM3CqKwom5bdq8PzUICI7oiG/URv/r0UKgv+OWPGcPHrU3mTj38Wh/qf1NN2v0919GdLAphQfA5NWA8vVMs9Lpez3llUgIXCHHX5eh2nFagAqcyeBo+RlVNhPuJWLaSCdnttsyU8A26sn1/j1zaE8vlCP6Bmcrj98P9ir2Ngn9Us1PUh079gpjd0CcblckT9Mbgzd8be81ycxzpH4xlabO6RI/v2Eld3OcRKil0fBCSfRg6/ptrvsspxcvDtTVWD4WoRa9PGPZ8g2bLpF7QBjcOHZ6SIxUOE8a7pfw510B/FtiuMrJq4dfrc/vYpA1buGKCDQjLBw7Kt9ZWIAKnMq7xzEZXJgKREadmVRUO442BzmER8+qH670j93dmt7oJ377JjqdtrI0Em1zc13LlTV/5Qtk9D3n86V/H15yLe9Bw4OFY0Ht8JxemC56tjIJ7T+PJ1Jvz+9l73VF7fZX1d/yvITUBimpva/SR7ZvKTrap2uWWThR0Pgu25m10ui1wqK1Lkeoj6sh5ceOaRCcGCULt9UtPj+sI7tQgKqIAjjwyJJ+IlFk+jz2juPZXinsM1KYhKKJLm/qoVSYtu4gGUkWRoPzsrlX3q+In4/muvDRaWCG27Db6WBmu2YKAYueWLzKPH1gVBad/e6jcXC8qek0VbmN9JaPLBONuvuB9yPNm1EtPUkez2zhPp2gFd+6vb6o/Z0Xe/pzoWHPrYg4pPs5vapSchzcJI+Te60FbijED+B/EWo1MqhcgBElbBrTbhBEZra/2coy3kjWE4PM7ijcHcTqo8l508mUFe/9q05karuGH2oqdI9ULU5Xla18keIO9Prc3+RDnkbHwxX9ffzT+ubXk4lC6KUN2PHo3bV28hju8hCba+zzdPZKv3oHy1dkMla/ugQk+eWdpvOd5GE3vdL9QQVQV/EuMwJUrsCpi/vo6rUxjP0mT60fm1iyEdGXJeLQuRLKRN33bFA/HK2aDl3HUUdB/zoeCGdWUQ8az10iJwAJiZLo/sYOQtRBrncUdYxytN/nx1Jr2Db4/H5t0cEJjejFjPlf1R3j+8gg0xZ3G1xW9/zVVQtRBagAbKBiB3JdLWdxPWUiQk+vYE3edRz4JVb0qaIuzb0lRyyP+iIZ64qOyY1s/jBCnzwbz8sWBD+J0K8/d1RXuuJv70+UHs+c+Pf8g9Nny8tVY4UD4xL8zMaf/yys3CjY7dNtVSnFmy/DXgaH4J+qBKgAZ3Cb0VM7j1o9Ohm9qpI1GpAmUtQr30YiNgpFJdH5/m5ckpxa+vOv3jsv74SO5pVOJXj742/TU1E/lxisbHGLxk0Ppr2dLU9I/76HczRPFvz5yvPuyl1zIUL3uW5R7jYHS9hP5asAAlSAE0gN/rsWHcuqQ5nTObF4jrJg/uhkYmzl+N7ZtuLrG9QnrwuDl+/LkHhd6EYVzjnrS0+svLnFvTD3EY1L2FMrK82JR4sJZpfKrPAH5jTRzRCgArRvPPjvmpJjSc/rIiF3V/jw6G2PSkhfycjp4NzvPvfZpUfjYjPXtvLziyVxX4/0x+B+EruLKdRI3XRvdd96rWYSBfcbT48lHm7FeMDo5H698bZHfzyT2ze5NgdNCL9T93Yt/NgEqACwj7UT4+w+xe3O8oYyfv4bPj2iVzSz/N6TU11F87SzoebMIN9tTGt905vy+ednlq30VmV/SfpBczfTxjhiXFxf5IFEPfQ4+pxfdfo1vbcyCJqXNhlY9BiOUf2HtGOAetoTK0BrEjWWF3WZN/ldfHojXfY8PcPFEqHbOBrtRo/1RsP2g+WwrgC6fGOzF0nONj0auFtq1Y1bui3urfja9f1nU5NKDbcyPhR3OHv0INd8mcMIYz7aG+zacIt3CcAJHDZB0kGKJwoeLrfLrli7TScTD137Fay9rO3g+eieyZoiaa5TFS8YjkSco1aGYXWioTVb9klmxrd1JqccfybnzY2eTk37NDMdVGJNsccj0epNvvyXtudYbPKmIj+EEl8AGnHJbsc3b2r72z9+5qu95M5emu1p8O/pa5L7pNumtnl5lHW3dCOYzRO4mTfG7YqXmG+89B2VFh2OA/3uRl9+2MDfVbl6QaoMKgA0ZccM6gUnorqE4rrUFd+RVDY23vr8NyWWi5yLWxP51UTiM5mNzc2tRvLDg3ppX/7TkkE9TN0MqgAVAFqTW1O6asV/nKNb0lzx6Tfjp2ci2pdXnfX0hbHIdXaKqUjwGnu9APUaBKjHefyYK8WpSnwBoDW79cAeNVs6eOwjWSIcDQ+T0yf3nxgWZifHxr6e8t2GrdT7NcmgAgDU0mTZ9fFz4a6aWjhrtaMsa0N7mWI+wsOEmkNQBagAALU0GZ8qBadN0uRH7uaKAep/9ZoGALi1NuPTG9+Ul+Z1bf5U2JIxqAAAlbXa6Z7eLha4tu73f0LNq1M7ZlAd0YAzq3psBu7h1VnSaYI8zs3HiN0r+goZVDdCBs59/is/ihm3BZT5G+fliAE0pqvYthJfgI2uzvYWVBUH5Ola3SiRM9xZuGYGFeCu8SnA2QlO4abC9JbD15nF15ENuJHBwdzxDwBgBfdBBdjivg/v24Y59AHADv7OtM6yh6iaQlXiCzCyorQlNDDpHQDAFqNPu5oxqtvMAGx1/Fo96S8AQAvqT5K2Y4Cq5wWc1hFH5RDcaxUAaE532UmSAO6lJNwUmwJAAefNY7w7KNWiVGNQgbN5TkdU+FRqVd3m4zbqzJPkzqsAwLfCp0tR63YzZvEFTiVEjjFh5dEnzLy+KNRdswFbXp+M7RQAuBaz+B5y0fox/vR5yb0KASpw8puNhpWHn/n7lu4doIY1W9zFN84dWAG4AQHqQV7djFpF1Up8gRMJmRcIly8dvu8L8/jXPgWyg0nwJn8kl4lty2MrP3Pr9bZ5tFOcuwGA9bpXp6OSHVvWR7oOg9to7uLpJ75cl0LtLx+dTb1sNOtwE4aB4yDPG40pJ09EFkm/yeS6AOBKZFBvMh+VDCoZHApo7tT0rDt53Ex6KVpd9LuGr67DvDah/2Mp2pJIrLm8/Gd8SDLuBQAoEbpXfVklbjMDnPPSaS8U7IeWeaFa7OmtD8VzAe9gi3/NvPaZVO3qvRMA4D5C5fYFqMC5jpdh4ejZtXls7hJ/pmPTcSQ+feFnJcmXAACUCXVv1q7EFzib/kHzy1nQf2cU2i0H+az7na0d7uKVwnPrGyxV+yInAHApoXKBrwwqcDpZB83sXGLvGuHmdxPtitfVffkqKVQA4Bv1+xI7Bqgu7AOnOqZEhrJ+s4oLnzkAoA7nwBvsZhlU4H4Hy2is65wHAPBT+RaTB4xBdQ9NYB/dJgeeZg9RiRGpzW4vAOxNYHGIunt5xwDVtJLALjY8qBx4fJqfAAkAACW+AFsaBqHbhKQZawlNzxYPAJxKqNq628xwxt+LtDxnODKHA6qRRnnZ5C1zfu+nAwCwLPx2tusFqTKo5Ggl/SIPRF+IZgZfYeHcku9gLSTWtds3LRyx2mgs6scDwLn9nd6cznb2vIl7zR29YwbVGGZgF8NI8nOJ7y9LGMoSjyFy0Oo99ljl8sHsE+h2qezmO3DuSg+U+a9JJlABAPJv4l6z+7Bn2wJUduDCx63FjliDQ2j/j658Valnlr51IfH68PlzvGFh9NdgkdGGRFY390YSz/vpAHBqBnodqGaAagwqJ+OodGuR63ndyot80VUls5CFwe7o9bMbGM+szi01P560S63FxR0AoH0H3GYG4LADzSfu7Eoj1G67w9n7Llsrrz/GF+vFmr0tGs1i4MgLAHyp6gAhJb7AuWxYshqvBx4dFrOaGZQZp54YPr9QFjx9amYipLl9osQXgGtQ4nuUyvNXCFCBU05+vtWa9j5azYS7icxnXu1xtIi4q/MeAWB/vVka2FH92RUFqAB7WhE7fh4P0XvilB1fXXAG4AoEqLt738/gd4xSvYl8d2zY9wdgrdiURqEz0REAdyVAPU6oep8ZASoAANA4FUF3KfP978r1ywAAwHWIMI7QXTVABQAA4DTC7yWA3yGo3RXvgwoAALAdJb7H7ODRbdYPJYMKAABAE6XUAlQAAIAbC4sPHEeACgAAcGNdxiNHEaByzrHbAADciNGnhwldV3N37zhJki8Re3jNLFZ7OwAA4HJC14WqXW0ZVAAAoHFK6A7SPebwrbe/3WaGk+l+guwpAADs55qTJLnKwT7EpwAAd6MHeJDqQZwSXwAAoHHV46YbCVVbF6ACAADQS1W7zQwAAABtJFCrRagCVAAAoHHGoB7m7zaooVqdrwAVIKbecRkAoKbfCLWaXXtgrnMA2x+xuvE/92lmx/UDAMX2PPXz8LmbY8Xr9AJU4Cz6cWPY7zDTPyw6ipXtN/sLgN0IUI9SuYhMiS9wNv1zkzrcVvx9Ej4OADi78PhPtWsB/3ZctwscwJY64U+zwhVnIAxbnMbUiwNwgorecUlUqHhu/3f0OwbYIELt9jts7rhqjvL6CPvfmBVr+Po01vsqOSXmUy4OcIw2j7Xhnm8bOP/wkz1v0rXjENdLai5NGDu3dce/ocFmdBfbx3vx4wNSjEE9yu811YpX6/fMoP5xzRjgLrnt9g74K0+x25STbxef9tcUeuvq/3t+qe4kWcvPNus+ANx0UNXuASrAjkfPnfqwhruuiQO7doKe/gf4+veagGe7jd8sPv37u/s8GpLtDJ55vfv3pYThNYXZdT0/xq0ixpn1+N0B1Ff9AuH+J4Pa7xC4kOOqe/YsIL6PmtVY45vmFm7IJpMsfb2KwZp6uuT5ux9U5i6THHfdi4NHq1+rf+Fg7snU836RcGtKfA8jgwqw0Qyrhecuo90u7Ddx2l0jIf4JsAdFuyHvq90rmk2++qhfwOwHEY6YtgqAJeFxgql38hSgAmfUnx11nOrJvjtI2OF+Il3uE59H9+5z1xtc+KwbbSWmaGZDvsk65nUX+jnjrB5G/Rg+XaocfX7nLTnpV4XVNjkJwFV0z7NNtVPDzu36uQNbegaj08l81xx7ZksXC8szk8WJk7lXk0WW01XFt2nthnWjzlgifTzTSPyp9Ew88/d4WazX/LKgc/AJpi4SLI2G7L4p2d2qxDcyWnRQupx8ZvidG9br9v9KPjP+0n79XpJflqXw9LByh02aaXbOMO49Q/YlqPE9TNXLlrtmUH1/gE1FZnIJq3Nlw8zraInCA3NYbn6pfjESbw9XM3rbXXGmuT/1a3Ky1OF0semnBitbbnsaIT//N5Yo+8RY2w46jHzE+WmT8nT7F3MzZUpe2x6He71LBYPYKbaC/jOjbf/+neRkgLuz98g+X5WtZpV6/rdwdYbsZqpePUABn9ahlPgCHHv47NXx/a1jEHd8F5/2eqbx0YO5a+ptU7qJ4rWNV9V/5+lIOyMGn2s8tbJBJ7of0oVNO/m9AamTDShOt2ctMh75GS1ZXfPe0tPpzv8WltoaLb1Xv2Thp9BV7iht0Er0otAm61v+ynxe8boEtLwF96htTZczCHhO6A5f2apC93vw6mpGqHsGqL4/wP5HmFGtau7BNNLXW92b/GzANPZ7b1jiMJ/qrz8fH3Ue+5Fb9nZ9mki9w+Hjgw5usjL5m773c7ckt2qHM+JMPek40RRrfRyel5/gBu/yHX1PNi3LTBQX/yN36Gp+Q1vLaOk0Eeq28q8MRX9POXfKDdfvvqWPgK193tCA3xGolX8fMqjAeTynlUs8WbKmLY+6vQA5v3fbCzUj9+zshbT9W14+nxvFjvOb9VjVYAXTkYeRAuPhW+m9x8lowdz3PMgGdwXv5Auf+DozP54oGf+sbW3h7kxckVsyvPiBR8acJprPiwevF6ccEaFuG+IWX48672RgO0ruReEpzFHiC3CgPQKjWJ70789+K4MA7x0p/uVKey9LbVe/JLl06yZjClO5hHdqOjIKMVrxk1m/PIlPjygrnc2GTlPLnz0QWTA9bDPDKH86aGLpe5hONfc3pmS7cuqzO2HOSmvz1THpi0nTZgdfqOxRBdFWL/bZp/aE8BRmDwMVfyICVOA8tj5Y7nbwfffvIsMuF0YKRp8N5b3Ifs821sYwRFzokYbsPPb4ZX//WBpY+H5Bv2vf7dRNHlSEJ2cJGjwRe8OLUWVqapv3zv+8IjuHGlnd+/ESJR/3IfotFn7qkWL96ra60jL8CnVFEeq2gfK5RT+P6WOtfY2gmucIo4oHkR0DVL904JB+X1OjxlJT2IQ1PfVJNW3iiX1EWulFkksv7T87XEdm69ueRabJx8iLtt2t/XLteBurPsfluVmj7Zasv02xt/XKLaff7nc740vdsatp6kjYpNlCf71W+DXowlxykiSAM9mqf7IqHouvacNTQ29dkXzo5OFE8zudqyLFqz/HmGalvqijXtt66ctSs/j+XML8pFmpiaXHjw9HVRck42eSbd/NjFVubbOlXlmSuhV9e3qUSM/tyIv8eGAb47kvjidABU7sWcrWO4yujyt2rSddqdkivdMPUktmoxcraL+LXMOeEeq9pPbJ85JD6a8nY5ziFtNG9UdAr5OzYM6I9v4LevX4P5c1M9Lg0O2ANoXX1dnnn3VDVAEqcFphdMvM7B5WP6DdYiuWnkvMupNju0LN0Y6JTNybXsd0p07uZdGaz64fDnM9fFOzbli79Jqcb1B3zcv1rzGmYf4DTiz5/ne3yTw6X4eovTqG8jVN5lxjPTsThiIjdypesdovQPWzB/Y1Gxl2LRyo+iV6Kw/0fz3i+KLfdpVLll/Y+oI3t/DK3c6H1ZKOm7Xbj9LG76ZroFD0a7HP/lOu+/wdRN74c8e8L//HvkJr49PpC7/Zj8Oi5LyxxH0FhcprNvNv9t/9OqSJWcNqaWQzoFVd1dZlUMmhnowGvQcPNpi+m4sMCjZ3mPv78oeYPU1TtJVJv3XtxuR1gDedH2lh8tO3el+k7stpwmaW6A0xPuFxPP2RTCqzw1yEmhufTo4m/d9w7vdoqZHGRNLTe3xT5nLHkSPlwhzlJVvYqwSJP3vCH8bd6ZQe5JIlvr49wNY+PcTsjuuqA1XYJOJKZK7yUxTvmUu2yGp8O053uSL4HOfD9JtPPrFhUunrNeVsy3fbe9hMORm9hLCub9HbAV3ZL20cog5+w9lXOuYaea3sgB9Szp7Kemibzen9kdgFgzr8zwWV3qfzKSGIb+z0g481PH51vwGgiYtq/1Vsm/Nw4KYF4d2feP/r76/Bfwvzc881hT/jNZYdnkPm72a49pBe6KsgPD7ksr9Ji/3kwU5+7Z2uO+0hZvW5tuCbtWRtbLOi8ZzK3sRqfz/kBo/6izvhm5rYnDl0Ns3r7/NLajRjG8tLZx7fXt/9v6NlYiBy5M+MN59emIY1eGS6sK5e0wJU4CTKuqf5acp+aPp4YPxs5ro+AW4sNsiMBPPPEplnjtS4vvTKwmwsn1dP2nvhlme4/A8jsiF5L0nvnF5H+Vi/73l9q/Gk0dJCS8Mjd9wLk6YThZm9DUl9L9b/RqJP1LlGsf4H1G7IlfhGPz/M1EILx7KZ43hiGxYeoEV/H5ModXex6+dXGYOqxhfY3zCyyi1unHld+SH5vbJ+bjQR8XyC2FcpYf+R2CKRcVlh5VaNIuYuNY3TdGKmfm1jsmP5XnT0XGRqwNEcwr1XzJZRhm9mP31VPXaRtcQGvyVmLh4WajZ2fnz23YZvsYt+yIOnkitLVwE0M6R1xz5U5Cf0hXQ56sbau1XM50dTsktHU7QXB5zPJhNPNLeTKCDC2N1zxEO9o4lJkoAzW3uaih11jz3lrTrsp4LNmOnsUUuzNX12Skik3+ZyWZ8/R8NVoytLB7tprxTm6gh1sLJ+VPz832lwPLqbzvcn61EAnr++Fe/6mEm1Vtv/99ZyJ/aO8VHqhqtzE91l/+RmVpG7s0U90NeFihGqABU4iXGX/rvOxKTTMrO6pZaSs4bOHdrzek3v0W8LwWbOdnXftxIJkKNld4m5p/p7JRFrv6Pa7ss7iy5sSyxPPHz/r6xrv1f9eT5/ExLJ4Olw4NYi1FrWb3X7bzccsj+aS6E+Nmj4lf8cAEfTwJVt/cylns+Oi12gejXdX/icPxjYwWMyyoqVMgJU4FymI9T6XY1nUVhW+PaqCR6+eFD4mr2qRLQ7nE50FJONloo0NEzypQp/Z7YrZ5FBt3FpiybPzYXg8RrZmebHBX3bnRqjHeBUte50mugV1wfGpYnjr0RJMny62oXLKe9GJmni1BJf2PaTKvbllYzpQqub+27FWyqNUA/PlvfLzSel54Oa9F7OdfSLjW10YV1G8socrXMtYW+vE4kSX4AtOz+5S0Zf/LnyXrCmaHbtGYR+ouelLZ3J0X3aKNismYRzbC3DwrvowxlbkBrF2S1t1THnwnRm+TNYdWENW0ZnuYsvp69TeaLIuhYbnSaTR38PtmFNd3G6zJo44ZB+6raN5JacfhE2NRhxhV23fnApLuMwGZrfX8TJdh+p5m3mBagAmxjEov2HV62r7PHirZprORZzJbO9s4N5k5FgopWlbSvp4/7+T6886W/Zd8IkP385jamnFclZt+bs/Ss7Tb2wsvd6Hu+tnzWd7qpxMeOnVCD2THxPRwYOb9pdTHy+g9mestr5Jt7YJFZJ1pQOM9zFMks62nNoNzf9RRHVXITP8Qh1Z8IToAJsZLOD+aZnhUjqNKxofTlmjnT+ZjK4s6nrjfqRw0FvOQ2Nd80gpi5sO/zOMLF0fWDFG+1WpIRmcvXjaDeRMI0+039R9jv5xNWL+fPH96d/laEraffbb9GWebVhVm/lmsP8G84cyJnsdu7XG518pd6XRyKPj7cqdbEl8tLcF3Ba+ZepyJScM7/b83ZiiwSoAGxhvlr6+1XtUYiXU3W9trf0Ow9M9Mm/zvlf9Jq7kdGE7+JlhtQY28nGLISeP9sJqXzgtKL4PQJxsPnTmwD107qJ0ucy/YHj47G8hZ3jjfvRzwL03lrLyiPeiyxdl9laJJ/8za6RB4XtJC5J/x2e8+/dtzkBKkBrdu6AGW+1nbWf1CN6/aqVxVslPWLUrBLmRC+kW3hqs0Allkx7tf4OUR/11JOWw9e/o+F9Y6dh4KAiuqTuLbkBRYNQ029jJm2e6lbOrXLm7sNfxdqD8vjZtx5rxeGKMZcodlf/ZydABbjn+fesJ/mTbvb2ioa+9h6I5mP/UpV/CcLP3V6HJdKfR3th7ziTuYtx3nVhGOewJDl/s1574PlX90V/bWFobmHnb2HXxp/eKvExTiKX79vYnEVdThRf/I1aXGL8oTqWnJRPbm/vK4fVIlUBKsC9zr9HhBS7+D6VQ3qKqnc98iS5+6qqHT/w+Pd3/ZflEaSpBqbzS6aCweVvzGtdkdGOS2nqeJPzrWfPLPVKOD6uCEwCvcRg4cH9hketFH9aqQUS6ey0VHy6gkMAXJ4AFaBBZwseD2O/NLYXc27qsdhsbxzp5KUzc0EnllghGWcXB+DR+YASdzAq+JUnZxuLvbYwGFxxjWH17M3zVcu1Dnv16xkp4jRw/S6IABWAM9CJvLhUh2hQUzx9ZrLwqqRu7q1+F4tIY48s1CSXbFdi0q1h04++ZW6La0uiy8QG9e7cSPbrs6YTgzvpaoeoe57w/dIBSq2Yl3NVE47RbOM6ldeJ395gjp+8lSyEkEU7KzpkuP/MNED9DCAbLxTZgvnIPJ65/X6XjFocNZOYl2vwquFbiU3ENBpwPdjm7Wb+4nJnSFq4LCyDCtCSA868Tu5s50KJ7ZVJ09GrQ3oFf7FT6c/vHXAtbd6n5f7w3UTqeSs5WZalVO5nWq75lw1aTQ6lX15X6jNwYOR+wudWXol7elUiQAUAVlEcOTG/K1btqGRoOuxRPkfyxmezej4yzT8No8N0nfUxMquTp9NZFV4ombuOQMMudEGsDV1ydrnKIaoSXwBgFeXilxcfAFwyaVN8fuTBKiari8WPyfmc44tMZ94aLJCae4u2KfG9yYUAASoAsIre4l2tz51/0jK90uXplY7I7FDxLutodcPHZ24T1H/KV/g0HHL21y+hr0aACgCssue8r/zcvbh7/PUaJlonX77UfFKhX9EbuY+sb/CJCFAP8/cDqxapClABDrHTjRUADqe4mxquM2l4212U0BvUHq42SZKvD8DT3xFeiApcQv0KQG6s8gSzF9XFR55X+q2bxRdgbzpzwIWYvRkurHtcAqjZdflvv1XrkQH8HgzDlZoB7k58SiW+cnuZTmtdt+ZLBhVgVweFp9VPJ8CtONzAZXSDyum/3kTVi94CVIA9hSNuTCh5ChxKeEo1vnzX360CVIDdxG7Mt8kqh3NEiE+Bm3Zkgev9xnccgwpwc9sHjgaaAnBrzoM7+7sE3lUNUgWoAPsYB5P7He27Vq55AsC+nOp2Dvi7+ntaiS/AFiYzFO1Q3pv0N52Bc/ZNPb9pXZPbVbhVDXyN12w2wGl1v/8Tusn9ZbuKueo9W3Z8B+4cIoRdjoStRiNUP4k39p0o/6bu84sp4wYq0LAWDhL32bPhpx4ZVOAGxtcFD7FPm11slqR2NZARu7Jwxk1LdTGfS+z/1Z7JkTa8Q4Gns5z/zrQru8b2qwAVuLZnPLfrNVe92rm7szZ0yvv6zVzlvdTS+6XU+17MXOL5bN9lvrYASd3jUPe4lNzSUW/HALWltwlcRig6yPQ7xEVHpVSSZbb5KiFM2Q7ZUapLf42ufpuJ67+L3j9Neqb6y++HtPcuTm1Eo/tRVSPwrfSp6/FEqrNTbxTqju06lgL7HrPSRXpd4hDXfRfzDVfXLc+A93m626m3mrFD5la10Wa9t+KIUbhVtDw0sdVtm16vmf+2HvR1SeyuIyc1u8bnCxWYxOw4vz2EahfulPgCJxIWJ2MZJLp6Pd6SBFgq7Tpq/bWy6Ub1mglzseCaCY9WnC7izYRo6fPcHkrE7f0tGqxv3ZjCRLC7Wx9H5e5eulRWNfv1x1l5KQuooLVSlssKl2zatwfYWDTJMcgvDKKbQUYmOw2R6qpOD5fJADWxzPLrCzYs1kRy3pn+0+l8b2x/pdLE0xB8bsOimxeNRNdkhHvLFJZ9x5aLrm0uvbY2wbVZJuBkGbbamxu7XtNu+rRaDf/zWtO+o/eh1IXqclq/BBDqbsF+q/btAXbr2IaMAHXUEc1MV/ZPf9N/5wWcsxXG0cNucdgcjRwTRZOL7c/syMVi6TVxe3a0Wx64dytPe7OXFOaC7UTri1FF5AWT4vTCAP0kZ901dQNbb8FseW9r+7HG59tyxP4meL4jAeoxKejX3EnVKPEFziXvxLT66t/i2S9jTMYkZ/v9QT6seathw5PVu61XbXCXjHAX1/bax2GxWDqnkCtsWfqVqOKOvDC6ya/IZ1T1/Hyzifh80BF4rGFdcXRkK3/qdeYaHirWxUuP29zY+HRTOwvth4IlgzaAwr7B34mo68L8uIwdCVCBk0gdJgfHz/TB9D0YtKBH81jbYIluGhG+24yvubfE35qim7iwVUup3Oi7TuyK14sHYVGiyz5+cPpU3s7vLd37KxG5l124nXSllz7fmXfWC+iep+Xk2lLx+d8CqQsG6dxy/1U/2whF4cUgDz8NiGIJ4X7CN/UNnfk0hk9F672P03aY08TWtRUKTi5uAdkyo85qwekvASpwDplHyukRdZtD7KgIcNA5nz2Kj6LbSUC72xkg2Uo/XdTf9OHbSIahM+93sFt6rxr2IRPNr6vd6i2Tm3ZczGj/XUYYXJ2YvONIfLq0xtEmF+Vp98wFT179vpQTrXAeRtmjlPG0lfJpyQQcjfLJwFV02a8MFwxQHcuA7XXfXvPLT1VGD82fedeXtyQy2C1/S6Zb9Y2sK6GxF/WP5IPdMjjEv97n857fo9XGmho2mcrgFp1G8q/2pmLn2Ac7jVDjmcV+vv1zCWLmqzJKxH9/rXptFLyY8p0toh6mjDcoBU3eTje+I8uuaswXOzD9Nla8zQRQV80UqgwqQFH2qeSIPVfTWdxH7jY60cQSpZFEYWqJ+Pv/jUxG0Uni3Jbef8PmC65yrt4zX34G8crqz2teadhk57+feIyNJd4gjiq7NBELR14h4Gsw0mIQumlMM/7uxX+L0+g1UjM8n6dNXIL4YnuHdRafpstuPxwS69lXbyDA++NsKe1QtfYQriV0Df7QBKjAjazvYUVKhzNXVrsn9Z6DZ3l7Y9HU/NPjpYfjdVe99fcqsvbvln3mNSXG8WD/k/99RSOj0L9b2kPbvK/kmOfJC0cv6sYf51+g8n7V+y2OF3+9r8JvfXrg7tzPbuY6Uj8Wje7NcZA4jIN7Q2v715gWPpTxtj4y6pOQ+vH/EqF27MHJesqrC64XDcrs3tS3R2kiZqYKqPf73zFA9fUB9pUZIhYcjMLWR7NNjuzhoMXXtDM+d2VO4Zv1iu7YfT3KE210Uo6FooWDVr/dgvx3Ers2kFWHPKllLu/TFE+8HQpCxeKv0vuqQn9V61KIk9ByurZRsULWeOHR8N9YZKsbBnyr0qUgGVRO7q/8yWn4DmYm7RnYvkzyNbxy0tLMUNWFJ6pY1b1enMZ2EqGW7fG5QCb3p73xRPjhqJugp8O971vY+KAY+bQjW/99+nyu/cUVLv0gZzYpWuIcqXZet1uXNmyaes1q5zMefrhM7LFjM1kbNNzPYs+0BFyzfEKAysk9buHBrS2Erms6lcl5faIH6/m7vMQmmjlPDdzcDEfvv0LFTR5nucra++olS80mv3nhVbUZb2TjQ1phtW1eMfiRh91BW93yz7IX0YS8n3Av2PrUaUdfuNHw1MHK0nXeCx9dfz6ueCO7hagh1UC/LDn5/Y+UV0+S9s/S7KVvr/M/7Hesjs+jcAgBKnAqsVll1y1dnM97zmTTS1B0hSWee3frR+sf97GfT8cC+u+KpUcxeEmRbHzs43hN2ctvrewDyzyVrw5Iij2nrlrt9XF8U7r7neSI07wlY2nehbz1ZyqoUgv7JvVs/0rW9OcwsyGTC0U7/xwWK5VTG/CMNT9/jKYAT2WA0+3MlB9EQ+Ne4j+xGKfS0oRdjeu+XF4GFWClxURWr++2+jYYj5lNUp3e9FbVPY+ONnXhrL4m+Oj1PSfx8LpGhvFz3rw023bOV39m0frXyVs45oT/SXGtWPbvWky/2DWaSJ+tht04lB3WI4z/GXlpyYc4yrO+VtCPat67s8ua+nb8j/6LUnUY/TX0p4Ievzp+v+LMbOUqC1na5EWE/m2KhkNmh5NPvf45X2wyLPpNJ8IH619bPk2rWpyxiz0IUIGTeGc2EoWgwyvsg8qU4lPasC/U64A9epFr1tj7d+ltI5I3C52sfJzN6CJZieWGCjz6nht1+Z67ZdBNzVn3MPVV0mB05d++m2Ha67ecN5Zj2rfyu189vFuH7nPj11VLTx6ZK19ILbOwXLKtHP3Yr7D6PH17oXHsP9rEmZTvZ3rrkBfGb/HB99YxOpZ82kgPsX2MtU6sLxLQZu3qpUz0p+l6yR925irDOsXXZyr+hP6r1zTAKmG5IzuTKl1IIg7aCM//pJsZbdjLz+56QXO/uf4/X7ezGL1++srEHS+mT/fCrsGeKX+/kVLG0bjMNaupbJy666pn1v8uUBzQVHnSsuyzm/vFx39t72Duz88Gvh99+rsdixeZnmX4pZsyeGiL97u0jnfZxOeI/MWv8fURzX2Rnk3lxaevmhfg53N4KRwzEa6ZQVUhDmwqdWX9nWFIPTFYx1Ij86WR6bBu+LJ3Ardf5da7J2nZITKSQk2N8xwlZ2dayaueneRk+9na/uWA3seTU0g8uD1ov0J3uMNqnG2yV/dFsdnO58dvouCSu9KsvkBRJvnF2qbhcNhnNbeq9yW1L+L8T5J2e9nFGPmpy/7nGr+v7rj99HojVxF1QuGLEQAbT49fyn1QgdOHqDPTnmQGlPMr++poNleOlxdJxteVGXrOTFgUSa++gsfBqwZzhUb6w6NnRiubVglOZqHp5ktUS62uOf1cmxh0hrucqvNU9me4LxOr2rwrnTcVb3JD3m9n6SZDj6m/ho9tLvFd+LLvlL+16z+d6Sy7sY1O/LiKNuydMP7ZS/KbMN76/m/8+ffgCJB1fB0uH18gkTnvNyaFelWuPnzrN/rs5g8Yv08r8QXIEq/XSz/Ue3Vuod/kZY8e19wLo2teLOYbVqHNngi+OBs/auJmS+eyUqnRbZr/LNbt8EGNdN4qnvXYgz8XX/9sK7ohyTrtV8w9SlHGX9/foFFQPordN+8FbFfWWp7Q3ks0Pu2X8PZfMLPBqd/zio1ISDSeWfufetX0l5X+mXw/0CB36ezjVnLPzR89lw73w/ZHRdT9XSaiuYYWDkXnEyaPdHk/iYo/GyW+wNlE5n2ZSZWWH4mGxWZzmxFf5NMHnhYdF29MooHZJ8atFMS+qdVNH3/m2qafxMLakg9n5laiQtHpZ5ohnt2wwVPvkDLn/cdC5n65du9SRaTKOddok5LPZ1hueGYPrW/2tYa5awLxzHQ/k1vSTskeHn6kBUuOrmAltzFyL9OuuR58/I2n31NyPamF41Nurcia93enHOrl7FnGfl3d7LPTmeZb2L9m8QVOKBov/T62Vd5oepAeJS2m/ahxJWuvFO3ZPx33ph85yHgHPLJN8Rh8VYc5vWQ01H7+N1Z2l3p8YUOiuZ/5aC9na79VHiSP7vnx/G/Imx56/OTgHwXJ48hi739/Vpqxwuesq5GXPr69udW8gyhk/OL5O1gmbqzZZcRJBb2quZdOwsU1B5XfN/m5W09vNttYrLq6kG4ySCxVWbvee9tGgwUmK19qLbkbB1P9rr+Et3D75fHFICClS8/MfRwBKnAVW/c7ygp3F0vY+kHdIG331fbMvXxS/Zazutdi8dK66EWAmX2SSmy/+qTdzCZnFSCFr3fUbAp5eVXD22XObdbzFann1sRF0Si3SzydE5S9p6h6/re3vfG0dyyyiARNRe8lMoD2E3vkhhdzY7TzE+frZe621wOj1y69y8TahxcQDksffnnk3Wgzx/uQS/IBH/ADflf01LyYI0AFTqg4Y9KYYzZ8Nue1ItJeseEzU/sm4/+iTPiq7NbckNx46DwXPP9t8zg7PRPn5lRlV+uqvSPV539iEXVXvlm9eLCXJ06nk99do8EnVfSG0xm7xPPRionVEts6rqJ4vvQZUea/xeg4hNwEd5nJfVh7jawuRk5eHpu9u/X8OoUu93Hec/8p9mj3/m/FInkBKnBezlKLutr7rryZAzZsoWw38fBMMXZB/P+on/pcnH59EKPoJGMvRCtDYxFQ9hrjIVIyD16cpYsm/LKrbWP54pkq5kFVciSt/PkIPvNKfzdr5bBGO/Hc5K9XDfBOYiHeutYiG7l2swcf2/er+4muzukBcqXGTtSLUAWowPkUjasjzr4rtdkOG8w1Oix8LlxROtscy+tmrSha2704RrDbtOx6LB00x6KcZJwYSdSOtmt5LGTJz2ZQtdxvcTJyOG8dC2nH5QTqqJI7Qze9QLF4WSHV6lK6ZnljZvZVItw1S9LVmCRpa+mbiT0GQ9QiQAW4l/JeKq1alQpe8dKupL/4CmHCcD6w2dXHu0HbhhfR2uNubmqw/mvif63Yil4A3cvrDuPWeE1zf1ev2TXf7s3Zt16YS49eoVlaKLIZwz31Gjr35dbBbYSfRglQAW4lfyYWWBbNuL7+UzyWeJQmTMcVGbcEynk8Gu5FR6duVrbRa6ofoc6/8ouGYtub/R4+MxEn1jDJpxbvnsI8/9zzr/9MUtfdl8XbcGVhYVhLFQJU4HxmZ7kB2tQVv6I/Fc+wnvkdNL4jpS45kvYTMT9fOmludB+YdTHUTDidjjZXjhaeefUWncrYVFbPPz4jdntPDKZ77uUxe/HtwkRik8Y+a1698UvtcT4+xS2Fn+7xa+1iP8S613UEqMAZCU1X00/jZEbx5eSJyLPviDBrSquZR4teN70R0yeETuZvy2//+3jVJKBu5pcdMm54Oi5vHs0WNciBfi4jTENdZSB35EPfyPP2wZP9+foZ1tzRex7OfIEAgHMaTpm0weQsiaGu0XTv+7n3bZOjUzqNXz3Vf0XmmODphNL9BZOV0qknQtG448gS783t574H72WYS/8803tRJG/O+Zgj6UvjZOnnVzPdq1Uvee3YuO8PAMCBZoc/ZI+NGM9nPFhwOX6MLTx9KjeinR2q218i906yOqjnJULdRTRZKkCleYpoAODsplnXtWt5Gc5xnBm5pnKrCxFw9I5DiQbm6NKclwD1QDUjVCW+AADkSxYLx3O0eZFoNFO6tCoB6r0IUI/LM101g+r7w35M4QoAtw5R4vfp6c8ftTQql5PR+zsyipVBhUIOUQDAU/I2QZ+qZsm389P7O1TFCNVtZjilZqbTBwBqS8Ysw3vnAj/vbGn46RqdZUYGFQAAaJ00+C0KfH9+/qvaOgAAAPV0P00RoAIAAI0zvusuBKjAyYQQrnSOutJ7AQBO3R0J/T8qb8sNksXApadqbFdIb64ZCQEgj3PmYSoHqDKowIm8c6fhXJucSPqe511kuFReG4DmCE23OyWHZ6a0zXO3DCpwHv17sf+cf4vDmd7L/FT06cT25yaEAPANs/hmC9/sp98zfqh5f0f3QQXYTZMXJsu9BqR0he/zne/WnQDgWxc5px6i+3Lh0A1298G7XoAKnMfBV/AOejvnj96uX798l/HSbZM7AThIV/XSsjGowIl03bm6p72tjW3432Pnekdk+ozraXOAzwk99qO9CXCA7rfP9VPJjhlUnS7g5+4HmO7Tr05GqOfPXL+e7y6c7r67Y9LBMzlSXyeA1dbkQ7txne9xZFCBM7plb7X6HWCTrT9OfKPT38my3du62hf0mOmz0zlSaWiAWWH2oLnqhByqHXuNQQWurX9wrRIxhW2nKqryHhazofGtek8DeL9ZkuSPV0jusxU78yrjuwHyfH28i52pa2VQdwxQ79chASr6HEMHx56w9rBUdnuUmTvGbBWqnDPieb77+50QPsXdl1Ljcwzrl4h974qmWpqbu3pb6yLqU92qCjhOt8UiXbXLrcagApcQ4jf/Gh1YM+OkTz1jl9UfDBk3HkuGzen7ozqOnpw06gbG+3D5NxFyItec39aBF1fW3ZGpd+DZayPdx5imOKjeZacr8QXOf6gcP/Tura06rIbpmibrSQfBk5RL+L75/sPREDmZR+mtbM9eZjoplZ5bZ7uer9u57O9Rrd0d8due/fkUZxj7C6zsZe0eoa7t/e3fa9w8RPdbhUrCuX52AlTg9HqdnjAfVxas7fXXilLNwizIXIf8HQiH9GIh3fLwLttl6eO83G4icz2SCpxLYp7BHuiiSbH4Ri+uTHc5S1e1iQqf0VFZg7Vx8/CvzXfQzHHl+xX6zcEZhGotG4MKnP14uXRRvixYzX7duL2FSHbw+nTFzBfj7R5/zGSMco7KuSFtdF1rDvuRGDX2gabeymxue67RxW2ZbljR4MXMLShb3fjN9bbo0pMCdeWvPmshYPZvaIsZOgvW39wKL/2FZ8G9IozQHfeadsigAlcyiPyGObfS/lHZAoVH/lTQ/Ol15Q5KS5Y3fzH3aWxlm8rKUs+MJd60+cEGDHLv/bffK7H+dqckirizlorslHSSf/7SzTlGF3Zb1ynn/66PGnj11SyZfwu3/zHu9RM+V5eb7531ytM3upzXLP8UulD+c6m4uwWowMnFu+bxA3H24Tlj6rphSvRnEwVng2Hp7+/ttIflzZ91rShSzvBs5n0nmaJlRz3z1BpmxhKPiriLNmMumMtZ5MuIIFHEnbvMdKdEazEH9ZTJvPr0d5IIarfMHteMl9uMZ3pf3/IrXTu9pY3Dc0X1bMgXaM0uOddeM4svcA1dslv17PkWHJMm1buD3mPY6mAXKU/9rPAVvI3fV7S1v7c3fOurOryfDRhFu72WQkkCKLqaXrBTnqaOLTDYYYumL0vuo/Hbf7fxReJmTb+/PD4ep8I/i8Tbf/xIwnwifvKu56OOdBHmJBj9jElOzLVVvL+fb+Y0PZH2JifdpVL6NJ8HUJUMKnAtvY5e75/5A5YmvexJMnWzAaQLfdJukFx7vjgaOy/PLZPV/R3Ex/EFfiPhaYy2vPboiN2MLepyNyxvM9Zmlj/7/us4otd8WH8lY2lTJlcapon1/sORRHY0ez0/J26sIjoST4f5Cu54Unfua15WLrH86+3aDRrPbvv4VI0v7GdVidQ2BKjAuYW8CLW0MxOigdjMq5cO4wX9qEfXPXRZiyyM0+y/5e+7cuV5rEjFaDwH2vvUUi8avHQQDb3D8KIa7rmnw8IzX/eLe6F+/hLDlHQ0mz3+6+sgazise/Ztp0qy45Fr7lSug1LmV5j9W9P+fnCD6uD4m8y58jJ77euzneOWvv3+iJ25MdcljtmVNfezABW4sHUR6vzAyPjLdxiwVXgrhsQW5Jf6xnrOW52epsWhwzGkkxrm/ic3TgJOw4ZXlu6L+DQaiwyyjqM84MpdM015L66p3/wwKO39FauY/TwxDh1HFwGiNxfuijPNifg0tWW9T3S5SnywRPh9NL6qVRYOE79hZqpUeXIZq7eHH0/Hy6u/u9HKIGi/Y+HsVxNLcXr3+8bX2ZU197MAFbiTjG5h2OcQndOBHve6ym9d+l37g23ZIC01ZzKdakaq77k/4qniv3XktJuw1P5W+2Ih5Z3Z/OjjXNq4UU5wkn3uXx6IRuqLGe3+tk2eSs521YuC4y0sbFdsVRuIZT0Ttx0aL/K+mjJ9bn09x5LR7ZJ7AXFik3e78JR8YeHrl6m/hm3FOxy1qnwFqMC5Tfop4auD6ySrlB/QbnFRf5LyXR1QT/dLaYQ600axRPpp5s/MN7suol8WydJGo4z1yjL08774aKfPFE9cFavjHj31NLfm6C+1v+bH7+v72upkK/1Hoq0Mvl7Fv6+83Zr1/haqJXp/Jkb6fntrmvBNmbb0F7QlzPwmw3gCxoMIUIHrHmF/6+u6Z3eoPF210CGO5CwKD+PxotL5PEtiRFvkFZMO/1bZi3TknmwgO8FXuNxXw4xLbXeO3v1sP86T5oyjXnxy+uJnmDOOT/tfkNiNifN/kKM1/63s9730x5lPKsBXS6fnPxs0LZX+xF557c9MkZ0t6w5Yo1a+vWDVX7RwPeubTsezsaL0979EwNclc76feB+qVjW9ABW41vlpmCbIX66/SMEQwW+O3fFNWnNLz0SXf5y/ykt2ZPbutqzWOzbnXLrxqY9pnQpn+xB7v6u2I6+weDj/dFFIumKDtuqxrvhEIwnnnErx77d4PBR5jdU/4M2uCfXzuP1Q9PHvuSztbHhqCp1LE6HuIP6D2a4iaQ0BKnAuefHpNHm04qyWqvKM/DHzutxS4XeTj5xvyfYO1j1oe6OgIJYHKxHbVxuO6dwkU1z2thqJT1Nre+cany/KrNceDUhNvSC6DcPv3fDJ6Oe/vCeWX7G0vRuNt/5kJCOF3qORtpGtKfmy5L42VVc9fcVz4/rrP7iLH/+AIvvz9693Qrz/0uElw+TaEgsA5SYz0R1LgAqcSrqeL5VSWH2IjV2ln+/3rGtqMgHoXGw5KvidPjZY2au+uep5Jr7jynuQw651P/jaL0EX2YLvDD6xvbf4eb+i0p/DqkL1nCTX8JWrE3gbZk1Hm5JYa7+AfznWHtQfRxrZz9yVhcg2fHklp6DUIzbb9CsmHX47E28hfoyMbNR0AS5m6WoSW6lxMavnv2otAxQLn6NleP277Fy14syWkz189F0XXxZfce9d5S+ctfJJ+esWDu8cDHJzsQi9wnasNCoH3Wq1M+2FaHza/dqohccKR4+OvtNfGW/ohj+Q/t/JbZ5+5UJe5XOibm7LfTNn2vyGX7W/r0/5laHPFpRdNYnlVbktX4MbEKACZzHp2D0fKOmH5Rfa9mPh0awg/f++cy/Jbuc7UzDc8sHrhws/yyLn1vaULriM/vVVGmmm1TW9x7Bb0WzeSNvJI91x/aDjQvzuNxTt/b1wUad8w6IrPCoC20z61/v37PO/pVUAsV/nYdFp1CZtPwqZt1jTcJWTf5Zveu+yy9m+gmTywd5ldyvxBU5/pByXhSU7T8u9queq0pnHfg3aXxnZbLHhJOxMpxz6NWmpauXBc6NhtiE5XuuzhZm9yv7tRpfDtmloHXsn8yXZWVPHvApWp0+UjNl9tZKa/yE2yHCvk/Sa9RbVDXSzD2/wvuLx6fvBVMVmY47ZyBYi0+0i1A1WE+Jl0aPDVeziYK/2cBLbRr9yr7LQb2+vA7cSKh7BBajA+Q1HQ/Ur7CZR0OKqio/HsSWSYwy/uBnpzA1V5rc5+x31582MtDIOBZfiwmkcO9ODjPdEp/fYiS47F9DPbV+8Lzt5jzvPG7nt5MpfKW1kJj595tn22HVb74n0Ji5dMhkXNm9RBH6eAKqoPGPhxdEINfni6PKJOutxDYsY9dzOcc2L7wlQgZN439sxmhB8hS6jvscozZjTTKz4NMwmoj41gJnprVRMO2lobkXJ0GnT2yuWjzKbiVyfWzYzqeckQBxN67LYdkaSvJfWjb4g2cgwuZqxl4dhbvrprB7z4OaWubnw9ddDslY/WGrQ898yBhi9i61WPZrfO1Ibmvh+rNuAzN/QgcHT+qb2jRGSc07Ntft+M+nql95jQtTTEp8eSokvwKIuq25xaemMdkI37oM+w+K/xyNRaD9nO1xTYiu6dxj2Gy4l0qTjLR6srVuKKWNvLPVEeoOXIuSwqp35muzxvJ4lb7L74hr88j15Sk7W03zwp4w5FMU8n6Lk3qYOH8ioxh7v01SWOnOjPstvPujv0+4hyZIN25jbYYOjxs7va+bgMH3RCvtt/vCaY5F0gQmwyu+5uFqIKkAFGHnfnGX44OB/ctc0+0xkda8McWzJ6P0r+hFu+LK+eRKkjXu67w1+df+i+ebxxs6+k1WBczyEyf5gXqmzyWpTbya9jpTUu4/vlk0SnalRzNNnx9Fzt5z7Hv6jn8xNtjh5uFuKiGObmtHGV97VD5E2krcwLo+cyzLfX5oJzrbYgJJq3G+aKdlWeTXY2u+YmnoXevYLUF28Alhjrnf5GckZe32kvrl4xFW8Vnq5zcmJ7BPrvP41zDlHK7Xfj42e7QdO3VanmukIyVQCexqHb1lGvbjImksNE7NTekWrjSPzRQ2fST0dWW8XjVAT46jHl2j26SR1w/z0KI3f3+DIJu65YS2JfGH6v8NWBgQ2shlwJV3sJHkYGVSA8yjuEK/oQa/rdEeXSsbO0Zh3kKb9S2+OY9GdBo/1ikr/pk6KJ9BnI+pFg9T2O+2dzJaPF04lzxc3aRzdRnobg4Wn5cc/a/zuw8mM14NJsv/+3d8NkTW8Nr4/gXP6rUYD3/FbmVaxLwShS2Ng/95pdMsiWxGZc2yleCY+K6v9nV1zwev2SP/HEZZ3y+WvKsAFrv0cM5IAANpzaOXlcd33ccA0+DuWie5HuqNYeKYmOZFWnqtijhdR57cxWc10gxMDbyObO7xx0agovrdhg9UO24jm3CPXDeI7OPaCzK9jtJ5g+Gh/g+Mvz25nkjEfVETnb2/sWsh078b39OTnGmYePs1vmkJLl6m4SoS6Xwb1+pUvAFzCSU5Ya+PTyVDdSaX4sJ558IJYUmrmqfTDUYujJZeGKy/cYHfu8fCogI9MQhVrIx73zMansYx/rGA69sDCZ/1eJl7D/0nrRkYfD2sVstrZ6gcyWM+3tYPLHxzX00pV+U0EJb4AcLC79nUWw43ccb79DGSs+HhS/hqvthy+flxR+11t9bJoQJ2oe068j3h82ovIint58yFhtI3UC8Z79BPcLu7QhTj4VYG9/MG8o+V4jfRQ5s66668X7nA9QIAKwD1du4d7VFq4bPRxYqNKRisPuk3xGz/NNRVtPbNwcLCZWVW5M/Nd7xBxJ5PX5c3H8rrxiuTlr9p4aGwkEZ5cU2yapl4h8GQq7vSagBJ1f0M7np4dGwBoV+mwv/MYR2zZIwXPYzaiTNS9xl5aElql63Wj43l/FkYCd+s3bOarG50lKPp4WXyaXs/iXkxlm6Ojf3t/DMcnj8YLR9/QQj0453ejMaih+rv8m86vWuP7rbr6jgWAn7sHqDfq0uVJzaK04sWx4aK1o6REhBy+Cyrfi6Qi4PUBatIwDh3f2jlnaS7nglfbGhYu2bSvDwBXCVROZdqrv9o7ZJX8ixXpkuD08NvFVofNx4PgYXw/moUqGh0ny5q5IIezA/2V41cKUgWoAHDp2Hun+8dyG2Fwd+BPjJCYPCl3rZHHhkWFk9v4xOPmNdXbnJJ6kP39ni/e1b3VqnwFqABwOfm3EoFK4gNjo8NOU3nXRFrX9/6iBKjHeM0+Vm8U6n7t+vYAALDpbDCxkb/chBLfm0xxL0AFAABaJ0A96pLRb/2+SZIAAACSBKhHqhig/levaQAAgDMVoN5DqHgtYL8A1eUNAACAU4T9YfhAtWsBxqACAJwouwD3ZBbfuySq/9VsHGAdw1CAmhQZAnefUXs/AlRO9YWFBnqGW13CdSkYTssPF7ia7qcVSnzJEHyctGRy5/Y6zXcbHXrP9etyNACgEuVTN0kHyKCSw7GAlnRVc6i187dVPeZMcEAAgAuPdw91T/VuM0MG3VEaU/Mreeefw62DcwA4Xnf82Tf8xqc1T/kyqABFunDK0w18hJtfatmcmRqAy+nq9VQEqGRw6oWNI9RTxqhn214WbnfnyL4VPw3gYkLV1pX4kkEvhtMKr0NsCO9/8t2RwAHhKvwittL5UQAX0nU/v/9XjwwqcIc5ff664lJGG7ALr2Pfz/Lys22qkwYO0VVps2qdlwAVOJtQ+LKQKld/PqGPmesye2rb2KnKDIsbFKnvt9Hh4AEiJZ/ntrcxNgAGjud3d30CVOAS4Wnv4axTVz9qLeythrl7o25y4twycpY23ju2+MvTn2snd/tu78EX3Z/NLb+n5KWq9Y36fcHx/OgO8Xvt1SRJAMtCzuMZfc/RenJ7q4vNh+/TaTOR8/uprnA1+Yv1F+x2Dawv07E/ZSat8tZuureyO1ClR4my1Z7rCwCwLFSLUAWowMXi01ffc2Z+9MkTOb3VkP3MN33frFYWg+D4WsbbFaaJtP6CkVaGD40i3zBXSD1uesNayzbqf08Woe5quUtz+ssTp55f6vKjg4Gf789hVW+Eul/Tjn3Atnp1tM//Tp4YZzNGh7jEwzlHrJlFem2WJVMiEdq4mcl7nD6TtbGTZeIl0TnNJx+LvKa/vmQzOXtrdolntNP7GkwX7D+Y+FaMnss9ic0Vl5clr6/lwMRiflOlIwFyVrTJ+o5z5+8k59fqdc2zC9F9WvNCnAAVOIl+L3SQAhh0T4d91US48XlRNKhJN96/pjhsfthgt+5Um+71lvWHk0f2+cA9sljkmYwANd5MMtje5OpANPRY2u7ZBRKRayQXnFgoEZ73nt7gRFkcUX9Tw91qT7IgJbhxfHbY3tyMAJVTk/+/RYGvEl/g9AUpw5gwcTztEo8VHn4ftcPpQG60aWslJ3ffaNb3hZrkSV1PfPDewr5L1lEXv4PIAuN1RbcwfFnG3b+mHAb/SkS06cbj80eXxaixix9hszr1NVvUlrwf3cYdrvfqzrrXAOLC71HVGFSAObm5yWgHdLRU9w49wteNj7KEWxzMp5Fzr/2cFnq95ncaaziENba1va726KT0+7pJ5niyKSV99dGo1XL5U7YWfyR/I3PDbEz93QWI8V6fXVkyAp4+mRxRnGgg8fp6GYq/OSNXtFyzDu1RPHCi8LRiSgQ4ifC4Gl/x4CpABc4ke2Dg4IWRsf9rurVbZKiWGpidPebvXeWcMj43uvz7VzywnQai0zV8XhpfwySO/Wxrb9FoHJzfV369bLKqucsRn2VeW5mKIkbp0L+7kw/f2rSRdEQyCmmnezh8nT3Ou7oy3P7S727vDY5uNZAqcS4es9vFHg5r4uPH5sVGAB8UOJ4oPq3b54Qv+fIeI1ktdhgBKnB58fF/W6xmi9XGG5lb0yOhmbvCyJDLYZVqakNyZlqNxaTdKEaeWSRrSwaLjHvXsbeX2pbJIrFYq1u40JGOkCPvo3dlYJyM/f7U37sE8Iru0uOZn0/NtBpd4B02TtY0+3jGVo+uxcxWROevc/zI6WcLBqilZoQqQAXOLRyw0PLL+zWwX5sNIh7pvSLTBPI4CTcaIfkMZhLbsNB6LE5LvqMV4cMo4IukerPXNPxz8eObX/loHO8n9E6MWf58X4oLRAcLxNPjycx46rlJ4PwpdE60/n3d8yd8XP3TCbH2h1dNvg9Rl0qlo8+lLtAA6ylRvwsBKnAK8U7+Zuva4JzYf836buliS8UVkHNzOkUzi88qy7xWJmt/L5QzsrJsP81nAbuZxx6LrB0pOAgkE+Wkk0dm5lF6R64ZQUzvssc4tuxvyXifTIuie28+dimlXxG9UBKdTCtnztIUiW9LaqgjWz3/6JeVvoNS6WEMnLwm1UsTZzedrJVO/+LjgXP5gai4TBu4vtDVvB4gQAXOZFBfuG5A6loFK1nbXjrROOlzd2UT8cUm2+mvP95Kfue6W/e+dqvAXH9WfW1SYdI3/T6WirVzd8FsTJyOT4t6GJMoOxEBZr4usuTookFkrHj+5s5Hh4MS5a2uGA1nDk9UOA8WyWp6boln8D8Xhw5C8OG6Mr5d0ST07AKfmaxK0sTKreFcghJfgB0lSjlLu8Pd/N/bVRKu2ZqilSbrP+cj1OKTVSLVOcqdFe+4nU+acxXWXw6NfD/zjtKW15IczJvVUqZ0RXD61/J4bv0emUSohV+E+Te9OOb2izbmV1p+mWduiUT4mKivzklFxy9m5G3sK1p+/GzfpQXLH114/0/mp7xNQQqXo8L3OK9ZFusQoAIn1J+aJpokyen4j9e0ZL7ztl0nKtbVnI4HzKqnjL8m/ZZX51DfAxbnKlvjw0YPuUdHxsccfcU4BzntYqfWnBPEbPDGs7++a6vCByXN4xsLjV6VE94sbkdu3NvfhdO9sHA1KVMvOu8fZqKf+WBobv/fuddgeo3EyqC//qXk1UPv8mNMXZIa/Xv81+ePsjT0Z4w9kCn22w+d+6ACzCopIpw/8PYrABMvSa165kXbxRrxWKA44bvYTizqXTHT02vOomQrsWVWVEFmrnpbiYh6prh24eHhur4PU3N2RZf9xPuB78bspoyCjsm/X/u1YPjpvnFIP3u8KpOQv9Drnc/XJI9Ka6fP91c3lynNmwk6spmDFnLNbe2wpP6LCbiGv6vhnor+wXn5DA/ZqWHdfak3IkAFTmVw94vkM6NuTiwls+bAO7PM+uP4bJqz32H76yZvFp5FEsh/jQz3b8bbGqximgGZfiqvfxa/kV1Plf2k4bTl0jzT9O3v8NVpqNgtZ1N63+jUy1dMKbRqUzIlL9e8vw/TNxONgebfV0hVF/S+RZFGIq337xhcGh0v3S44siWD5oq9j86JnRhPKi+t7f13JO7NeYNwbaHwIFvtNCNABc7hM8fs6Ej7uS/GJDM3+mOUNB28PC9xMHOsfvSg+h3XeZlNTwPyrH7n4v0uY9U8vcW3Oi1Fut3vaG1tIwULFfRFBzHH9Nlxzm+UbIxvYnxV3+zZaf41UQ066/v48L1A+ZuJLPFZy5Z50S2+wQtbslyvnL0RC+UZo5srfVqfm6R7sP7PU6ltirWRfNVzbfPXXiZNP7OmkyXCYtxcbDiSd9UVMVrlIsN6BefEn1DzN/NfxbYBvvM4fH4OuK/D6UIOYPzyxx+zLaW7fP3V5R/Oh01HNiSyptUhSG8TJw9Ncj2F6x6KDyGbLr0c76cbrnbK7LpHejl/gcw1zb+jhfc7E4xsKBqFh/cNiWa2ZUG0qLfgh5SywSpGKxz8NYkTN9vrkTW/LufEN6kbf7Ne363YxbrHqgqTkQub2638pGP7MLYBWVdgwuTtPxLTedsGRGxXsbWCABW44IW/L1ew9cJj085zPxHxG+j28qvjeC6/mrK/RCokTD0wF+qvzZptcqpLJTqHf4+DhsGVjPhnORNnfD6QZN9+7r0NI4VQGO7Ot5jM955LXkotx+KC5Ttn+IMsW/F35dt/X5GlQO43Rpx+l6JbvMkXo18uW7pU8qGFp9cY77sT/izgaNOrQ4XXZTejxBc479W82LitQXYwLD88ebp4szJr7BbSUakZ3YepttJJSiaR4Xs01qB0uD/CK9nz7AfNg77lTF91WFr3KcxKZHgXDIuQIy0lNmApfJx0+z8LTUoDU3WQkfYX284qAD3yCnbxVNgl4cp7xGLso5r8KEuK+KKx+nC0ZP7KImvec4HXjklfVfv71ce/Ko+v6Fz6cfDgtrne56q6vfbh6jLO/sTTwxHyEqowf7J+HyTeP6BavxoBKnAif53Od8zQr1ONJ9ZSvb5hmJd1H4hp56ZLPbPhBcdxL6swPo2usiCdmezRxvuln8c+A4MHcULo9uskjoKrYRJ5uHXjp56DmXsPpFc/F7//Njq4oFB2r8g1RjNUb9RGfuAcv0Y0by6D/fW3o3fb2O93xvff1e9rlR//f3QNrv/n8Et3QG+yN8dzf77c71Lan6hy8CssO1x8OtXSpVflKsOuRp2qmj8jASpwKv1hWZHHy9ZStOwogTsYTDUTBZXkXHsrWljP0tOReH0mTbPUSirlO24tZhrXbxDPRzvkw9NpUTO9jm36NUslic9g4i80SlVUD5rLvEiQSNkO1zXMOs0u0wsA3snM4TvftwsYnyLn/cNe0fg+d8UZX/UKu3aZ8+5ZnLqV8HSg5v6jx17ftX0bWXPZrVZNIpxYN3ngN3vqPqgA7Uv2e1YGftO8WrLQL1HFXLBBCyXOkS5taTdvGMAl65Xj96VZ2dCoo55eXff9B7vdiXqYG8orCO9XS6dLssf3/P3EVrF640cHZLz4qxT3Z3e9rT1sXs7yT3Fpy/bowC3lk+M3Php+pXbLNfWvf7QYC06rFVrcSqgp5HQj6hX4ClABasruOG3aw+onWAeJ1V4vt8tJ+c5tXDreza+rnm11+aXFgxAHy8wtsrS6SHzefT00bzSmem4FkQrn5Gp/MnK+owBoOgI3/vDcup6Vq91XEWpyoX7o+/s/mfn+4TqeC3yxWVltJff587/RfHv8ekP/9fvbsgRwYU8t96VHNQAzC7hHyen5BL+Xd7+6Kwaovj0ArRrUJ888+XloVW71mxAvc5n5MG0SncQWmuSwx8XQ6eHHkWfLczd5CdTxw9GtnhkYvbgVowXGIdakVx+rq+3/NSw6fqwyEgX3Js4axFzfdiJeH/xkM77scBXcJXTd+qernGmt8PV5Mr6ynzLxrvYsXe8Xb1NMATfRzT+9PL/gzmRQAVjUbKeu30efK2wePToXB8XG4sw833t2NvCPrmttJ7ybhNLpreo9PRM/zUXtvwYzyY7Cyv6w1nGnpn+JINZ8PHRcTFH3i50HQWi/jUlz/ee675O2OQncsvXObfzwqdcunUztlU7fLoxjfsrZ9NVxeMlyhftwdBUtOld0xe4229hpvDkjr0Hd9X4z+zXs2/MNPz6AarWLOyvKEk4rrrMnBC4tcY7t5sE6EnPwfP5IX3RPRE2JsZYZm5sc45x8Jr3EQhOjhXt/9t9vtBI3o5XYEuMmRt+DEH8isSH9ze9tcOLhoq9KxotjGxX5I2Rdb5prZlTUHR2wEC2o4Eymx0N2U3OOJBnUNk0mrgDgKpfuyrKm6xefTxTnNDV6cjA79Hvt7z/mi1FnErULZdKFItf8u6++UtP1xQqf06va4msb2YZBofn4ieVuZf/Wy6WXMgo8vybpvTN+pn+Lqte/lrYsXOjowG019xXuajYug9qm8RAogPuK1tDSbMoikRIcPx3P1OY3lM67huzM6mxziR7SKHs8/nYW13DHtzaa3Rw1MUpdJzZ4vILoivM3d7pxuS8eNxJLu4+D6+Q9riMtjLL007Sw7Nv5XfgzbDMzFa7XcIu7GYDz2TG/w0V7q5FnyotvM6qFYzdBLhlMO2lkUqk6bT0dVc7E4KmrBiuT10VxwkIIPnluJtCeb2CwcDLwdRA5MQHq7sZToFciQAWgaYX9fUgrjcdG4yS7xYho0Ej3VZ87c5htl5dXThY+r7r+UxgnxHd7WYSaEaBOX18c69I444gPJEAFgAQBKo2P95oMyylPMKbTwAuh3cogMRJPl5dxr6zHXgxQl6rE51fff7kA9WoEqJtLz0b+U5EAFYC2rZvXE87f5d6yOz5I+363zsHQzvXLzcWhRdel8scj562PZglQ9/c6OvzWjBiDCgBwN2ccVbd6m0cLpgPLVeuNrWbF0GMaJkA9TtUMqtvMAABU1dwtJg7puD4m6d3grQ/u1zhY3/ROjmfa01DvCFMvfSqDCgA7OlXcQQVnm6M6vLutqxOoR79Rd+67EBnUA9UMUGVQAeCKNVKczBmuZoRaUeYXzrOlwMN/z/8CABvr9I25kDC962vR4qP/whqOquuEhd90U+cvASoAQHVn6nd/E5+KUKGVH22X/imbJInWnaHsCABO5++mL2eJTt8zDp1ia4EvVP2VmySJDAJUeDFDA3Bj3xwCvysQBqfgQ4SFGwkfQQaVDA4FMDhW947eADfyzbHvOf+vwyecQ6h2qxkBKkBN29wFEKB5jnV8x+jlg3+nMqgANyw++ltCQhYAaGYEX/h9rloCVYAKUKzbuv7XOO8a9t/ra4ZLGWIFwAG6pefqZawFqADZHlcTRQ9nt8tY4ulMrGFFK89lKn7HFJ0D8FApibpbq05vVyK7A0UH1K54Eb+xOie+7fZ77O4bX3whqn0j3EUEaJZpto5VL4P6307r9d25FB8n7PRL8eOqe8bd/Owb9l08hLBvh+G1dlORANxZ+O2iVOujKPEF2Eq9+QRo8FPaPBu6pmT48lQk76Vfs24vw910VVsXoAJnMx3rd4+2aTlCjaz0m3ZiX7IjL3809CWfDcgf02A3tLUZThLsfXatCyO0xTdxe4mjaL2D614B6slOF8BJfCoQu4zhc4uDDQsOVSF/Ice/xnV7xHrJcLRbsZLoMvdM0IeMX9yZuhzPO0s1f5S45ZcNGOiqnXr2a7P1Yy9wQv1DVmzC1P5TYeGoFIqema4/vX0Fh7+NJklabPcEHeJj7TA7VexD2DjrdMAMRu3NUz333T3fJGM1Z8EqOTz1t9PEWbRDFdNx/s5ftS5VKfEFziMksibjI2iIHlX7aZYwE0YMJtF5PpF3jC47kofVr00E1OloKESeXdvr3ChbtRAIHRQn7d1CF86U3PvVnWqT7plUnpM8CLz31NpvZIPfDG7qbEfV8wpXbNq3B9hWMiUaGf0XP7rF86HDp8bPxSLU8fEtvsjkqXREvXDEnNvcRBO9BMjn+WiEviLf+/UBPtb6IBm2e85mpoG1sfE0P7X5HRHOlzD83nzy/3Q3ndjzI5xbd7r4ZHZVf6+VQaUd7dV4XFWo27wMKnCdo2U/n/L59+df0+uu0wxMLBs7n6oJxTnfwvg0tt5ErD3N+Ea3LpYkXm5zeZle+ub1z0jndnSfl8Hr1mzb4lDjdbdZ2SoKj7+JWKZrMdq6YcLwL/nfXWeP7LjBZ9sVUE58+pWyQSe7zNaQS4AKnEzvkv70icGfr/7+3BKJ/mIvBfuKUP/+HXnpXC3x/NH900h5xVJZ7fF44dFfOa2H5d5Cr5D48c94I0Wlzd3quu81Vqwr8W7mwuzXh54I22vOlnq6hGSj2zrzGf4ecXbZ6N5Fqe7rwDj2cnWVcHLdTq/dgQAVOIdI+dqww9RNulXThGq6izUM+P7WVRj8RV4/G7ysmR1vecaC5YRvb1cWNB5izYwD3fdToSSknu33Lk/gWvj6Y9aVmVXvxSrDtPJ8y9HBxN/2JxYS5C2UeZ5lqq/YkO+Pvd7Cws/5i9lOTpemBs5OgAqcVpeu013oBD6WSCc5CjaiH22mE7VhEtYVXckcFLH219Xf4MJeZJdYV9TsukfRarL+d7TFIaMT/N2GldkgGb1iiVcgkxUExNJay3HlBuHmivTuUineikTxSQKlZrfyJPsP5p3iMhVfEqACJ0yg/kVWn7NUefVoaomw7lw4+6I16di5ZqbdzFhF36TBSQX0ur2fLEqODwCebu3fA5F9EgvvczdyNIw1XySm6xWEZ6dQJxcIklXl6YrwuQzX0hPPZRNJ6kSJ8crq7qyd0hvKm8r3rglRo6tqtbd6eEXs8kGmIEIVzNIkX8wjj16h4v4WoAKnNOn8hTUBSy+OirVRXFIYErHY9DXfdF775crpbewHidNnVrU/XihdUd1bIh6hxte/slp1y0igrPK6/2GOF4qupPcOYxdDou2mNyZeLB4pNY8Odv374/1M8j1/20EZtF4c7Ka+rPMjLjeV/MUu/JQjG3ZMTL1YFt9qTA85fIF399zDXcUIVYAKnF/OEXR0mM1Kb2WcBhfHfWW97gvp7PH7HU+TncWNJOo1k+euRDp12Hx6n6zqf2y5i/NOymH1SqYDpoeLlKQpx6OyF7YqmV7NWDZ327JTwTkR6uKKohnid7CfTB+Pfjpzfz3+kUgFj8PU8ZWCyNd9i9B15cUcOLXe1Vl2FyqOWBCgAqcw13Mvrww97Jgb9o+XFptIDQkt2oCCpbJiq9lyxILex5eXACYDeb9dSckSM/sgkvFcGmf8uR7RD10mP5ve2kJkaPB8TJ23jwexVr/0uB+xffnLSGxoJI0cFrPH/f3wrk2OVEsP6iGSoXYqf51IXI+3NlVyMXp8Ntot7b7P3canbE3AhXShXkW1ABU4u2l/vN/hmi0P/GJmy750kd9Pm1ZuVyz7NJGXXyusZc1a50bWrior2ix/eulVw7hlHHGnb6P0fi4vnFk7XHRaehwviC4VjXLj36rkRYySQG50NaF864dveNj0TNwcX2Q22v0iSTK7JsEq9RmDepxQdWcLUIGTGyQY0hP6xuop40tsv2k7rmiuidRbW7VZOanTrFT21vt70/UddD5+fSlzhi8O6kT7uzhZU/B8UXTlM0+l9EZS5081PCqHjTS4xQ/vGTW+V7+wzuTBYWGJcRF1fwMmOdfIRi5sXDwSLbi/8qTpz/PRjZoJjj/PRQfQA/cRtprfcQ0BKqd1llvisbNoAVyW7b4/8b7poJfY+2OjQTT9Xmy8R7sQn+bXbG4ZuPW7/OPu/4qYpWbmNHfYYHrEYWa6eXH1n4rpSVtz+zQzBvmqjDqdpV09V1fxJoxa6X3x53fX0gf8uMI12iszk5P11plo5bm3FvbLZ4nFDyR6nEnmYgfPLZShAJcWfo9tSnyhmFPmTX3GenVrvw9fH3JDUUy1e6K2rGhyTaHlsSepgs/y2w1Ll39mGO28btVcXd33h7eCiSzCumZK9s1yzPROB/9sbjQP9DAM7X/zk1nmnDmmR2/yEaIOU4/xlc80PPd7jN+veKaCe0E3Gx07tdIwFb6Hic3Bf6D/6jUNsMazGxV+/1/iyeRSmX2vxVq8nLFvyW7q1x3A8ai+NSssjYCeS3XdisYiUUBec4ve+3jdhiXsEbYlV77xJBR7RBdrNjG8FD/5nXc9be4Ll4f3plfVj4ZX7/jRVY73g72LYP2H3y+aHy76/j1kFT0P3qgIgIa5fnIXMqjAOXwu5cX7vIP6uX5i6veZ9CLDJcZzBb+H00Uj0l4qpjztsD5RkTuULetVOVdIh1mpzS0VNC6KjM9csxWfda2bOyudehv9tTSCcGYVqSTX4hY/F1mzj7YIWKLFsLtk67LfYU6Fcf7KfjYoO040HnsqZ2uK5sBauQRwYaHiINTdAlTHN+BQ6YNockzYqNpyEKH2+vx596RMjehMLjwInBfaiFQXphYonJM1HHBcf18ESO3/tT3iYQK5VuZnaevjKfSseDLPUqLvO4Pv25f7eBLw7RwLxUaUfp5cXv5x8SlyiaoXyh06G8Jof81/HOY75aKEGIe53iRJvjzAxlI3zAjl5X9ZixQelgdd4ekhMBLrlh/3Q3x823Ay+MkNGWeCgFjGOXNTkhm5wQwsidUms9rzi41f9sWyczPd5loXALz2XNYHlGh45q+sRQoM91PZW34Edl1bMdOKEc69jZ7siN//lsSoS6MDsvdQ9p7M/3rV/3BggS/pPcLT/cag+gZdio+TJoxHGRaOOuy9vDvw6trvQLvPaLtPafD4ZZlre/53LpHyHqT72YTeH93noXVjCyNtftLO061JrSY2gPiTUs3atMGYud6yGYu+XzxYdPT4yqrp+df2pkWc+64lXvTFV+cb6xLuj7reLjI48vPgSc4ujyGd/YHO42qAsO5QUlhD3K35gZQepKBxvqpHSPZWTl7iawwDsLl+3u19jOnV372eX+zUv68LfqotP7OrjIr5Hv+b7n9GrjH2BqdGT6ZfX5YsT2jN3OpkkyrqUb1yPzUbLY5cXH1OUvdVaDlaPPPulp9/9ufy7QpW9Z5dtb/u3roS65gZf5hqefDX96fXpT00vdvnePNWtvsY6b3nlfk9VvsamDx9sP8z/+Zjyf6uP9t6L7bV29XjByKuNwaVK3G1gda/jXPJ0aUl/o7AqTLEQRg8s03xRdIH9udznyULfmVLJZNLQyJjWzUfh82coHqDdhMR4LjiNxXrrzkLbjjnT/yNrN+AcRA8CEO7ggh9MAtX/995N0RZJx4epyLueOPTwHzwYAPVvlGP7cq/ILCu/7auZvqpt4Xrll+47AJt8x09wPTq67EEqADxlGtJSiQVBfcSvqN+7ycBu35DYx3UjFxM8XQxK8Lgj+UT3GtQ5iGnwmgjyY96bUcoVjU8jFB7aeacJf6eH08yPXrd6Bs2XHyY8PuMmpwMWe41l353Rfvl2diz5S9Gw5Yvmhe/DV81Xia31VEYP99isrWchkq2Ks/8vVuBWwijAqCa1bC79Qcc5IDaJpmr8yrPsx62AfHufL/Dm935fX9gJbFIadd6LoHce5ezEdrM+rqFRlK14tGzcTK1nIyFBksMypWniwzuY5Js/x0O9V8xu2fCzBWa8YYUfKOjfaXpWobhW/+vhe9wf5nBZ5JbMR75FiVfPC7rHldRf3Z4f629T2rQWKrlSSg73l3VjytQ//oMKY+jTp0sqjGowFU1WkJ4TulD+t/pa5rZzVo2tVDJCWSDk82wKvuV0M1eOOTkxdbkaBerOBfSb7ETcW+RxR9I914gbHDL4nVF1KOtGckqOl6RAY1mn/uJ5+k2TJ6Jb9RX9xqdLjW7tsj1i+ppEeA0ukHpzrH2a9TxD6gqEjacl0zHWT+xaTI4IxM5SnSlsq6Tp8bJ2MHo6Hgt71wKd2GJpMSqvikUX24oI6UY+Wuazg1Lu/L1zDglnf64Bu9y8oFEMqLJLZkkVofR8egwEUlSJ75Zw5xqQeWAIxIHk0E9zHOOw/mbwu3Y+l58ey7E5VbOaNozPzEB6q3NBgPTkGKpvrpf5rvpdkYaGDQzfvyL1pOFz5Gi3uUY/L2XxkeN1CIz1wwKqrgncWg0Oh5/jO8XDRPUOfF4+m1MasMXFLwUNiRAPVa1CFWAClzUlQLUS2WDqW/v8KIfQyVC4y8bX4gcIwnQ6FLJJHFpgDoeVJqxSDKxPJcIT6Si0wFq8n2kV5XxyTgiUYkA9SZDpQSowGVdJ+14pWCbu4uO5FyzlqFp2nG5vjmW9hzeZyZWQz27omSieD7nO11XP889fCPJNfUOedHa34zG+1swwxGJSgSoxxKgApCwe0kmXMV0iGaXF1ul4+aZCuvEkM3oL3b02sldhEavTweo/QRmWJsh/q7uWgaVSrJHSXPq+FSACtA+3UFoLIW73MhWVczjEt/xXErp4a8zA2NTczrlbbIjEpUIUA8/WNYJUndr1bfnSkySBLU5K8OdZQa8/V5dKufbbVChcZ3xE5yLU+Hx/f8qEepejfryXIoAFQCuqrzXbyggzc1ozi6ulUH13QEAADYiQL3LMNT/6jQLAACQS2h6sFBrmiQBKgAA0Lh6s8pyLAEqAAAA/exptZS1ABUAAICX7i86rRSiClDJoaYCAADuI5gkiZYZlQ4AAOxOgAoAADROvqRKmW8FAlQAAKBxRpwdzhhUAAAA6t7J9LmgMagAAADUzYB27/i0RhJ1r7hYkTgAALCVWvHSPYVOBhUAAIB2YtQq7e60Xlc3AACArQQhxj2mpJJBBQAAThAymcn3OPUuBghQAQCAMxChHqT7/X9uMwMAAEB1Xb2LAQJUAAAAhsziCwAAwJ2rqQWoAABA4/4GRJrG9wYEqAAAADRBgAoAAJyh5NQsvjfIWAtQAQAA6Pu9zUyVCwICVAAAAIbM4gsAAJBkkqTjuA8qAAAALXCbGQAAgDkmSboBASoAAABNXArYK0B1dQP+Z+9MtG1VdXY72W29/yuz26iUIoGAKBa93/+eveZQChExHwkIAAAAACNhDepBuDt6UFGoAAAAAAAA0AIhvgAAAAAAAHAKVzUCFQAAAAAArgBBmg9gL4HqCRAHAAAAAAC4GO6Wa1CRpwAAAAAAAJfDz3VUE+ILAAAAAADwZJwLvaZTFSoCFQAAAAAA4HG49Z/eBzGwc6NhEagAAAAAAHAFWEd4THP6GwpUNtgCAAAAAACAc3hQUagAAAAAADASNMYRjejcFdagtnt56T0AAAAAAABnwjl/ch1nE6ie75oCAAAAAABcG1+Tpe46Ib4oVAAAAAAAgIviCqpu+dm/t/S94y6+6FkAAAAAAICz4I1nuakS1S5Q25y96FMAAAAAAIDT4oR/ff90JxeoHWpzeuwyAAAAAAAAiDrNhSov0nv+It9BbVWcKFQAAAAAAIBT4gvHpn5nxipQ0ZuPhtsPAAAAAHAD/NlNf5NAnfytVpgMtx8AAAAA4Mo4+6mvEN9LbJIEAAAAAAAwDzZiPUyhzuPfXhnTe+4D9xIAAAAAToDDLr0/e3lQ6TsAAAAAAACnwNv12RXWoMLTYREqAABMgo0QAACOxL0+gjpz6EWgggEc4gAAMAveQQDwgrFgf16q9K1Mp84MIlABAAAAAACejHv9jw+k6bwJgd3UMXMcAAAAsBmHSQEAoYKCPTeeCv+Y5Ubdr1y6z21guzQAAJgGLyEAeINAPRBCfOHcMBIAAMA0eAkBwAq7pj2A3b6DCgBwlsnWQ+ZcHXb0NZjhjsMFCAAAV8LFy1GPL30feBsDwGzcUePSryAGPpAnLFCoAACDXraMp8e9uNzNPKj0HQCYjDtor5WgHGQIiBCRljUHjwoAwMnwfy6wY2YO04T4AgDAQuPu8rHyOiCMWi1lX9HTPrcRbYnI3AUAAJwf/3cOEKgAcFO+a0/jn2CgN9gd/DkQp5byOzKkeDn/DXnjP42hPQAAzovz84drBCoYYO4fromPR1d/mBC+KJe9jrEVF/qJ7y/hl5JhFAAAZuHs7yB/AosAgQr3NVoBQmmxoz64j0QNMLTXKtv8ETJsZiP7yZW+0zZcn2tBsAMAHIdP/i6Owd81MxPfughUAIDNbPCwnehDNtHryCIgfsrcr0l31B2/Rs5LOEQfT2R875ooeG84mQMAcDP85PIRqAAAl8AdIcBap0wDZf5Vq3srVH8tH/aIqYvR+0SH+R1uhpzgRrUvlebTFo3QYABnxxsOHjL3LoNAhSq8Y+CONO5WG6Wa8Uwc95qY+Eaq4Q+o9eiNns7XnO6Yna123jFr+ESP6p8/hai+FO7kXQAAAs4ZeYRABYAnEoSyxkZp4FJywtdCpCSVAgK3pLdaxNfkfFqsT72MvSXbW2Vsux5zk9zFLDJXsNVuHkD+sFsP10aPo3kY7u6tgEAFgEcgasPgz2DXuq8dmqypTJMUXw6uavyGCll22vidbWTt/XZR+/K8dssAhbrDdkvpHtfdmclt7ttXEh9K8iBdrNOfec+sjqY87aMLcFr8vlk5/x4kX//5mwMCFQCex2LfxXsCuaZvfm56P0TZRSJ40Q3y8kDRNG22V90BduH7zRZKq0wSKGW/q5U3b194ddttOrNO+XTWrTMUcVfZqJ27atRc5j7dNKq2G78aYEei8I+zVOpLT4fae+063Ikzj9F3wgcv43sJVIaaW8HthFvik811LMPwxunE37MkLgNcVWN6utGANgf9uCNWIH7DZaWinKo81ijq6GDb5sJRbgOXDWcx3w3JBpU+KJNkrmCHLlBQlX6qfHHNj/XXPjvpa/BUGjVtRVPNfqPBeS4DAP7eFtLE+YDdPKgMNfeB+So4D2+N02WS1cYkbzXsB27LWo/ctIyksjP2oNE6LrwjkcmRpSYolyrp8K9wKnvFFnd6vDg5zmnOCHqhV+uFqlrevvotX098Naext7r0adfJ8GxO0+Vvj7+hQKXz3IfzfsABHkXgdev2ZZVJpGf0Z/g5FVd/b+bnCM9RJM20cFdFxEqLWYsZReekf45pyR59Wq7wJn0uNEzUh4Qi1sXCpWIajKMglSzER7R8+6JOX1q5a+8OJdeXP7tFemHxFCzjXYbDE9SwOMABDISutS/xcDvJjbqXQKXz3ApuJ8zHbbRZNUddGL9XGoeFRZE2G1KID4x+WgtdNWywf8272LBiYkxsuMWTcYNhcSeoTt7pY50kTWwFRaZXGFRGUvfqjUkzS46EFXFyLlnxajGLIjDpgXpun39ua/o4Qt2YV3iatFeQFp6rbNyVK+S1h4U9Okzia+2V3RU9zrav917fB+PPO3/sm2K+tSQAMIdsPc4E2CQJACAXi+opMokdXk6sF6Kq5VDFCgXH1TeZ3mPtwdpL7K1VQkn8+TGqbxBFLcsVaY5iOajculTeS3XXmyJ5R49RBCP9183u83JbyAo+8NUVVUa6wDrd/zFyXGuLj7XMkp+jdC1N+Okx71S3kkRnuhp5cqPpdACYyXx9ikAFgMvijzbgXP8oL7kUIl0WOiENGSpHLTUcGh6dluh1Ua377aR8LY1dOiVU7otwd01l+o6Q7HrdgoqVQmQtGXbYDvUmk3tnfkSN6HQ9YdHmS4kzCt2r9i79q6glRSUau63ge398+FMTfxEVDddkTMwPiCzNuowqM0cXBCoAXIKCErKl32wZNxaYpF6N4jQy0nQ9RTPUEqS6N4X699kSrysup8wiS+t5Jq5uZ9uvVY8urReYFiMI57+N+lRzL+t5qVorqLHulvwmb34iC5cbXsquT2SboJQke348yvPVa53JmViKhRjPPrt1x5K0UELTXAzAhmkQ6GZt1vClcrfPzAAA7LYzyKCs1m1zDHl2j9Hto3v7FcbfG62daz7VTqfNX57EzQrp1XOhYBBuuM1qTvWERTzXIsdbYrIrFbM1TuGkeLqkGAOb7KCR1kctpPKpYUs38vWg4KMQ1Gv+bKWVCp3K0sXYFhJLTZyUFCvxTyD0N3EWRBHP2lRZ+7bYfYvjdHp9SZQFgAV6SyN9g6P/BB3NmvdGoALA815KP2FgTxEYUl2+Kr/ny+T7zdENHGbcr56UdIViekq10UzhzJkpb7DtywWNiKvtaG2h3u2+hLo+TUO8Ep+zyRFW2rDa8PjEV6rOS4XSpume+CXXLb1eksdSNYIy6g7k7x9+W88IQzQEl/SqhdOYbKnktPml+A9xn7FIiiYxBML6NnERRFy04QAADGTq+gEEKgA8kHgHovr5oZlm+cxMVp5c9j4mVo/82aMepbwFTZ1rFyUUNf51u4q10ZRTxbTuyVNSqH8HEPmcjU5sdU8vbYYgPqNJpDU1wlov04XIgeBK1v64uZ9SjX6zFr85uFLcrTc7fLs2rl5yUw4UG7ZQ9G+aBI36VAgVb8H5zgeltmvDziBQAeDR+IZ3oX5uV/TpaeRpnGbeSyn3BflDPOmHM7zYw67joBaz3+PqnFEp1tsY3F3KPXScdmyRHB/5fcaov4uvswnJHtnGasmfBQ4ONUWQWITops8bI1QAaviLbsCGQIX9IRwHToC8+6e8fi45N/iS5t8NN49Ikxz+UgpmAHriZ6VLFvOxr9M1MLIrbMxrxCUFayDbdioacmW/+97yrthoPO1ygUud1K4Wtm1yncMHlzxMWyBo8lrY829zLCH2IcjKVLO4gmq10qJLBwDgViBQYW/mTsHA43FlIaNs5RHZ6PImINXfwkOBgeWDHdyHWVcfl0lriomPvhYKXQoq6h9LXp6pMRfsz2UUu3NnWmqoqBWju26caUlXOFrvyjsytCNMX62D1mUrW2Bt0KfqQxK3xDLd9r1edUFqOX5bX8f9Wkmex/Fmq3HVBRXFxz2upyaCT/QwAtwF9x3apprwCFQAuDHK5hzxCYpIFf4Z2VP1rUESz1Sa7Hd2r+vzjvxWyxjeioltq5i6i7FeLNRYt6bTq3ltjS1pX5S6PWRrL2slk4xG4SE+j9WTB1yF71kLEDpWfcsXldKiWk6OS393AWVDpzjsOYgW1h+tfHWbpNnTzzsFB+S5gqCNpOiVobEQcEGYl9iVYO584mOGQIW9YRyBeZjWNEoCseyhiHLL5/RrC7Vyd1G1qPHv6zO+4QM7veB9Gl7z3VsiN/CX6ekRuTf0F3nHV5uLb2faxfMA02lEX3Lb79Oolm5okfD7EcnYZ5wikpdHtKUpp4u07ncJLLIU4DhmPm8IVAB4ELrx9Vtg1Togu4GjupyXsiBWtCpLLuGssMBi7raQt67OTb/CsX6XpxDqm04mtDhUhHxrlY9N5NMg9ANrDUvnTbvIxK3XtrnP2HpY2RR0Huf0CpUdtmnmd9phr36rhwJ/h1c1WLi/gCB8oel6gmjk1lrAeeEe7ssplrIgUAHgvuSrp6Q/I2edZFuVVmL02JS1nTAzTRr+pRRvtu3XCkvhkYVoZamihZODuGgp5U9ULvK4sDhOThxeu+7NCRevaZcz/k2syuDZHqDKusgDLb+sV/uW0M31JPsyqUjRjw92LgTDZskyffr+f5sqFej77z0OK5aU35LrcllLPiX96ToKSRFi97MA39YymmLBAR6NX/7njgKVAeBWcDvh2hOB4sLQYMWYM8Vjrgaf6MNM0qQz95W1ppk/dKOt2oUcrWw9Xx0nwute3TrayYr5GQdXqyHZeSUSyzQSaJV5gnT3mMhX67eMnOPG1Eg1tAd6/52PJg3fHvfw64hDRdSaeyVb+XA669RTk2FdSgzDlUpUq9JwoHRy4DRNjipraLcWDJcBo/QBzbybB5XeAwDnQPxKdSnGMVCi+cT991+r005xuX6U2NurIpSZCtC8Omm2mmRtN7T3cuKVjVhL7G6WUPDrhvlJbVIJ1XYGJ3XoGM58tVqa0veKoktygpnt+3VI5Ptu3Rdaadf8n8VMNpeZRHc3ELjHWwuWvijVKaLs0RXy/d5XRfnDzLK+6+gQr8hOgL+76zdCfMHASXorwDFESrR6TnnLznIGidMr+oxi4HpNjqZ1rGndvOhK5LM1s9X0rZeqOaxLXjBffYsWNlgRs4tjkjMh2iLeK1f81T9phUPy4nX0c4ufRNLqlfeANIe33i3Pm8RfL33/ktY6z6Dk6y65tX8bXvtTvJpsEwupq11JlZxm6ILaOgT5jy7qtcg6Yli4OBuwncYxYn5IPewDRumOvFbD//71MhbsqyjGgkAFgCeSfOzlJK/Zr4TyylElRjgUnLYXt6p1m8Wuet5a2Sz0NBI54T/VSEfdIPf2NFtsGiXue0xWRqET/RU7gMN/GxVqWnikUHXPauTHtay49J3XIbTJV/KHT27DXdBc6lmP2dt/sHp9vaJPD/NgfO/0kPLSwFx7JTrG36LjupY74gaegcsig4xBMSO/0X5CgXqCawMAUFkH63PNsZfGzk5Hp5ZAegmNG7qlyObll9S3tJ4p27m60/d7RJLIgm8v3sszCOZe/qGIpKQCPc3ke8Wu0kFzB6atZtk3Km3ldYrBdJtmMdeSRinql+hLT7YahrtmxalqA4Elf0HjCh8WzT3U/c/dvsOXeM3F27W9TH3X7B4RnEyBYJveAe5iTzOZd7bQYiMOZq9y6T0AcFrEBWSMWvCiYVmoKSu/uQxXdSEtyt5a61yZS2G/6a+5q15W7YpXW7Q3tFkiXdcWAoELl5/EDGQVV1S7Uq/oBgYjSNyu0l/R9a6/JwXapiyyCZ1CsHVUw1/C9JtVYVVKfVQ6Flc8PaN0WfmxYiy01IbwHIIYIxhPMmG3bbvGbRDiCwCPQ5qi55UHozvCII93uCN0FObtu/OMY8njH5P84oXRbmt0uVYh3UEte3zHLi5MM/s2jhTqnPjelUxerjqnuZEL3+I1OYMX52/tlHWntiShbHY2zXHItTRtjz2Gc0W+wBO38bkmrjy6RMFJM1saDyoAPJDMBcGYBSD7JxLdkp1R2gopOjUQ2vnB0qMoZte6uDDxGod/ypaQunG2eClFlDJCt2fqxjV6g+OTu026fCTMb5H0seTc15xcquCPTTqQ1BdkF6rsLWbofhat0yjQKVB/f//NAoEKAI+EQCGAq7OuKeya6Xe/D0mpAcP18GoTclZaeHN4UECOeS7l1YAe3KxEVxcTqNeoNrseVx55641SHu4Hb+6DmaZQEagAAADwZKKlmQY1pujNKHXq9y2ss60clCorn6YobcW9mXuAixcoXkbJpV0RqIUEcuGtUh5uCAJ1NKXJPTfxS027FUz3AQAAgLuyxsRGRnOyQbiq4Irast+G0p2VS62ibbRVuau5fJslrXCsT6AWNTA8A0J8R1OMPvluezCD/Qqm+wAAAADYmLQjyc8GLa4lTpenvtL45LMt5uDjQnCzupxW07QYm88CgTqG0ieX4u9k/U0CDypUYb80AACA53HAXkSKC7fs2cUseSrc/iMieyuxFIfAGlQAAAAAOBdoEcigUxzPHIXKd1ABAAAA4FwgQwDmhwBP8qD+N6dYAAAAAAAA2BdXOejUE2YtQsWDCgBwa9ZNRQEAAABC1K80/1ypE1QqHlSo4uZt4gUAAAAA8AOj9MjdTudukpR+q3kzzNcDwNNYxtOTwUbcAABwA9gk6bhvzrjh4rDdg8qtBgDYyG8k19dyTIIRHgAAABq+iTpVn7IGFQBgAGcTpRDAnDsAAIAUVuVPbFT50dbVOS8WAGAXsZMMoIyAp+KsodfBGxgAAOowaD5l7p1NkgAAWkfrJIoX9+klQq//TsavF52uYgAAJwZ9uifuHE1NiC8AwCbQF3u0qB80q37au3PaigEAAMxdiLqTQGXTSAC4I67+E6PfRhX6dVK3NOTPFelPpQELl5B44OkzAABwBvw53qN4UKEGthNAitcGb54WE+6Q7OauDHaF0fOKa5ZZ+gUAcFucMrr7SQqVNahQY/gWWgDX5TOCa+O4x3y3sK7glYaWDcNN3PyTx61Xb5D7w+m+Q2SB9bIAADfGmX880IPqZuljAIBLoWnTo+txfzY2qTvBLSpEMFdPO9mux+ucwrDaOk94DgDAQbjygBuP+L+/5unDb4gv+hRKYEUAaPB0FOhRIP3vQ3+Fe3QG4Wzc9XjXmrnX/w0pomm1MgDAM/EdaSbKQ9agAsDVcCe06m/IgGb2PbsCvhVqU8nvDLX43nN3lXPXTpg2GFNhdyEpfQbUK0SdA8AwVsfp58+/iSBQAeCaS+G8KTCxz3wrWOMEJg6gLFF73K7ZD1J3OJXEv2Q/OqM8PadCbd5TygnTLN8Db2+z9g2l0rWfsF0A4Cq4E5Re2Aan9wM4DIv3gXccnPkD0mrIZKxQInvx66JTNIz8leryt6uXo01Py2/5vz1Ru+J+l3C+Z/gM+nHSFR4UANB/48c6SwsFbCsjfCL92d5geRuWerzaIKWWKt6mvgGpHaJZ4GBO+ka7J+5nKM1YibqbBxVRAwCDse35+tVwyZcmsz+cZmPJn6h0Vl+O8dX5+9hnnCh+94oVa7IIlxjIKN8L0PQGuZjYPaaeWzZD3tsWOdjYMXWmvW2WUjiy2hymdmrKsZTP63/aWuEzkl7lwQMAI8E6m8ReOg5CfAHgIqRD5Msw6jbE8qz0o235Wew1uZBcRQeZtYtgqb1+B6JsW3NTXc5FS9loxv40u9XqDSYalCDIcfbzx+N9CXs8aMYTCoghCtWYifWs3feE2itRud5up+cuSAMA98O/B9nZmyQVg2OOqwuclPNZN/BIgog2N9wGDsVbY3bZgbp+NOjT8sF+ERx7PX5O2Wa/SZAgUs4GX3Q5Y9tx63zCb+63oJzNl/5e7/f+h2X1s+3gSdnfw/l7iDc1yyuxUtOgS09teb+pvcv3obQ+oPkOdtxxrEOYxgln3e6F//13tkDdAzoPAOw3rbf8FXvo1MFUGWbV0TfPLIwbFsa3lj3vAp1llS+qN9ScQvq9/90jenaTirXXuVJmc1auKqmbPUyFI0XvalRMMD3Q6rAqOak1hbx9p9fdV6V2oz3YzfkM1ltpBcqPulZ6RaEW5pZar6fDDh3dZABwPrybLlAHV+F8rzEAuCPS5y8+9r8uPoMk6UmhFSlk8P0pVBuRG0M4rtf88z+r6qiPwsGaEKuuEtbjduGG+aKNJm9ygZoOLjRa4sDVZjBsLRnp+oKbON2jS0r0kox5AlsFsvPl0O9Qmnf4yNUS5ChqfwdHyNyaKGqv9vgWKt1o1PWsl5jpXQGA4eQDsj+tB7XokgAAOI5g/Z8wKuUaTxq6cukq2lgNY7ISrVtfOCF41KK6RH/ESSx2oeCv8RsMzEXTL+7CcAOF8N/ZtTdZvtrJrv0ttbaAK9+U9thjSQnWUD3LJn2X9mtFBlu29IpnV3S526Sasyp1fDe1ELHaQcWvfDy1h2242jtAPqJQYQ5nearv365uXqxEWaDSBQDgNJREwazBatAKQykANC8l+rPX9ySpYHNWPnlXGZK3B1tKXs41M3FCQZDGwZ355ZhJ59bX7jo9kinByjtcCzA2ohTTnNWn50Se+MKqYXOtPn9Fk0erC1cyeaT7KIndfhp91NFDoZ0ii/nBivpEPmWAE/IatnlIDmGZjv6bJ1AZEAHgMrjDcvDndCm0FLGGwprO2lZkrBM/fw15u4TeOGMUdaQeJPUYr2W2ZBaV+ClfqNiSv92FaH4Fe2uS9MJEx2qqiFx74HWcn7IGNm63uChl0mkNluijzxH8+8vrZpow0SDp1MHaNSeMATGcsy+YkAD3xH//180SqNrYwpgDX3j/wCmQV2l1D52n6Na1uD89RdvaySEPcRAgLS6OSxTqgBLz4iXqXeDXSxLZ+PnTJnZLy/3ivIVjeV1bFtCEeicoJZZB0aV0R9i+bJHsQmTHdVi8Paa4VPj7mzgDTCEl8NmcXBKb6aG0mtIR2XnbOXFjaUbD0bGB1Kdh+0ZgcBUILD8KP7fN//nkDbTMpfKwwwKdAc6A1Qg2otqOh9BS39VXY5/JzF4oEyy4iXaEWrT4oh30vjO9xFujqoOUg84p7iL22jisyRopiPNfb63vm7W2yYg7kUcP23N9zxvka4wXia6v8rWs/12PF7bfVRMar6JQgTXwWvT4jqFZgGtPhHmS5Ru5ns2WYLnckXCJBRzBq7VnKNRoDWp4x7n7AHAqrA6bH/qIqvrNTj8za1gqtxxWIzZNXkO1WPvbYVhrSrGzUiXy39JVg5vCRmMBEjm0fn7Lxs2+5FrmJefplXyznOIfxCjk6LJaGkjxGAvu3nh5qhYxljp/NxIOFMYbv1bzK+AKIdy9rBpxkJVV8PdqRX/+UJ3BplIrP5uDtDXNXHREC7ED339Gzv74kcWqBejB3+07qAAAI4lskiHG4sBZ2PasWlKEn32N7P9yqvIuNruzWzm+p5XXmNfuehk8U3aF2tFAXwGaeCWDJ+NoOyKNOQ0ds5WA6Lhzii1xoJNE8mqHxefx4IXZsvp2WW2qOalFkklCYQ6gHF3dhi0vywWGKcIZFtPQJe6WE+UYNhQyFaCXGZP3/1WrcHqXAuwNXQCuRmL1lA5HVEMRDyf1Xfo//8GUOjmt+7KU0lQf7abCdmSkcfoRY6mL1nrVzplPtSYLv67akfOGtPFlRzmF7ZMJuRF3SXXFNuXS6mAtJ649nn3DTJKnWMYyUWKJDvno7ZHuU6smrp8h5mSraiUU8IzjEjTDbTySvrfVaIEKAHBKpKAudz4FY6/SMSO+VcoOLXN+FfZv7t81KcGHTVWppJEjaaXear3Itpji0okfjNnGZ+34AJhncIzZxX9mrt+vg7WQJM2wsFzV3iy+bfJkKVs60NReLskovppw/qx2MbXja14lJds21YG0AbAw/UlBoEKVM1iXANqsfxQvKXlykpVX9mIsxxNLrMVU7xj+W5IsymE/fZiZoULU5pHqdPcX6lsV+rcXO/rtNLWU7kRLFdoupjSt7qbfrFA6N+EbGuX3iB0wC2Of+tAmTwqqdZ1HaprkyLP7/tLWGmvzReOoOa/4aayFjUy3uwGugJ/9xCRrUC1hIQAAhyMu3Es3qgns82Ar0jwmT1gEFn288/tnvmhpLWAxAvME5kspWl7iSfZla1/B/o12nDaQ32p667fKU7olec9QKKwSbKpKVxaVBbhpp7an7DpzN5prsKHKiShMj+Ze7mChbuNWZbont1i1bwUzX2PvJEup3CUnU9fU2i4feN9XH6zFT6ohr8lNx/D5HRO2I3UO2JF5j00sUNW90uDJiBsRAJyB2GNq7aeimEgVapavkx8LSTkbK6Ip51hrR1u8h/tSmty04XrQXFg1jvCpiZxIbUHWtOXfWHyDSnI7+vN/Sx5NZYS3wr7hlXpeqgNqTVRWj23b9kSWYkNse/zcbETKZvDNllol/4qT7LfLk/7CYtsrufFh0uNdG4KTCwLBbetRhc8rL1mJN7sY4BtV9gRTJwBXw097bP69zZyPqeViq4dHGQDOQ/FLix+SMwyT+MumuHVbSgoVE1MYItLMEcR5vVyj1yw/X1LU5k8sLq+HzL2x5q/mG52lXsXq+NYdetGsWekWRtJ5q1xWWinVJoZiuixmKV9nXu5nokWhltt0oh0RisNt5aepS/er2nTy+GX5qXKgGXdE4iHR1aXTeiQ+Zi3AtTyoP2U6vTZwSnCfwinIrQsf/xo6seQQyHzFlKGY2gMQF2J6XHLRqB3IK9U6QEfto5/V6vRNJKozzABI30YpfsQxC94Indmi13Z1SQbO3XGvtOjrmHlnEn8X/W99pUsRTlmsufTXfgyVx3LWrURu6d3aQZg02flNuTn/I7rE4uOwFFYenIMIZEtm2eedMVwANg8dr3feLFHId1AB4CKsn7IMBVL062csjdx5iWaNc5T+aBec8dooE8mgL3yvM66BtCrw7zg0E7FeLTkCNdbbBW9btGLvc9vjhqtW3RlinytvcOP0gFbSL5diNW3Fr1kuszHbdYspA1tLtRBOLaXiYgONYdNZXY7iG7nWwMb2OewS3YGR1cNyBrgtvifR8oac97ggUAHgKoQDpTZTLjhJM0swWO4U69vwn2mq3C8QViFfy1Xjs2mJIPCUMpKztGx/b5OCI7jHyjMrVD0sdzkq6K3myNI6itJXlJZZoVarVL0zok438WmnVJcWq746kPWz8pXYqXs7jqMXYrhzrWy0aqLT1KXMDRTnIzqzkBIvD3wpwLxa0gjTT88jjl74m8Hhtu3QiAmAm+Hsc+jBrPAkEKgAcHO8UenWUg1eINbmGQ1sYVtZq4DJUqSFtnmJ40SRPRi160ifr2B1FjKTozvzAFl7fewXUw0I/zgL45r4TaZC0X6QD6aB0ev+M1FEV+xmDhPH8ngR/UGYfU+w5burtrlAK8ZTk22VXa681VYsS627Y20ni4FtKTcOP9+7xnK0+77aM9kYGS/pTWEh8RYaHovftPu89kagAgBcA5OQtKSS3MaWjMVki4WeyuC2vOUFuIXQ5/BnUY2r2nn9xdwQcty35qUVkqyKXriQjr13o72dG1AT6V9lKidQtfZvAiC7hYLXNZfgjfpCWYprdW8u6nxFcO1mB7at7RqEujOYha3Wp/bEjpCH2Z7hvVUKskDcAFiZ/bggUKEKn5kBuBm+Kap2Tdb4e2umpajbyG+leucq8d7BSzdysxouYPWU6SK04KkuRlj7YZZCTdD3HGgi9c1K11YvyNShcikazDmY4nR7fKuRl7X6rSat1J62bv4OaoZWGVWMzzVh86p0RjKw6PR2cEuPwM9t570GF/rOfYjiuQBgKJ0eI7gI4kxAoIobZgoEeV7YCFVXztqyYT2MWgmWDiokBb/mVyYZHFIZvtd4EUOSDZlqV+5ailDbMfQYa6EIQcxw2CWUilXqFdU+TBFf1lqTKNdy6ydVX+2D9pFM6tDR73m9oicnTSt0oeSkPSKP4WC4iccyz42KQIUaCFSA3UhtMYBRY7SuNzRlUNC7esmLishEXZNA1StVKFrOrCwfLZnpClFXrtVDmZ4vpVCFsCqQU+Ebt6cgRPsEaixEc8GY3FFbs68NEc9xBPXKdLZQ27zrCXKaofba2HopjEDehOAwEKhQA4EKsBcldxPARPqCwD8pX9hiW/3Q7ZwVj2+hOvVayZq9rfDMtxylkM0wNXhY25Wp7NrNvJBxVpX12hFCVknZspNYzSmroXBA8/0qLtRs2iNT6XBREKg7IUTzVpcw7AsCFQBgFghUuJ1APYogrPjzzabwWFvlS2pK9uzafa5rLZUUqkBtO6B7j0tO12YtL2Y1ynOtZ1UoQWrJUuOevV9DGaYZjmSePEWgAgBMpDGuER5A6DGCM3hlCguJ84Q296ZvTRAn1DRim6NWLmSoQPVjsqo6m+Pjpdblybo4CNRhWObx3LzNfHcql65zJ9guDWA3UCOQwL7p144btDhX09Bm8efISSxkpetpqfBIvkXDjhzF3HGFHWJQbSzpIhSDNZOjJV83j9bVQaAeadx/3kZzJCoCFQAAAJ7L6ECGn9fBX8UgffmIW6ailbUJHUsWIiNUVJYmZ3N4hizzm2oF5wWB2kEUBOL871vUlmiJeetQEagAAADwXDTXJpx4xXOL15u9Hu/DKad+7v1gujmF/5tTLAAAAMCzNwKBXr3RkgY9A9DE4l2dt13ef5PKhQvByxsAAAAA4L64ZEX6tB2SEKhgwKU9FgAAAIrw4gSAS+Gzf8wbyHYSqIzLAAAAcH5WW4xQUIBTg7zYl8qW2UfCGlQAAAB4Lu8PKQwXp6hdgH3g64c74+YuP13rsAP0nRvBSAAAAAAAt/lkMdS+PnVHDypd505wNwEAAAAAnhRZMg9CfAEAoJvvl7x//2ZCCwAA4CL4v3OCQIUqGJ0AUBgeWAUAACcPBk18QQxa1+Tz3RPungXDm1k55ffza/55mhMVgQoAAH3kry4Mh4qX2Xj+TduSuQw4emz67PSSDVV0RXg4zusvmeXxmPiYIFABAABOaFnf0ISefU2T96WEGbhTdkWAnfGlg84XDp/i2UCgAgDAJjD1yviWrSbcndvVT3Vbfz6dEIZ83q6BAZ7A/YbGw8dFnx/y2V93/MwMXQcA4AG4YMhncdDol3LWmGITh/fgChzixZRaKgqdvlqrQfezJE8QceuvCQ/uXtpeHZgnrULFgwoAAL28bD9shUP0abCoLjziLuZTeG+rNbPPXKSdYOCd/m708lmMSge4PtzDHZpO2S/pbxYIVAC4CFexwB8Gd2UcBVtg8jfTh+EOeJhNbfXWLHTe07Dv7Qi06m5lAMBAEKhQg7c4nIWvUSvYtotFSle9K/cfiDJZ5S2a66rCdUeFetUmGbcN9PX43DPmIAFOMby45Tc+MwNnhncGnMz7ohvvSfxWcGbrypX7C6JBHPMmi/e3GZGbv5I+tR+6B1viMNVdpnLn7U7tOHi+bGzfPyVXi1MHuA/eFR+8aQqVTZIA4CJoH1qv/h5+Bs80OLmDxrI7bPcQbkaz3y5JY78MesrvjGrdOD8oHzrX1WwUb1uESthWkkAd01n1TwCr5W8t6SJ3uIP2AfeMU0xwCOzFdygT41HwoALANdFs2Nz50jbEujZDORKZkvKRBYTu9T3N69wkEtytQytn0Oo4fW9Rejl7rVLhs1+PK6xAOLwyV6e9xQgIfjjc+WFUzA83L8J3L4HKuAEAB+F2za4ymDm7Wotycs0jpqZCQldCds4SOZf6lRNvj5Cz228gT6osrH/xzZMSLwprk8V9b89FqbHLNb7U+/Zj7/gZX52daGqBTr/HmQ15nwoa4zAmKtS9Cqbz3AjnGQzgBGgxdXqsnTTA+YErAbPwu/UvcWgt1KtSrTSBKDdTsSnFjCaxdHloXfkznAYHsm9JknmXNWPVGP8quq6zY+ltSqq8Q8zs1iH0lDHJp0ZsMSHaobdJCw/46BDfW6wEsLVjS4BvUwK4D4T4HsjUOT1CfKGKZyyAExDYJNKgGeqdRQ6Ep9p6cShOLHFkG2cXVWePWKm2aML0YGnz48IvFV4N4G1eyjgM2rWEV5euJXJbF2qwHFsPCHXoCL0uCtp8Y55aNh1+pGcM0U0q3/hg7tFwfrRZ52/rMOqTp1tSAIBAOsR8/54adYJABYBL4UXHlx9kyoRZm4IRowF8/UMc13/vgFDR7PYCWF1IurMnqG9cs0k2ohZerSr0QrC0eikNqr6qC2JBXXL6KtJZ1uCZsbD+HjmpXX+s4+XcEI0h5/aJgT5+j04SiJAcHVba3wNAnwLMwot/u6kKFYEKAJcjVoU75N9dF0Gh5hJRENithnSLdPpV4JWm7LI1OF3bWYqszcmWZGieaZRozXNbldtexi0VVpKZlGXq8v0m0tzNWbJ8jW9L6XGy5iBMxa0+9KmdrbZZ3NpHa3zLerrYFe/qZ4YQnrX9KQQvHcleZTNOAMBI0jhK8QuHyTkb1xMal34JC9uCCOFIS4SySvCmVooQ8orzLSzuDE347N/Z4rnMs9qOWuWoIP0k8a84QXFVYR6rbc1MrnLpGkuZ1Y+IbmLdFZtVUUpiz86mj/VYeUVzSqWX61teWKjdDnWmSkyQ9/Z+U0XteVG9MIVKWB6yxtxo8LtjfC1DP/HEpbubB5W+cyfYJAlOSNsI2ryob2cXi2+roLyZj8F1k9jnoQXtDUHUG1Acy9nfojrUr0xUYbW7mzSfSX63tcAqGK3fJQr+9oKnPcwmq0qrm7YU+WzbpVqLP9acuEnpbW7i4PxibXv76Nre57eZP57Cu64yvuVFAVwM55N/+nPEh/CZGajCJklwakqBlu1T9DsNxp9BXo+cKY+Z3ZVKV71qtcv+2OWllF1k/b4kYcElL6FcyvsvJbBZLt7eWZZGiisZVS0L8C5117WeioUQb0mlOkmHBWuXG1gtJEvWKtulIOY0I1MPjQuWI0M3szHXd/JF44aZfX5UJj6+KZrCtHdw7J5GPH8b6xyVAbgQLn5qyu+S42ANKgBcmrHD50GDsTsqf1NBi2txfEWKWY6NI1qvOY31fK+9NdDrqsoVcVXsJzHV6++iM+4nXJPJQkXEhUJEaVY9pVidyklaTmF4daVQUdIWCy+KV72qg6lWs5qB+B8pyFmenHntHaUGr7+RJH2Lqi2GL3/Ec2bRKrm/aiotlo7mXfKCxNK1m8m3UQHaCMN1hKN386AyQADAIYSute3+gVJc6kAEYdKZ08ZKqqkHX7vf1b3hhi1OU12Ayumu+dDwaNBfQULbhpti5bq5I4pZE0CJRC3FLSRe5ziFYbcr0Qs/b45/p8KbPc6FVpCjKKpTMWmIRz6pIgZl/ySrNvvkUgXplv9fCI9YDmqx5lm9lGMYp5eHHckew3+zKwDnxzkGBDg5X4s7sz4azZFgdt6PDW2XDPjKT+35Ni2+cyd/5NuWLdaT2y7JfTCdq2QddqKGki0lWHNqUcHlPIPoYyXH76NnPhB1wuTQ66GTZ/PzR7tWr4NQ+srWGn3voJpNS59ygy7LkE/w6Cz/zB+n8Ifwn9HvuUAul1z4O/r3CYY22AI38EDsc7t7QIgvVCl/mAJgJnKA48YR1e8rSWMf0nFPV+qhWANHgx8Hl/m9FUcOIdrds/QKN/LrR676Ebmd1kTqleouTY9i/v7Ul22U+iddA4Uf+GLDjyUlp12Z5RLXUSG8TMUzujSY6zI1O+MZagkykVgvIJWhjSEMFjpqBQArs8ZaBCoYYECH02D70qQ/Z3/Pwyx7MjH6vPRitIBbd4eRZF1Q22yZjr3+X+zi9AYRojnHXKm0ujE7uNslBqsZC5HWf1chfayDrbOcLuhNGnXJavlvNU0SiZ3EyGbJtTWn8e9rUnXzttqEVvt0+T3mMWDhJjNT18BPLZ1dfAHgUq+l0IQJLNRoEWrniCRGlTWNZu6AUVJyqHgt32IhWhTdwKCJQa+CSn1Wv4u4m0pzIZt2vtFs753JrjyOzk2PDipKyrFcgBtlgS4Dwt8J6ajU57L7vvHkJSdsafuqyBltrVvwRSTJLR90u3CwjrVulDRwkKsL813fmuPUFRuUi30KYGCPeIYm2CQJAK6nUPMR0xUn4pt2Z00S17aFDIw9kw3UbbtWLauy2Rm0QRKLmuQyZZZa2evHdNdEKbaay8ZrCfT5gBaI1G5b/+uyoc0JxruJ2xAaVs6k/YuyXZlcBSGs+hsFnA5QP1GozVBkOTQ8j8ZpkWiwlmRy9J3f7EA0PEneeVf5Kav0ZyPvU85lQBvcxKM4fnlOApskAcDFCDfT8Oah1bD1zTJhmGyUYxqikyShNo4zCkoJzut8DcTG3fIfIfhRizhNT13Xvm1jaw4NXpJKcm2rGfnn39kd9RfM5te+Pz3sZhUkwZqb7pPySHXaNY1zOiexU3tvsJRV8ag+p7TUIBR933r1V65taqh8oBjUISjv+LjtQn6P7Zskqw3PNMCz8eNGuFYQqABwDfJh8rsIS0NZujWchvE7DYZsVcHGfKMiujamHaVTv67fMM+aUO4tRPypv1V7U2bhjptrMpC1GzSaHfFcT3p0iAlTaKDzCovvEDTGhmvN5D3BZXy2N3Y/ZTKnXsCWcpfw3ME28ikeRQAog0CFKq8PlwHMR556l2wX/UilBDnJNuuobNs3ZZF5Y9e/QjtVDSgVgv68RVluoDmH1Q1sb/ngixbS5ymKtnOaIip/0NhnnyoZONYWZHu7e03ygf28U6/MdphltzkUQ4fZrBfVzi6G0uyTfsbgxpDc4urIq4R2FDKOetV6Q0d/8Oq8Mx1ghXt4NNMEALv4QpWx34ME6CZanhRqrCB0Nloz1fGJjfDLFu98DYnyJVHxViBpNQqBkSJBnG645qu4VlJcuqUXsab4ZBuuIdvGqpYzB2rcvMuqt0KFk9ju9SIjV3S00UwhHHytx0ZXZ7ZwTtS8n0oUs4/udND29RWx0aK+ytkjB3S/6/LPZeOgcunjlkwbn3g5ZcMtkM8MNiZWzvj9JK+5j2pzjuW3fZUILrnSA9pgrv36cA+P5jXaTNk7mV18AeByg2X+o/TPPsMmErgNlUpSlAb0yCbdYhTXCkrOFFIJ5S7fR/38NcA4LHlDQxWW2h51gTbytbklL0UFR2I/3WI48ENK7qmXxFjXKxuqkOtv5c4Nej3rIrxSfnawu+WHu05dq/0SbXTZZ/j0Xb3h0uuPbkt9j7JQv9Evae/CpgSYRGwSHAceVAC4Fv4iC2QDzZp8VTD8DsT2C5L8t8LPvuqbElyYY0iK1vMv7i6cZCIasms6pVW0RKNIXHrCjtPrBqeJIi9Ecgb/0p3KwQ1Ndn1ObnX89YAmVVVpueSmhPpccJ9nXr8odHgCmwvuUqjRbJCUQ7Fax5qO/rDs9M/CAsCh9H37ajsIVACAPSi6YpvMrdhB+9E8sdP4Z+2HB1a3nFhYFEIaZLSlonI52S8FhZpvqFTJNjHQdRVaD/0WHNuNl5+fHRWUBmXHB9Vc09NKzrP4nkb6V1CozYTCt/B5JW2qI3e6ioK6VgchnjUqfprI3ahP2xJphYUhCWmyDfElW1q0x7oNuus4hTrFzIahcA+PZlqDI1ABAE5GZoOX/wzlmnZEQFzvFq3nHeAx0QrJZHYpQVFuxu7o+BTtChItuv4rdEP+NVKQwNEJmz+xWg+dVYoQhaPJ8o/vVdislcWQcR5KdaUzAu9rmunqAo7UcRpTLVS8yMkN33CGQTml8jHQIK/20o2n+TE5SaEC/YMR7leA64FAhSoM7gBHM2/RVeya3Wn4aA9tLiyarW+ioxwQ6tZ4yXqtMnesJKnDtMGPaUR4Sx0HieAfpWyKnvBygHk9q0hpfloviHQuOpGlH9qchYazl6pJYQdh3HUlr8zJrLqH07y0Wr5/V+7NN42pc0RZNHcnowzNbs1SweJN6O3eSbg5AJSZufwbgQpVGM0BDmW0K+cWc0z+jFmWVHNkDIve3XQNsFKx2CtY1cL5j+uBJIS6I4q5gli+oYSa7y/dCbt9K+yhROtG9WPLnwa/4u/WhPHKYoh0NYx5WcsbOpp/UdTBeTbpLKYQPNv1GxL6uwV3fKjEa1mp3GGkAziWLEQlfm6Prs7eJTNIAAB0Ml43zMC4mPTSlF2dkylo2u5MMhdUtNOw4P1TQ3jzjPJfXVHBhlUL61WIrh51NxXLKQswrpfvmr2ChZXi6wX82iN4CNt82tablcUdR/dA83Snv8d3ME6cjiPvTiXIZtk7KuV1yqcVjHAPjxas0xQqAhUA4FzcQqAOkUdn59QC9WIeeKktJdHToq38Tk/eyQWqXL51gWpWsyyFs6lNVaBmqjY+UpphKByTCwmrgra5AdzEo5kmUAnxBQAAAI1jjMHq6uK3xNg30NO3rj1+ufO+OzN9/9uYb7CK+eMXDLfs1tRY5RNSaiU2TBo1xPxJ7lUtL3k/bUvel3EDwVjeXQZ9Oh51/Jq2bzIeVACAc3EHD2rbEsSLUjXFAfZCUptymHVf79RD9HVRqS1xLSx9FQYK1+ZA1fzH0s88p9cHgboH5am/ORIVgQoAMIKGD1rUc7r+KPoE8fYIFQ4PRY+lLA11oq4thmUKKXQPcUG8qsL5CUPRg0CgHg8CFQDgqozcEugeb+AHrM/E8oX70r3YL/8yRXtW6qMVZJ6Ok6qv9An7tT0G1qAez6QYXwQqAMCp/J6j38C3+MrMOb/zhuULd2XkBBOiAkZBX9qf99L6325n05agskkSAMAQ3uP4GcXgCat0l9ahaQEADoaBd1feG75J27Edy38zCwcAuA/6RyYAAK7EDgMZYyPAyXHfSLDvVLv3EzUqAhUAYAju1lbYXa8LAPZ98H9ZMIbAGOhJO+G8T33U3v9+u4lApfMAwMO497B3xthlALiITwYATo9f/hU+te5cAhVbBACgATd0MJ81Z6lytvoAAADAzjPSs2aYCl893lQljBkAeBJDP4mJuxIArrzBdZzRB4Y12MwtvhJ+AdxPCfppAlXaxZc7DwA34oh96ccO4X7L9vBDawIRtC88h2FdnWcGhjF3Y9kH4b7bJM1bvFRYg8qQAgA34Du87jrKunNkJ6VzLAEDAIA7wOvsGE6wyujfLgG+AAAnwZ2xiGIMrxsY4/uu2qMjht+fGp9dCdiBR3drAIBb8xKoXlghsNGm470BAA+xid3Y4e/3sRrfHsGca7Gf99jPXIE2laEK/ZUZsugkOG4FAMCxBs4BfGvx7xdknB52f/5dUzypAHBPWhWYE1e/dI2RfpgrtpB0s2P3BgJg6BuM1+GZuH7nBAA4Be49nk7Xp77NABlpfQEAnGSPpDGbAY51n7rmrPIB2nfnlewBNGlDoLDeA/ZDbs9IiwleKsb7bca2ZYRqAwDb+B7Le9x92QKHCFUvrEEtGSJdtbrBxDsA3ANfiqQdO1RdfeBL6h99Ce2Qa0teN5tvj+s8/96vsNkWXkfg+S6P6905YvtygGeNXs/CZf/Yt7jI5vjHCAYAz2PUcPvbg33MGBrOB/bmOMyI98m+TQe8J4a/BL8Nancgr//0tzc4/CS/ZcddJrh6w42+aU8GgJ357YhxGOto5X4eVMYvAHjmJ+T91iKGDp/NC//1EJfrfS5ujwq/W6Fwi8LwIWP5V35fup4VPvGT0BE0vZnLdeXp0GIA0Mz06aywAt9NkgAATs66BtCpysIbA4LWFKKLTQ4oPCi2qE1Zfs4OhK2/+hfDwnpvf13WM1jKsDT8M9+YwW24QH+atHj6RHRutvbwVgN4PD7/8zVB6aaUL3wHFQDgfKSaUlQvidtzOTPdHa6YTg6Oi+I/3+RZ+jZFVf4aaqu5uKfL9L1Lwt++uBkO4KiY8nu44/qvHii8tM7SGUfelfa2Me8bNt0PMJXezcCf3WpwIeiqh/B+gR23RVKER6ACwDUQv/BSdhJ2jqniSsRQtOYCORDCZk3ydQO/2fC23fDiaJFPx9kDUUlDtvGtZBIeDr4KPqLk0xlSrden2iV+x7BrtRqj2nL43lvnusn9H6s6WW/tAfc5wCgOf5TyXXzLLws+M/N4tr20ru5DgJMgmcr6prPN3VhbiJgnczWBbHpg3OSnRFpdmJ3iZ0YIjpiztTiGvK3c3is8nc3ftsx5l5nz13fWG1N0n5sJlj0crCdSRfp3p1rSzK7RppKwOe4Pd/hARk7bVksK+e7iG5ZejoSD5zFktpnxBPZCdUPqEZuZ2V2YomvvugYDyZ0nXDpX4IuEiZceFraTqp8zRMYUHc7iimH5UBSxWkiX/XYiIXJ6Sg/OcY2oPGgbFaog208yEbFNDR50Dfu0FdYqwD64OUUKIb552BrAZpjUhI3kRmHcpaJg3O8fhsX9sjyxuZm6tyHa0b5tdt/me7QG8vV7KJKryYxT48awDaiTpfKS4vjX0l1xcW5N0wni2QNCtWs1SBr8cI97a4FnNR/G1OusCrUyRlauxl/ZHDhrhwO4Nm5aydIa1MgMAQA4BatRKCkXZRcXRaIqJln06/ecz4AoRbmE+rRp1AyLUVM0mXBuy8nZDjip+Z0IWjFNmlc3RQUonSWuGS7Fpg5+tcW7Z0nrkt/1kVMYmmuR32EntLXzgKWbv3Zs1RS1ZUMNuY1dgPrNc2N24QDiTqRQ/4pBBtqh9yi5V/WXJ7F7Pg8g4VQP2/2b2h1f7GvY+E+sDyMIAFySfNFCe+If+jvQe+9L9pap+K8MNlZmHILzJz6gVenjR43SfF8Wr/YYNrEpvIDK7lD5r6PCFRUxn80CrAkSZ3CtgKafo5r97uume1Jf9NOSvVap5K/g6JrAjbyAgY+XMlczg++Y8nsYY0r1U5IMIc56L5mKYnkI3OhDcf0j7567+J5gsIX7wKAC+xLsrjssS+3Az6ea+8dMe8rIVv7Rj0jov40K/24s31BHwePcU6FIPNRy0SJ91uK1id+SN1apmdoZ1NttPlAvXM6q2j5NhXRUICgmCjoOpzlSV3FBbAfevU+e3nYZ0qxKvE4pTBV7uyN/91p0U1hs+u/JnPNFe0gDHfixRpgId/m+JCO8IlDpAXDvFybcr091RbnKlrs7pE/bjeGthUi/RKKywaKMjuz4pshWXRY1jiIhS58nKQdYC6cXzjV4hfyYEMlOU3/Yoj/99n+KCDyf5hJT1WhPL0R3R27+egZSpLgp3LU97tilMyeya9eW5ZqBWpF0mqc85t2BE00UwL7ctg8fjys35rEBvuHg5P/+yU80U1EAAPu/GweNtJnnaTmghJrqvqj2y0vcx/0u1Lg50hfnLyRaEqJB8fGBshf8V1JvjeMmU51q4qo/+71floEGCtXkQFWd5F18F2PrtY6LkMqTbp7ua25yEpvWSumHk8vqW5Ip7TApxP9KSjGUx3nJ8q5g0TeZ5eX0+oLuXJn768vI6Elpgv254aH4U81ZRVX5J74x9BAveCAn6rwAph5ZP8Hd8KH5XFS5aNfTENGWUrs2Xfw+SiOPe93Qdamz7XZJyZOtYdKjw8pWaiTL5u684n9EfwdS270WZkfKPCs7NzjK9WuJrtZaMoj6zgr/G0Iub9PCxWtQdhpLruMrNd/lpBkoqSQ/tiDnk1MLs1Z6ySNaMPX1bkaOi5GuIXa7Y+rAk3C/d0T5nEPlYPiY/lPH7E1VQtLcCW4mnAOjmEo67NbR1V/nofkq1I7STUO2ds7Q15f/c8Fi1KYrMd7p92ljb9C3npYKBOeYe2btC0t5fYTUnW9lRdfENQllZ+w7Fua/m+dI6tHVzT0w6wOBX9rkhXOGO/RTlrpnV1Gv8hbVtkdbyyurgWWYiMKeo1mV8F8t+aiH4gLS5q2WUCgnmmBJ9TqeGIAiRz8iwYjyTxj+0SMAcBXCsMrgf43oJx89DqrG2eBiyqZyEaPE2dpy7/2RuxrBK4GOWQGZhuspLSpH7Xu+XsmmuzbbolZqUtPd4dKiVAGuDvqvmzBXe5WrXjR4FGUtRYcpHsFAn7YFFUj8hFDQjesbTUXdsvak6dkN7R7GUgwRLaE2jBInfyjTDamrOdL1LZM1la8o4lq5AO/OxJ0awdkb8b/SapH7XjYA3IR1sNEC/Lpy7RzDOu3DPT/ykBa1oepyjOcu5N4tkdTTYmtGl2yc7wfMKryxJTroXoe+KfmInTVIVjtQztjooDdEnCVFZfVZVO8ru1yNFALFTT/aa7YWF6qzX5W+/33b2mHNkhprdajNhAQDik3GNT3u7eOAX29MOBcg5iTllvg7fyG5f6caswDuh59Q5u8h/X0HtbD2AAAA9uD9/dBd1elR4/hqgR75Quu6uo1fdSv6wqpS6KdlX/k012NJYHMava39Cd+w6+sBi4RbfumreUcchVqDHgQH4XoPfiJ8FeOpgIyUW37DRQ/w6+FLfihPJbyPfxtKHX/UiY1fjVtGLtF92sCIWZYwHU6Ua8P9uzUu+cxMHlPFNknwgWAKOAfykLSMVD1OsTjcMv8SZ7L0Ss8njk1rfmTClVxTht5tOyF87O2tA0XU2PqOT2d6NWUvznr87iI9Wi7jF8O6lGpC9b+53t7R2U3Mj5D/c6WPnSqpTsOyfNpbV5WaeD9bJWeqGEaS3qmwbm3rIKSgXN94F+JROpLhYcBuvCXLbwiWiljH/VLhgaCPm0PfDRzOzYmG/0fgZzT55z3676SvfTgT57IB4KmsA9TI/RZ1m381qQqFhcNm9wh69aF3zM1QFekGhLda5INy44sor3KLiu8NCD8w1ZrcOlcTtUOzu8raJGq4qV6XZiyyq3yK/QaL+ZTmIzQpLJxiKEkv/K2O9euwmo2pOgx+/EVerNN7yVTjb3KmZ3bEmgIbB+BMvIbWX4jvGx5RuKf9DHcg8VTZDNMgwrG8RrCeX5BR+LMkRypDaepNScL5+nEzQ+e2clC5S3zisAyVKO1i3ORxa45/bC5QDugsaKD+eILx2EaLoeWZ1yQbOb7LfIpd/mcLBX0qnGmLtW6plHRu4Hae1LYAl8DPKNTFHtRTvEfgfNAt4Ixkm4CGKO6xmuu18EELl/47KT44vtFh1GPWBu4qcRVf4OmJYmelJW2vQ7ZY0mw/1rHO7cU8jn2ruVdO92NlFWwMks2zyn/7ZG7yiCalNziEkrhH08nVEze5q5UA0ij75q68SdIlungqBp+j0jp6o218sNzms7u9/q2DY+JDDfp+uwtVqIN2ClwGwvoa6fn43C/lJJz/Vzh4ZE0AAJpIJZd8TE2dpskCzWqZqa/IUVZ/0xcGBRMwWzkWLxsL/u0Li3n1EoPs3DjbQY+QVT4amVYuUq7K70qZ5Ywbzi7TlX7qEpzWpcDRpE2Tp6tVtGUl5HMmrXXYg74Q47+jqH+KthLgbXsmJt4F7Fl4NP6CT477b8IWfwAAW0fY8M9kC8tSwFazqlQz84aKtRQmuSdq47N0XNSn4dlZ6fWIOi3PPSxOQduEmlWMpf5e2fs/i4BOQiw/f8by1ybJ03ZOvyhTk8y1zKtnPApbn1LjM9Vnq70Kg9zs30/elFO4cR1kdGzxG3XH3lK47obiBuZl/wAUAPzlO4/P4p/u+d0wYTt7thIA7kdpXFnUXaRbI89Z4kT7xbGmuaq/l0LEWgdzxecrFGHaojLLSF3gFYTMZiksg36ky4qbi/ajB7PmbmLd66vVK4/Ifv+ZRwLW9r/RHMhCRZKc0pxt0VeGXXHUKiY9WgrsNmea5C17vEsRyR09puSszX7Y3iMNOSQ3ox7DIcwXddWtqVqNyTZwkNE3tu8AQHX+fY+XvI1CiC8AwIXw5d/8Rm/qurAvFxTN5lk85nd4fMMqNdckSherduVVpK7z7YqvNhZRUM7r63PguzMVrUtBTWUIl7/0nJ867nI79azoDKufl2oPbTbG+BpufRgrLfahtajmSQO90GyqY6ygWhV/8z3KWtFtuuHfavRm0E57GLc91/ZY72OmAWA6eMGewL9dlhuzfhkA7oYW07sxt/C31hDakrItuVdXQ1pzIGdiQZWPqj+2ley7jdqxOKTTboF2OQx9o6FfLkT23w5/ZRaWE8fByu+TCxll0jDXiskngIsIfu44sl2KIUj/iOsb7p2l1yRXqL9/hDEF8Srn1rmhoWzpEOezv+YtoA7HObQqQBtizNXBHlQxwoiHGQDgSEaalhWlVD4kOccWWy9RCcMqHeiLPHBTVCdxxaKUkdaIpxfafb7vNHE4p/Lirk4piC9WP9pXpXm8pdJt6lhwQqZqW5xRCH8US8/CZCMNLCrWaNIgcsmuNzfa17pwkZEF1mf1hA2wbGydrM70eit+11ZLp/dWRPn72lpzQ0D6+SQ7dDN1u7in4V//M63B/23eghgAAO7PWA9ytRT7odViEXWtkI/dbo31bpYqlVD12serMxvkyNZ44I0+pHrTju8WRelcs1O3eqW9NfRZdMaKvup3go8cjUrKfhrTlHIDrR5vX2oy4RNS9jJsiH5r/ewNBfUnBXg6btq0wL/Cvg0AAPBErjVL7cckKMUYl/MSdabyOdlIHu9nOournItx32Iu6RVE2YZ/dF+JP7aPWj9kU6yWGJNsuxDX0PFSkRiqysiB7EuKT7XtbIuSFYUa/Vy79PKdqni3t9Ow3xlcgGu9nU6Kq03BxUEfU5pcigMaUBGedwCAy6ItUX0EAwOK3J8fZP52BSvKQdHB8tHtl6r6gKUDQZR4tMX2cnFfuZVerPMfX+XnP1l2skM79m4H6RSft9UVrqnM0sGmIDqpSmmUQFxIqloTQ04zMRWnum6RljJSkasaHck2fY4mV0INXmgSadgKTim2xyPHuasS9QfYGXe/suk7AACXRQ+ahTmcdjVd/hmdQdm2BD4LsicWft4y/WKflilqtGJ0teItVVzRRvlYEcfeUK9aEaUjLWq+cnlKVZVphPCweHX66emR8z1YoIBAPY7XnODE0vfJlr4DAHBy9Ni69Z8M5vMZEEj7KHbSzEkRXz6eXe1orLmy81JhnS8LNSm4sn4T/Kvr74UEVvlYaevS2ZoQbReoipQ3C1QercuAQD0OBCoAAByMHP65HvvCYD4bQhEf7fBWpai811esjeMgbk03/7XKxIZo6MrZlnDrsns6W28dpzOHMPNo3eHNBcNBoAIAwJEgUC8CN+PpjHQZtVr3tdhjv4uUL+n73ljer1rtWnQMZ8KNWtgP55aoCFQAgFNxzNu3aKnaV+PB3hDgC3M5/jOE0g5b6VFrQPKmouB8oE4PXg2BQAUAgOPsQV7zV+G0+yMB7ENNNRLl+VwOWGH+HFznnnDHgEAFALjxCxghCgCXgjkZ0GCPpMPnymcJ1P8mlQsAADJD9enUD5kBAAAMhZfaIUyeB8CDCgDwSI5fWgYwEIIDbgqfYQYVFg0fDh5UAAAAACP4UW5+W7nBIII+3Q8nLlSd0eIIVAAAALgaU4wmOBKHRIWYqasi74nT/nDLIzjlQfw3oUwAADhkl6RSXpj3AHA6PDG+AMcRPWUneuQQqAAAdViwCQBwBIy1APPxf877ed5qQnwBAGq8AlyOCnIZWcw7REc9SPwcAABcDGYwDsLPnJnHgwoAUMFddNdQp1e7cEjLyh8Wm8y32GGPD84DwMVhVvVY3EukzgEPKgBAGXfFd6NbHaTuOHftkHyKfl+AlO8+HrOrAQCHwLO+J8HH06e+i/GgAgDcj8pLpeOd449x75f/uQABAABJREFUMmN6XM0XOT2wgC4DADAIH8cyIVABAE7KoSEu7pz7NFWKHt9C02XPIwNTWyO/3ykO6JjveimlrLP952pLABjOxE17noMP/sUmSQAAp+UMhu+pdzRa63bmWp6MEwamGoLCxRR7d85vKYVjAPAEeN4fY/ngQQWAS/DwjXNanW3+0Df5DrPat7/Z7oqV9XN1s792KwIAXAk3sWwEKgBcgfdi/XHmsfMXiwc01TaOtbRoVH86hdqc06Y42Xm94NTKKm6VgzbZai7k1E14CHrf/7bNtQY5ADgVHoEKAGCK8fPhn77B5xOneG1Tt4y8lzDi+tb5Hfd6GatQ29ZA9utMl6c8aqXvKZdSiZUyVNSfQjdf4kE+ZMFwuAnneVqltJAYAM6Hu1/hjEAAsNdIFaza95YUsSPRd5m2UW6Fk/x2F99qxYXpCrZdeEiQW3LC5pDNum5LizrIOWmYqyin9dNs6C1V3438RscPn3Rw70uQeuvj5WnhGXanbBicunDXUfOWOD/xG6gv8KACwA0JhtWxQkl+PQaby0SSMjzB92xSE1U+1dnyoV147dXa+PGRYxSqm7yJ7e3Ir71oo/gjmutbg1I5T75lCWd0zZcXEgPAfFz8aPrXqDpToe4jUBmAAGAqwbBq2VildcyK3Uwuz0oY1etlNLwKtMxMF+L6nB1lN3Ke6enfA+7an4Q5jMpi5pZW6Qw5zWXwOZ2EZyC9VbQNABiIg4m+f/EdVACAZr1Z9KgkgYmjA4MCiZqM36+B3Q2buasmKr49mpcUKgfTSxTiYlMinW7c4ilOLJ5R+RamN0cVui1roPWMtvewUy0b/DFmHn3LemEvVEiLeT9f++2IcrGf5+9RLQEAo/DzgzEQqABwAaJpPJO1XD1J83S24swGcr9Ctft8t5ikrkcd6+3s2kSXKyng5WYlEw2uWGMh8vrjCVW0cBJhHayn1S9k8Dt8055PUm4Nq4w7XaKNetCPuRDTNty31qrvgUFeFPxrrTNe/RnrBACnYyd9zAgEAIMJnWSmrVkiUy0UNkFqo4tP9xGGOQebN8lDa4c3VJXRUelaGYIHUXf4aaU31UsQdVLFBNSK6VffUn57CvX6B+3VIzj1O0Siq9csk/PROmmhYXQ/sXJbvE1YtqvZQrUM4vOBYdlNMQumzIY1IJskwQDYJOlIpvpQ8aACwOVoWzy4vsuyf7UOv2W5GAUiB2rVXEwubFO30Vp87Duxx+NsCtaMK9gWLFwTFFrFOusr+VbLWRlcwZ86rk3fVzfLhdb8g3Iecs1+vwZ+4LAj7WDuffL8xkVHT12t0MLqbrGUUt0nB6hdnsHt99oTdGyO8FToSAcxcQUqAhUArrj5uYnwPNkT06VPC8VINfNNorC4uZP+Wk71cbGIjutenR/WS4k8OaKmlioWRNlaTJCsMpk3VFX0JrxyJ9OsVO+shBsy69J0XN24ayc+jVQ49v2XFo/dHGQsuWnbL7e2xHmbVXzV9aDj6n3RBgB4Fi7a6WOeQkWgAsDFaFV76jqtQQZWKUa02ShbXgeVGNfo/O5C2hJkbmJJhSYJW8sLtHCJ7z2VWutzPPhZcOUJWelyVwrFlSSp7SrdkOWjqrtZ1spvi6M4+dFuhqgpJN917UiqqFu79K+1AgdtXkYtBzGoNZrlkmOfvfE7TZlTIo1Z7pDmY0QfYZNwKa462wMtIFAB4BqkBrFvSBIbYL1TgqkqCo505thTieTvtTYNlSjIkdDBmnsQE4M9PEtzH+/bCfpMa1nGLcqhQxlaCesbx/RGRYuO2iJ5xTKPdHLK+ufbN5zVqFpia78XnpvKFXrTR4HXo26ILRsKUckVncvppkXsriTdo/28XhtBhSmFasm7gmlrUeX+LY+Syc+bHuZiXEhndsp0E0IbYAPu/fnTvzO4UBGoAHARugfKxCwrh+QWM9KNopARBpKyQE860w3Sx781Yoo+1a6+UFNf9WXbqlUqqXTAl92zgqZTTV9vmbkonSPlmd831Zurpf0pmJdVEU9V/Ork1AVFube6Wmz2KfdBxksxSKBydEMM91+TEJXPtRRebVYhq7fPVa5Wj4fYomqjg+IMQJYoL10KOChXt3WSaXF2F4Q2IhWgh+gpL0w+H8B/nel4+AFgKn7rSd7bx7E263PAaN4wxI57d3waRNKDa/xjk6kdZL2lWuF/bcI993DZEKWH4UTnjGXEtnh2MWowrEZr9Hqz9t4Dnz16eZ+z9rO387coJ01tmZ7jmvMqlqI18U9aC7925Wcdp8LLs19p4J9dtW7yqP3+dusjEZ+St/SSIi/wS/KjeBmVYuBWIEF2IHmcXg/e9yd3KQ+qn7luFgCeybZhJ/E+fOTOgIFMd4MNolzHbVdg87+kwX5iycWKHKvZl1JfaaIYybEvrmwbrr5Q4yW58pclfVvq8LZLLq0BPVhvav3Ja9iEK8xLKrQ9YrkQtBxEZJ9k8Ztf9oorhuP5Th9xh8NXyMz4IaD0fEGo6gpfndE4yY0CuAo++eO1wKBjS8VxEOJ7Vlo+sA7wEMp73FZSJAfG1EhaVDj6yZWvYYuBWUJyoI7LdFyOcQyhUtm9363prWnf3EcLkeyog6JN4vBqk6b2I0LF8w2swgBqRZ82bjWVu6CjA+bI8vXBleKJ0zg3+RtSxVLCxkg2dIpKWaNTxXYQPpmlBF3rrvXvGUlXtQh6IcBYLiJNpuYrqUrXJEQ3CW0AUHnNF/7NZB+BirLaDm0I8LfHXqO/gLKmR6xmYUUm7I5z96lHMF4KNsJIy1RFlO9x86ltjbhdFtqLcuXuZcg6NLaLywEbapX9YyKxBA2dtcvEa/zc9E7spCJ8tI+8Vq8GRV3dzWuRpa+dkbZck3y2K+v2XBQrm27FWRkrpsrO/JdKJwj6TRSPWCsJAPqYFy/buwYVAGAC6uo9c8ofe4y6br+s5Wv42WvDZcnbAhRN1EpRst4aL5s6csy9T3PqsfD1ZA0t+Czmuboo16kHY+fn8TfkN8v0/p9sKuhH4AUOE2xCjgZY/9uyXN5Sjm9T/1/ko8ICANEpL0WSBwWUq5Ck+NyipNTfb+MHQ4An4y/nQT3LWxAAYHtE5DavZ8H42s2dKkT7NaB+RzPKMK58akYnjhgpS/0bo8cwovErbvHUTh54wzflpNVjm5ffmkwWKzZF3lO1bf1LX7ipFCJGMZhKKiixYGDKz7Lvg93VEi37UK9+8O/f8VHtbmixLLEf2vnwY0/qNIGYYfUA3AVWGD+hFVmDCgBPIJBzlUVOHawfhsgz69tmIKrOqqnjvNLlWM2lZKV+yxOzO/PLrPHubX8xB7J0Ne033AA1nnJvdg6OHhPAfDqGS6C9m6aafxxzXUY+SQgiNpHPb9VSS77T+ATLHh6iiK4lArgP/vOp5fp57mIhvsVrus9rCADOyKyQ0cgFFEpFJ/yd/9swNC6ZyzK6npmzrfVq1qd6DpI7KV6v1rPKcNNrZEdDM1v61jH7UDgmxlMOZbm9q7ru7C96UHvkHMvzWH7O4jOL+PsZHV+/6Jbqt08khcUlPa2tJgWJmFdFOVmMB1b++PU29blb1zx06dPLdqPHwUzCGF6fzz4veFAB4HJsW4EqzQeaQxeTExeXprNpOd+ifmqVWsLi0jwyd14SuSuXIvhmS67gSKGqc6zv2jTI0zDXUoKkJRWxNSSGqRYUWwiEtuRe+KvKu2jjLj1p0qaC4t1xlYpUy1x+LGzsOpTTBXumLbLR8d6IM7SR6ZGpV3lbKHLNBZqL8nTWsFa+Nr13ZnsdYAqzRlEEKhhg0IbLDpWSNooVU9OnQboehcAEbHqWtqzgFP0L0VK38Myyq+O3/k35PT6Wf86kIXqww1ZOEicBg7/fwmNpaVkxcrlOzSiN8C4Q3UkhqjH8aoapwfST1A9wFD7WFJr5G0Z9g3dK6NLV212YI2j8fRbRcssvy1/i02nMc1OlWp+6Qh3HmQqyl10/PTmtdhWnm7oAOCVuXtH7bJKEnAGA/fCbE+h7fCgZONPiqfBQqAKCL0YYChNqppShO6Ia3yraQtlidcPrEo52ziWk1ZL/UC1Q6efUu5JOSmRTFMntSvfVyorYFKGZu4K1aiknOmXNcvxbtR75D12TKakXK1X0/jpTp7WNidqLf6co6dMBwsmcge9UqNkM16iaN9XihzaJ19c3MF4BzjKVgwcVDDBowxlw7YGBw8bWkq0vPx+b4j6FMp2sjiMDV/QTWmtReBGp+rx0R5JEXX6ZyKBPrPuPBarVuvZaTb4/qkw2iLZ3RbUbSMOvX3MNusvblJWzuLzjw2qNCsVLOnT9K/YkFysfeYyLSjCS7IkXMhbRWoHGp6/uwU0z61SoUsJ9X7J6EEN0TYbhMrm5jc94dHKhtHDORVuRka22eH1CtqF44WqxdADOQ7dAJT4CAI7ku6tLW4qrUbCQVOs7CFcOXK5CZGdfuWEhkjp3JrfvENPPoAcqDahKtlq28qXk78FqDXf/Noa4LLWz+YXY5fUeCPXNg6W1jOUkH70ZdGi9kDQmuiQdux2ttm+7bLlzgt96wxyTmGMD9iuR5wUGeLRNOSSD3fprNp+1uSg4JSw7O455ag8PKgBcgWaxs1UdXeYVqNRTrX6uXVVXRSp4fXn7nPSUuk9XykiugHosXtWpZJfno3jeNLfv2miJZ7zZhdTxBY4Oyj7f2pZHcTopJNVSM6epvYrr7PsvdUIhUahxZcWFxbVo5VSIph35lb7ihLQj+ryteVWc2loGlU6nLlfW6hdFBwcVaAsLj8reyHrL8J48gKu8nK+Mm97IfU9yaSZ6OQEAYBRltVFOwXjUyteTdZqGC2WuJBRU0ZSp6kxm6k4/KTu1RdraSvM6t/k9l51ORTFa7v9ZiwXTDIt8lTfVWs4Tf/1rO1A4ptsZkpwSL9s+SbX0i7jZtCjQqJOUekxegkak26NShD+MPShUjlkNc3d10ivE60o7TvCEVaYu8uyk4taLjU+L211+aJOKn2b4gpE0zHnClIVVJxCoxaR0HgC4tAMVHovmK96nJFlA7+72r3zHQ6ySaAQILj3l9EJOwjE9SSa7ctHTLVCTYowzCZZCXL+Rpf+hpchrlDTVouiWyYjcSSxmloq/XD2GN1S6VZqQDB+7KLEgUNNCEKjPAYF6NAhUAIACrZY7DlS4KOfxXEtOOUMUpybrdOla9x6/5YugqlNzVfOA1irtWty0+wvU3DUr/6GlyKukJGlKEQja+BzVJiw6fFfNnXhGy67VWq00NyvcgoqjHu6jUBGoAHAFbHF0QgJGI4DjUZ6/QGOmnupfMNk3tLi74Hi9tNUfrgXHiiK3Q6CuIurVBOt3nQofeArHvFrosfJ7ucplgVpUqFKaFtd5yeEbj/UWZV52tMOdQKA+xYGKQAWAq3Bc6OW7NIYxgMdhi32W7Z/+ISPQn8I+yaE0K4dEB0l9j5M4y0VIoGtakxu6kJU3hGlbY8EZvm8KAvVIPtN9kzYeQ6ACAGxYogcAZ5xiOu5i9rOZs8WYkctZWoBZy6zgJRayECOc1RButQRVPrqqYE4FqubqroSIw2241ShyAdzFSkagAsCdYSMGgOEw7TOZjpX50o5DgWs3CTSRl+z+Dv1iuJW88jzkdcRy9HihaLgTCNSDudYmSfpi9fgMuAcYFfA0iCICADiJCMEIgQUE6lMk6r9dcqXvAMDlYRUqAMDxJEMvIzHMjzh9KO7PT1qDuo9AhVvBuwEAAAAA4El4dy8PKo4HAAAAAACAy+IOKyleQPrfYeUCAAAAAAAAhHx9mz8XJwIVAAAAAAAuAAtRD8QfXpD//Is1qAAAkMBOiQAAAA/HHVNMZG+8t2VSPaj+q2C3lwMAcC0eP4S9X0nMUgMAADwYv0UObkETqK/qqHXCbAGAO/P0Me57/U9vBgAAOB2Pn0I+DOfmmQFKiC83HwAeC8LsCxuyAwAAPBY3q2DWoAIABKBOaYK/p08LOKapAQCejp9oDfQLVEwYALgfjGxHtQD7MMm4MyjU+TUAAIDJeDdNo/6XfHbm8wfvJgB4JI/Xp4etOPnsw/T49s54tcj0VsEGAAAAN+d18CrzX/phVGvCqX5fAIBdePTA5m5Zlrug5JrtQyXEFwDOyKNf0RPwk+ZLfS3Et1Qx+ggAXJSC/T1rOD4B7t47EvtxzeNvrlDdPjV4tyDCFwAAaqjfQa1G+/KWAYAbbIiepXnqGgeh8R7aEhJR39oxMtmdYLbAzcrWzfymAQCcH0aIYzn1Jkme/gAAF2Cc22dqENEZ3EzHFX8VCfyct+CQK/0+h5LbWn9EnXL8DE8EAMAz8Ue8/nznLr5i5Z7zvgaAE/AzXLUlhZp5K+Hdz3ZmIMsRmrAYINs1K/AJpT5AdvzeX5uKoptsdAQbZrqXJH6fEG0AuAmzF+k/bVt5N6VkvoMKAJcgXhy6vKBc95trtaH9oEWtI1w986TQ9yXkGyvlelvQH2SffK9ri0mzyiyUqoW8lQaYOEhUAIDjPzMz6bVnE6jsmgUAs4mHobfeEIM7DGasG2r6fgWQXP6F9pAtVlJrVjdFXxzbnoEPdohELe2R+3nbTuwvx73uUZwA0AMjx/78Xvnz2hoPKgBcAsFV6k4R/VNxL5YW1r3xpsz0PWTDUFl72GxL4GvhCo1qxg28UQeFBmfE98lv/ABsYf/ByeFrI3ydlmxfrnc/OhYbAG4PY8Txq6omgEAFgCvQMEhWDXwpArG9Rmpm0qHUaaYcCpfuqcJVSPCp/8+V2+BDTk/+FBysHFyP+C4BHlYsq7VcU8mHmPq8R1goWzLZ00K6kfUVLj2tCt/Xyfm1s08jAESwBPUAlgFbC1YbW5rwGwIVAC5EpHcC27Vnx6NqmobXYFAVbXlsKMeUQ9HPgQ516i6pSoY1XKlaQa5hE61KQ8gm9X4tR5q32BPF6+jX43qh9lv8bfPXa1vR1WOsplIAcPng2fDNDln52n5ZYJYCABxDFN/y/t/9ZKo4tPcLVNalAsAcgm1vop192kalMSGba/layPE6/6ju7GRmKeOTVe8w7Bo8y03u5nIzZrK6WIVA8PVdpmvV57X8vr1MzUy4+jxstSK2SgHA9mbYQ8o1a+PK2ahNAGjl/dJjrupeyLfz37UnaAHgGYxcn+YGTrUV8gqr3LeTbKpn3zJ4QO2VeNnARVp0gG5dmxJUOm0QZy3H0JKW5byfP613pRjlHJ7wC1Jem1F1Lcte9axOoaTOAq+F9clxL/nbTOhbN2bnh09mY5oAPB18Y5M4/mMz/yJhmsdW0RUA4Dyoe/fmZ1lz3FijqMT3GBqrqt9OeHk5gjsxXPWRX0TkJl7cee0X8JMZ2jZTL8d0JQxX81gvdS5moL7o5N+jljRfbnpi+lYTF8dW81TX2oYnpJHSJa1tKrvQXuJkQ6cEt0p6UzYlN3t2xloAIhQAKjBMHIrwRjtOoKZLjCwgXQHgcAYOPC9bflh2b2VqzS08T/WIZq415Z0sJqmX7vUMhXpleYib2SR/xxULg3Pklg8dxblybDRJ8syk6to826HL17jp8lAUj3fQMWr16Pj2kqF8I8m+xC6wOHLZXspc9WBjrgIA7MP+rzl52P/vmMIBAM6Gq31/ulMT1Y4JzlTD4lR96aN2hgFhI6JEM/ilbq9/rn/EydMDQinlU0oVEw84uz6Nd8NqClMVaiN2GvO1+Y5Dhje0XH7Q5G6cPu3IqKW1W0pz30e4+iQDwD2QYkRgHNL4vf8MoFM9qF2BxWySBABT6Rw1hw5dQihrHGXpqkv0motUsjRmZBO2gpO34Fn1I14SkabMfu+72Y1hwXo+0krTqBi1XZyc6NdxYh9xqaayY1ms4eeP95Ll2qZMf1VvrNvRKty010kcQ40fFQBgI/619Of1P/J6kb2QXgX/elYE1Q4BAOxNtzkqjXcbbNtrz9XlF/4OYh0s4jvODpfzxsctddOjolNVY66VGIb6/jlT7r9/fty3cSGr2hcvTq9TmFn0MveKItdXPwsEajmZc3F57YZvoWlaWa4nbV1KDABXJRzcYAjxyPl+N31mN49EGL7/FV9hlza8AOCGjBw03wb35gwbFOomf9Fhr4s5A39aqt9+awr6tH0BsnKbC0G0o26YqtUbktvOFH5zO0zHiDtoNW/3FRiqfZtkAwBAkZ59GAfR/x1UAIDDGWCCLsOtOknoto3gmp3sT+45bWHbrjsF/Ijm0kteBJbtlqU1U+NlRTfpKLL9sqQygzPF0ouXaK7vCCVY3yXaXJMzPVIAAPfDu8kCVXxd4EAFgHMx2kmy3U33yiHZWGjD5rNn4/Dq7+0Fk1+2DXscpUGuRy3R2Xh8bA223KXCWubO2gDAoyBYYiTfeU0x4ugVyTRLob538T1qmyYAgD4Gjk9JUOa2sfe1fWjkkt2PoS+J4m48LxeXtumuvrpTze5vMp3LTi2Xc9T2sfLWwd9jy/+Um3rTlhLJhU6/p9adrQHgfpxkAHpIm7q/+SG+197rAwCewMflmcb3Bb++/7S9v0KF2vfGq++qqlalfQ74m2LjQK1uAhzsovt1comfO20u3nihjRlv38J50Xf1rPItYhs2ONz+Zu1ZnLkrfrq/I37wsF0AAEbjoxn4XVF38V2OM8wDwMmJZOj6h91qFhXDYkOHu7W+z26XjrGTLVy96I+PSt2AO1EklXR/OjRhtMFu8i+9bDX+Kcpir/dnWOXYj5nEADTt29tN+8TKfhF56RZO+5QCAPAMXDSMTnVcdm2SdB6bBQAegjBQpk6tEcXkmRQ/sLj4SfN6BRWWd0KN3T9mHdweY2sk8/lO2s03vbLNr8j1q6BbNnzVU/wO7LQbfnTD4zKammbrxkab2mu01WD7HO+APboB4EwQ6/mY9l7XoL6JB3OGdgA4C178IdyOyO5ClUJyX/8zZEWhuRrvdX2ltX2/hX/rqtllKaCwSY+18kmg8CvPZEvboCRbhI+8bWzxaH4s08VxveKpAFMjS7MHwlltC0mz+YRkTfNoihcczXUPnrAZnn7v7a+k/DFmAe4Hz/VR+Im3NPWgMjcBAOckWoPgo19/3jFzVG7iiBpUqaRm1ThTyYgXd27KSlE3MPKdWwelUcnCH1HuiUesvE9U5siKwqgFv1e8W67cJhbCWv7+Lea2xcHXmLbvJet3tSGGvvjXL/kMWTNdKax0EHMG4G7wVO/LiTyTWYjvyxAyxZrtUx8AAA1ZgPqe0XWVfJETSv+2pJ5TnCR0rak+pHZBEKbQxaTxg55KtHS9Vm5tIKWg9edU5UZbWiXHKtuxFmYBDOHKlRqbeV+D2kRCKZuCXG2ny9WJb+S2mHAhJLorcHZ85PY7k1KJcrkAcHV4qg8heOHPoDx46w6ASqXpPACwE4eZnJJy0s+UT9Y8tbriCo8IbsqylGuLfc3SSPI8uYLEV6qvDLZdYU9u3dKtsJlR25swySjcrCvcEivZ10hYc5xrPacUUvprvS3CWTZ96iyFWLNTUiRJs+5cf4ryB0ivhzQBBQAXxxgkBZspT8kOJ3kXfN6q9SnIbQUBAEBGJkXS35vEcVMaXe9JuUXiS5ZbQm49ArWwblFrLRXdF97uJVcEveK/jG+hpjjruQkC0To9oCt9DUFsly6znN1aTaElBJ2e1qBQOcPZaR2KVQWAK4FA3YGfFMxm/8ONGXcmG92j3Q0lOutF5wEA6KZpNWlvCW+kFaDpocjWT11XqkA2imBjbu2NoovddlGvXIsm3XoEqioDxbewekTMzY8W9FaBGiWIeo7kTlUKcOVfg6YQE2GOANwHBOoOfEN5tIU7f0eQj97ZqB6DBxUAAErisF0L/LbP+Yo5Tb5ufpH8XnD5e7fXIesVmS9GtW4WqKoO1RyocnY9rvgwne4MN+fli67grUHfUsXwoALcEATqwwSqdrO7a0XnAQB4EA/ejEa6dLcK4+wt6wZFPichs1+RnAk4842xBWX3qd2yX7nJe1xQqAhUgJuDQD38VXbM511UgarcbgQqAADAAQHWrQtH5bDWOMvWd/H6iR/RV9yQndu2mLYuUIthwQhUgFuCQB1PcWP210E3V6CK1UOgAgAAnBBl3aU/rQoXXLyVNajlON7yQttyfBgAXBEE6kEC9YjvWJcF6vod1AcHaAEAAFyKwwyHXt6u2NCwiI2M6K/QyeoLWeQFSFkb0gIAgM6BO/gqX99Ofo3/xIMKAABwQnIXoRCaCwBwH/CgHspxAjX3oP6XVMW9Dzjn3PsPAAAAuAhYbgAAMAT/5w96p+SK819+SrY6VaCyZJZXJAAAwEFxUN8thXj3AgDADcgEqhGcqwAAAPMIdv8/2f5IAABwEZy4Te7nBTNP7u1TMm9JAACAvcm/5gIAcGPY0/WwFj1SnWb7syNQAQAALgtbIwHAY/h8rBkOwoWhOnuCQAUAAAAAgIvBLr4TOEShJh/MznbxBQAAAAAAOCNsg/OEm4tABQAAAACAc/Pysx315ZMn49Z/zPrm6E7F0nnuBAvSAQAAAACeuMuB270cn0njPYuBm4BEBQAAAICZsCncJNzRApUQXzDAYAAAAAAAE5n8bc4H448pZr23/44pEAAAAAAAAK4RJ+mOq0MSSIxABQAAAACAC0BU3z2JxTAhvgAAAAAAAM/ClSX/vMkABCoAAAAAAFwA1qAeg5va0vsIVLzvAAAAAAAAZ8VnvywfPvUvhTpN0bEGFQAAAAAA4Ol44V8TIMQXAAAAAAAATsEuHlQifAEAAAAAAK75kZkPr8PHr0bFgwonXyYNAAAAAPACN9hYTqlP9xGoyJl74RkMAAAAAADgANgkCQAAAAAAAD68d/B107yOhPgCAAAAAADcH2c/dV4EJQIVAAAAAAAAvsxd3odABQAAAAAAuD/e5GOdvP0MAhUAAAAAAAD+ZovTFwhUAAAAAAAAOAUIVAAAAAAAAPjg3nsp+VnOVAQqAAAAAAAAfPhJ00kKFYEKAAAAAAAAp+Df7AoAAAAAAADAuWj4aOpQ8KACAAAAAABApEtZgwqnZdbsCQAAAAAAHIr/mf94UOG0nOBzSAAAAAAA8ABYgwoAAAAAAAB/od/UT/Kh4kEFAAAAAIBTw5Kz58RR4kEFAACAE5ieLCgBAJjOCWYCEKgAAAAAAHBq/AmE0yPwr/+Z29iE+AIAAAAAADwTJ/3t3v+ZI1TxoAIAAMBkCO8FADjJAOxnO1IRqAAAAAAAAPDFT504JMQXAAAAAAAAImatREWgAgAAAAAAwClAoAIAAAAAwPlhufoAzr8dMgIVAAAAAADgGTjDKW6mjEWgAgAAAADA+Tm/8+8CeG9p5ZnOagQqAAAAAADAkxW/W/7lf/+eJVIRqAAAAAAAcGpwnu5BIEFDNeoXjToFBCoAAAAAAJyaj35Cph6Cq8cB7wkCFQAAAAAALgDb+B6Ac6+JgIlzAf/mFQ0AAAAAAAATcYns969f3iJ1EnhQAQAAAAAAnokXfnEzHdYIVAAAAAAAAPjy9Z5OcqIiUAEAAAAAAB6JS/58/b3skTTFh4pABQAAAAAAeAgu0qSyBv1K1HR96iHs47hlgy0AAAAAABiqWhAZh+CWVahTwIMKAAAAAACnhi+gHtq4L4k6DQQqAAAAAADAU/Hp337qjAACFQAAAAAA4HY4+3nhqW7mV1ARqAAAAAAAADfEt5363T3pJ06XvXwPhk2SAODeuHxIem+gPqk6AAAA0AGbJO1ItFnvx3L6GEtTHKn/ZhQKAHAMwUzgOvS6afumNzB1dwLo4exdCgAAwML7deb8y1yaE+iLBxUA7ouTRiZ3/nHKnbCG7jONeq5KnYYlGmpyPQAA7gse1IOZtwqVNagA8JShNV5YcWK+VTxRTd1ru4SP53l2VU4JrQIAADAKQnwB4KZcVjS4J9fozBPkwnLm5cDvXyetOgAAQANzX2cIVAC4fdClC4fb95qKU3P+Gu6EO/EC3J9XW6qYu0UMNwAAwN/nPTfZEEGgAsCdeY+z8eemz6//TlfDsEJ7Taqe7ZqtVXO3ulQAAHgy7vtfP9eFikAFgFsiioDPcHs6/Xd+3h9H+3soDfq07XV+53hgPVT7zEHcAAAPweXD8Cd4KfjkgZ9nLiFQAeBpPFZpbWPnF9V5pw30miUHjKprSXVflaYHRC8bgN334gEAzo/XpvD/TgECFQDuyAa10+LhCT5Zk3+9JjbP1R124MOndc4oUy3a2d9Big/BPcRH3AWLjwE2cO+xczo++sv5eHXUwSBQAeAJ420uCt7f9Sx4eOL066+hAs3+sZjkyydZwo+vrub6mmCjrRrK3r0/U3pzYVWg/pqWO1LxbqBSnsY6XnDvAWA+rvQemjxMIVAB4EGElqGTVET66dRgMcb63/q4HX93JDNMQ0Gr55YeUCr7zeH7x47vlMfqU1Wdv+Y4St1BuRv3liemeYx7N4HMo5+fYyBy/O48d5Z0UntObG8EKgA8fExOnZCGwMXf7sB9g7fr2d4p+q/g2F3+LUjYwukNBp0buaKyOdRRdmlPR63P/vMF1/Q3vzX9E1sl4pH9Ymd+03X0LgAzlaflPQM7SaQiUAHgvlhNlTAud3GMxWeIKYwjd3yanJV2VPzVaN/KTt9EnpvbqPazYBqGH/eRK9Zael5I4EDGMj0LpQfjsXcJ58+O0LYA4xFsocNAoALAfZHVl23LG1c+oClUnwzr0Wm+/OGW6m6xS3G/zfYKl6Lp0LHvm4LaVQ+176KTCvw4r2ApcEvwtbpytMevrElzrQeOVGkP2BX4HgSh+DAWduYCGMt3zneeREWgAsAVEMbIzWaIpkK/GjMJ6l0KjA4Ef8T1iaVrJmRD3RqvTH19HDt1mC6J0iP5y8Ob/LQb0DWoLkPjc5rrFbRxEjnb+urMGlaJfg7vtym35DIiv3KYVW0lczSv0fD7948BN7kxE6WlRnsLER0AAIeNp6FlM0eiIlAB4AK4HWzWzwepC6vlVhEhWeFx8YaVHMJJuQj+TFlKJcQVXo6tWYhBtJmjNriUzW+dWDW5snQUNogqZCnh5RaTCjHnHsuxNu3cIA6lrPSPhBZ80YmwHTwN8VvGl3aleNohv8XmhX+azrZUCg8xqBA+/RC4z0Pw9TdFaIbMebwQqADwTCJ/aKwHfodM2ViG7iSuNFFxuVwUF636DpM/cNTmb6S2t87v7CxYOJfKJYGc/V5/U0bqXruYbgrBz8e67Uwh0UYv9cby0zb5SdZFK+bBB6oLWfxJj70vuYhH3vWGBeqv/0Ebn5ypH2yEw2AmYgz+AtErCFQAeAQtL7ZUEVqVlFRgkGr5VyEj3beZ6MCkNnKo6qK03WEv+ybHspBCOK7lFPiOjRcSBWRn3sffAaup2xD51BTH/P1b90VHjv1RIViiP9hFtSl7r8eUH4tUTQWvZzXJx46A6LVaLSbd8q/9bDs5cuLJoF0AbjT3g0AFgAswxfZILVixDj0VK4QVDyohy9fFnrcWH7FWDbfHTerI4xP5bFMq4Xm/f8dbOH98zsY5Ca/OJmjyoSp/M7HpLDMX222IXK5nEdVxqYGPfIRTW/SUaj7tT4FpZZvKyH6PypS86vYgY9EX3YssdstF6GEV4kUUQzSUWgn7vgV5IZoBboKbNfPz35xiAQCa8B+Tx7+IfmnMRjsgy5tNA7PuB/qbzkFV8Nn/Lgpw+AVszDKNV96W2+K7lvJRw1vjJcjVNHEbDNGH7+cr9M/Klflq4vifJbf/cmql/N9fSV5LnfT0bqM+DT246x+L0vvWwHX4abcRKlFXKcL9UAr/HgnPCM+yV9U5OdGSseV25BVoPQYAO2OflxsOHlQAuAZCqGwd89dVvua2GmdZqo+xCklcZnqaMTtbmeF/Raed7mMZiK72Xo1SvOKs4fWz3XfDB8O+D1kFT2P+ChX5XI4zxHevx3pvZxISHpSifUgpK9rgLdTdx+X7kNaj7641icvoWoJ/W1dMt6TYnFfYU4yZiQuZQ0f0b+gQQgGSyYQB349S3K6Lo7xxcYVWDJ5dgCa+Tx+bJAEAjGLUiKraWXZTR/RWlNXqUBJHm2peVhj7jhqZ2c+ds4P1udfnYzW+Snv9t4HFgt98/YrvNg6o3ViK2I2CC3aGySNxKbFxz2Xd26tXueXk6N5tjH129ULWqQTxZMNWW8nwFLVPpDhrY1YeJ9Io5j8liP1jlMgf+wFigNm4fTv0d9Z3zkQuIb4A8ARsNr9LwxwTPof048nZ+l8zzKSfeyz+9TQ+xParsDtZs5Par/rIOxbEzZaqETr20rDNrmKX3PQyi9VyA0RdXFgacZzk/jrm93b6d1xK/bcBhJMSFSmrHwmCmHsfne2Xd/AsEMBt8Ptm/9kcb9JziUAFgDtTM9Dyn0qrBxspxJoZzq0fsVcklNSdCrV+nmtRIz1X9b6KwvxA+4tUN403tvrGV7ooy6plbixUTd6r1poK6UgnSNoepJhltcwysrTvvObVaZ10h2ic+h0Ib5LwfKxCVAwPfyn9pkDh7CEMa5v+VM7Lt7paW052W3ICeDZ+5iPz78A4MwCAw4g/2yk5ULMj6vq+7ujWKBZxLMmqxPJJ8q8zxv010LJ541nhvuiBi8a8Vqv6nC9BNZzy6z7rvHxbaWtmeuuMiDArx6Bvzz/KvXpCpUDTBY99wsolBtspB2OZ8uUhJavw53TlsZxTUEgo5r00+GoI1c0+nrW1Bc/5WAOcFpdu5uBnbeP7b+Rn1H4Q4w8A01mMpM70uqYN1/0tK+AqI5/i8st+yNbb5WXLOTWsWEy07X6rWDbkLKpR6Tw3NSb8bBPce39TvaKVgor01ydSS3+jaMsprHdDyvXUnSyq7gVhxe4suZBdcX+qmk/d/lhmyVdr9BPo7i79KUeAi+GV3coOrkS0SdJQiQoAMJtsUPMNgb5JykWHBorAJQVIGlX/WmCYURhqKpigsZBMTM2oZlXcQBUju0miP7SSeiqg5NVtsh/BbnIxEy3jm0DUiXsL4JhqiGh7baxJtm2OtkN/fA82Ax/clqxyuZl9SHnvJ7C34wUfJD7rIAFwPtycuVkflvxvjymmSRcGABARK8jCvKA6Zo2eS1ytpHzR4ypDU9FZcHXGPps07rf4WYql4K5VXaGLaaBEKswOJKo9rMjaZm2vn+vZrJG71Bzqbcaf6fUeetJm3KqT9Q7zys56GHOawlgD57OVE2lI7sjn/vufbbdhy8eXAB6E879J92TvueMWon5f5vJnZtbFDCcbmWEqTDnA5SVqNN4qntXCJx+lIbHhsQhW8xW2ovnKUMshxViVvh66mvfrwba9413FWA19yUkFwphoVewPGWCs32apfNfzV5ddF122o5e6fmZ3v7d2IYi41lx2KpNEe1xex72sxDgfYDmlRWwq0m11qm9+HPQajAr0qJUDlwOLdM+GTZY1Hdna8TOffgd1nR3jaYYFRgO4c+/V1WO40kocEpNftbVcscPSbX/CWmRY8K9AoTbkpb8MVoWaZba6PZdGDXZf0XR1VOvi7EBmIrep7Vyhi4VYbkyp4OavzKYJDHvdaJJaCS7v5ueljqs44jN53z7hd72ALTZNRxWCZjn6/WlcydCSvMAOEzbn/eIywN3x53mCUoG6wDMNAHfls9BBMh+DDeu8RYv6JTKmUFb2S+jPDJIWDLNIqIS6OR6ry3m9AnfGDu1q8QGpu1qrQb7OrRDlJy6QNKE6o4Pcsr6hBdYmoc/5hMarO+meY9EYWMR65Dn8znNI11qU760xz16bIQhmF6K7onvPx5I8fkeaKL36dJ8Gmew9yIofqlDD6Y4x+WLLAlzGExWNJplAPS7WGABgGskqi+B3bZheBkdvzKpYuPrvzOO6HtNKV8pwYviOEt7cTK4dvaX8Ng9ysgi3nmBDzGZQ4dRCzmssOw6Fe+dSP1qiaQsLAr9aNV+2XLhI3/tdlMAXHu8IJswUJD7UUob1yOQqcVNvDym1GTmSj/okdPv6C1luSRwGZnRltE68jG9ozNk7crIn8t74aZOBqgcVAAASDngvtqmPck5RCKv0q29+QfmyP1hNJytBcy2CNKXI3w36VG0wxW3ZuaugoHXlmYOgIqPmFIxIsjt29kZ7UMv1CiK85bxz93EW3hzEcKdx6pL8rVitVTsrS587C/NCrXmNRJgm2E2fyoHX4mzLltL9ThYx+hSgk9/HtqfFbPxbh/9PqBqPMwDAPYh2ug1/bTOgK+f6Zs9IcWdNrwUzb62n4WzVHyymLr4v5YOFFFaFWgrj7tcp2i5gmcP3+y/VQZ5e4ypodH9zuIH1L8g+uBQ31GGnz89EHz+NXajW+QjJ+yxeTEPVtVNbf9c1eHM7apENg4R5Z61yopgDrFuABia4qd8D7Re30xOL9x0AAA7A7tUKEzS+pbKNmCL58Wfwu5Z8TrU0RZ+3djlmqa0Unln1sUTTv+AkWhWqvksbtp4krlYkoitXqut57a50BNPqdS72lnJea3pZaiXdUWgU6c/gtKAlhLyCs5Lz8+mHqLjy9ekh61Gntj+wWYZxNXqefLj8gA8bmTazQ4gvAABclkNMlZ/DqKVwefOgj42vhamGsi/0HhdWn2pVaA+H0hy14rnr6SNugFJZ9eNOiit3a5DvCPRChANWJ2FyieVtrcuNIq/BDQKnWxyX8iVZJwySGq4e9VoZfeBBBTA9iXGQVeHTePuCQAUAABiPL/8sHg4EbD2ncuntClVwT0QfEpZ2PvJD9vZRopUTl93SMp1SM01W/YZsIZDZXMgGrFnlbvU4QDnKqiJujXs860Gz9ssPduYK1xvri74B4KCJ2BM8b4T4AgDAYxjo93v4peoRk4lhYauAFjJcPlkIL20oqhTj60fFStuiu01ZSRUWA8SFjc3kAGM17DgsIPi33lDtUt5QpzDO2xYvHJ1cCiuHa6I42mFP5rhQEagAAPAYWsXMhdl5zd347Ftsz012at4JsrW28bLaxiXLwb+9rqFMTsHKUl959W+0flcVyKKIy+VmvO+3dSGvqcUMAjVWqw05qYuIH/Hs3xcE6vG4GxVL3wEAgDPSukDuuuztK76wL1qapWhVocfRMhOQ71oku1gV4SqpzVQk6kuVNzubsz2gjAJVtGQRqHeEPZIOZ43AP7zgHaDvAADAGXmMQD1In16yIR/kRs8QhLjUVeIm2q/Bijo60piFsgvR04XgbbgiKNTDmbW9GCG+AADwGK6sq07l37xyQ1657tM41MUcfZO2Y7FuNbIZLgoC9TEClV18AQDgMYz8OgrAczj0iYl3kracH2x+He2D/Y0a5nm/B+jT54AHFQAA4G7sbpNfV+m3r5UEgAfs/AYJ0TeVDwYPKlQRvsoHAABnZvdRm9cCAMCtcf7gPZLW0v47slgAAAAAAAA4Pf7Y4lY1TIgv1GH5BgAA3ApebABXgxDfv2O3KntvUXajz8zQd+6G6XviAKDASxUAAGAbvEuPZtoSVEJ8AQAGDMrOOTXN94B+AgAAAMC58NOmA3YxmJjbAIBnbWVf2tGUPUMBAAC2ggf1cNytPKi4CQDgunw9nS0DWeFc/KYAAABwQfysggnxBQDYiK5BkacAAAAjwHd6LK+lS/5OApUOBACQKVeGRgAAALgKblbB/2YVDABwN2IFivMUAAAAromfGAaGQAUAkGjwd4qfCUt/u7v/lN0rAAAAYAB8BxUAIMa1D2Lvr1lnvzxnWHTPuEwAAJgG86AzmONDxYMKABDjRybhVQrnZN7mFwAAcF6cn/+WQKACAOzGUyTAEuT8e6/Bqfl9SYm7dVM6okAAAPI3+6w1qIT4AsA94nucfoQh6QgIvroOu4dk0xlOcHtpfrgbDCzHwyZJAAC2YTLyDkSDZ+4Scsv/6EtEvfCjKoIN2cRn8C6FZ1kca+50/imwfzjcFXFDQtgTPjMDAFBEVKLZ2BmbxE4Rr3EyKTMh+vEXFikrWtEad6I6fp+IkwOG0CMCd7XysCCfCQHjADAOQnwB4JqDlVeHsGV5v3JAO+JK45i8K68zp6hWqkKppFGr09ZDPfL5ksFXF/fxCbEBDQl3ul31sALYlT1vbrlIbjecdciDDsLJ9MPBgwoAVyA0gL6uTJ9+T1pMMciv1J5bWh1NUJskkphZetD01l6cummS1UHcWLeI01sOkYx+bwBx+irr9FsOe/pQrxmFd/GpCoAncMmx5brDoX9NWns+MwMA0DpB74MDyzAampqRLPweCARd5uVsHIl1N+5Qy9jZVvzVtVaaUS1JULeSDH6dloZNJ/7qBvO/M4GQIpttX3rCOGUy0Xe0pePtqlCvZ0defaoiv7eHXgybeAPcBudPMRYiUAHgMqiDZmU0lWcA36I2j9x1ZRUimGK/TCLrLFPBG2w3mz7tK8OYJJTByYrarBa/36LpAGVxsL7nlNuqtgMxqsd2JyUp0amhwR+LXnnnrpPQ0+WeKTGupqcrHH4Pr+k0h+tBTzsC59cXwbzpRgQqAFz5HRW9r8I/Et+oNsTmB6RTQz+tbbAO/Y2j3qnSm6IY+2uimEReOavvN6X/phwXRb2Ncri0uKeWlpO449aSWTTBIPxhLEWoeaSBM/e+FffrYVlbFjxp6jzMUO/btdTuzcU5q/cAwIBfBopFprqbCFQGQAAYSjI4NsjNUqaBD7R8ODrLVIYTkrwkyJJY3TNJzywKYw4PhXlVbOwwJDoRW5LvWK1lIt4sRSaVznJa20z0udpQ6/U5IN+7yr1IpK6p+OJJwvnxymBjVpFXO04TzdSIvbuW33ne42u1vDnAukPmv5OV5zHuYN7sJMKFKRKA8eBAPQB9oD0UPKgA8ISRtuAXVcyqbP+gOCt/ApvR6CVWT/r+8Ss/zkCoVLajX6QDrK8wxR27So0tClUuY1WougpX0du1INyNNZN9t5spaV2TDm/X2snprRPuqgqNor7VYG3tElvXlSaPdti/s0D98vAxGfUzWQAAVwgsQaACwEUJbcVt1pg4AuvDst8+YvdkEDgBo+R+j3WHQuRt5ECOtp9PXcuJ0pXuhaZ1IxlZvpagvMLezkUZLy8aLvUd4WJanOEZ+iV23Miy+1g8pB9o1NrbthiKPL6lAHJN0atR58rCZOXXOImrOb3Xf/ltQtx5p/ogy7+LfTiqaJqsLQ79+whVE7E2EODaOPkpnzYBh0AFgKchBJ22jcHK2WWZt53UuN5uEmpWpVRvXa83uuZKpTeteInjlYUFyLmkznWtkCSVqOo6Z6HKtZ4kx2QHmfZt6S9cSjgFkC5wLdfLND0QFCM5vNsuQvOHdvVwmzyvbp3VVkr7x6KSPcTWf8jNmKjg9nDsWG2LWUk/vrZLaRTh5fJLuWzcSJkw4/tz/A7Vz8FLQ/DELdkRqAAAMwKMG7IpmNzLXyNfIolPVquNXmRZ0kkWxrDqV1YWa3UQ3FH1opoqlhesCHRzhHMs0JNqfV3RciVl/3VHNOyYTcCq6XUjKdfHoUpJlLZVVJYaQpscav9YVBSEIOekVtgZyi5GdsettZwjtJTr9L1qpad3I66IrQxRiaazMUIahM09uPluZqcyXf7msYtApe8AwJ6oM+UnCzNbx8JdA+BOdtVlMum64X1hXA2cuFB/v/5NwPUq+m7KjmU/5FU+5EPumVs5PhSXEd75OCA8GhviljQ1ftgmldXHjdLK3Ea6A1mUlfV8jrPeos5WltORnmzoP4rv2ClX8co+dAcDwDXAgwoAVyOyZhQjUhYla/ok5HEny0XNtq28TAAUklvdbq2k+SpVsMWFapn+AgqbkPd42l+BLsLErjxqJ4yostvoWG4qJnIGh/e+pZs5W6S0LuKDP5K5KzG37NPE6d7a+ZnJQaHGVgIVHVVLcPlGtZK97elgGFRvE/I1NY6SmpxOs2nKtih215PCZs4PwGW51GzsTfCTWv2/KaUCALTQZnhJi7gUGWvMxUahelsHeK+Es10BS13XmYKWK5POVeImbXRZr+2K+ms473ITq53QD2yGIb3StTwEpbBVPe9IzX78sXHO0X+U0mvlVmoT1SGujViI+FsuuSxF65l+u8RaC02q6z8WUGq7hVyK6uddaZAEOC1u0pO0i0BlhgoAdkEw8uL58TLBdHu8AKpS1mbHxIgIyBfFg2/D2x9lNJaDQ/8ujet/sdnOci/+9sS4InJUJUo6oc9BH/2xyCb7Ksh3E1d8kC3V9HuZPJJCbb0tzZMO0V+RYhcV6nt0sTa+EdmlP2yKaHOPBICpjwwhvgBwAZaNY5rHUNsudGIksBSAWiw7X3MqRPF1sCy2kq9liTXsydia0BiHZ1UQqQtLimA8fsVY7QaL5EsfH0PhsWvNSV13Gf5qbt9KJHk7UlRGE/EV1LZ8DkatOAw5S/L6vXG9QFap78/adS1jjzn/JW4lDPrO4pHD0o1tWjytT9wDgMrMxwmBCgBXQP26R35mkmBdIxiHByqxoC7+p5f15noodvUoUlerqyRj5bP2FGunklWJSbuB/iYTzWVp6+T3ycH/9pT1twvCxe8YgT7gWkx7UY97Ct7LquRAX/l0Ay21Cz8s5Dbt5b2hSYwFN+XphY8NK+UIs3jGssSxOx344483IVzvAZ+ZOZK5D82/PRbJslEaAIxG3WozOS3/SVlWVRany0+JQq2m+G7DERpfkvtHkzs9NKXOd3WtpRYN6HBFXmYZbqCjIcq+NxV5/yxxEWAx5757d/RbssdJfmwdo+1Wk4mh9aRSnVp3HutN3/L14D0prhe192I/XJ8KRVumH+qYHOmCQn0HMaNQbwMi4xgmPzJWgfram4CnGwDmkczKy6eE/rdkyPI7BIcZUjiTPV5/477PjZ3BgZM4OKVepVK19Nrke3ImLezKTrHdjIpoJ0+v1zitfxx+vWGBcfOF+T2Xyia/mq6rtOd1LemwWxuYGYF7Or2cerBBmOUrfCLrtzMYWnr64DVNUI2sSEOhrriNb2sId9QIettitt4O7uhzWtgoUJmtAIDZLHFdijpNj0RxYAXlapCukqlTczy0lGIls7/z35vFwnp+oJejAz/5IkfWJZ8dDKWzYEeniiP97kP3dyCi6Qtz6HR2QrX8417fnQ2he8rqVW9YMv3N7XO7W+qnZijn1Ckvf179C1gvHZMDWxRqXv4BTSTfPmn8stO8+hYAarjzzPP8u6KqBoCnohskumoVf0yDCd//ykc5/WC+1ipJkkgxPzIuRZfN3VkZN4mKXB1GIZgU6GLvampmhuGAtnyDRkiijcOFxqLSWfVo6I6WWzVetRxcs+rCTanersYg1ZLZH2fV9FnR87ztg9tTEnId/rd7Yek36rOqpO16uOWs1f60bfyqTD8FY7fyO1wUbuFuJIbR513yd6dNkhgAAOBY+v2G1kzCMLUsBFHLLjOdY4kn79+U5aMHKzc7dgunGyLl9Hjl9Z+qcleTpAlaIp/NpdhzEqYpZIewIcZQyegdi67KqlZlsAhkwRDXA5/1rAbaI9vu3+trMcpsjKJWj5zrTzcebnqGDU9SET/+Xu2F/enYtx4AUGA1Rlxp+vJsAvUiwyAAwJ5IFlQlELLyk29fwuV79o6y1KykgxVvsL57nnBEdfvqkrZbbWfF+/Yk4Vmip7xl78AYF4VTJxHSkpO2ll2UVaanY79y5PBNd7jqUfRrwi6JkS2AVcKspcYWXORhHuGMUskjWF2Da99Rq0LU+FHhcYW0Un7J3Td4ub8PKgWMIbimeA6uMC9Vr8YQMxQZDJAQDLn+O1z+/upedHOcBxV5CgBn5u5xG+rltZl4xVN/ywolp3C+w2ry+09ZrS+6SDeUtq9Sf227p/rZYoWl01pjEfMUlSq3zUX3durKrIWpDtWio0jiESbC21m6aGslgjqtVxqQ3eHWjqqgtZW4o5bp0zhdD7VYt+ifI76wPNQzUn5+O6blttbniEIAro77/O9XmFa2njyhQEWeAsA5aXc33Y0+r1Xp1+LBwu/JGW/JurhN62o3VXtbvMFRbnm9tMDsqkd4cXCu19Xmc1RisvfsxkELC1cnfyRoS0B0HP3adD1y6ztT1Ll4HZXK5bWLZXAsCvOGDMK8rVMTamDuu6mkfqnFamdVlLM0o5XQRNZ/d9bApaJHS3CA++GWf6nv/VkP0T7lPtVQBICj6fMfPpn+WMzByGGTfw3Vsyz+62GvfKPc4yKi646jIq15JZGhch5lN3WbRlGCuMsRq6aMomkEOaf6lWcHC9kpjnDVP97h7deTaKWs2jtR4ettynqqHigvdogsJzErU4cQQnlXZZ1cknS3LIVUOnXaOnHp+z7VcAxDplHARSFO+kxW/DW8W2ySBAAA5+T9XjqDv1mOJ/q7PancSP/5FQymyCrdget7vn60qfV1GVjrblp0qNn/5U2XONCd1vERqfYkqpc4+bX4U5bb11PrwzhtqVKR99hvCBtcfM+7G7pX2TYKRnGG99gVcfHcjT9nEyNQAQCeRGA7whRMTW/9gmfrffxI2iF3X9zXuksGqptw6X5S9ZfCsmxdIzbvNdYREW0tQ8+sVoyx5X+i1Nvz2jhcBOHL698d3SUS2cJFKLM1Ue0Z+e4DkxGDAnhU/J+b18iE+ALA1RlmcT8Ce/zoYy/lRk00+YlsiScvSCbBhdcbsKnaZ4qqLa4haBx55LxKvU2WwapsFy06LZJY8GvqOTVEm6ehx8VKNQZtalHa9Sjp1ohlOCeE+B79YpsX5YtABQB4EvdRX3utP8aUvQD9Kwq1B+CIB0OqdflKxPBegxdEuBpN11aLOI9AVVfyyt5pxcLlsb4uLVNeMKDx0uiHAyHEFwDgSYhfkQERwgFviHZPj7jX/rCV2rVTovXPwpAQeU02rk1WfLcf2mxfLSI4+p2n9r6E35HiPtv5xaf0tNmsIF88qAAAcEV28qBi6l6A+8QBHBm1+C1pr3mX2rpWJc0LezrdtfsJuI4vLugnBEbcyQnIuh4T8v5qjZv9ztp7DIEKAACXZB+TE4F6f8PrVDw6pKEjVLvt3gdKpj8sHM7Cox+WRtbZmS1TUghUAACAM4Cr5bHLj2dwJ2dwM2hGaIIOc6yU/83vzBCorEEFAABYwfi5EldfJ+zuciE98J0QaGPgx4zvjat/lSrbJk7dcG3O0LSLQH3gKAsAAABHm6kXNzgebG/f5h4CnG6Rrq+e2feBrAP5b49MHzzgAgAAwL54fxNtc/X694OlCO3Qa3Tcxrhef7KWZg0qAAAAwBSeugYVByq0wyZJSgxuzxbaIi7a5dtNDKrepWC6DgAAAADcfyNmOAoE6sGLRCc6UtkkCQBuwbAJxOmFAADcHba7ARiyxa7/uyV4UAHg+hwSJffUULwERDoADNzPZbe8o+yfuEvy/dizz1wJ9/nPIZPys8CDCgCXh6n444KI3MRt5wHgPvgDP96zbCBzQOEAu+MPK2eaebXLLr4AALdjn2Hauauo66vUEwCgNnoxnsGF8ccUk83rHAkCFQBgFm91ehVL6TJSGgDgw3vUYui6FdzOR6zoYQ0qAFyfQ7b2G7/q47B1JCOX/rCNIpx1sxDDact5rKW+N9EiVMHU5eZfkoe9ftzsS505F4BABQAwMtymvc7bdr30cXXeut/FdVrvTlU/HebNy+L5IKOohbvwGcLY6u7asEnScyTqPiXTeQAAbvW6XfbAHKattvqPT2xq1sTPiat+OVYrptKaSaNf59EDgC88ts+RqOziCwAAVRabwJ/kew3nXYf0qdkOrXQlv+tBDsrz9gIAgOvjZhWMQAWA6zN9pcajGNTW/rHiwm1Kdo75Acv17V/TjpaMItUBAECPip83UiJQAeAu2zTuag4TlTl8NmCbQn2uvj05x92Xtg9bRh2GzgNwVc4/R3cf3Ly3LQIVAC5EFuToaq+tIXLKVQt5jHT9fBjnDNd6XYX6q/kZWnE47ux+6Herf7bLueUNAAAYgv+OlFPetQhUALgKyyC5CqTauPn9zuhiiH4drUsyRW0m5quzhV4OMniP+2aOvYxTGvNnVaj1er3P8He53im0eU8/J3WkAQB4Ku41UM568SBQAeAiSM7SytC5LIb7mKNOzSdJ8jvRUkocONhk9TqTCG/IzZhkbZbGBKikUQp1p3xPQLhoab9QvKglkJoAD4IH/hHwmRkAuORotfpQF7Pd9wxv5USCp7ZSimn401w5Suk9WWVn+W2FxJUUdb3eMr7Bjduw2Lfsa/7F0U5YsLRbyPdlYsl3D2Ku9y4lTfBIX6EhAeCCI+AtcDcsnc4DALtZvLntK2maVTG5huEq3RGgUoiQt1lX5UmySzRkVhLUeb5ilbcP2Fr7F0p5qcbigmJDvZZiRTUUZjZyGbIk9H/uebH5lcz8iT/esp1TrrINWu9KX+wBgMsNgffA3a5sOg8A7Gfw5salrFltC1VzgSQrRKNAbdBVabWj63JdeSUiNGiu5K9Qu/eO2CV1XpbBonhsVs7F2YEOP7GxqOK0R7Vdy56/4uJosVd02mt7+w9HC9QRZml4V04poAGgDB7U5whU1qACwAOH1XVFqnb8uwzV9iqMhaClap+tRF1tRWq5+NDKblufONKlGP6mzwkElyKvHxzxJnRqbtY4X1k/xvep1nl+N0MqM1qxrEU3q/UVmvX7Py031KkrkF3f7k1qEUPoXpZ9js2mAQAuip+oURGoAHABuhweuiiRJV1UyOdogz61ScT4QgpJ7IKzwwr3B+26Iwl3pcjQd/hTUN36oveykgkDRW6/6qW1XFRnodfqLS4Uoh7Mf7ULyyjR6k4MvibQIOx2cJTqK5njRlkP6PMAtVa5iYDls5AAsA/LVw0OB4EKAJfhJ+tSE1obPBNfl3HLX9vZS4129dMUTU/jOyNaojnuPRO0z7pxa1xfqfJBZcS6+E26OWmvther2o2KqeqVNfUQZ3U560lMOsUpT4gqBC2ZbXoGgpACl+alXqLVEx3mF96pcK/hzirLS7wNiYvOcd9T/CC/NwBAxiQfKgIVAK6HdXVij+Y0F5KetnEUtzkabcQX+v1r3ZdoDOHuyWLLFvTpmkHywaAGZ3RckHDFjaHPxbDkrJRV9i81Xw/mvnm/QRmV9WlwVw260ihqmzX15mmaIIOtDkH1GquzJ00FJJ4Fe5PlirYa250VvpTn1AmNhgssJUgqlJyaubwbAk+O45SVArgCnhBfAIBr0jJ+G7wtu70OCo6p7fkmb7HAya36SdOfet1AkqbtN0YFP3NQs9BtnF5xbs/LYrQoUQXPcuJhjH/+eJytQdGRuqjEE1SbcMlsnf/YSjCVEv++qsJ6cHxtomEzrjNjLYhbcGr35hkp1hZ/7PcfUmBKkE+Ud15hNaeZunJ0pWA+xLQfxesrftMUKgIVAC7DGd9L+w7eU5RsF+lbzJc2E/LHCeguB6oiPhvxqkRVK6Uupwz0seQHtNkQsfcrT7OuSG3KTJOVRqLI259z0lumQMrZht7GMwwc1p64qbKaCDamkBf5GsWdmlPh/FCkh2V3rESPHmDllDP0A9gMt/E43DxDA4EKANdhk4Gxx1vN3eBFvEshv5Vxws/lVBvjkOsrN/WiA7Qtslry/GrKb1hnrZXtDmQxq26R6JYY5f7dtoYoVDG4+916im4u95SPqN3lAe3zKLjaAXkVrrkuguvf7FOXzrdf5DdN5vgvFx31mW/oc+Apt2ck1VfbTpyNnQGuAgIVAO5MbI+MDlaJbMtRxvAAEyoJGvz+JzbXd7XUepois0wPLj/rKWEL7T+LrCgDbXlgWqEtXbsnbRxRva15BB/q+rdQXLFcNTx7HOGDlH3NuJpWDNVOFnIWMkt0ubQFWvjv3lmDNauW8PFoILRt2pV4uqUbbclIdh2fK8oE4Gr4iY/Qf/OKBgCw4jtP33e+/GfEhaWUSzQs/zNXWTrR/DaJ6rwn5nLGvAhVu7Q1ex+0kHOmmNyv064f92ZDBuXSM2/SMMYbMZvruswdhTdyPj+3euXKmq83v8aWqw7a6Ccu10x+x6Qw3+SHX8B5nFcLg5oj4Vx9AOCkuPyniU8OAhUAbjOqjg29s56P7ZOxxh16Y/OsumykMTlEnWyTjEsu9WIOmqt+R5EOLW1oxdMb1iraN6ijLbT1s7RbNqZWfol9uYbJsEKNhJwkQdoREayXs2EwLRbvN2QM8Bx89svMGARCfAHgQvyCvdbAvXjpUTrGRmuRjCvSpICyWkyeldKiuTQw7r2BniVPe3DhsfE6PU0k7YfTQhAxONgklX2zr/LScOAegqWEg5bgGsr6lLeFnQOy3bj4+7EEPdRYx8UzmYm+9889S6+1XcgMOx3HtQqX/4bdXG25pJPmuy4briU6J1xK+5PZ76fK1ihCaHOYCQBYSTZKm6hQEagAcAUW+Zb8ng+f8T4YLwMlWOEU/BoufIqKqKngLDNZEpcvo3BWaPs2rCALV9vVDcTwGofbcNVM1cuym9bV4gczpGaFTrsWIxQx2isYfsJ2fhs7oUcmtMj2tP323LrVnvc6unz+jP7a2p7JKLXhikspi19QEqVgV0V+Qtk+V5Vp0rVo1ClAjeg5Pc8jg0AFgAvjzJ+WT88O/p0r1MT+qhhJ8YYcRoUavAe2fp/jk16vpGjkzZkY1ezNHWrj91HbidCwpjdWRzHKzT3Emz9/M57xeYYyusHFeKRCXcpsPH+bZ68m28L9cBty7S4vS97sQm0urVKBU4UqAkA7CFQAuASZ1TLQ6lwUaqNDQ3brlj9lIAmcT/ntdtmvvnqIZChdX/Xa57sbch2SjTRbZIJJ6yflmOs11ir+XeWmz+PsGY26MycUf1kv3+HjIlpERz2Fpd/aqxuE5ea/d9OTurCG9YDSw0LjNkGZApQpxvLP28eXTZIA4BrEu3h8/xJGVn1fHCmD0inFXz+a8q8d3xITWyugdqmv7WXi94vYYn89REo7+uMXrBnvb5P5pAN1rfi8t7waU+1uzMsZjqceuuyPXpd4rVZ5p6veXD2z3rqEh4dsaKU9Xk2+55VXp3vtjrXv/r1x1paCDLX5DmrWao+4kb3sbbVuyD+880ftPAZHwk09DPM2hzuABxUAroL0yUFl8BT8WfHqvvCveAFGmM4r2a0Bnx3vyrAWsTJN5ipNVm/iK8qXgaVHlQ9NbiAqtOL1FJy+yaYM28tfV6FtMmS+frdPbvGGNEL8t9Dy1YU9yxnxurmI+HYFm8k0eZnbGZKvH3mu3kb5aQ37BP0dd52Fh3WJ4WjKqXB1e1uV7xqoN8O+cnTfeqJkbskFI02uhTtFCyNQAeA6tBq8ThGaP/erE/KMz6kW/c5kma831fErnD4r66LFaKGkshq9yq4y0q/fy5YkeDuRxGwwBOUVluOUxBrP2ZZlsjo4tb+rmYWhzIGWygI75boKp2hGwm/7lzXI9NcHal7P1c3983FHXaLJKiknKShujSQiPO0pbtN8hqUijYKptceug0r0/A3o91mVD7Mudymou0Wym4w8vSenUE+3xp/iMdqnYHoPAMCxpKra7TwyxzI3EdahzMh1u+jD1RV1tQaJEBQ1u1mhCIlsL8qf1pBWo5ZXxGmu3rApo0aSW6x+ic4ykSMFFhTyCtJ4+dZYqxU0XHq18pyKWIrcRPa2sT8lTZNJ2m1sLzYtPJ+Qab4EJe4i6bU++1c8mRcIRC3fvJD4Ecsjuy3TBlobRmlNVYKzY5sDhqFsDUbqBA8qAMAd6YgX7s3/vS1sZADGPr3MSS3pjUWG/BRPW42jgO3gffrKduu1yx9+WS74V9dkd5b47OYSkkNuxB2u7v7aEKy9nFb8u+U+ZoJPvvTc1aparR369NCP9UTlRzqzocdsKd3mwC2dtHxe5rXa3Z8wmND3O/XhnHAPD2ZSe+8jUOk9AAATSJa17TrdnMVAJ9HK9qTCz77NZZklDH+ztkA6TRxdTB6N6wv/iDKK6uJ6FWoZa0C47tttnSpXquUGfFGly9udFHPEjH+yhHyjdbS5xvkHn63Pf/ANWiHmW3Hvx7MHUcR3i7fyKHuReN/7gMYYiX39w8EQ4gsAcAfajWUQGOQVK/u31s//qMUUllrmC4QaKitqcDlYuparOVLbGi2cnyxUrFpMX2x7l0Oy4ZnTo857WixIp/cTS1ZaY2nVDcMG4hBf/QJrZYch3GFkQnhSV4yv3GEYIq9M63gHTagbH/xNAIEKAHADWGJ1PsZ9fzMLJx6QVfprsoKwSdVl6xX7BKocplsM3hVKKen5eh2a1X5fJLRe30bJW3cbl3KrCNH090UJ/gpfpWH7VaSZpTm2C9RQjEYrmtWIBrgYzMPOYYZCRaACAFwe/AMwB0Gj/SJDGxefNvXcir+u43nocKE21bsQXN2lqMXSt8wOxKfL1VVNxmxnsMb5jTVdfOukKRBbTopXlyHy2iBQn6NQEagAAJfHaMcBnJBzGJ3uSIEqBqO2la54l9vVruxeLMeCLz8HHs7mQagiUFu+iKX4bzsEO5waQnwPQJhbxIMKAAAd4EGF63IOgdoeJd9Y76Me0vZyZO+xHsAdfV4mUMmtGl+SlSUnbUNW6gLf6d0MbjBWPEqdujkVQaACANwB1qDCVTlJ322txkmqfWUEWRnLYrtXVvFQJ+tQuVkXB4F6PAhUAAAAeBxdO+juVQvjBkXJh3+hGydEPPuhHYmvktwHphmeI1L3+Q4qAAAAwA0tMNe1YhVkhBbsbVQlHfcIoJOJszsIVAAAAHhaBFlEp+BE+wDAXXHfL5BNGaP/m1EoAAAAwMlAnwIArAOc/3Nz5hB3KpVBGwAAAC6ysuztKDCf+gVbB+BhI8Vtcef4uswCIb4AAAAwEX/FKpyg0gAAYzjbgIZABQAAADDyWZJ1NnMOAOA+uwPwmRkAuAl8TAAAAIpfDWJ24cJw854jUhGoAHALWJsCAADSJ1G/7weWD18cBOqcFp+hUxGoAHADDvsq4SEF4QsGABhj3HrZ1mWUvSAI1L1xbzWatfEEhcoaVAAAK+sg7XZ7S7q2HUUBAEA3p0/xoV2AS+Al42PKI4RABYDrc8jwecwY7dp9qshZCMDHAI/HI0rvCxFGR7frnKcJgQoA92HPF1cyRh/3jnQlj627m0bV9zYppvFdxfj7LcD+XBgm3AfEOgCAAVWFzprsQaACwG3my4/Qp8eYu970djjsxXHc1iJusIAvl3ITHYe3SIZ2eS7xk70OD+nmSQBPxcXPgBcOLPPFM8ZSBCoA3AB/m4LeWvtkxtOEl5NdOp5DbA6bIelY3CzdnptI7024+zZFEDNwn+CJHVlbiLa6AXd8pCfgqwfWeKYZMfMIVACAM+GT1+/81VQzKnAtC8SN+RrSNzx308XvFExQ+KpkMfb8EI+7WMj0x2ZH3hupBQ6Piz0uAJuguw8hHLrlYVzZ//ogEKgAAEe/GcsfbU0O6Ar1feL+L5D5Enkvhsu4WoZ6S7rN9+db+C53S3FT69HVh25bljd7vInrqezZwRESt302AWBXwmFI2Lj3+z55jzHs4gsAcF070Z5bo6esLDn8rRRqe4Tzr3L+CpL7iIJfZQyWZK7yzaUzfDTvRMWX+Gh6P8x1fd/ZIwCYRxDnO2mMQaACwMWRt71I1/nHB3//ad78tRBNuNtisPkm6IGRPu1N2NPoO/nU6tnuoifiTJP4z7ElxcWclGkbbtdpa7XSHAAAwM7MHHgQqABwdiKjzrt4lV1wMFqVlZqC8cHgn6YB2BU285VrEBw0DvFBPlij16JBdvq9lev+Crgl4d/xnFg5P/ZKAAbCdM1BzAru/YBABYBzkwrNeHNO+2Kz5aCuXFtqJecmrdHTV5xqSrtc4lTOUYvTMUBevhq2M5cw2T72xOczA/5M331aP34gPXPBOWfC9Z58rssAmAlPwyNmyBCoAHA/ZdBmB26IEXXFjfHkA661/HgTnJ0p79/Un2muIvRo6X0v9ITf8flx4gWFvk1QH9TA5cWv57vLI4X7J5Pz9hgAuBjuTKPmLgL1PJcHAHdHtOnFH78CL9x1pFP52c43e2qtu5007wbUsX1Qbf+mxsK9mKVYSDFSulLfjg2q2lJdh083OkofnlgeXf/mnrl1AeB++L9sPdU3TmUCeFAB4NysG/QkI+W6DXo+gq62Xbq/TyRNzL7JpWhv/t5L0bmap7Z7RIyTnG7TOtiskDZrefkASDEqOqyY6bobFv+uZ4SHigHZcikWxPmQ3z8a8io2gu02GtvRl347UuMeEfV7Ito2qH79DyoVAIYTB3tpho2ftocvAhUALoMP3EPmMdPH2kpJtzF6tpi6OgGpfkFCx1DfTC63J+lvlKrQ+ltui1iKGiitXoiQTSCSmz2yDfs7Wxzfm/XSei1SVnkH/4nZXG4HJ6STA3GIwVrUtdzNV6knAMA8nF/emsr08/v4vBkyBCoA3Bjj8s4N+WvyI/C4JoVE3l0Li6Irvi1iiRaksV5ioENqgb5/m5t1bZdvKcmnUgo7Rymf+vHlnYN+7naTdrZfvJpd4rbfJJtEP3RG2j0C1ZpGV8e/a9cQb0MmdfSi57hLK5pbyj1LkbI5GQCMIzFKxHNe1sPEhQYIVAC4EK/RcoupNn53UWXvo9Ko/hvyG2vx0XGfnKsu1jCJLY45bBnhpdT2miq81bQQTHs840/EFFNov+sq3zVrgkJtB77VDVl5Y4ttvMQgSFtfUF3MPspOXoIs5B3O0LSVosVw94VdywXZfe36dFZfRLhesWIlTKc9RPgDPBNvGTdeg/E8LyoCFQDm07BKsodVLu000KrZ+oKU7dGna4mW1H7rJQi2vzFPwVWZa6S6dK5v0KCcUVwBLO+hleVnngVwBm90d/duF5W1rAKL451Z6xy5y/31Xd7mimM3P2YXV+s/5TXOHY5aIdUv0ECV1Emk+jdiQCg7rPKOA+GvEtIK5GyEOk6j4h4GOCP+9193G4HKYAMAI9k8PO46vtbzfsfZHjkudvuJd3kh+S01C2qyKsHqS8YWFS2k8PZiwhSS//ysL8KvJz5wxccSe2nx/FCWlfmGFO9DSYPLCjHqn3Jwe3RQmkLYUuW0EGUnrub9zN5/7dVxwnqJLZwF1n/FbPrQRr2luRKhDP4+n8Xw8bM+RwC3xgWTylMUKh5UAJjPulp/H+puuH3yLZZgvubOl0O2KHNTG3e/oQqlutaobGsl8phQYwo1wlmvnpZZovWH7MNVrVcQPf6rREsjayXHR7X47PVf1tsU5SSlLIcmuMqd/zoCtaDa/hDutUsKCr1+8UVF3bjSwR5gbPhV2hQlDygoepWVAsJggujmKPmIXnAAOIrkMZ/AfzMKBQCIMRk5hR/+dk1fy9e/6E8+6jwxgXMtyd2P7ZUo1cw1V+xLWyt3G7btbq+d2RQO3lnjMCa6sTxVtddPq6RxLTMTo4RNwXeYP/eKvhOD/aMTlqwM96l9vLEpf0sXyfzdlpMza7ecSghIAIBHgUAFgNOTGWMb3QaDGWsND+OjAte/N0T8bkDRSoo6HSrzIx9T2xTIgAsXTfMOemY/wnWGFfEYTWZkvwgnbSO8mLgmxWsstoAh3jsU2/FKSwO+qAfTsFih9G+5YsFxPPVujLiDH5/nbkPq6qrda0IRAOz8RqxZpg0hvgBwR4xRmntbPlNX5O9xcXtcz95t5He8fVsDmJPc3I43NBPhkTvwoz4avKYD0YqKxVtH3HXwRacg1LQxUDwM+65HWofh3fm0R57y+1teyD6Ii7LD+NtgEfZyrhAoHjYE244A3A7/F4wIU+aIEKgAcEeU8XSPtf4nMc/86FqKKUYZo7s22oCb3NhRBseMj8j9bF4nn37rxtwFfvP42hWtfbJwzaH2++XU1JnV4qNFxq49k62fzrKgtXneKC52Fv8qtzRZlM+I4TRYkJrUbpJZDAA/Zs4+IVAB4EK4zR6vaNJ/9RRsLFitQqlG+w/9c6J6T1PKnrRqnA1u3O6UHWX5/bJL3Iry/Ecpt011c5svwiKD3YglrvvZhOUwaqny8drRjlmu3E0f/9sXN83qDYQR4tivP+QAHM17i+1ZM0UIVAC4CMtHEOJIuWz7jcgWybaA/CnU9Z9NlotgoyVbX9qtOOlMq+4JYzHd5fTpZi4SVeh/nXWkPO299rKxv34x5vt3XyFJpuYjVXHUWYERineNE+4pfej01xBWl61R/qUKurtz2Ebc8FPEvc9IfoUj+zXAE3CfcIpZcQwIVAA4PXF42fpfcUFVljgwveNJ+S7/qWBzuuoXIpWSXsfi7wImeYbBd5HTt1x8VwjjIRxTswGRh66tDLHE7743Wy410UY919Vm7DfH3/ZVJwkz+Dsl2ZLR5l6bP/HSWYdfflytqYOE11t+Y7Mobwc+WnN9uIMH8XmEpnwD9QW7+ALAw2g3z1yHFb/KzmXH2jzZ+9D3sLQ9puAdVs/Z+BbJ93URvzYzPCg7LsWNNFHcZt/YaSyhxop8pbEl2XJKFl45ANeoT3s+1mRkSM67WGq1+NRx+OkXbFPs+2r2k06HAEAEHlQAuDf5IqdoKdSI/VHE8oZtIBIRBarFJUi+3fZtadwxXqlPDJ5eWLuLVQu+zn81FGNohXg1s7FGtjzz31szKtTAUqvW8sxXWojkDaMFzhIIsN2H2jZHsvcaVLkGpWXybooYbyx1mosHpnC+yKD74MKorq/3dNbzhUAFgNPzthMXrZV6QF242m+Rh4GvJguybRcOy8idJI9ElrzaNc6lUIYQqhv/mZYkulxjCd7wZim8hbTYYxPZ3pxy3SQvdb2UrGaxzAnetEqjJcXEit7op/XVprSuRdxOEsAefTcm0XtBeyVJ24uzmYylZh2z5nW4JWX/uk3fVFc8d6Rt8jsI+45ecocVfulqnXc99KTtFyx/v6d0AAAEvPNpVM206Z9dBCqPPwCMRQ5EjH5KV/uNXmilhUzqOccuwmoNEmOqmG81L21NZA+SEPb2ROmcgl24h8vI4q94mL7p8TmlsKWWUKmeL4EGl5rErgq1LLaczRQoZaHl8P6anSVivK2jNNkuiT6NlP1OZsMqwnusrHcN89j3HdgjvrqPYP3BpFDjaMx0W6u99jZT4XBy8JY/p73xoAIA7Ia8h2sy6JfUt5in4WDdH5sfV5J0vaFKqizZX8ico7fEi2auKKMqCxWqzUssvbqT4rMzPnu/SIG3yR+S0k3keYF1o2s5pnapuq3xA6+slsCw90zuuw63h81dbHZ2klK/TyykdzsJ7t7ZgnMzrU/dHx/87Hcyd8t+1lIq5Wc2SAK4Tgw1AhUAYEe0eMYWY6lgcxXSNMvAwF8ZyebtJnIa5WtbFZsJ0lB2Vi5IqXQh5E8Vla1lyIfC+iqGfvpD4PRMxV1VoZZrJTe/1Dh6sHJ+RPg9mJ5JylTaLorNLgQQC/HheaR2s36SKiTFbLiKC3ibgTfTPIy7aaxPwyOt+ap7kOdn5hUZxTnMbtgCDtSdCSPFPuPnvUJ8AQBgtrG06I2Wor7+QzHksDdeWQ7LTtyEqW4R9LE3fNtFl9WJDs0rp/m1dfJtntTie293p3WgxEbWZi18pvSkXFYnc/67rHETdZ40tFNLWrNYstaFThjF/C5T9XCbPdGWk9QmKpzccdjm1a+g7Bqmu8Xj/2bdsWECIA/XB4Az4z7/maZQdymXsQcAAAYRmsEl12vilG7Wm3lpxgS+XLw35C69izMtZplyWAv4/SspsmkxnuaH1vRv44GCW0095BuTCDMfxbmTlZYaZ5M4wSUX0ywdOu+uevntxHd9VbvLvyp1TWuZZGMoOM5HLjBrNFuoBTyHAUERYOP3eE/zoCJQAQAATszEtXOqk1pTT80JKkpM1psFgSpPTEgyv12g+vrkR4uk9u1zAL09wXi7qoG4ubnaF22u5Bkr1DApdiW8yOJ74LbR1IT4AgAAnJiTrElMDjjx3Oj32kLh339DxZhYoHLgtfUDxHJ0uZHCdtPRoTgevtWsKwaqD8NWLUu57ZHwVdYcw22z0nOQJQAHogbEHAUeVAAAANgbOZx0OVhbCZklsRSV5RLH1ZqykQtXQ6XtPt/MIRsvzR4Z4ivkJvmWCyWvZzTfkAZDU/UcY1nCC0J8j0FbxX8kCFQAAACAAk0b+4yOTR0T16h4luXpgmKJTeuYk6J/6aI462TG4BCnMlwRBOoBJOMXmyQBAAAAwKH2/f676ka7MkWO2shdnAb4LnoVqxI+sAZ1fz7PYvBETlKo+xRL7wEAAAAAgEEgUHcmDKiwf714F/6bVC4AAAAAAABMx/1CFz7KdPJMAAIVAAAAAADguerUvdVp4XviR8JnZgAAAAAAAJ7sPfXp7/PcqHhQAQAAAADg9Ez++sktcdJm3pPZxYN6pgsEAAAAAACAa3y6Bw8qAAAAAADAw/D+lPp0H4GK+x0AAAAAAODM+KI+nSVe2SQJAAAAAADgCTir7nT+feYEzyMCFQCuhTtnOMqdOOuaFAAAeDa8mg5tRbOUHc0+mpjeAwA7D1kMM7u3MU0MAACn4f2hztmVuDjOu6YmdH7Oys1dCqXzAMDuIxYDzT4+0qCNaWIAADgLRPdso0marr7TKQKVTZIA4Gqf6jon7sXfNfjUU6ztVS4BAAAAbLS/2/3P6JoyJUCILwBcBHfmYcads1rNQbxRI1/iYgBUCAgEuBN4UHtpC+vNUv8dD5skAcC18Dd+CxxMUlecp3Ar3PUeSQCAszHFNkCgAsClwNo87B1EU8OVYcIFAGDr63zSSIpABQDYzqR97ga+sdCnj8WwzOh6kXVrf7a6UK93jQDP4npv2RvgJpWLQAUAGIF316pqKb4XK/1JuKqOq59xOtqfxicHBPNxabgC13nH3gg3q2AEKgBcA95N4ygZoxiqcI1Hz+kd1t3mIo/AxZ+UADg1dNRnTL3vIlDpPACwFx3xegVDFhJoJLh+BG/Hht8P1qedn0hkrIAzxP7AXcGDCgAXs0ff/5u9pGIHgAt+dLH99fnPMyP5Cnia5KlcKDhdJO24F7+cK3wiC58rTBureFE9BAQqAFyAos25qFFRt4rnRQfSRANnaQftuxK4KzbnqJqjvPafSk2hfo6fqn8462ZfvrENTnWVpyRoYKQCwI1xU8dDBCoAXNCEFryl/QNqZGatKtaek2rfu4a8fiIgFwNfd0XgDU4vs6zNvWxczrbFS9ZtfkEdbh49b+zqNvxVvb4NFT+hCgeAHOZFnsE+oTB0HgAYjObxlL+O0ji0+Q2b2erSuWklXF7jyGeqHbS2i7ddXkUGNmg7F2gIvaD8MoKYbLktN71foqxHad7rr4syfGfmdGg9otDrrniZR9DmPNad1wB7wzTS8cxaM4FABYCLIJqXoW0VCQ7X4nWR5J5QmF4rKclSNZP9J9VXPyQrTk1or4eKAlXKq1CtHrGdHxevo3jQ2zVjZs2Uxf7vFF0YZ+pnnLWe7up16Hv0mmafMsOgOVgI4tXojhehLeFYrjlSXRk37SPvu5RK3wGAQwVqImQyhapKvd/Qq6mx2miW6+OkqLAqvnUwLijU+IoX6a2nEDR4ZW+Z0MkoZ9VzLYrcLAlUt7l8bQIiyy9rnPiH1F1dm8/QfKt5V3bDPbtNuYw2+47xVTY2FAJ1EIPCGQCaQaDOwN1nDSrx4QBwzBiZiJ2a/liFnBPStI/Ckckbla4fUYgCYn9LTb9V19KvhYSBsbGjz6XjsjYdmv3qhk6cLuU7+/tCmTaorZ7Na21bb+takzjDYubCctqgCLe5D6oB3nLDf+9tmkhYiFlUgYq5+Ou/jbak5sgba5QWP0szppSbL3NORhsAuDNuTrF8BxUALo9vPehTzRcarVqEcF/x9lwCTZvtCVWyoCNVlMU6CypT1LtSrHTvHGSkfnTfaOzjrruv1zTWWdBMnwteYdW7+k6y2OLv0+JltU6dUcjUrvZ7se8YrlISonLh6byAXETavGH+qss91aGNQj85XYs8N4u+1M2tnSDeeKnNVZ0tC+dvGxaroOfS9jFSm3veUgEMNwAQmDYZxS6+APC4rzUutphXS/j+u2wuVmsUx4k22J7axQq+rcUzqgW2mrYnlTy+zoeysdef6qWrF2pTFOFNBnR0H0uNL3kKA+UpJAmzjqYB0iRaW2n3Vfq9MZRZlJXxASGL6NivtdrDoDQJXk9YqZKmwc3ZqYeMFxnoTdGzLO2obS5l9ZwvszlGIb5WS3adKxMD+mSCkKDVAw4AMIr/huUEAHA0qc3Zthgtw399ZoKXpTHXIMZx3gxk7Ei1UHDPvuKI3+2zFd96xur7tDblGs1cLE/2refzFuWkYfV0MZRlEM9ddOmASiF+uV/WDvi+x58U9f7/OyUtPCusufunLtUNWRXTWnKLrjL4I/w9PqenlN9p0bBhrVb07+icVCt/fwkvo1REenJaWzHNB/WQXh6AESZNjmTeM4sHFQCugeDWcsM9rk2rqwwitntwry6n1YI28598+wvd5D9uzGz9u3Z+9Qdrwe2urMjprCeRIoVdQ28SwrgDB3XbNIvm8k1jklcp/HOMFad3gpjoQi/260rl1Bdr7P3rdecR3N/++/qzPQjBUnRahRT1ArJnL/GcS81rq0ySn614zW8f5hNp1zZXtCUEo+zrjqYv0BcAl8FPk6l4UAHgUgx14glelVPN8dt8PJlvIlFmmudi70st55/VyXBnu2pcUpn2NFr7iuHiv5mBYrRyT72Usy1Jftq7VlAtFDoRLZ//S36vXKFeMdHlG7ZjrQfoXn4fuZZX93I5lcz3IoNMYt/n51oMeYrBAtWWa9bT2bHqg7SeYG35xNdd8HyfaogFgHOCQAUAsFthIwqZQeXCjrUZFcmstk8hcrAf+0I/q89eLCCRas0Bzj0UYrr9qOmFPLOWO6oSKtTO2x1rz7wyZl1e8WnHd9b1TR7YK1Pnp47DBnDlcPCB3XER7b+/TYHEAM3Qn45ky1i8DQQqADyIomcsUEBDVlsGOSUem934eaPKHsC5NOvMA6qeFVFqQN+UW6IW21eGmgqJtdCvjLypDUsk2/tO7lEOw3b9daaQlKJ98kAJTd+fufG3vPjimKIGiaSxyJVxqVWfSg2yFKXVCQBOi5v1vLIGFQAuRfRBGH2Fn3UBnPrjmE2Dxxno1tLWfx7ub7Sl0aulHHFjr8mNvcriOlU10/Gv/FIpaSDp8NLzHJWiO7JaHJ+Hm0mRl7FafLQ4Po+nVlF33zaRf8b5V7QUY/sejhqW84Z5WaKO47LXnYmXkRBpCnAt/LSHFoEKAJdXqNWPe6yJsyzSYw3moWErofZNXSL3mil1SSFte7dslNbaNyU/WRt8eUmKMS/LQhZqS36inKLPu3Yz9nWvTwIIeklNVKlTvdXVM+qfQTUjKLmjTafcVZyeEK9FNXWWpXf1VSn5LE0pm4YiKpq0oeVjdzMKFS69VuaB+FkPLSG+AHAJWlc0LWe5NknQ//KzmokHBNUswcr5Ni5zjYEg2i+LBOxZrGc52e5Kry3UHeG/PSJe2R3u3w9KVAI89+AQw8k3xWZnV99Ux6YJkO+ibC1G15dizuuRyeHIka9C6255tAXAxfCTnlsEKgBcgdAiCteK/n4JTsotZHV7nUDF5l+O6KpbdmzZpaRjj5/et8KroLbAwbZllS31GLQfy/YXZM2L+EINLzXkb2qhcPngtksyye56GV+1oh7pqNIohTpn3n5rqR131b4kISMbVeIof7lS6byEVuWGrcnq56xTZgMX+APArsz8rMEuApUYDgDYd1TJ40MXS0o29+K/F6+qOvymoXoi3iLHGjegdS89neWR/Dc6XBPf+pGsXm7weL5B1g7L8NAXUhhXK1SlpNX76qneMdMqyFIXcht8jX8nwU3IO736hiff6EAtFWAqzTQ5ssEylVP+hsHT9A64KGiM4/Afi8TdRqAy/ADAWNRwUN83/ugLICOZaVSoY7+B4krhzVI5ipNW0th5RSNZH6dRm7J+qUF0YM2B2hC73RjmHUUm+qaph/Sw6o2y5qdk1k/LzdlwI/tOjxWQGxmQfQH7otk5fqpVzVmmDbWLB0/JOz/J1IWbQO85nmlDLpskAcAVCHf8iQbMeLedVbjqCiNPFf2UhvpWQmNVR0p+YJDZutRoKcIpe4lmubn6jk/rJRVSNOzoImrdWDSnS/skR1J6b0w1KDoG41KSDa8qCj1I8W6ytLNNNKPEa84acwkzENqxNqNQKfTrJAt7T99WYYY9yNprujO/ThWGcfRuf2QfdUol1J774mPylZj2iYm1el6v7ZluGFwK9OnRvN9uk15ohPgCwFX4rNwrbK4THooWWS0Hvv9479HzWgy1HtAM3ZoxpR5v3ASomrzhHOHnBkWpaNLlf6J/aJkopReCW9OJgWKStuKzxcr6iWJd5CvII7A1X6DsXy9PoVgxeYI73FYtEwCC334bbTHQ7mRTaPs0dpzAsIZ5S7NIEzQtMQJx5c4T8w13gO40yTVwMHhQAeDqfL6PadSDqYb1Nb+qrXQ52rhXZVW8tsG/0wpX1hwW4j8rPucNjqBKE2/OUzjaoRHyUN3q3ESl8d+uoqqUT9eBfj2QVdLvWX6cd5oAT+7e+md2W0tSenV+Cd9G8SP6ilR66I400t4BtJYSruUs30oRTUf7J7cKGAII2ogf+7QzIjkAzokf985uZp9iGWsA4KpMi0CzhFbmlVPWivUsIRO1WZyRVXGL0djRsSA3UYCEKYNSjaazq+dVOaL4j0pOJS26Oji45pIGprfNNMhllAI6w8jtrwZ2ptKVOZsscRyoHVak8W6tCYJeJHYovZeJ/TTsyvE0gFKBpP5LGuH3tBnDO9zijDadHVb+F1ScVUt4uOSshXompwv3UWwCc6cV7iJmIxgIujscBgIVAODJmI08IdmwQVfw38UGpM2cLF/LKrMz54l2NY0+uVT+yYf0I5IHWa6Z0h41zZUdbBeoUl66s3GdBk8nxIXSU2liKSTWRVJmKg2NJStn35md2lzpxSRhEpEyDg4UmqtGaUpHOlUXqFLoRqYn5TbxvQK18MBXho8mGQ+PR3hBwa5MW4K6j0Cl8wAAHCRQT8lsr0hvW/Y4nqtZ1RSfJJNMxSvOTUVxxfql5EHVXYt6KTUVWED3nWsXWCqnoGrLzmDhUL2Qn+1WmhnYRaBKrlG97aVaStMiojNWeCiy2lad2VEVEajQCQL1YNzNiqbzAAC00mCinp7ZYnt2+UEljJ7Yz7H2Cit+xNU1nXrLSkVYFqRKek8OpK0WJ6Uo1qDHs1s4pEtas0BNKtbjP45StoUD10ovzjTIArXUinKjeFullKDngVNCcH8I8X2OPkWgAgCcgzv5EiaL7Ttp/dlOhdAkzEqSitZjqEsl6OeWZU1DwK7qKLZ7YxXFp9fMfF9GCNSSG94NEKiNKSxe5ebOAk/mFBOPT8LdrnD6DgBAI7cy1RCoMNAtIi9VTshXZQrKt7VnFLy7yoRSnw3dlKoggvVRRJS11aDg7NAIgSpWmGcVqiBQH7QEFYEKAHAK7iRQZ8ftYfU+Im6v5/skzZt0u6995k9keYeWm7e61EWt/Sv3ncSpWj74LFGWr3yoEF0slsKjCgaOeBYhAYEKAPBkZou6G4ntO2n9J4DV2eMZapf1I/xPRRe0ciOLi4xZVghHrGdgJqSDnm9QjwOBCgBwEm6zQ+FksY1AvRTE7V2sBTr28gKY9440Kh26tYa7UancZQCAZ9McSzmy6AXeRufn4SuGce0A7ChQG3UOj6G2yuFo8KACAMC9IGb0StwpuL2VympSANioUMuLoLNzeAwzJoX4/ptTLAAAwE5gY8DloNMC7KCVAv9fsg9YcM6GKt0bN69pEKgAAAAwi58BiZEIAMNDY4LzGWMupFARqAAAADCNB1uNq3fnwY0AACfFz/rIDAIVAAAAYAqez6wAwNlHqAmwSRIAAAAAAJyZ6bM5D9x/z92q4EfdOgAAAAAAuPm3wp+1Yt7dreyH3DcAAAAAAHiEQH3al4vdtJL/m1YyAAAAAADARfA/YercTAfjQcxT4XhQAQAAAADg1JzBg/o4N6qbUyy7+MKZv9MLAAAAAHAej+XbLnZPkKfTQKDCdQYEAAAAAHggZzNHnyFP3aRyWYMKNZ7xBAIAAAAAwHQQqFAFhQoAAAAA88AafVKz//cEJzwAAAAAAFwWFOrxuFmiDg8qAAAAAAAAnAIEKlTBIw4AAAAAs8EmPQ4XfPb1aBCoUOcJ3yIGAAAAgFNz+jjfu9jMbu618JkZqOKZrwIAAAAAsDge/25i/LtZxe9S8A1uCwAAAAAAnAR3DY1xkWrWce+rmKNR2cUXAAAAAABgO9778wX6ut4KuRuF+N5i2gAAAAAAAODiSsj3JZums9kkCQAAAAAAAL64qTKbEF8AAAAAAAD44f7cZxXqDPCgAgAAAADAmcH/dSx+5m5PfGYGAAAAAABODPr0WCZu4buXB/V8S4MBAAAAAOCaoC4Ox89rc0J8AQAAAADgzKBQD8ZPbHM2SQIAAAAAgDODvJjALIWKBxUAAAAAAE4M+nQC91qDCgAAAAAAABfFzVOoCFQAAAAAAAA4xapfdvEFAAAAAACAU+zjiwcVAAAAAAAATsG/2RUAAAAAAADQ8eySdDQTW5zPzAAAAAAAwJlhBeHR3G0NKgAAAAAAwCDwfz1IoSJQAQAAAADgxKBPnwQCFQAAAAAAABbc7XbxZZIDAAAAAADGwTrUhzQ2HlQAAAAAADi7XMIF9hAQqAAAAAAAcGbwnj4IBCoAAAAAAJwZvKcPAoEKAAAAAAAnBn36pDb/t0uuOOEBAAAAAACuiPvz8xQqHlQAAAAAADgxeL+e5LRGoAIAAAAAwJlBoR7NtK+g7hXiCwAAAAAAMAYWoT5oQgAPKgAAAAAAnBj06ZPYR6DShwAAAAAAAKARPKgAAAAAAABwCo8jAhUAAAAAAABuvIsv+2wBAAAAAMAQEBdPavJ9tDF9CAAAAAAABuHQF4/xoRLiCwAAAAAApwZ9+hz4DioAAAAAAJzenYdIPZDbrUEFAAAAAACAK+JmFo5ABQAAAAAAgB/+5a72k1zWhPgCAAAAAABAgJ/mRkWgAsB9+Y6srFkBAAAAuEaYLwIVAG4/srq5GtWhkAEAADbD2/Qh8B1UAHjG8Obn1oJhEQAAoBs28X2QC5VNkgDgGaPqnFF2YKnOual76gEAAMyCF+AMZs0IEOILNQhPhEvibnkxzj95LpwlxQAAj+ZGL8GL2P9+jjWFQIUajAVw+f7r0vfacYFCQ4b2W4ntD9ktMae5yqTZp7ZXqOn5mbyIfDLNoxVxkAAwyH6ZZn4Q4gsAdyRytnnp4EHxshiKD5PeH36967YXeHRbPje+/TNa7ZkAAEBTqLNsGAQqANyfzwg7x2ZDoT6wJdeuhlDYyg4t+FrObRW8DafuQvNMB1MjADAOvoMKADCMdLXipEUUg/CB2XkhlTacy9zFq9TzmSyh4n7s2m9hw2728E7agoYAuBJ+3ssMDyoAPIZkqHVl19e5ggpvZtn5WzfCVer5SJp9ka1n7+I+9xfvg9/B9GSjKgCcFTyoAHA/XIsl6dPIOC/6K2c7Qz4zmSczOx/gDe3i3lc3pS399e4NnUBsiM1RIPcaCcEO4+qTQKACwNM/kCruoZQcC70iXVvP7o1o9Y0z7WfL86tV2T9ZnQzeRXb0Ph1mK7fNHC6cvb32vrHrneo5dbN3AH/0wohbgUI9mJntjUAFgIfj9/IAOMOhVstJKHtx/caH3EjzLHA665k1lbP7iy/0k2OfHslnF9mRCnVcVs0FuwHG86b6v3Nty+Fk3X0XfWruYb89jU/WKNAF+vRBIFABACyfUW3FmQ5s/qan5O5NSzGZuL+aCPFzcY3jkOiwjZJy1mSqqm6iKU3SyuZmVm/IOLdguoPXWXhM5GSLG6bHZfN9RAa58CfdkWG9NGyGns8fK9ntcTacnAH9By4TDYRABYCHsZicvuot8fJWugP0aaDqxllrQVZZ8eVi0k8nRorOlXN6/Z27a0VRq9ZOOOI3Jejj2wxeddo0lCMrm6iNR9XYVqek22dPwdf4a2tIvVv19uu2ZsE1dnaifnZ0hKY2fQcAJiY+NghUALgIQwz6ciheTe185xINts4qZRINGWb/Ka/fctJVaKMdKO5nHOcVXItQ4ZrhqTp39WqU1LaYJOofjQI9TlPW09b7JbVJr30uz6mEC6MjoRncrER//upfmlGQHjRpNfM6qyFOJhS0a5omflqC8suh8D9JPcyGGipihmmx7AJrV3xiLTZQoZ73IgHugp8YhoBABYDzsyyz3GieRJabtzpXg1Vgkp2uEqpQ2WjcqlCXgtzwCOWF8JJFgV7QDmvV1iRunNpOD9QLKaHOTujFdJfQlpGsHUXH9uIGlVKUii15vF2t+EQfR//SPOHZzcorXfR/bfdF+33FrlqM0IayV1tq9+wGS5MQml9ZjwBQA9jlPjooenkL6NMHwh5JTwKBCgCnp+jg24Mkb99cmmbv7fJ+9eUXd+NLfTk9VDw+l9SxKl7+yoR8LGrXs9qbIk205OVSGRzZz40FrfWMMhuh9dcifprM1K2Si5ZiqH+ZFZ6UuBusd2+9sNdvv+kUTQi3++hVT3jx4mst038nxJQF93HD4xOeKt6J9T9CmHwqSCsVzVLXGkVSr3LXSuryQomAaB+FhS2Z22YFvj3XlqRrnAGAD85PDMf4b1rJAAAb2D5stlguJgvQkoPwx1a+MjAkcbD4t540Vc773sr9fKxr+b+MMrP3VR/NTenftc2O5D8H5ZYvr8lNWSil9b6pnaV2N6z5fHNbqlw7Mf6Hz/Xp++6nVUsdtZVaFirxm1Bo1rh6abVaJWe9kBLFOq27XomoUw/LZ1jKVU6x1FgqXW/G7MiSJK5mxzRT2MO+dyTJtJpDywOEp/VGMNtwHJ+XgtswHm4FgQoAp2eYjdEUm5tit6KOGtJftt7X3JNj/tYQwsqVR1pS8ZaEhE6MPEJzA0V9KNQhOUOsRF2ghydqBbRS0qctXTpQ7uLP8fxCMQetMiVvX7kR8mmDrJDEWxfei8jpLqRSO6Ibqe5yJ+H2rixVJ/Efl5LXHtdK3vUzfn7y5vxce8mFOoWzBdI9bROuCihUgHZ+M5jznh9CfAHg/GRhdjsNmkYHxeaoF/e5oAEraiqRpwUJoOa2uTpyZmsEqliK2hZWv6Ca9hWkVL2wJOzya8B7MU62u5U2NO9HsOVtEYXvvi50nZN4/9JTlJDolZlSeCW6PNWnUhGFXcsGfuJg1emiU/jbSYYqsFI+7zB5J4ajio1Uyf0zURG4QMtzLVo8eK2YoLaNyaXQ3qxK+THxwSyvo0aRAmznY6VMdFojUAHgAjTaHD/brlFJKtbPuCE6iQEcYVCZKjdw7xdLPSJ5J8ZUCphq+BX2tcwi294JtrFIcY+lr6E8akmOuU8pmr7adUS3ZKa7SwWnftlkEavWp36nJT5QmyQV/LGiXhY8+EZSIZe25McoG/+4hPdxvQ1FESp083D+4ZdjInK1zvuVwMH5QuHqhSe/f/32lrYKSlGew2W0VtbGimtss2I1bQ43InrwYV9eU3YT5SkhvgDwCAquO2Pa9yrIieEuMloInCZomvMvHg3sRjFKtDNGrxLNWY5jteSpHf7+r1rn9+W4CfpUo02fdpwWa9I4aTmtMabcVg0xQeOzONXU+uLbz0q0mfmihRO/jSYd0QO134NeerwpEj5KHDxb3zE5zN4ZszRNkMFd4f4ex0yLB4EKADekHExmTPVJunvcWH/OBfU3SqGeDJcL2C+1NrV5mi2KektLyrWtlrW49+ZaDGLxtmuRn6I0rRz8LZ1q3hqqXIHK2RsRQlPT3xuvolRE2/RcEDorLdGWRHJ3LUU9q88Z5o9Hrdz0ibrHYAcZ3NiDmfrGIcQXAO5IFM1oNk7zoLdmz0WQNLbLZJNvC9Flabb+GlXcU2YlVjqNGfVbnXVKiGJ6qpqXL9zJ3jb3u30HtaMu2u+luM1xlWnynNXSN2ZV/iDnxgpkGW4IE5U/piz88Fk3aguBr1anUGE52yTCWOk3FTf5Z8KoWrnosZZOt/Va+6pconwBhpB9Ue448KACwJ2Rwk/10XZP4/7FULMplt2qdNnFVEsUqeoS/MRFi8HRYVTtkkPg10lKqv1WPtBHpWlbcTvelCAms37W8lBsnlA4ksRJ1htAruX+yU6N7t4tfOMwKVWJn5XnufYIXHbG1QL5U6I8N4UUcEO4y89ocTyoAHBL1p03ll/SU7J9ZaX1jrFHJTDyfJv79lAi9bFpr+A0ceaoDX8orVTT8hf+rG1xlaXJ9+tZhG7rtStBpok46npfR461ARs497AUu7n4rgw2ObaipYzNJVcyrObbUvV4r2dbVECxWmN4D1rzgiSlsiszJEuSIEaj7Gae9FwB3Bk3pVQEKgDck/RTFsIRVXwJ7qXvl2GacJm9JGgv4xaz7bsADQ1zs2RWiK+Vzg5PSu5Vtj7tV7z8oZXCukjj1zSirWfzzH6emaXj9ER8rzUKS9wJVdx/gjKjqrj2zGrzOq3V6tKn7cXH6QupNz46tbkhef/cnh6hNmgtInqGT+T3MBpC9H//zIcCKVVwEgoVYBy5DXMchPgCwE2Jwkq7FUXrZixxaaol/I1O/PzHEqlYdn2JOWQ+ZHMh2qFvMcaGXVedfYMxq4rCspa1dVucrYRRhwOs+k3OV/33asRuofzuxbl/k9jHYgrC0fcIxa/V2xiuPKhqeTZnEXbplJ4lzfuG9ccoA8D5QKACwH35mpqpxVlZyZRm0vBr9WhQk4YldKUzo2VbiQoOf2p30+aL/qw5xUtTw/+1kccNR2I7UmNCvvnJHQWPXOAolODm56bcR4PPqtBNumrg5+vjXZYvmpqmEhjvd6hEdLF7C7vSWmFDqbYJg8U521w9AFB5b/E9aSqSEF8AuDXyokJXivxND0kxLrUhWw/Yk6NUS+SqM16qGR3VD5l4Ledc5e4nfLbHpxFUNsjttzg3rW/yVx4HLV6ldCTOzl7tMPY6uv5fTrlJ34gY0uwaqlU4EGrKDhM92ox1J/dkkm1HzxxuJc3e6nXIIvFfct+xq/AhfB/5nmm+rpIAYCTTlnYjUAHggXxUmOC7EJ2Ei2b7qgFb2JlZ77ZbaZ8qNL01NkTNxuVoUimWcGZNnyjUavFrKv3yt7xODb6etvuVmubJop6KSqpeSqSoLVa6dL+ilalKIVqtFq1t0lsbVPAIPZnnUduRawxJmxxh7u15Qb+8zYHlRvqzQpwC3AwEKgA8Et/9s9WKKuwE0q12ChnFR7aLYDm3jZvcNOwas9rB7T5nrfjS8QaPt4V8eeimHXRDYRe3pBQMkOiT+j5c2mxKKt/yaR2nTzX4mos6W6qdCZ4klrjgbq8IMrsO3Sy6Qr97+kNdnmclV3pLtnnb6v9P8xKuXf9+rtjttztSkgIHqWjkKcDt2CmYZ5dcAQAeSUGgve1Tbcj9HrRYgZEEFTWPnovgjC7E18pSSH4XZQrG+ntLdK+Sl1q1ptaMUok2f3tecr2yX2PXat40mtAs3a3laOlSlJuita89we+oNssh/5xklvfvtUGkiRhlAqBShFrm+k+xlVV1nqfOWk1/huJ+EErwdfRIu8WvnNcgojxXWY0l4qsNyo5mAlw5hiXPL2++qF/m7YhdegNqnQPutJEvAhVOv1AHAA5mjEmnmfaij6pLvOnCqg/Fs91chibrklDx9iuMqyDoGkGKJGeoPkJZuGrFlyZN5N9Voa8dKExauDFR7IXZEaWYQhlZY0c/FLMSBap8jctdslpv5fmEpS9kVZDve7dADdogKkARroVZt6zcKIGQGoF6GxCoM5gVoECILwAAxPhdcxF/D0z4ptLF/a56UbJYDXhjGbl6+CYM01vrm4qbNV1q8mcly42j+NTfgrYUBSrX6vcPrQ7adWy6XR37lmlLmeWT30dHztcWg+6ldcEHWoXGVfV9awfUyPZs4bOclTKdkpwAADcDDyoAAMBgqoZ3Z3amAOMoKnNc2Vn5ilwrCFHRTasJ8JIK1f3KKnp2tWhpUzEFH2Sud2U3daFVlnRaiK8yL1D0hza0iXLA1B23xe0rR9NukoZrpxXALr0BeFBnMGsKCIEKAAAAJRoVrxIuPJuwWsnabaMP029rJF0rCUvJk9qqxQdJ46vQF48mck9cd677SltlgiZpCzMfWR5K3HfSNlKsNKLmPnAvZ4BABQAAAJiCIC9vtQGD6oTXrlJzbHcWr8hyMXdFoMr+3sJa5cbYAzg5OMMnMC2GHoEKAAAAAHuGqfeVHJRfDnqWkrQvVYYzcx6Bequ5qzIIVAAAAAB4POL6VHVxqhaM3biKGM7OeQTqo3Bziv1vTrEAAAAAABnevse1fDYiBuDa4EEFAAAAgFNR+uRptl1O+CXV0obA2KcXBg/qlBDmSR5UBCoAAAAAAJyY6kdxYTjzvjNMiC8AAAAAAJydeYrpkfhpJSNQAQAAAAAA4BQgUKEK01UAAAAAAA//PvRB/DuqIAAAAAAAALgCflrJeFChCivSAQAAAGAeWKNPYheBShcCAAAAAIAxsODsSa2OBxUAAAAA7gNaBuDSsAYVAB4LX1UDALjjyO6CsT1Rq4z5AM+cY+LZB4DrDH+MWAAAdx3bJUOXUf+KMKU8YQvfabEIhPgCwCNxy7BLLBgAwE1HeXGAZ9QHqOJnzgYQ4gsAT/wuF/bJQ3ndeKbgAR6B+qgzBlwWx717BoT4AsAFxyw/cuS7+ZDF+1zrPgSMAdz4QQ+f8xie+uvfVjiIWbP5CFQAuBBuxDDzoB0z3COusnfZMeYOAMBlYE5xwvT2O+pogkplDSoAXIgRr6bEfXrnt11wqcQ0w0lx63pwAACVO7+tz4ib2fKsQQWAZ+Ge8rrD6s9IpoHff/qLhqnfMwydJcIAAOfgNxZPGZMRqABwJcZFmjzLDH7W1ZabIVJDx6vN6RMHJwuTS9vjPDX7EX5REwCmMX3wfCLezWl3BCoAPFKhHmBxzvUG4afTGKZPr2ktufJe2GN6bePy3uVEf74tvdywrcMB4HkjLpxoDSpdCABOy3vR6QErTz8L66YNh+hTBXeSnGbdGXdAr21aVBo3xOk67O9SMGxMOFYUA9wGN7FsPKgA8DROZwPDkcz20fkTh4y6GU0dBUWcdhHqKSt1Uu88bQVwD9y8ohGoAHBDhnyORs8bA+yyuBPYz1PL/8pBuQ4zPibwYvotgaHe5kG3kzAQgMeCQAWAi/MTjOsyMfnrKt6mXwX7Pfjpt4AvO8GrkYGYVyfiE8Ea3pJ+Y/qT0J1SctWK1w6PVai2NnBBffP7cw7OV6MH+N+Xf9D6AFP4fgZ1CvsUzGACAINJPhCS/v6Om4xEpHFzHF//CI2YnzdKYLmcZg9va4KOrVHdb4Oa0X6LE2n06NLGXKfskJzrZt+yT++YPX5bcglb8GQ7DKv997SRyFP5jTr++t9ghDPSuPcaDMHdqVw6DwAMRhNcgUm02LYVgZocFnyl5QThQS0vIUmmqYXiNZpT5OVHTsMsm9AWDLVwrtd1Z3F+gVET+fNZOEPUkGgz6YbUEcpmkxl3vERM78k5ekoRYk9FBj/rey7UgCuCQH2SQCXEFwAu9WLS3Znv6MT2aLA1hSpspQOir9ZSutuaZHPA2xKmLL3q5fDo6M+4AuvPgnINmq5S7ViY2GVcoxF7zCJLLex3+e8eS6Mva7ZF9+SE35mBtjs57AbOWhENp4YB4iHgQQWACxAYPpENlDvEAr9f4AwMTssCCgVvrOoTTIywrCBB7Cab0lRif9vdobYkiv+24iVW8b0uZ438rmhrPFWPtz2gNKh9qcbBsejuSdHaSgR3dKxUWZPOFrTb56ekv27y72kaY5DrV8r+jHG9Zc4VFnBf8FTDtUeKW+BuVCy9BwCGkonSVJImp63n/05O4n8lgRsaQ6lhpCyHCk5TUhSFiDFgqVBKNVFxkW10vOltIGvHboEqxgSnIcZ5PkXt2oJy7b48oRGmzSKohYrJsjU58r3o7FJKcdTJvZanILJiZIRLlIV1/Iy19cnk/F6zsyddOfham2ioPET+Mnb21Sx8Yjrhwt33Jrg5xRLiCwCnp+TUaXxfiUOts2s/XwwwNvPJpilN32u5Jk+DMyW5mf8m5LA6kL8uvtR1LdWkn8WPeMRrUyqjNwjVeLtdWoYrlp0ddZb2kq5Brp4rZeaye6+r4CT7oAYbXL2CnA/qpHb/LMh6uQp5yqYany5PN+Q3MbhB8V7SSo1LZWqnl4fLuOR46u8apv8gXz5clIt0U9gKAhUA7scqBbxiB9YySKygX4bJq/H9c9PrUtRuhxGbwYvGSNGvyH9bIkzkBemV/tBpUrhbWEJLLpJ81M7VZPhu1pk8dVM7OztBVcGj76VU0LdHhycpQr9wpN7ExUsRGyDQhq595qBQSngZyfUVJgjyaYbvtIgW8qEFgpi98658TLtotXtdYy8tAOgGgQoAF6ds+YqG0yoZ1MRF749wltn+Vu1iPcUGl4Fo7/ro4tNThBSKslor9mvHvDjfvk2OEOQbxa4mhRhkn7X8X9Hax99sPtDkrLS2WkOWffFZlaSMlFsn1yumfGW5k7y1xUOFos6M9OQXKKuyuzvzLKvR7VtqlmhdPcZfTdIYK/0rQsrYqsE17ZpPlySnGzV2kEBaNiHpzbo7/0RfrwK4Me5OAhX/OwAMJLX5LCF3ctpd6C6iR9OOwA8rzA+uuuTNDWcYJIUaGuEbG+rnCw7s8q6NRAO921+j/KO0qfM6aprVYF9+FicLlOtZLltTx5lP3E3deXUNTQ0KDP+ZTWckcxBpXgLhqeUbmYmutKX1jcCFGlfpaOKu+YS102nC0tbBpRT5XVA0cOFXJOrTYF/nJ/Hf7AoAABxHr0GjhqA5Z3bgpukOMDNNyTHyShhbRxEg29v2KzorJ72lRN0Trv367ovfkqIT4kjuYka/v71PKxIe9qP1afTTWgelqNeBpHq/51Cqd/BT7OOvnPRRzuFPheteYwR6oySyamdHloqZ+kjplHTYMlyfkKI2+Jn06UTfDsyB+/2kBifEFwAuSOLseXkfxEBYF4WhSaslt9CVV68ubbReLRc6ojFK4aw7c0xh3Y1UqZ7Vufoqv6ZP8xRNCIb/IvWqbipRB4aB2etvw26Yq/nY8z/CZ0je6Ut2rxYbU7mgqBhh47ByJLa5Y7xPzir6UbqqxzaJ60/9tsKMhLISIM98lcNeU7Cl8Jd066b8hCwnANiT92epZ/mtEagAcA0Wk2oZLaNYRq+av6fyEPYM9WIM4zi2hKH+nYMx9RDii4fkaym6MAdRrcQetQwCiX+/bC18XDUF+Vs6uylofUtXMqYt61MrubtX0OD5oGnLTj09GHIFx62QLPawiluFS2s49Hj0pKKnGt0B7oif86JHoALABYfHjXZJ85dKxPOStX7a6j0xH7sbILLw7G+KI14pk/Wpu9k7udan961RtiJyp7LHX4XFxedqKZq+elPuHOkzXwmrbV+p3NE3fZPal4e7xLu65QlZtGzo1Y3Kzg8kOdhKD73rPRUFeDIu+N/DQaACwM1pM//ksyVzKNGnLbQnGWldCbvg9tQiuv7dXmG6E8VdW5jmHjDlRLf3BQoOLHHp5VbO4m+XSeaORmDYGun3U1vbDIx50PVpoUr22TJ1iWopZiA9K8qqBWeqCgDITH1aEKgAcBHy7R+1j5u4ji1SuzlEnyYMCmwbohhaXbuWLMuZ5S6ok2sfG2eMVhzYrhNukalTZicpU1R/Jw3735agIZ/OAPRPMVrAblthJxo7YQbs4juDWY2OQAWA07N86kA5kH5KIv/DEJKXqd3X36VQYNPL0mAOHWcx7bFD1C6Vb/DNVGMB7SxWdH0/GNNvYyit+uudn2ktW9t2pyerU0wnqBsrvZB2czIu0eyhPbOtvsT+/ppESveXv/1EtMoT4a4fz7QmR6ACwBXRvzQvnBsmysWuYbndmoO+xExZCFeKHFQcwMe+K1pMVX0j1rEVK8mHA8J9/ZwZhUK+O7ipGxgwBxBFkp7MyhxVHbdt/mHP5eXhbFLn1Q6MfB6WEzyNc40cz8C7O30HldEHAIbSFvDV5v/KtiutkX3X7+10q7oo0tVUwYdQDZ9E/ZwSCeXy+WtC9Vz5QCVrZ6xAG7GnuqEMv8O7x+/jtKrnFF19MO8hflhUp68Z9HkZvyXbMKfWrcksefbOtEQpxxotruGoC7/PagyX/St9cVYsPLqRPSrVWjdTXsNy6ioKA/XCmBYuw0CEKfnDwIMKAFeexBO/WxB8iaYQF7ycXszLUim3PVi5XkqTSZnEOvu0+HVJWL4djvDdTbe0Y1aLV17rj1msdevHLy3eyd1ionP3t99SgfJp0lHd/15ia3MkD0S5zCtZh0kPL5z3jjtWvh66p/8giZOPvpxaTqLHMqhTYzNWyw/Pqu3hH7fVAJwBw0ehYTSE+AIAFIjMRK+uJlucPcvE3+K1WQ6Ghmj8skstVOVVuPpcS0N3evAU79XfFeYN4LqFkpAy/MlmUqxiP2i3V2ZS5LRmpG5Wrr/ax35Zl/3YoFCjT5nER9+ZJynWUv/2RdAxtchm01mWoo0FWh+tNDahniTpn++q+GKcraWuwmLW989/e9Cea4f/2i6CO7M65hvMpxh6YQTescvVocxsbAQqAFw9yne1A71++scCtWaWKVfl9OjsJBom3g1mjZMUfLpadeI6WROkaQS5VUM1AsrO6bZClKLFv2LRuFYvdAa3+2sLhedyLL+mRBnJ8ZarDpUaxWRtKcucAwe+GJW89LVY3S//LRQdVWvNqJE1F/lzIaO+ZvwpIi1HuPiuDywJbs01qqH92SoV+su2dGcMRdgK+5wwzT3yKV47IDSB9aM9cGPeIyo3/VCmbWu3i0Cl9wDAgfh5meUmcnJYEC7ij5VS2tfe+GZftJR6OfkjA33snB752pIySzWwGIq6x7szkT5yEUK0c/cuQBVv+zcGNfwrdwN6SyC56Nv+nR9o/fe/xSZOorjFvpyL4HdWw26VoEPj8jWbKnLwF6SrkLXsDhVjMaKPWGUpfP0rLNuNKNcmgiux7NnwU6mgPDMBsBF60wQ2T/v2F7wHCFQAgLOirElrF8EFZdURqyr5iWM/cJypG/j2WXXGrxUy33hWTKn89JjqQZUKKHpt9ez0ZEqlyofUKotNEqkXa+H9tkLmx1fjVwuBrfEVvpcAuO72iltl7R/rJQa9N4wAaHUthqfE8rhWKWn1vfyc6oWkY0fkvZeiNpIqvqsQlBzVMKqRIPKDP5QxDO5N1zsKLjovgEAFAICzkIerRjaJZL0OeeVIjsCwLsIscjHiUBRpWQbZ6XKUsFxGQaDKgrdU4aq4SVPUZybKCdIaN2IsvqT1q/VqEaiV39WKNQvUgtJvEedimopstqngeoJI6voGPaw/C/AMEKhTQKACAABchsjEVmM/TS9EIehUziheHLr+Uy9e9nBlB8NjcWZiEG+DzzcpYpB9oJRfaHa3XVEbZge0mQm7oK+0kVWg+k1pGvRmJTpAycn1REYU3PbwBIYOIfBEgUrnAQAAsFIQqHuVlZXX6J34+pdT+ar7EIcjuZ1LDVm8cOFQ0WFXFvRqxSo5SfllVKOVS3VKjquittFz3+RzHSRQMTUfBwJ1CghUAACAR4LlNVnpt39gUfYsVxL8jbnPa22DehevXelgNlFbULsld3MpHFwXqMZQdJ6VJ0KM73P0KQIVAADgOR7UW/Pkhtxy7Y07debO6/ISY0FXRoo5qXrFDc+XIp4K83gzQKACAAA8EilaFTpAoM689mHKMXwekKPwA4H6JIm6y3dQAQAAoPX9jzEOF8bvkRGPBMBc5nzO+L8ZhQIAAMBpoqlu1nw0IwDAGOaMp7sIVF4NAAAARlYnEe6iMcbHg82QB186ANxmSCHEFwAAYCroUhhG44ZHAADnm/IixBcAAACuD55ogBvDY/2kCS88qAAAAHADHm3ALjuZPLoV4O7QvR/CPp5bug8AAAAAAIyTLCiMhyxpR6ACwM3BrwAAAHBxUKgPEqisQQWAW+PWb0zOrQgAAAD0gjZ9UIsjUAHgzqBKAQAArg/v86Nx8xQqAhUAHvI+Y/IVAADgmhDhezgTW5tdfAHgtjDdCjeG710CAMAt2cl+460JACcb3RiWZrQ/rX5Y+6JXr4PjyQBohpfKk2b59/Gg0nsAYDLo05msO1PR7gdBuMD5748PbtW8+YSgJgAA54QQXwC4I+jTk7T+9RTquFn6A679W8Q4dXq9+3UNJovSpCLcZrgsdN0j8fOmPhGoAHB7eKOBld/beJsF/83lKEEyau8QV6zzMXGpQsO3F+yu8ODPEIn42eHCePrvg0CgAsCdObeJOoUDdMbEWdeNuMG5HCNChthtbqji7pKIopvx82NTRu766nUPrvpQAnxBoR7N7dagEjwCAHNhECp6yXZvnqtK1CH1djNMtV1vqTvEEV0qpSUjkz6dY6iEhfqDfeoD48Df/7t3+4mzIY+dXYDj3l5wCvCgAgA8iMN041XnugfUe8ql72q2NV/RuCa4aDfakaxFvEWCx6lOH8Au+83ZfO3ZMBg8CXbxBYArke9AqRley+8MSNd4w5/lI+wjFOqMlh5ls/sxCnVUAwxX+1NnTvycLnGpPePCLdaimp548ILjOHXnvRtuYizUf7MKBgBo57tILf1F+DNYBvh3Ipxzof0V/3lA8cl/T8R3d9G/s3CemhxUY+9flt/7f6SjHfm1VqpURkv5PriejVnpbHhwB1vYNzPYr/fgAdwVXxhI94YQXwC4stXijnAt/ebx86VXtayTFVOLCAtt9/JnCX9+xXciZe2Xuu1Ren6u2qN04o9PxT/Qjp99zaJz89XtGyt2wOd9WkNcB/ptk6x8vayB4b0AkyG8+yGwSRIAXIBF6CVLk9zuw0/u2Fvs0o+RGv4VGX+lj4GqtYwDk2OHZ/BXpjmD37I2KRnSYUVC73PjZq1Ljbup2O/C3EC94L4NVdxjgpmvwvma6vfUzalZGEFuCsj+/d24FXLl9J0uXpfy3l12ZTvAdXFzisWDCgCXCjcR9/ET1vztacnIn2os/SBaskVHR9n2lRaXFVLotqYsqK3eoY4k1izFhcbpdED4b3U/lQGfKBnpWhanGTr49B5/ah0HKe++OHBo0qKYhdGw/Ys/WqJ3QMd+vU0PDX+9AFCoAIcy65FDoALA+cm9k2HM7efA17vqj9io5m2eiZn/xNBal6/381PHWOkkjo1c01atsVghbrYZw1Y15JYJ7O4KVDzhFhme6DW72C9WI/55ewsPvGFh53h1xyGKoZaLFF5e1D6o5lM0R2u5tYGH2woTeL/k6XsPAYEKANcisMvdIRuyBlG3zpp5YLZHYcnKIrs1TXLSuuxUd+ytqrLkQ02KL61jtbba/vHVUjlF3000P2BMo5UjxJGP1adbiWvTUDehOaoavKjddwx11YNTxehyS8h56VL6wsGViAo1bIEYbys0EkTgQX8OCFQAuMhbSdYe4Vn7BJ59X4k+04mRC6v63iwo1Lg4IeMltlmKZQ7Oe5cR+2WT/VE0i1rQt7YNoKp3pZNEc6QXk8UwilXQ/Nwi33KUYO21Av1dLM96fHcVnPL1qOgmR730Y3whGzuDVC39i5ifP8RrLKaRjwgOmjy+u3ofl4j0QgTuDOmVdt9vBfVJALmHFvW13Kf1mbEi7WHJiNp749jl5lBMgVw7gUCFM8NABF/knvAbOJeOsn+HUcfqQMZqqrCcwe/48q9soW0WURudH3hHC+Upxc+elq5tTBqq8KhhvhJ01TTposxvztWxZJEMaQtl1vjmYUlfYzfe2/z+X61AWX2UpeDvaNpKBflmx+5Z7Ikud42u8ySQv1SE6nf2sijdd6Aqe7uj3dReFXRVMSptwKYuxBcmccrJuih00z3Xx8JUZr+nHoib57PeR6AyOMAgWG8AKWKUbef8/FAK43joANbNtIJbRdtrt1gfOae/fdj6FktW5wZEbbcqVEOBTUGvDQc22tiyDh5MWWamZ6mVafA/+43KcVFKawr9G/H57/Vymu7xV74Zi4h8vmpg79/ulG6XIuBkP7hyF+W5CiFRWEQ24WNqiHwuqoj1TgFAA/oYvD94UOHMsNwAfihdIXN3nckySb53qtHlVlEu1PhdVuXnxAytbCRcyKEf317M6+MTpqx0Dhpodt799F2EOIGTLmzOLlgIHU+OyjciTRcFWVpbNXX9h27HkugTJHHheVNqHNd5VUWux9//S57kdRRubwFXXXbfVqkStQFlZEw5XIozvePvjvMTzXAEKpwaRiL4oI6ReUCmP3m9A9dAWS4qDopkhxXNc9Vb3dYZUzV+dAyilkiQvNFpkvZesU8/Un1UuxP5qI1GhytL34p4aCrEaykknVfOWCw3DFWNTog6SNlvl/2uR7K2+wC3U1WP67xBGgmfyMGOzql5zsNeN2oWS2W5saeaqASADhCoAHB+WhwzV7NNLKa3vjgsjXneXB3Xmpnbc4p1NWm3OWJaEFXS4E410eXT7ljW9GaUU28DGScQ4hsQyeP8fukLxfvqmOdzaped5iTO5PX6s3VlvOE5lLP6zD/s3O9frutT3xkYwdXe8FfGz4zy3Ueg0n0AYCCyfaW5pOYPQFE0ZcbiWcmcDvtbxw1p7a244+srW2T8/Vk911ccOr0MusaZ5nNVhNQqV9/mp/Sg9mLa97pK9drS0gqbnp1UxtakfhwUW5SlXs9MifxwZXs2bt6dRmjJCV8eigHgtG8tPKgAcOXxcbWZC+bgCIPIj06SVTcIhmsy4xYbOvHF+hFbFNkq4HazAjuN/F1fqf7ML/pIWFWbz9JJbFHJ6qauJiIBY2zfMTKnvHigqYjOCaexlIItdpyk6jt/FKqPJ/i5O9YfAGaAQAWAy+JsW5HqSVvCHf0wQzn+DExTjcKvQiSZmorewWb+OE0ORFBCynLdwN3jT6VPa7vwbGFfv136mZmyR9WQ34ba16ZFsp8LdSyvvmxr0+omS7ug93OnB/EPlOelWu2PPIsiunqRqBeHG3gwfAcVAMBCS8SfumfGbtt1RB+EaXdPzX73zg+PVihpECfvoZOHNDaRrHr8G8e+bbz3Mr+slKHmS1de8veZ2pp5r4s4zwP1kWaKgCsvMDbkHaedMY64q49xABDw398e8PgDwE4IixJT6+j7q3PrATenYkqxtmVied62TEpZ3G1wdhe61J/PMazY+H5ZCHRvTWmo3C6N3FOu8Ki5SiK97uuReuRohb16oXKzKqsKwiFxA/WLOv7hs1/Z6QYGgPPi3LQ1qPsIVACAcQTRd6sZkivU2DfgSraZmMtuXpNX2d2mYVbV7GLLMtzJbel+1Upq/P2hocbaVEFcXyva2YVc3v3CcF532TtyiLG8w/5QXzk0rPrNncU3zhWpmS+rX99keXf2iU9mvwx3wM9Mv/lBGf2kaWMVWvSOzNJLT8XNKpgQXwA4Pd/4s9wlIti1hnVmIyLk3n+J9YpKiRRbPQzxe8piYOcrq9Z/eOHqozomgY/WT0k2v47e35n5list5XO+peG1NWKfqwkXl8aHf/ukBA2U1aS37A1cyETOozwrbaf6+4+46OKa0Yxv39Cjvn/r2I2Fy1o36Z3tUbKbG67S9MsT1P5sDGXE4lZhJUd+Y74fjXbr7xd6IAFm83nMJi1CRaACwPkRBkhl4Gy1PwzGdCAO05O1gbv25TB1wG96EVheG874rml/BQUpXspUK/X918dMNGYcO3XjYrKzCq7TwrxByqr1tU2oos2BTFeitWgknMdrud+kSb4WutvKWHYh2196Guu43oT1flnq1l7/w/SM2zhDYmi5z/P/dzvCeYH0+f31khteNsDu+NfszqyZrH1CfHHAA8BQlli5Xxye4qQo2iHrwWHmiuoUrXhL8+prVdrZp7f81b7LjB/6CvAjMilhlD5JEPnS8b5x2vZaZd71OKe/vYi9hC0nV49WVyO1uTWFIhqiyjN/r6WY2jRGmkZ5WC5pNY2rvTrEqYXueXlqVAUAbGbec4UHFQAugaLlAgMoiiR9zaR/Zv7EANOWD38Wz1V3v5Sn8oM/5a1HlRL8L5Y2CtLL3X2+UD+x+oYrKdfMnMYPdA1VdFW7OSwm6Q9vCv3Wn/zVM8e//j8VDgOr9a4WnBN4kVNHXuD0FTyzQ3zBha845T9VbokU8vBLkn0CRvA4m6olkdXL7G4fJuAKFTZcy37+26ivICVhA3Sfg3H3Kpf+AwCn5qBpd6sK/Z384Ss8jSmF5VVx6twqVOzE5kbR5HFX5LUukJ3ulPmGH30F/HK0WdSWkjQrdy0r6YW7QwfUigljp5NO01DjKEEQ/ZX8nsVq16u7ZiZ1JK3/xmnsdzG9xFxB5f2p2sHD6aCWp6k8jVRKkD0lQoXVmmRXaCtduLHqvRZapEmy1wep9AdE8H0JOizcXqEiUAHgkbQYS4dxvffvUKEfebaUI363+xtcSmLjllzhpZzyVF3KvRm5/HT+I6iAaAkoRypCMJebPXreJo+z3wsX0i5dBRWsC1S9kMYO0+FwjZVZdq/zpzSIyfj9Kj3H39OyQUl8TDNFnNaq8xLTk4XC45tz0NQjzIDJhycpVAQqADyRU+rTazJw79uiDm0MIm3wQYela7Gwer0KZ0tJmpzqnYg+X8m71y1Qdam9tpT5GVPyaqiVroZKOlRNlTqAc3+l6lXfGDzQoU/b1LmXValQA9cyZdBwpDWaIjhfvoXiZTC235HrzeDeBHejQuk/AHBmmGaHeyPp4MD/kIjHSJ8ILjNpviDKYMTcgO42r4ieLMzVdlRTPpkruCrfNP9iq79/m0C1N1iuu/sFal3/NzZJy2xJch1y8XAb8KA+SaEiUAHggeBABdjI7h+dqfjD5Ie4FC5bcMBkCi2cw5I8nLrXs8fN0zQgqULbKhLzyGWjj7g0AaDL/6YQ5oLabJLHDO43BIE6A/Xja3uXu0+2dB8AODO86ACg5HQW1qBmYnjcCDIo8jsJsFacxJEK/V7hd89zOYFNBxZ0aMOAq8tQgzzOF5DDjeDezgKBCgAAAAB70CKp9bjrfU28xHet+c79RN8+zAGB+qA9khCoAAAAAABwZhCoTxKo/80pFgAAAAAAAE6LnzMlgEAFAAAAAACAlCkKFYEKAAAAAABn10lE+D4EBCoAAAAAAJwZxOmDVqHuI1DpQgAAAAAAcOntemAGeFABAAAAAODs+hSR+hD2Eah0HwAAAAAAAGiEEF8AAAAAAAA4BYT4AgAAAADA2cEFdgxudpvvFIxL/wEAAAAAgGGSBYFxMLNWbRLiCwBwlYX17s+dpCYAAABwc7yfI+r2sXUQqABwGtzGYWlr+uHD9fyqAAAAHAoe1FnMmBhnDSoAPGJk7R1gfy7L2Z7LwHWKFxUAAAAOYcaswL8JZQIAQBvuErVjbhsAAAA2gkAFgHvjfy7QPvXkT6ENozqcTgaeoYVGXoU/beX0mnV2bzhbJD8AwLmY8opHoAIAmBTuOeSJO7MNfWGVNP8m9zewG9P2N5Jorvk6tk1jwY9Tj08AcBkQqABwc04gMMfwtvww/56I21tbXfEZ0b3Krlmjnvv63ZgHf/cZiM9MCWMUAJxUoDIHCQBng2FpN84RBv2EaQypEw+ouLvc+9ui2C9yKVU+l7Nd9+3uJB7d7tW4dgA4gDkvRzyoAPBIWoMAb2MlDfLGnF3eNQd5zlbZli8o+Gu0/Un0aQ8nfMyXy9mo+y7XTW42zwBwUdycYhGoAHCpAVIJ6NOOlbLbRartwcjQvEHrFc/OJ8izVaJONOK/bjJfUM/a1WxXqJfTuMUKLwd98/TE7Z+LC3G1Pgn7c7mB6gY4P6vZdxKo97d+AOAgkrHRfUxJvyE6MUpitUk/eSuatmQRDxsO31fO2GrC3e4Ntm+VvLua6Te8vie852Ov9PF3GO7BGYfnu+JmtvVOApXuAwBjcOWB0+nDqTMr3raKJCpRKmbRsY2OPHHRVVCwELn6qr7q/Mn1dK/R1+ylPvdXW07HbGN82ix5J74Ukv1+JO7T6y6jUH8FDGr6a/VIOAB6xMG8Pxww60Hcp9j7vBgAYDbpKPUzTBcBmBzV04W/f77YkiQx1kDx364HCrUyFVTRlFrpajK9UYw1q32GNZevcUGNqjY/vTVosyPIs1j+7oQVdnOq3dtm07hchadf6O6LGgYXwC5JEEEc/hRYgwoAUFxRpg+TwqGy//TzxZbyur9S7sVChMr4Nju0+B5OReCydDIsJarDckBvwajERO+UXM6KEN3mpV7cxFl9jdotcjrnLTnSjC4uj5arWyr+eyfFKrdUut3jDfdn985AbwOAMfCZGQA4OR996PV9Vt+H0mDf5VB0JNFTRoW6liNvMpQcEOWyb3YX/AoJspNii98lKpdvLj5qCFeKoi4Vo/9uuH5nS9DzeonT/DTgAHu6VOelGHF2IBGpeYOpTvrGijW3l3y+vEfTQB9mcRn3ntKnFh3Qm6PWfzvKeUCs651CsgHuhZ/jRMWDCgCX06qBYiuPm1UnZIsR74MShRRCVeQoZIXQco2leBTULNfqU7zBU6qkNp5aVMFK5sa6hJf4a2IxqeFmOevBQz7cEcv+KLnhflXLkK7BDTb9PzdEDyI3f9NHk6FhVunD2VhEVSC2L8rWyhYnOZyuqjsarFipYzyWg6YHhEte7oVr6qfEeQI8AAQqAFyKxEXpZY3hxrsmvP3IN9tQ0bZa1fVU6QlBijC+M3KHxrkqbSeTp3cV5Ro7gCtl7TpBq8ckb1KoFR28hl53WNOmjhD4gksV2xrTJLtj2wuJIxnUrPRI9SY3vCrcY8FVe9A0fbxGkRcEr2nTtlr50kTNqoLbJgaKcwOFByV26GtebrmA9WjUiMGkx9LGUoSIUgwu18dCjObxTInhQKACwCWQFNb7l99xIc2gF1kWmxkWEHkBSpn4o1/EJX38c9TKCYVAaN9Qiuu+mkjTOr+a5k3OWDUoeslBDdZuwRWr9umuQSnB1zkzcZO2uHIxYvnagcB9v/0i1cjjhuCvSlbrPEd/eLNrEMhLZyukEvVxenoklXTZniWzKvpwuinPyyTU1KiB2u1VahT0rXz0yy/MetBa/u/fCJVHwm0/DjX85wj+2yVXug8A7ENupLkPxXP3rFBVn5qqsTpqatlZTygVn/t8bZnUZag9ywin+Q/7slzintUYywkvqsBrl9YrPJIdVM5e9K58kdEUhKmzSOc6w40ytqOaVVDf0u0SfxASlU+Wjqu3Q8pBHGmSFME9zB7ohl5XmYGonjasBPHndMRSE8ctZqqt1sjFnOH+IC4OZqY+3UmgMmgAwC5kSvRwG0UKHFQEcg9fF4VrThAkiVwbounfVltdT9mSNzojWxO3V6UWeNlxM99NtKiS0v0TndeVyyyECSgSsSb12ghkc6/GN+lpxR4qd8Dg7FIvLz5TpfyVa5cKev/jc3aSZtWn5odJfSh+BzY+l4ZekZQwZJArKfXv7ceEBBl6xpNanRBfALgOqTqdvc2cafBuq1jzZdQTjBJ5x7Ww2yt9KZ5zI2so7iHtVJMvIzeALQWLN5bx1tNVR3wUCKrE9qvZl2/AGklcJXLtvv9wPuhBQZxrlGApSZlOMF7L/+ydibLtKK4FLxX9/79Mx9mTGSQQGIyHzHiv655tM2PMQgK7b4h0bIss5M7kLNxQ6DSJ8ImJMp7sZ69YXQWH8yBmSQYLeQ5qHqUCcAzLnrU5AhUrPADMxxmnfRO/0uBmpuhPM/S6Y5J0HXPpVgrGyD5+G/LiWXaLc20/NX26N8qwI0vOnKI52Bq59Ht0pNbIBzdxK2gOseUlOgLtc2vbY1De1R3fmiTeU5BvTGJtRs/brk4rJ/A2Ksc/pXWq6VNxNzwTTIAjWfaVK76DCgAXpeQrdnAWUlnVPqLrpz9Vo5td/vesUD5N1K+wSO9ONDIEdcfybTInHqJziN18+PJAVr2+bLI1t0XsyGsVGlnq3Uyor0xQG/LYquhtinHHE1EIKTmO6yZUhdjMKltEdWdfSaEyvQQ4kHWCDhdfALgcqXNZ/mNMNpVK7Fv+PLPe81hNkzJ+9jqmU8yJyU+KevZycFP8s+qvJ9r6B20KFxpNiPWIjekfZxIwetNW8vpSWJbzZ00afme1pEtOytKEGnz09oZ6iOH+DwBQQPsc+REgUAHgalgHzG02WZ5K+Vt6yIzRPmneMyOIcaptrGXLTXvKNbQp1HWP/M5/18XmxT5tpWLKw+M7Vp/2DSHJV4qrlsDaikBHtUhBon20fmoD2OKpDxZo0wezzNv0sfiFafOZGQC4BEZjQvQCc7kr7td06gZYQPXg/WNgp6/noNRXc4w5uHoCqjUb0kdhxLt2p9TKMFWhn6jqR6aohB53OnYvTihv3mg9fenwkvmKJtxrHC6GG9SQ6zsEwNPwi9LFggoAJ+e7p287STO9HJ0hIpyuIe2cSg8GacuN6i4sWJJsU6pfvgIvNt+0ljzgw/V1O5ilMO+sjTwmaNAbMjbPxNnsJ9h+GEbWFK9w8M4ZCG1r8iZp9+uH5YrUTB9Fk8gv+S2VFjpqc09viEeZ1JF3pqfcrm7Tv82hoUCD5OmQWOC60AOOZ91LCYEKAOcmN4Pqt7z/eG2X/JhIt22TytzT7KIah//7S/xchvW4FD25ze0uyXJyfM2mtL+T33hKvN3+d/VzOsvO41aCbEXnrUrBg4LU6jlT5zMZlcZWq8Ncz8aVP4mpL96o7WSFFX53ZQShXNr+7dsqeMppr/YMfLZrp+mPraiRvViMTuqL9Q8EWdi35V9bL4GHcLZVvPvjbuXiy8gBAKPIXc8+v2g+aV7xCZNc2Vo+dR94Bce/fzaVyQGUv0rp/CGGzK6EOQiI/Jgjd2b1WFCpHkK7tPQf+dYokW/OrPXs0pJ+lXfwn5kvGG9P4Z29/NbJB9tEqdT9u0dYZn8qPIw36IkWU3lbqRN92sqQKhbTLfo0lOP7W0iKHgN3an3aQ9nT+Ttq701rdwRwaRAYT6ltLKgAcHY+pofPuvnbPvEyFoo2iciBU46vzb1Xjik0oWpJxV66FfOYkIyoQrKvCGYBogzoWasHCXKciO3NSL35XichSonkGf8p06BYwQGCsWnWPJ92H+fQqCJL7eCaU8ljkz6moe7/S/Xk15vVKuiF/ZDtmvmwuYpe9RNs55K3/TJt87dY81Vp7W7y/yaXpG0vQe2CmIBgUh6tpUsPGgD00Le94sQClSECAKaMKek/Ph68vk2GNg5R4QbBeLSO0thrrEpfBIoQ3RLIvvqy1Y5FnYu/p1fzL8vkUUmKKPytrUqcOiF3PZ/f/NhhA0X9DV0wcAvey3oSgeYI/ajjCNOFClF5bxmOA0T/LEzQo+QjB+s9fBN0e9yIJYfw8EItpp6CRDuCy02qrLC0KUHBUV1sryEzvpGHdP9M4NHinviYdJajdX98T+m+Tx0TUIAxvJ3DVklULKgAcG3U+UhBvO5IIjDnJn+9/p2kFuoiQzLBneHk+hOxUJowSJRLkw+vMVtuX6AdZupeKrEJ2lG1ktfTsJZUsgznsWVpZxeilZKCjc2YrSqxUImVs9UgmEYW/Mu0r7HsPiy6Ndvuze4PnmethvP45c3iWfiq5CuT74KXk2+I8fW/2wOgplAI3fog5oOksJBQRVwLyKMDgD18Jh9LJOqcRBkeAODppDawg8fF2NJruqKK2lDrRPPLSFDvLKTimepEU24tHaUo4huvYGosJlNYA5DLEpjb86IIputylqULYlyGNtGK8jMMZ32m3Y84aMjEW1Mpuiub41UbvVL6SLBvykzvEkLXC3+PG8jav/zmMmeVf0H54wwHaVqeu7AB8rxLhUoLITai1O2lJ0GoO+H+5LewqrbOKC7LDVuQgfNi7uwwhr9nbZgvTnPiU2Kl+wAAnJd4Nhpf+U4e/VlmIKHwNYtgVaPVpt5KsLZElEWA0vReWzYQ8qXnWIisRbpkURnUmz0dXdPK9VhaM3B7VXsxhE05Zyq21Cb9gt4SV2vtq1VSE6iBfnS2MNY1IVFoVitXWUWDm4JAPZiRH4trT3xKrHQfAABYiTph1dV5bzq+Jfn4DtV2JESUXq2bcK2FbNBVorqxpWMyOZe1eSVfJbVZM9ELQeSql+2ZWioVA3mBhqWJamxW8ah2rtKqgVaNleptSKFqoEagPgME6uFIG1KOSnpOtPQfAACAa0zYtngyG/WmdVNlbzZnZ5H9okyvqNr8IwYLKqamNosi8Zd6cvC2dH9ZoGrKXbe2q+g6tDkyWYqWzbplL4DkUoe9VytEU1S4+D6KjiEHdoNAhbPCiQMAAHCNuapimIuvNbzVcuUcOZ42HBvbkbq2ANHqBWB0bNfrs6bai1bdqjOv2Wsg8AzIqiZ1mof7gUBdwb0EKv0HAAAA4AwU7YtFaSd5i0tfjYl3p8qCs2VdoH0eif/n7aGJV4BABQAAAIDzgGESTgMC9UkC9b9F6QIAAAAAAMBJ8YvSRaACAAAAgG49WWVGAYAjcGdTqAhUAAAAAEhBlgI8APfvfPxvdQYAAAAAAADgeHzlg90rwIIKAAAAAAAnhzOSduKuYltFoAIAAACApga8RxfAKTijM+qt8asS5jMzAAAAACAhffUUYAF8ZuZJawLsQQUAAAAACQQBABwOLr4AAAAAAABwChCoAAAAAAAAELNoAzoCFQAAAAAAAFL8fQQqh2wBAAAAAMAw2BK9gCWqjkOSAAAAAAAA4BRGxzkWVBY4AAAAAABgGLhoPgX2oAIAAAAAAMApYA8qAAAAAACcHFw0nwIuvgAAAAAAcGL+xAUWsKNZVeO4+AIAAAAAAMApQKACAAAAAMDtbXnYYK9RXQhUqMGzDAAAAACXh12IbfhFFYZAhRo8ywAAAAAAz8KvShiBCgAAAAAAJwebyVP8KPnMDAAAAAAAAPxwC/XcnKRZ4AAAAAAAgGGKBYFxNHxmBgAAAAAAIAVtugJO8QUAAAAAAIAzsM7HF4EKAAAAAAAnh0NujsWv+soMAhUAAAAAAM4Ofr5PWQ/gFF8AAAAAAAA4xTm+WFABAAAAAODEYD09HH+3U3zpQwAAAAAAMATcM58EFlQAAAAAADg5iNRjWWdxRKACAAAAAMDJxRIumgezrMIRqAAAAAAAcGKwnq6Az8wAAAAAAACkoE8fBZ+ZAQAAAAAAgAhO8QUAAAAAAIAHfwUVF18AAAAAADgzGL+Ox7MHFQAAAAAAAE7AS5x6fx+ByiIHAAAAAADApfG3EaickQQAAAAAAHBp3IpEOcUXAAAAAABODgLj+GOS1tT5/5akCgAAAAAAAOfBbR697s+7d9GaAIckAQAAAADAyeGUm0OreGF1I1ABAAAAAAAgsqW6WwlUFjgAAAAAAACuhQu+MrMoC1hQAQAAAAAA4N8ZDI2c4gsAAAAAAAARuPgCAAAAAADAGVhmcsTFFwAAAAAATozHALbiM6iLQKACAAAAAMCJcWwhfBAIVAAAAAAAADgFCFQAAAAAAADYWOhSzSm+AAAAAAAAEOCXSVQsqAAAAAAAABCxSqEiUAEAAAAA4OTgovkUEKgAAAAAAHBy+M7MU0CgAgAAAAAAwCn435RYWeAAAAAAAAC4KG5ZylhQAQAAAADg5LAH9VjWWRwRqAAAAAAAcF7Qpo9ijosvAAAAAADAMNhD+JQ1AQQqANwQF73H4r/gHK89mmTsJIL6BACAezBHHPOeBIDTjWwMTGHt+IUJuEc3iCsU3Pkdvf2h9QkAz4CFzSfZULGgAgA88F3TJYVaUpmYwFWQhLgrSFTXY+zf2pQahysRrmPh5AJwTvwqjTpHoPKaBIBT4IMJPAPTIXCQRSYc88m31BfdPaq7ZCAGEHvua9mGfgNwPtyqhPkOKgDce81v2frfQzHX95NeFL/J9+C+6M5VoR/bec2921/FVx2O06cAcEL8zQQqAMAZ8KNG2JEeaAv30byTdaslqn+clc1S3NaVlPTu9VXqjLeMsZV9UjvC8DZUCePNupdw9REA7gkCFQBuz26FOtIDbeAU/dRLoqUSPmBe6Tod0v119em5ROWxhuG2uC69QDP0iLM9h4JdryMBXBC/yMUBgQoA9+U7f3lJsv65zM1O/cGh7ug90D5dHFC7Upc+PUvHvKl394zn5aoSdf2RXIxeAAdys1N8rznuAsDt8AeNSg3TzcfMr26j57vYdGhSDTvXSlJOVsk1ibpuPxOMYGDzdXYFOtCDofGP533s/H0E6rPnJQBwfro+HakMbR+nvTw27Ssj4X/PpjAO4Sm78MRC+nHz+zNWYkV3NGe7uvYzvxKGqmok+i6S2jvjEwBwF9zruIhVQxYuvgBwc4IprusyfW4fqikozte/t4/6BRPRUNdahvpRyuOgw5ias7tnE+5JVdkKzlwPhdZtVKeFyF4Tp0NqYZlCXXie2rnl9WA/BLgGZ+l+j8F/3rnsQQUAGMvf3NbFwrEjEilW7drvx/AkD+tUKlTCfsxpNOO0rhzTr6z51fK3PuWcSTH9vGXls2rUTZ1dVnI9Gx2kNSDnKCjAjiyfBXeg3D2smhZN0Nafp5YRddOdUXVE81siPFWlANwatyZZBCoAPHpkrc//somUrk8/grgjkSyyffPSsW+UrzIslV/Q1LnBuZitwPtZMHknQbOaF1WfeKmY+NaAYbCicJQUslBQJUeZz3d4Q7IwcNWTdaBLmB08LbT3LgxZAM/A/3n5LgKBCgCPYRtqP64rjcE101oUWzSef/+IjhPeAilybrflJCnnGGvs9rdXRKOyRzc7w7aaSk+Wo9RbxX7qxR0FK5l9g4CCENctzxZ+Sjn8ybDP2RRrFCxeXWj81M04G72+Ydtr5viiNV14WlV7+zOJH2XzYzdkzorKhUboMsfj161HzUmXwR8ARhIb1ZrNkZm9KrBP2c1rqhdpau0SEom0gBhZlMbOiX+llI2T9NwFVfWYFpWrpunUrbx6VL9L4qur5Hnte16FYjl1g7C21TnuCNWs/m4oZqqUrwJimKi7mSWvq9WJam9WVb65FcVU4sUfYSlI0uY2hupaMbLC2oey41JbR1AGD70+wufJvhmh4E1gi8V1j8RMMp+KvEAMc1klULGgAsDZ+azuR3+bvdEKw6vfbamUZ46iDTXLVunnEQfnJbal3lJGU86oMLmkjlNRdw7q/q/BdPVncxb13i8OcU9ctm5QLX/dtPtLSLMfB1fi2CZNqFS7dnOYqO26/E8ti0bhA1xam9DrVwvxb1aWCwnWdLgeS97VIku5pKZz8+Y2JCbm4sDorJZA2xrdgPC8FA39lujkTiH7ReQiXJKuXxmN2Rygn1Xn+CJQAeCKGAXXS8xMzEbVEpai6aU0+B63mp32VwnVepz+2Jess0XlmxWluSKld3Cutl+RpRkT1kBiX/JiRgov/2+IOGSSfLBptlr3W8WMmnDY43J2A/03btWq3sdvEcRcX7VMf//dZLzW9On3L9U9QQ4S3Z+sH2n5KpTc+AAHJ8/lWWqIR49++6cak3g8enJmu7osAleFdnyKCfW/W9mDAQDWMHrU+5sBjsnK+Ne5FOOIVPxmNDWna068Wpuh+n0TBPSmNZDMi/IbR5aAkvCWgej6L7ZsRv76pW5yjIIoaeq5UeMK8pN2uq3+pHhT62B0j2Q881HpK/4HnyJu7ghhtH8xyXnO0W5wqRqrRVS46RuXZDk1RfWxfzclrt/dpLVNMepJBU0RdZeketPazq+46Jbfj9rtcGnQp0ez6rnBggoAZ0eyPfkHDN/nWyouiLX9JylkRuXcUmkicehrzpggpQru0g1tpBlLo9+N0rHDShwZDsMgHU0XdgTBU15fwlCS0qMS3SBEx+6sIO8/I30aGMLrD1jZ4BxbLm3W67wOItkcifXMKq/ly2oJjjL8XaYYPHhtlWUZvLxV/dZWJNIItIKdb0QFODnOrzolCYEKAKcnmdmfZ5bRPXDPL4JhK9+++BstLn6vfeeoVvctvdLijxkGqd2ozcQrFfiJt2X+LW+fNmItb55GWgPSAkB/Zer1G6fTMOPK5HxSemNUNTt8EFdlYSZ88CJX8lxPi9uKTYl0IlRWM9/QYd4/uZU856MawUQKMJi/xTN3I4F6nukjANyC/YPKjG9IbnOpvQN4Gn7AC2HGO6Vg1qnlxLRDMj5e6t8YBrxdlY2BfnRe1G19mXW5I/3EbnjUe7pFNbsx8YfCrL+YLU3VG1dhmafcVcIQm3wrWdSLC1a7O8OsKWxy3phUX8Fv34HYxd/GWHXIC8DFcSvl3ByBihsFAJyL/FSPIXGmM6OxMQ/B7yt5ZnCZObzLfnkzIh0Vx1Ez35HrK7GNainJbsOesHNL4Ze7TcgG1O/FpAIlhWrI74A69IPGV7lzJgUTjkfKEv8aVD/OzO0+BgCPx7/+91aHJAEAnIr5I+wYi8po3meP+GGvqPToG8vmyc6yTvFBHMIvK/HhLA15bK2Sv3Qie2CfT+zOXJQpWe2qYd8MzU+xeAbXbKP91ZRpY8nG+MZOiTxGrJbYRLvzeT3R4w4AK8DFFwBuTOPHHdvi/te7r+0Qho3DHxuqvJlwjknCj/1c7RA+m/vSs2qOY38NZBtAV9epzG57/6tgRZ1Ub7uaPh06sujH+tiTrz4lB/TX5UPg8gwA3Au3TtFxSBIA3J7zT1uKu8a6NtT5C1byyDyPPQXm62EYJhBeO87TdxepJ/oYhVpZmjmpDN7LfPvzmADyjfvaRIrzkE2o5Xm0u3ufA3iOPkWgAsAd+U1Vqk589slMJnmEDXT5NzxKkf3dVjrXJMtrw9uiWir7HC76XIcWjWqwsm8VvNSkct9GzsYJ9K4jd+OYvhn4dwTVVMRTb/bQZtgfdg7XoHh2R2YN66e3dKdE3NEvwxQvNZQAnBa/cLUHgQoAzyMecs0KNXfzzJfuN2e9d7TfS+mXEpLfBURznYFc68ryxvzesRhvO04R2tI3qQrDMcBRFSsn7/ahJn7cu1vS/v2pT/XQXsm3YJ+/9sZTvEV9tDqSmx9W+UhLN/lJRUtPVAm5Xa8GWIX75271mRkAgJW4OQo1sbn+vtuh3x2M7Nm3/GJev7/Fb2n3nF1RfKytsRCOEu+YXAs2322/nxBbdiE5XtQXprzZmT6+ZIkOkM4wnTRl7Y5WbseShbzY8kUj9y/y8J7hc46ziIJSwVr1eLnOf/+zm+5Ygm/x1jLsJ7ZQVOXrNuMPt8cDwL9Va04IVAB4BvuPXjH97ndGts91NEohT0j6pW6YTIJ+gxj0+S9HWvqfuMSoMhOoKKh1USukbyGOZMvZZh7y9YWOep2EycRH3WiZjdJKTo6y71CWDMvNkiJOvRLakq2k5vR1iza03mIWMkXB15CP4TO8zfvg+LQzjtOFhbL8pY4yBRjMugUnPjMDAPfj+zEUHxDf8Puf4O5CfMqfecDoFx9aLZRAwg31DFSQ7j5i7tbvB1u4Q9jpmyi9amw25bb9KxJv26/fL6FkBtpfgDQvseBOPqSi7ZMWIonWCAT7sBuhKcpFESPR1gDCbJUrP1m6kD8101Y8MUF1iaTCSfbqDk5j+Cd9KuntDo3yhC8ncCF/FG5ZylhQAeCOKDOalztqIBULBitT3HLgt9Prx84oXHaKno1Phh246FmIzmhA3ZNKp/K2bq2Tfot9Di3RiMbbPK7sZ+lqop61rXmVL5VIAvbjCO5Dg3ujY6P+SRPX6lIcBEluVnp4MVuWi36IkdNUYarhINu+azVfF/YVhKZwLzuxx571ealr+Q1ifP+P6giwE7cnUjmzpmQRsQB3Yo40ZpwAgHtywDRISaJVhhTv/qoUg5NjFE/8l/xLNUJvehmJ7rKZW2ys8SJ33+ynSraU5FVzjvT6FCWnrkN9seTihU0NNRuZ8hwUXZLLEWpLALVcaT3Ili2tahKfYOlXvYMphD1M7W1GJS6Flxu/1v6JWA+qM6zZuAaUJZZCKxrKkj+NeYE6Bss09kj9i7WdtrYTw7aOB3BGrGtBcAcLKgIVAOASNEvBcammesJPfxv5o1cTyskXZ8Z5OLdHoKby7GdU2u7OwrUbiZNQBZVYj02Xm97Si3W1qVwRJy5ZYfQ2lHOmZFUIVUvfFpeqUMsCVQtRks1a6s1rHGo/0TVwK3Heo6aUW1BvjUy99+YJTgIC9XjuJlDpPwAAY2mzoI5NNVMgs3LR5XI9LPFS0qIub1kzsBpcRT9Q2ezcbBUqpRT8avvcrpL6pwm1dQypyvRstUqS4AYh8VaV0qLGGvT8ToEqZysqW7Z4oJRkgBG+YAneK1CzaJTs1uV3+CEwpqfXZc0a7dNx90qY7gMAcAN9mk8JmCPsZr234cL9es39R+r47fbePmrG7abEtciMieiW5USDSgL1vW6Qq7RWh9yCNB/WJrqhX9PTdlMzQ9elwYD6KIWKQAUAOD+rRE0mDxCoA7CZKG/JqP5zVBXqc+LmJSO16Jp5T3fiFq7E2SmMF3tWJ0q24zADu1ZAVNWsGnzlC1hQb8es/SVQAAsqAACcz+iWpLzIkAt34eELHJpyaz8ZLVfOB/nH91iPOxMpiXmDlhe25T62490DBOoCEKgAAKCxcHoVTf0eLi9gN/QgAOgDgfokicp3UAEATk/nF1uHJB28ndgDBD0wrwQAuCTuVunyIgIAuA3CmSsAPWZTPC0BoA/cL47nb/PBIoU6K1k6EADAfUBYwA6av2cCABCDQF2Eu5GLL90HAOBOMKrDID9xOhMAAJT5r3IdAAAAYA8+EKXoUwBoh5FjCY5DkgAAAOCW/G1lYoIJAHAhnL+XBXXZV3MAAADgjKBP4e5WH4A7b884EiyoAAAAAHATXPxto+/hOpjwrw2LDo+Cz8wAAAAAwN1mtj6f6DJBvSyc4rsG9qACAAAc98plpgNwa1zuoOh48K/KOm9TWACn+AIAwMN4T3SY7gAAXAlWF56ynRuBCgAAJW6n4zhABeARHzXy0QeOfj8CwNmZ9Jrm8QeAo8exx447U33W7rftJ3zt3alcAAB3Jjj4Co5i2XLuJAsqy9MAcBQPH29e5sDZdXCfOr6a9dRdLcMAAAA74ZAkALgJz/yGAPLlxrX13Sr7yJ4NF4UDyABgNwhUALgJTInmHZx4j7o9tTwV6vmX32c7sXPs6pVwT14uBLgd/mafmWFkAoCDYdiZw32O9nez+syIfbofYym9OOPtwk7FTKS522mrVsEjRlcGgB3MmnkwMgEAHMF0C2eUwIWtWdnrzg+O2I+OI83xVWt+ee3C2BFEa5O4w9JiMJgbufNcCLcoXSyoAABTOMjq450/zlhxE2vq0PraHHFnNYO/9srAPSfJbvN8u3bDtNvunenna9cKAKx96bMHFQDg0o6JvimVfWvQ/g6+lv6EPtDfSCKd8Pnx9dP1q30fJyu/C+dtLB78gT4FuB/u370EKgMTAMAZcc/13vpqQH+dXbq8S69yStcTd1zijg7Hct63143xN7OgPnGoBoAVH+mWveySOe2fhSMdllqnvUeZDudOx93OIH+GozmZO+CQoGlS5z7nSJ2RlzctTMYP1ac0GEyAgfZ4FlY5Lr4AcAW+HpDRBCg8MzKcE30/H/n+7fWXi/zwXKvqfDvsBkn/k39IU8im1lGY5PTXwGfQJ7+EfxcykKWjXjdzpylBcNITc+gLca6m+u49TZ/RKndwj39RLMZNyggA/5a+/yelzQgFACMRHci0MyOD3336VxbONFqJKTkxlUw6R4kEt0XB5USUATq/v3yaplw1ecAsR8GvQZpzdrxaD5yRrGlNM3+5lMs/NCMtNui/hR0qu8wLeDJxGxjbfsS3iCYxQDk/+0u9cBAsLR4NAhUAoOMLlprSlKVjTTzWkt8ko68JVPWLJuKQu0WXGFbVATpTr4KHsyl5sdIEhRoIIvPwXhDQxZvjECWTcxRQWjYo2dxLpmd/+PQ81edya2gdIg0luLNH1SN5yneU+alv+h6BencFx8oIzAeB+iSFOidpug8ADCQXKcI8Prf6pWpRln9W8ZSnHkZc0kE1ibHlMvXkLQoS1Ys3LFjFG1HN195RvK4EC7dvQYo2ZGmlIe0Q2lqFkK/2hYs0pNQF7Qsg4d1KXoorFoqslcNoRnVlxUJQvMql4PIos9zpJhU7BOrJSgJwJRCoh+PW7fxlDyoAXITPeykaLhUzY3yPYoSzjrv5BPTjZhpGEEeWRu1LGY4ubsH/EtmyHgd6ZeB97pPbIw9mverTTNVOuXFHJCJVle78bDyZx1V/rticx7z8pa5gKoBeiU6Lq5aMU0v+NrrGtrZYhGqrT1pZNLud8gxMUbyvh1Rcm2h2h2/KldaxXJahgXTXYJtAt4l+AJjLyo3znOILANemZ30vF5htqWkKNR/6ioNhfaT8pfA7gVae/eaDrijnVbNeMKF3C0ZxtSVSZR6gWAbTpQHjxHiIRI4v/Bqr9I5XVjJ6umZPEdxO4VoJmR9d9rkaHWCWBvykVdH+vypKqjeKUtGN4xyU/+KJIxKFvbNJZ0OukhqT0v5UdMHqna8B6HZwzdyejxBiZO/bXNeyiVRXo6zzAHDug5OxoALAxTCZBnVnyGyu2LOY/1Wo78t/f8X61PDNzcK0Vs5uH38ReGO2fHDPAIWaSZByLr+BYjcuQaJ6JZG3XVluMcXUnpayIIjzsOUr78xUKlPVgXJ+C0I+NFF95/dhexaTz+7Rjc2N/bEsbIuRyRkP7LOGREom8n62nH2ffiF/WQZUVFt17V5xCcByqbIGkF4yWVEkp4FX9dSDFpJ+/S2U48E7oJ8O7f6U6kagAsBF6JBMoedjMPVviiIOlKul3yRs3Eguzel+2lKc8JmFsHbTBK/A0MpcbbtAOqe3BiW25bBD1EeptwXPnWtbk7f4qRd+i+sl18V10e3TLGzV0VyVrlIpUW6U4mzLP7t15a/jHWMIGGDFbh3mCksAdrN3LVOtAVK7qZipnUnjqvdMaPfDeM+f/L0EKt0HAMZT8kfbE53l3hGT5XoqJTHh23aDNKq6saN2ZLZ9Z2dEArHpNFsVKKt0Q+NJbtEq4bqHEMIW13sfce22UH+KUrbi+pgH0g1oX2+An9ZVnL6Vnhqs54hLE9vG6s8+6u+v33+kgUyNkZh3w4c1T98N6pJCxoL0K+1eiqU1H5kXQFbEun9GEolmxFT7TVrz/ZVbrsMwAygVgJm83uPrnHyxoALA6UmHSINUyxxVdXc3E65NMvRGX47LNiPrqC0hJ/smf80TcMtt+US8FDisLKMp8DcNN9iTS4Kwofo2u37rpDsSkrHjq0/7gL752JKoaMqVf078DeQEC/73dYt7uqlYMPwWUgnty+OJ1iyi7GxplrzrLWsocTxZ6b+2Z6f21biSion6z4FLaiaSFLxyxptJs8d5lYqRZQCF+kRo9OPo8aEZx3/rkgYAWPBOcu4a78g0DdefO5M4+6DF0cnA15uSpS3PrSGFuL4BfHLyTUvMkjYYVw2WfOlVotdh40JCc4Heqk3PfYswt90RKdhUlh1BQzKBT7PN9hr/R+Wt9ou50rvwy+HdVAjRFB/G3VvjUbigk1Ysw3BPhO4M9wULKgBcgMwqaDahdnvhFaKWfx6xnq9H8TUs2UyNrUbUvJrG+z9aKHvpWpMJrHCurX9V7KIWvsYdgyTaddJLeJ5S9R6ZPcb/goPvL/rCX0cgFG/zqJ6Yna1l8mSKybq95zVJvxvjyfNhryE5rcSGuufU9F8q7cNStOK2tYdmXofTQzM95RhfBCoAXMXXZI9vXmycsGz8EyMQCGZQu1+dtQgUx0rhRtk3TyOsFzeiMEe81Kpp7NoHt7ct3f5bKk1omPs3ySNTvlZNV/Y+W8EKxN++3xGT3Hz9I1nmKBmMo1g+ND2xYThjaX5nT02S50Mi3erwO4btsJYGYbZoscFdlpXfPHkwftETg0AFgPPzEgyfA173j5VDZ2fRLrBmp77x934mYd85uFhbxY2TIyYBmwlmtMtwmkZlj1o4w92uChHkH1op59iNMow3V0z2pdfWCApxHUOWqOGxHth/3Ij1B1MMghBU2ntaO2Rfgn3vwm1IWtCzO1dWWtop/3F3tPpSI7a5K0AzHUjkqH807EEFgLPz2npUt5clf0cntTRNyRr47Ir6xt8d80g15MIALVvIont3e7m+6+RTM9bY7Ho63C6q1r6TIpFdYzNr18Bto/Pf8FewLHx3ORd8nwcXI1yjSTXWnq3o21a4RO7lelTO0sC8aASbVNONnLXkspH00BlqvQ7NaCFROABmpoxPFhCoAHB7RkxISnvu/LD4Pq+CbRZpfDUEfsaGgyQMkZ5pDlfIbjR3LikFLXwUV4NaqifwUs6BfFawNHDf1k7DQU/SQsak2Uh2wM1hBFItYkg5k0ruWeaYVN/Bv4tFn1MvIxm77JdJdrgMp+uad8ctTX2Oiy8WeACYNK5krpjRvyLB4RqjKu+/CAPFJjsfOpWKKRmSceKW1iSLv224Wbw/N7wTfIFB9KvdH2v1HBelzJJm+J2VErTkx4X86Jdy7EBpqbaqB2WjvTrx7E6iV7400lZR0UpOGOHuyi5VhrxD9Nj9WlZX8c7dC+7Um8i6yB9C44Mt3REswYTDklghTFwvAc10EJ+dEOuGDvagAsDZCTVXNNOVfDq9TaHGOtCSfHziRhZIU6i/6+kvicQqTp/1ggT/FBWqbOP9O4FE+n0LMUzgjouusHks/ymvzuiXVPiH8X9vtGR5SDVpkah9NPm+ZMpXdAdW0VLyWbETAak6gDevhWg3HrSaknqCZ0seO7IRjAg9k7pcuVuTtSZgl82nOImmVokdLhJWzwM4Lafomk/DL6t0BCoAXAXdeFrGl+yUA/ITH0RSnmtmZdAVqrhdLQiXV4dgY9Siis3CQrBBJ32KdVS6/++MVXvsJhPqTPIksy8ivX9tji+2ISX6sNp/XSi5FElW+vFzIUsn+kHt5LKj657W0TNpjWCTgerhO719fqvfd/x2kaqK/9G49vrddQh2dzmCsKrpHgCms8KfKII9qABwOayndphusziKtWRgyI6p6tZFOWnZuTaIqugrZzg/peHFJuq0cpj3felROtv0P/gxsIaFtwqmxfwfWupNpf85CUdZTNMpRhlq0d9935WDbPnBFlVyax6LEDjbtvwrm/BbFFDLRnmtRSzHXgGqBg00uh7XroWrWJ/+/rQ/wDtFV6Fpfk/2Z0z5jSuFFmqR/I25aoofMQrwZLCgAsDpSWwe33mLtMIu+EJGwi+YuaXXmtNPbjJ5hqbmGzFzoajaZtnhlhAlEdF622h7G8aMlBTbnA2h7Huiy4NE1nNDVP0G/dzcrkYhLBRkD1AuVyo5esVSuMcVuqq9sOGd2dMqGPgin+N6Mk3mZCEdIZfV34vxD3hipPhNplzBzUS9N/jv29QZ+8gPoNa4AHB3r+pJSTOCAMAE7JqyHEuPdVK3BcmxmaxPuwqj661S2rLWLtu89uesHqOaA2VxQH57ZZYg356GLb+lQtaVcC1dt79wOpZiK1VVrSjFqrpp1djIHa8X/f6r+ciGP4cVleQuOF4suhLfJloNLR0/ybScZpKIXC/RTTbTa3iXE1MIzruS4k26jjCwSTWs9su0fYV/p+1pEOlCzqW6Zq75LMZMAKABBCoAABzDIVO7kp23FKSiREVF9pu+CvZQVZ+XbaemnNvknU1upPdXJa5QXjFMca2glIpSIYoA1XNRFtxbc3x6TCBQlKxrCreYu8qSSZNAVRcPSuq9KFATk3VTl6k3ZiwMRUWfBFFry34hjShruBHLPkw2HwYC9UkSFYEKAACnQJV1+05YzVOp2LytaRXFmnkdILbHiYpKjEU/4CoKZMikkoooKOqmdlnZVtTmVnqzBVU0y9nVm1IP9QYrmO5Ldd0g3FsUqppC2degsgyiVZc5qjye6JMvQjTVzBrM93BzEKgLQKACAAA8cco06MRks5eoPbpsE3fJol3OhSyGBBkfLiBISxZFgapmryKsWyquwchXz0CHWVBbx9FXGzThrFvQlSvWooueBLZVALtVn7nm4+hwzIHL+vjOSpkOBAAAcFP6DqsZKMVDweoHTHGHWel/32tWLdKyODanXrDNa1F1+GsrcjeRnMFXoeTihTnqWQXIXCnk3MIjwIK6gLtZUOlBAAAAAGMx+46L4RoCNpvjDfatBoUhrxg0++HDjRi61wOeKVDpQQAAAABDadaZAHcBC+qTBOp/MyLt+cA8AAAAAJx5ZxjAIuj0j2KKQAUAAAAAAABoBYEKAAAAcCWwJgHAjZkzxOHiC/PgnHEAAHgmLZ9sBbgV7EF90mIYFlS4JCweAwDA42B+DgAPAIEKl3w9844GAIDn8X378RaEh4Fl4nDcv39uVbX/b1G6AN3wWgYAgIfCKxAAbr8ogEAFAAAAAACAD+5vNexe30HFDA8AAAAAAADnEKg4oAAAAAAAwCjQFwfi/Up745S06T8AAAAAADAGPjNzNO5uFlQ8fAEAAAAAAKAVDkkCgOvAR+oBAACeB9avR4FABYCHvp7c8Ur3UwJ/5Bl8AAAAV2fpjshH4lbWOQIVAB4sT//9cwdqOHd4UiMkqsNeDQAA6+FddCh+4bLAnFN8AQAGEw+SvKWKuGGvFPeKioXr+7QoAMBVYSA8Wp8um21hQQWAKzFsrPQ3ftONK9l56miBQ/Z5svtZJJheeg7JFKBSAE7BeV5Hj8ItSheBCgBXYMLuzeM9V74pHulWfC+uUXNucHYPckd34/N8ieY6rlIAAC6FW5YyLr4AADfD/zEmpn8n49Fr6Efo07GRPbq5AAAujl+WMgIVAOAoTqf3rDleLzT8aXLSgntotwEAGAwD4QKwoAIAPIbrvWfPkOMz5MHGKPt1Gu2MSCelcp3GAoDrwMhyMBySBABgXc1rGS/5Rsp9uNJX8MaewXVgF+ZpkaBWpsDoDM2HxdFjDsavevMiUKEGwwGsx4l9MjmHRTht0ynfAi19HrRHA7/xux6qME/ywaFtz2LppdI8MWQY6ONK1eaHNvOVVhOqKw1XasYLgd4AODlu3UiOQAWAe6jW9/++pjvpiJpOgpyysWL7sWFSGgby8gVBIKdXfl8b/ZMJSaa3Q2FHzJTD42tmTw6VamTKf1KufUj2JNoXq+jcJjggGeD0uJulzHgDAPNGKi+JvOA7NK4yKjnlgmseyLKUlNhyrZleCdRsql6lwvd+mCdNvx6bVlnpHboI1zLR/KIYNvsvi3NBPrcbyQuJTPhi0jl54AdEH9O2I/g+VdQW2DhkVRXOIlCxoALA+QmsMX7aeFuzuzZEpTklC/f5tIRZNt7Xfw7Leyogy3BjbLl2C7OtLgJEyfTYg6ttZi9GXM9e/ndUmDDxVht2Xr+txe/RxmFof+OJzeD5Kob9S38tGB4BneUxIFAB4AJ89ZtXXQhDDStMjX+ToNAM5xQlYJxah3lyqnCS9sEKdt6yR6TfMjZgOqeZmcV705LJyi2+tNWlLLfzuEq4+u9WbSFHFUvQSgw7ql+vSkOAVGsWDOtisEjNCdu3hXjiOKUkfg7phRwEv/6Sb19QELZkpxmLjf2pvb2cZhZZOe3fVb90xUDMwmvTmJ5lJf38Uqn0HcbxStrq0heCBGAZrwFrkREVgQoA9yVTYrHOFUWhb9w+5wVVGyYjRBbIzW3enN0XivGG/FhzbCTRLi5RPKUwPi/Vb0bdsP/MulzQ45JtiC4QATtN2ENf89mKiL5wEPz4ybyynFIz+eaKVjpBQynm2zL9afv2BQVhH3lySehp0YFqqZKVFpbEVRapyX8VUNDOQgkbiq6xCTdBVH9Ww0rLGXL/zZfRdAPnL11lWUIut5hVlSC/9eqKG0HrwijdW4C9/VC0OcwRIFAB4KLoo6Zgb43ea+FENRWIvjcDeXYiGSy8Vws24CDf4Z+vW9a8oX2zNfaj3GXzZCrPdX7NohhjhVOlylGVFXJmMd6KMgp7jvUuLuhC0ZCo3qWlH/+WVH6+mpILPGuGzU2//aGpm+Kh3IEOjZXs319CbuuVoiefaWTJHrvPjBquF6jXNKUtZzeoBzGQevibpueV+hDiUkjqsRwkbNtIZ6flRtkANLPIfIpABYAbEymk+uzkdWP7JGabtG8/GVOMw28ZCS7+G4qfE7K4wBpcrAh6kU0gCq7XJUu4nqEsTBQ+jmyOPjXnuGqszojWZvZ2n6wj1+z939R189t2tSoYfusJmXzKTKB/V5Q6LSXTWT9mEa5emyKWfk3/qRPNSJymLmX7MxZmFnLbislHInY8lu2NIi2AOXGbxsoN2QAXxS+TqAhUALgCY5xMypFkrmy2+Yz1tJuqCTXPhmI0PM/bKlaIcoWlP/pm64ial9+/TBVTuckqGrrFxTuXIyfJqvm6kkhqu//7H90f4f0/yfXtB6Ffj5zU/ElPMbZsoSFYivquNX09DpQOEq1SpF7Bahl6ipY9yeO10lb63YPlb6nu05JW5wTdnSK4M11VGlgTtYJjRAW4DP9NiXX9JAoAoHtYst77M+h8qNzWneo35nFDq5rXesjNUuN90at0XG6VXXO75HuD/XYYf/U1ybRZjbjaCX+NmaZS+Sn3Yv1IG+E2IY2u5yFMQCx30DdztGWU3JWhlN+/JGrlya2C5UfGgGSRDiL8qPYwkWAdJ8mwlnvJMzf6r1L0oI3TtRi9qrJlwS3Iv1GgS+8DbXk0yxTdHAsqHQgAzj9IZnHulg1+1vK/dBhND7tjaZGibzuMthfOkpVSjbTGNcaktJN2l91aZJFLb5LMeBWsZCIK8L2Qasb2TxrJyZs8eY1uDbEZT3AEqD13VSeI6LYR5k3t4OToF+34t7dd2ItmcPdpIeURF3YibHcqvgHRYQCNBbceVqf452/V9Kr0aKcqAJzf4oiLLwBcG+OUQ98Lt2MgTo9ZmTf/iXwRR8QyDsGo5krHlko+wn2JfmegA/WenthI+/XuGH4yQ5VxY9LpaaCqqawlW5E/qB/lyz/wOZD2MluNhXuTbsxWIdhbxLXmLz4qS5C9PYRnBlh3K5diQpLeh0WnyT4bv0yjzhGoLFIBwFGMGm8is4Q72/D9c+Pzh5ewHmHLx1Mn4MbMdeJMTsqxmyKnFe3XeexXRPCdluqt1rg6eFn4lEsmk2p0qRpYulWJ39u2m488okf80HPhT+GkI2telI/SxGWfYJ0c4wkP94L+8Chw8QWApyJ6iTbtkvvt+PqZEsaOfqlJZkjsn0zvf9kXDJj5lDjx2PtYWWx+mMb8WPf6dlVA5DzYx15DrPZBykG4QqqmlMSOEMXvdtnlC39Jufk3mYq5dOJKlu57/f50juxNbX084v8q6r8U59u7obv+P1o+iIApJbzwHMT8pHUBXHwBAJpnm58gv/dldgRoHrd2wZ+4iAbrxudwmfQdVrK7xQe5FFNqeDVOrUfpCJ1d9T/yna9umdypFL6xxAsLDbmJo/ldPqBRW5dfVON5ffVFMEfOc7i2ur5LaUUf6Wl1F4hcrcPkohWIYS6YrywOigvuBA6ahzPqAIxmEKgAcCFE/eeHvb/CKZwxQ9rUbeirdNpHKfpDSapbPLQlDTJ2q11flO+wx752Be/bRswG1HlzOOGkHBuhye2Aijd9GmVcaoakJpdZjl43cDbSaH3dwvUkNnMkBYA2lj19CFQAuAC/Ocv3qMlw9hM5IWqTmdfv30M3tDF3x0yoZSb2SabHgLpjV2E0WZywETKO/JC3WlsiTYdizZoUD1y1kGJ8lbEv77qY8LY4q1sR27OlR7ZStGQ1VfU8PNoE0Xpksh5RUra86NHV90/7ejmWU4BTsciEikAFgPMTjI9OmJqWds/JytUVDbBNO0rjIMLhk4Kt8W/Sl9sJhMh/GjwN3U+i0po2btokteZZGi0ofO402Z6Em95xDZuGB7GJx8sECY3ZBtVlWUr6UOJMnec+vN6P3SN7ZHHtcyLlxvBJ3Lf9WI7btW8WLvm9n2a3evzlnSymUt3JIQ7yhK+MBRwAC3AtEKgAcHrSjU/bLKx8hEc+Z5FChLbVRDoWJz2ieIwubVdUTR0Kn98/1E2FXYL+l87uOZoePlLk1XQCJdiwBtB2RSJaOBAy+Wf6CWz1QkKjZPH+2XLcgRK7aZcQ0242F3ffR0FaE0+uVBIdqk/eR359/mnnTI6qjVtQJeeI3J93QL4SLY+sBFjOoqfwvzXJAgCMoO5ZV941Kfzi9ozGigFDzaagT5MsSNbDWqll7bUP5z7R+kKCghNxOOHcLKe/2IyJ5//OZsmWGINAmtU9+eevrl9Zbq/Fsp28MT5pKSS5EFWLFH1DkjsFhy4tTVlRzY3fJolN3Woqwo87H4ZwVPl1j0qAWpRNnWtfw7zWqjrDvhdo0lzsyo/B777DNdzwCwBYcLdK90zrhABwE0T/UleesIeH9ASOpXkIxcPWkCPldif/rkrPQlxyfu3ZCoK1Wz3UfLWkUqhkv1+U2SPLgxlav89rNm/ovrm3Uv+RAbXsFZkWMXQRkHpZvmiSmWazRKXfovWM4I+CX0FEmrpgvPu52kZF/xXQC6mmI0KY5by80k/xQCQ1RLbmFf0qVJwSTkVaKkrbL8xl1hTxU6yNRJrfR1T2reDS0lUYICml2FHFexr6Sf6HXutwNXbuboZrSVQEKgBcm2i+VZ8pB1fTz6oJU3RD2hvGeZ4y6SoYhFRVa8lVEtAy5bNlrEHTyYZiW0bcWOGotZldVDdrymTu3RCZHkTTW61LCmKYxhBS66afjZXnGtbSb5JTzleqW4VVCK0oUkXKTZ/USmGlQFlGU6WSVbKn90uLA6LQC5JMpKQwHCSFDu+QWiG4EtVQViHZ8Cq1ophvu0KVKqElKjg3nOf8JIU6JVF6EABck7Mu0TbnS5Tt3al/p37yxLumQ3ep7QbB5ZuqJp2ah/PnpPZcWyKKQFV/b4pJj0urGH11oKQea6mUtFv1/jxrIsZFA03wxLfIZRFE8DdKtSyS6kor8nNN0KTCMlivQK0vGCkNnLWXrlCjMELJ8xIGBYwenKyUYq7EqirXi5Zf09oBXIizvp7vj7tNonQgAAAYJJ7fHwp/TzO1mXTHa0eU3CMoCdHf/PuvUD3mY11TKqsH8vJAVZE0mWNLMimXj9pyR05hCULQefqERlHbscktXYbYLdvN9uPGftxg7q4IVHtMtV5Xk/+GMCNM7QqKVztcjKHLrnByfTopVToQAAAcQL/MnCZQdcNyb2RCDKoQTG/JdWt2p9kcG4aUFGIeWy6Em5Ym5CyV71eTLAqi3MzWIFB1aTdeoOqi3Whw7jG1q0bqijtDueBi1xpjao8XHBCo9wCB+iR9ikAFAIAnMk+gBkn4I/KvJWMvYcmJea1zpGgHPiYuo0xTPdjL3sei2G+3oJpcCtQM2+zgupG6GlW4jJF3pKKRX05GQ8iYlDbz00szdUAFDQQqAADAjQTqYu5fwnW8/c5Vu7UgQr92XLFB2lcBSvHIawxSANUOXug97y3p6hUhpk2veusxN/Y7jdFwvs4NoBGXgEAFAAA4CH3SfhsQqJdxRBxpKNZipyfAteGQpEcJ1P9mREoHAgCAC7xzF716D+HOZTsz3ntmQQAzYFBbgL+RQKUDAQDAiXH3f1/dt2T345C2okMAwGUU6hSBCgAAACcAWXJ+1p5DBXAZeERWwGdmAAAAjuLmWzRRPVdh9hbRwklIABeCQ5KetMaJQAUAALghfDbwIsxdKuETK3APOCTpUT44UxKmAwEAAACcAIzpcAdYcXuURmUPKgAAAMBdeU/qOVsYADpYM3Lg4gsAAAAAAOcFC+oisKACAAAAAABkoE+fswsVgQoAAAAAAOfFo0+fBC6+AAAAAAAAcIoPaWNBBQAAAAAAgFOYrbGgAgAAzIFjPQAA4MK4+6TK2xgAzoDTR6TXJcYqmArfnwQAGINjJH2SQkWgAsAtccUhyT16sHKPLfmxtbn1QaobYC2Oh/Dq4I/yKIn6v+OTBABYPJyu2/e/HnenteiSIfyYRQinz32f3MsAzsTfs8i63A2gBZ/DFIHKOhUArCXUBgxIN9VM38J0ycNBPt5OzcLSqsaDHcA6VMBF8LTfk8CCCgAAF2RTgB3Tlo8dedp8xx24n1pL+yZW8vXcZFrc0IX6o9cSOMJ8qaZxq3U5gONZ8QghUAHghvjygOonz9Xg2RaVtPPNtNSWEr+JsuphmIP32zn0CEfxyQNSQxfqj11L4IBafDvbS5WIPr0JNOSj4DuoAHBLfHEy9Lr4wNm79+V6gT58aR41ssqZot25nq6Za0MpDiiYloRz7nY1DHAsS54bLKgAcFM+ZlLl4r/HUqyXC/HXhK7TSl6xsDdkQtjt6Sb0tIZG80zDN3bbCw+pyru318LypYtFq/IBcF3cv/sI1Ae7FQHAabiLEgOVktC0vIf2v6tKMfhVnXmY/obbMWl6ds5lkfG+9rAS2m8Ji55sXHwB4EqsnwS52GfskAQPTQ+GMNqZmrnZ/WvLz498YhLfqP2S1vikET116NN7Qfs9ijkWVDoRAIwjmmZkJ2245oGn5PspnFYS/ZR/RbQ9/aa8RUd/yDnnxKdzufvQEjdyn3gbo0c0aeEcW8lR/IIf6dDr/IgC/qWh+9rzUAL04e4kUBkIAGDe4BhNs8IjS01jj9Pni1Fcigws/GhIP4vDKwdhFpNPEhp2OueWRFNUcrmlyD7FUr9HoWp9fRFguXH5iM9nwErGNO9noUmJTP2S79C+tbCjHmhDXZE0AFxCoLIFFQCOwTWOPc5+rUNv1tIviu12qZVYJfaOvH2fJ3l/P6Jku/hG9rUF15NPVV9RuUv5NUttazklTe36K77rgxtsqX4WZUl7Yk4zBfyzfp8lL3CnnvUs/KI3D6f4AsBFBsfAyfWDa36rFU6P2RxlrR/J3DNsfzOipvG9oL8cvhH8yrTr9d0q9dNAkUiVIiubwp1+sbmaJXVcuif4ST76NxTIUrakRDJJm9RJu2lHqMAkif2ISt+3u5IPtStfzkh9iMMuGKAR7gUKdQmLDt1DoALANQbHzxkfLjHJ/SYhzvb+0k6bDH5MNKEwOntlb6oVv0UrFKaWvJ+wwpkZgw1zO4PWj8toiCovSquZepfY+0r9fBtwW/K5pJUUsbEkr9yo8nSIgFPiCnZcy4pe3KG5VaWyzzv/WfHhDrPVWsjCB4Aad6srVnv5kpLl36JXWwY6kFIIBzf5fi1Lat+yFqSUdHSb0CnUxTt9BUlvKbWAaJ4LQXM9yIg6J006EAAMJJzrpeInOa5I2p2pzocFh81QTUjut9nsPZ6C2myukkkq+3cldaEmrENvaQq7SZEOd+m8iYLInPC6y+bvoT6PhV0g0dRmkzImTMiDzBTMtNol6XdVpWxXxZetpcE+naGSYyUHjWo6iSzoeHlh3/nK+1I5X2Lv04JUV2YUgiZWctZaL2k04YKBb6vKJIyqrdQQkWiMJ+xyjkst4spJKNpOWU8o13lDCU3VIj8J+qOoL4swZb0Il/OluA1uRaJYUAHg5mNmyyutdq+uT99z9YpRrHAk6Cu4HPqnDqa/nKOppTm1xLwXVUzgoR3OapMF2aiA4bXwQsGVOf6hbNMuFkuwVLr2Lz8mP79ERFCqJoepZLEinZV/Ff0Iy8JPkuQVLOvTX7GCiWNa9ijDr2ZMQ+hBslyYBb3QNK41JifdL8Re3Ef+uZheSOPL86SFcGm0std5j4t8nFdTzvbsglDrpJSEmqt6Iqmu3y7hOHoZaKnHyFMEKgBcjMqezN65hmIqSBPvi1yLISpLaZorpj70XR3oY6M3j6toyjDiV7MI8cqtlTtnJmp3/4Sy8EEMSW2H5qRoS7Or9KVQ2AVi21oQV8tXEPNuiRouvnx6gj4z+XUXZakhC1vtVKHx3FL3er7CKk6U4C+RKZokz3Bb8FbVXLgWxFZ4nqWlAeluXe2K26+TVTtT2voFdau6ob70AjavVwDAofx3bHIAAM0409VFq3zNOJcZ2Mp/G6L8t5+/Of2/eeQmuCTx6M8/5lZ9ZI/a0lUCfvWaciFJJA+SLUS0lS6Iy5jhtuj1LOW26swiKBm4Xs2XX5Cr0Sl5COVe8ptGVPd5ImHdp09hjrluxZhqrhTmiMy5ycaR34qI1k1cetkNH2naO6iwjFVJXk/j07W2Ev6dYNCcIwBYABZUALg42iGxTWyGvoI5dYAcqJpvhHIUijZwttXoEhjLh80A6/Ycr5BWfKpRdh3VUKz6v5hVXTMBU0kkiRZeSWxkA+1AkvlNM2QlIerPSZTdRHHn3Ue7IOW6HFX9ipC06BDwvRobwgtFUb30dT/xJB/S75qtP49RTCZoWlX5KaZ+u5e67OKs5LGSxlaJcYdXDb9btJU2x4QKcLbvzCBQAeCCuGgLUXBh50RDmahIJ4L2xd95bUyA8dFt0lG70JmRaRNGVaEawhb2CS9lb0cQpFSmUL1l9mJVfs5wSTWG1qPXUhnZdJJ/c19vkTVqeeO5prqanPSDIOE6RCTB5ahkh/2mfvgbUrVA6k71IFtlZ2JFdWNCBWhjzUODiy/UYDSHR1C2DxV/H8LXIc/stVn3UexK/1A2fetnZccej/uj4mdpdj3+6bvWXOhRHYSyRBP+UdGOv7Jvfr6pHTL756aKlBq2V6QUflbnjtL6+ZFujs4j123CCKxqrJ50YIRM1oZUv/aqhbyWld+NYT9Inphq7+rL1J+jxDeFN9bMAjwXvyJRLKhQg/EbTog4MRzhvrXd7Btj6p4D+6p1oBp89/zbLV9rzcJN8rrTYv36MtbuOxBXc0PWZV87RVtUOV+WSN8BRbVj7O7DvBgOWHTVrM7+EoYNk4F7fypaVWmW59yB+wTPKABMAoEKAGcnmhVN89uLP4hitmMOnSQ1eOhFHoB7543xRsMRk1DbVy7qJ+K2ptYdw78Hc5gD1/ekYWmzaNGlNbivFPveGwbTerByZy+WPrtkGMIKW2Z1io+1GocetxiNJQN+xIeVgnwgdgHO9X6cI1B51AFgNuO+OZJH3XBv/H3CNtLNe5oXXuFqbFHbVxXptkMDPSmKYdzm4/dNfUzDZr7DYqyxOhrwNk6S0bfz7ea7jW9M2zeUvqt96sJJ+XLoWSi1onCsT0sd9bagtKjUHpe9ew5sGmVVwpJCvYQVKysTVYAzb0KdsweVxx4ARhPaWd5mw+jCoKGoPUhk/xmSYjbLNeahG9cfm/XemiqJdiGqicx6S9b2/zakOzCLls70yvLevXSNH99oM82JMUSfoRHVyaBphG6P3SMH9YtptGfV2b2892kPi01cZluyHR4AzgWHJAHARfibRouT15/JLZ09pfsKhRjTPz7/a5Bspd2ANVx/IMuP/dHZo2x0IDTc7FoPdtmFH9KiR0ylI3k+ctupnorRzbKZQEmLB+QkWVFyuIPPwTgzz8a56rE7purt3WBejm3PUDqIizbaw6CVbrAqZYc9qABwFdRdas6gPUUfRv04juhKPHlPPWFdxws03vQZfYbVqc7Dmsda58sjOA+quMnXGksSWeiq6ZvcP3NrdOz26QeUspIPYxjXs1PyCrOsJif3AbGq3hC2vcy2RKbPbz8dOOzEl3HBa9GnqhP2y928eRD0+sC4q1TbmNoT+AqP6dPAtL6EVV9mwoIKAFelMIXIR9TAzJpciP8OVOAviBK3cDZJM4ntKMqd9FrIZ/C1EHmAMLWCNK1Elm0Z/UYWXZD0aSHDm5Vcz8smWbbs6+2tOUwb37nFHcZBTWrXtLLudKOuu7f30rCgENE7n8/cHpII9Ra2Rf/vAIKs/spyoL7ZZdbc2RHzWJsL/laiaSf4LNx15UFPxvq7c2u+uwUAXxCoAHAxthlF057Bt15q8l91tfS1C2a0fXj1+LomwIIYCAWJKhaKOfgL8wmXKNTPr8XazHIYRb+dnJRlLfHmjq7Hqv33XUohoG58TwLlqcTxbKlYnIfbZFfhrm9mw5zJ/7Ql0vR8VDKVBVAlurPmy/BI1CtrOFK5xLSmax63M4hpVBmkvcMm/T4T+uLf7mTjsclyLwr1fNAmK1jkTYCLLwBcBFHDuWYvQoWC5SP4AmNyCOn3BNX2MTy3vmav3tSVOAmXHxnaIRz01JtIrR9yjrfbffJPIflf6ZPIS7ZD9QDYxO9QKWzsYZ04+Tl7Kpu/tiyrwoiLnoRSq3wC/C4pBmIhWzXcr6oFn0spn+/fwom/4PWeRrbVSq0a9rjQK3H9Ht8WtaJmULnqCo+TEk3g4V+j8tnY3++JJXzrBLLPu3W5QEswqFBdZKbVJARJ0tYfgMjXJbg1SKN758Lv2cLN93TQJs9ZFpiTLB0IAAZSmk66wkxYClmx7iRb3kYPZkU5u6nfZO41PHmb4KvnQF8eEGapUUsl11V1nl5M2kcMpV9SC/lrbSEtuZCF9NOLaTxRMmXhE94lmXTzdIr5qiWT3S0vDpRaXmlJNVtRqSpFrHbI6KGVYm6NUOgPch7jtY08ifJCmjQsVM3QyeqY1FcqnWUriqQW82qMr1SLLncKvXXKScgpSq2bDTnpUpHQhPJiFHPZczHrvQin1KgIVAA4O7IdanYa+bxlXDLnGCRj01qfIq/YSrOb08mjLGxSk6P0e5fYVjXPd+ojmevk6a9rnJGLU/1apbUUUs9YrWF+Gcv6fEFXFaykUpAGQa2JXd/yfKU13C7c5ZxpKyvJ4sYe4a7WmLoCUZbH5itpllLdqxRWKbqarTDpVJSKMrtnUUa+IChw4e2CQD0p9a8owyQQqAAAKwVqNku5tUB9rGNXLTZhob654YZ12ti4JSvEnanoaxMliahN45WlBrOgltWusYgNaxMdiwOZ8NX+ElIQi1myPLauQLTIN5tAjaWnpkNz0SeuxOzJbbnkpSDSMopcJKmpGKbPRcMR0XBxdcoeVAAAZXPk3//wOjwJ/tDY/IAMDMux1yL9bbGb2EvjPYFxQp/ZfZa6svc23kwcXEr2HSaBGu0m+c5sbyiKPXZx67eSeFJdremrG1mVC9ou9sL+crVNWrP0julX1YYVpY7cNh05kIeorkox2p+cRTrp4bhlD8ak9uY5B4BRHLKenUz2JxltWZqHE6JbUKckVTDVDsmDurbUqOg1g2hYXS1VJ5i8E/kUx6YKd1WmqRpYtcYKJVCcozOXZluTmU3aujO0WhLdNp5b7tUCCgoWP5eTwiLCoxYGEKgAcG7GeTJakomnYdMEKoMkPFKgXovwrLVB1ZOaFl9n/obqybQZMtLIc7ZPZkdtB2lsEtoblwu+NaiEEMvwrnq56IJo/dltq7lKKkn16OeJOBkI1CXcSqDSgwDgagJVO7VjRhoMk3AmmI4DwOlBoD5Kof43I1L8xAFgGP73Tpr7csqcwngZwiPglQ0AAPe3oDKtA4CRHH1g0bzT7NG+cDrolABwfrCgPmoBE4EKAADwXDi6CwDODwL1UQ42U1x86UEAAAAAAACXxd9KoAIAAMAlCD5fCQBwVhiinlTnnOILAAAAAAAAp/DxxYIKAAAAAAAAp9j4y2dmAAAAAADgvCAu1rBIoWJBBQAAAACAE4NCXfkh+qNBoAIAAAAAAMAp1gX+tyZZAAB4yquNg/MAAGAP2E+fBRZUAACYg3tPKZhYAAAAXA+3KF0EKgAAzHh/feQpChUAAADs4OILADATd28fV7f0IHoAAHgCnoXOR4FABYBz834peeGPK/Dxcb1QjruQChjMJu5efAAAgBviOSQJACDnMzZGQ+R1LHbuse69B+cDAABuDC+VZzFFoF5l6ggAAPNnEsPeCWst0ZxIfEJoFIBngIvvGtyiqp+SJu8KAJg8SPlrZf8q2W1Hcrqeo0+XViX+yivRFyZu/3wdwM13ycNtuI7r1N1q3a1JeAZ0IQAYRzwJvdg21DXZPXLO+be+miU+3ng6Psqu1K/U99Y0/4QEvvgVqwZ3nxVfbECF53L3R/G8uBWJsgcVAM5O7F6Cn0+dQ6tImzMwl3gCr1Oc/UF9OUpoyjqImPYT5sUnPccN6y7AQ+E7qABwQZizGI4OXto4fnATjY6vCQyola42r6+pMc/v3hNLdSLOXMh3C5w5hwAwCSyoAHAx/OTFfs1nccd2t9kWJn8u48SkWN29D+I5qQ3r/IdEzzWfwjJoAYDlLHsxIVAB4Bp8t6D6uVLhs2av76qcMVy/FVDHbr7wIzxZ2DynwXYz7QOtdnfGw3eF3tq5213Tk/SYNvn22G/9YNEeDrUIAAJ+1VIRAhUAroQLNNV3Qu/sc6zoQJBA1mUDcCgWkotNCtUVf4wSf+3m226Sttvph8QU9Gg2rXeBrAgDlXbcZeZjm2aXr3AsS4a2XgC/niLXzbwaW3R05dG8xwI6HlwAuukKVo2DCFQAuORQKexOqlugnKIJpBH4Jxb6hmdnuVISJFtpokKrullPWlWu2k9JRYYZVryf81831a3V4xUNhnAo5UdvevfRhoZ7cd6n8NYuEwAXwS8aBzkkCQCuwYARcjMhduD995wet+N8FRdfseQkVeHJP+qnB1lmoKmVuJp+OdKwlJ9/z3rDJTV6ba5XlCXyxvu/x3FFygCwCHfB8fEmuBWJYkEFgItg0YV+4Ip8HFnTdDhwiBXl3bar4y+Rry/hz6cw3PSRXPplKxCKJV9E31n8n3kzd37+XCil6vJCirfZK9WFlZMk1PwpTlVky+dghQI7Sz3Y0GvNhGA6jptbiqdsbG9IfTFqX2grwDUKOwzccAFwu1mEu1OydCAAmDZQpcoplIGVwSe+LZQV0RVp72YYxOZJHOQz8XJVkv8puk+JtoJFRc5DpxNYPZdppQkZE+sovFLfHJtv7o2k+iZtzYouIN80uzMu4TUoFTG9Jr0987zpHtmWNNLLQmzBOkHbm3fcfldrTFspdYEu+5a3ZjV85naySvzLD056g59avIHV2Efbwg/cnI5TBOHCAhULKgBck6890DccaBLbEK0WxdbjdWtz2q8JUlJGBVfb71VJD3Qd6JLF865KVXkJV/QqzAsZ/rMlu+qtiXHa0ETWVA1xiVHl+5brlmg5clm+6nt9azEKKyWZMaJn2cAL9ytCNMxpfDG6Iv1cUPtCZvvM6m1UxHZzymkJv/FH3SY8H+77X1Xra+tTUs+S7FJf7wdxTebbqcUeVFwZ290oHaJVyxaC51rM/sAcnAsEKgDcgjEHasgvwGxe2ErkluuHZPkT+PfKbnt1p3drWenKobAKEM4sfJeojExJwYXNCGqfvdTPzQ9m7EnVWBIRVIWQXiG/qnW1f4b2VW1hboIDwsJS2hL5ycBCfgtnYcsBRJFfDJJkNq6tURbG5hPFek1/LVUvJB9f+DkxRGskQQBbDae9JvynmHpe7VG+zJUiZS9f+THHkqjzraFQPVeBlnqSARWBCgCXYf53H/xphuiXiSsyEr/+4WZ5wZXDF2y+WobSX//2yvbUYmQnf9dKeMFXTMtaXKJG9VuVh7+KLpZiZ4wy8E3ilS2p7Ft+I+NyWI6fOey7B/e3A3hUjwwMZT3hvn9oKx6Z3MzqTbfBp1c6TORzTC6apC5dKcUVPBuW9n0HcTZF72y5Kun8z2X9wc6CRLF1tYlhwaxdzEs26DHrGAD3xS9SqAhUALgIvRJHjEn5Q6Qx0drtutdn6ktnW9wAAQAASURBVE7ckPAx3mqtzs67KfkrCnfXfVyDuPzfoZCvM6Y2setLfsxJ7OGduREtcIqOJsCaPTWIJi+Fzzt/JPRav2VZeY6sHs5qWcJaTS/8ch6bloW45JWB998ly2ZmJB5MloouEa1rJoJCrWm07Ybk2LR66lUV3DLiiR4Cgpm27Yi2wu+/gu9x6td0K5wZlhIepVCnfGaGHgQAc9BHl8i1bih9+lSYs242jzf7spVvPtsXoSlT2cc98lzsyoSWbP5TaECdloj1emQwcuKFn+4Yho8/ulL57Ioh4YYvt+iCOPWZjCy0USV8/jcT5ZE1Wcu7mFWp5kc/ZWIqvWboaJEh/Ulap4j+pVVPw0JFpc+0fstH8Tb+9FFjJPog9Opbf4sf32qvVvgIBQ5ngVZbhb+PBZXFKACYhD96jIqmkBPekL574XLosuYmnsVfJzHqXeHWvq5mv/KGxB91l9g4mZp8u4lXDfLIxNruNMvXsjpr1T9egEq3gv+umFKPbeK6s7P2uxjiTwo6uaUF7wBpsSFsxiB8xev4Y+hPzMpBXLYWCROP+1PmMmD0mchMvHmVMGu9BjTTk5giUOlCADCR1EhzBF87z55Zb+oTKk7MGwo2yEgUR1E/QEgJOEMoyL61TclXI08RJMfAkr2jNafx6nCVu3Y/CqFCaRARTenGJfYzlykSfTxYexS6pO6CbUPLsCAev/WYD4W+5KAebYtuy1UU0zfZ2HKcRJonYulcVs1uqV1ZaP+i+Pwvdrmr4B0LCU9iiosvAMAahr+/5nisvn3UZAe63MOxHl1zBuQ0M5e+2dOBJXPD9xR9r4e1rZb2J7I1iSaojRFVstK9KhF5m8YIuxOLbuRXlApeLUW9YdLy7nvcCg3RRViOmmN/7aobkMXe3pGlnXofd8YLcHtc9J+D4ZAkALgYv4mTcbG9Fl3LBMWQyE7DjRNCyidlDp9ajfckjaOe/pYzFkDaqjiMb+TfY3fHpTH3pIrYTFfMci0fP7OevgMwNbZVIvSXOnxyO+fIxqg+uMUzdmSUtgC3Nsl2lJLFKTfZ26vf12+2F/MHJ4dWWsGqhUP2oALAtdn7aciWuEw7n4YI50KwbXtWd9GLH5WY8Dqa+U7o2b5ocB4e4zi7P6bBKnc8gc+oK/gBxB06Wl2pdrjTlr30YZVhmU6cGg6YLf52eIo5CH4yZCaNa+8E0XVUQvFhv6LZHuAYlg69WFAB4FoUJxTG2Y96WzzPjL9PGE2/zQN3hz3196VPf/pj9xfM7pq8DdUYBpvN5UR2W7mLIndi3Vsy3VqwVFSUP995RTINPvHpLFokmxacTPtCZ3QIM4JLiTHNwqpI6duucE4k7yI4gEUbtRGoAHB2ArtluA4vTsOsCrU0UREH44YR+vP1y9xpcrMmbFbQ0rp+anUQ8vC6ohxSEuQo/akw5Qx8VAV/5WhKvKVgdEtW7t3hLt2pTwvkldxvtBrl3PtvPs1Tv0qAT7/0tVlO1HfPpxfcAZXaVvXfZ+L75xbN72/lw73F+Kq/SVhuy+I6UmRIqyLBIAgAB36Bvg0EKgCcGtFtMJp7xWKrxf1WiCA3oSp6tT7LKg3pYak2vbcdsrlNP7/T0d/Mqm373vcm0Qjh5TlvmLHtkrIiEP3l0yzrojr753KOz0stwRadUU/MHVYVv36l/B4sO+woYrVAR86pvLxzckafir8XtCUV/L17Ovk+Hri0AJWz3ZNscthyNwI/xm7/jur0DvQAjwWBCgDXZODeTj84iBQiMqEqMUlr+9keLjUNb7pmznBKOtMT7/Filv1IhSpYpn+JjTBYqXVhy+oubXAmvT6WssPrlGIPlfcthEs5xRYtHChWjF8qWRzV/u/Z/vzgo+WmFqIAifdLNQN+umf52zDUGBsAHAUCFQAuSP/EQrCIph4sgf0y/tucujA/1Ewb4e9vk1IwLcxFra5CI9NA4VpDMd43yXPd0hQ4ubZjFhj7+EqNFDtn+66JuOTgHYpoJXbtd3NWpM11gWvsFAtgdpzRhxFT9YosqlbJzgLrnSVNotnJPI9HWhj5uTQP2d2oxlAowxjB5cICdmjdpE5+9uXmmHZbgjcn8y2mJgdoOBGrjuWGf0tqHoEKAKfmPdcTJhOpjBT/kmPcZijbNCxZWm+MM09jm0ZG2Y9naUKSX1Es5FcuqWibCpOJosp2Bib5FSZwitr9JhHM1CUfP6nuGupT8D7+mne6p7uapo0rRthEq5mRYr/BLZVNZSomY0Gy5fq4kFbxTgN9YWfNE3+Cv+mBM+yFTRPYs+E2KXyqxX557/GotnsBBMmL97e2kFBLY7aKR1f6H9k+xFXH7SoK9XLQZE86JmlOkvQhADia9tndKq6T0y+qs24pTPVe2xm3qoN12V3aGlVs7Yrew6IlLjesZimLGYske16fomU9XphIlinKawASrpiZONpynIHqdrUsZlfiwn/DS7WZtYVYnLwW87pTQ3T0/LzEURGTzFgqUqjJzGdXKkV4LVstUuJNciVUU1rkLUSwsBdEnS3DZAbUls4l9Xk9LnM3lXr/pYZggDW4e6XMU38nTrjKeL3pPQB0owpReabeEZUsHgWZFCWSRqZI18+1chplgSqlo+qXVqkv6kXz1D+5v301QVs0aK7g0u9ZMNv7Q2n5UKcFv4sLCM1LJlr30pcyBIEatUpd8kkxJaGFRky8ROSciOGLleKqKzRZji1RZa0WhGZKAXA+iYpAhcsJVNN7HwDugwtnmYJOCZ21qxH9K1recommScGCRJQm/lFmK9GpsnWXQJW1TWSmLNssS1HVdHthNcEqNwsaTdPBSSGM8ltPpVT34hJE85pJh0BVlwBe15K+Jum/OCq1dtX5ohAoz+6WkWbRXlCojb20UBCmFOfnfNPRR+DulC5dCOYST1IBAMwMdPAryLl8Ni76VsbBJA/I1Aok6jprWUKx8o0rjsYu4TQBVVkE+Fcudzi4dwjUWrW0KNSCwU5aTKjaby3pSJ62yRXBqmgUqFn7mvVbwdgtBypVSrVW9CCFVQ5jTFpETCmuQMdZ0nBdiTonVboQAACclGstxNu26jbEpuhDyUHTkLF8vbCgAgc5U1aESiGVhuWJokeptJZQs99WUlLWOGQjcJwRXaGmRvGK02zZdK1p4OximOdWUVkU+oVVDlNU+hrHpYaEp3KtgftOuPskSh8CAAB4Jid2cpFlX/HePoOdPyb7gRjPvXdj02Z1AWKb/xdMxN+0fmkqtt00y3l0XTXZ7ABhMlCftLNCBAbUJfwNC/cRqHQhAAAAOBsNFuJr6OsTLwacBMWgPtDXHy7oSwJ7v509G76DCgAAAHBBVh1gciEUUYPWuRq02LP4b0akDJgAAABwMi5uQM1mWUy3AGAezv2NMW7FSMMeVAAAALg/LRtQT4p0ytGVywMAJ8ZFB4Ff34LKYAkAAABn4gb6NAZ9CgAz8X7ZAMMhSQAAAHB/Bn3l5hwmVA75AYBjWGFFxcUXAAAA4Fqnmd5BbgPY4TszjxKonOILAAAAcBE+s3Qm6x3wqRKAZu7zHVQefwAAAAA4EezaBWhmzTFJ7EEFAAAAgLvzm/OGpyCHMH8FiLnVKb4AAAAAAGfk83XH/PcVmQEbNM6jwMUXAAAAAO5Ofc7L/BXgFMsCWFABAAAA4O685ad//ce//xP8jj49N1hQ17DooWAPKgA8EM5yBAAAuAp8ZWYJzi9aGuAzMwDwOF6jLW87AAAAAI1l8yT2oALA43C1oapVvJ714wUdIvxTN+crCwAAPNuWBwu40WdmmNoAwHU+NaBd9oPiy248aIRsLkf8SmAcB4BLgVvMrUGgPmrvLy6+APBUyvr06ridQdZMBs5qi4aB7Uvzwhz8XUZvgMeDBRUAHkfZkmk2iGYhjBbUY4bI/mI0Blub6dPRJbHdpCKfzaL0eAdyFmAA4HK426TJ4AsA16VdRxpDLBGoffp01Sh+eYXa0caTVNv5xODlG3cnF3OgP18HAoDpSM5TKwQq30EFANiLcQ536FTP96Xp38zI0RM4n4vh+XL0VMkTtoQ7YbMkfHN4/pzCQ6ArHsJJ9Cl7UAEA7rmR6ZIy4Op1/8s/53nACT0UAABa8Ssk6hQLKiMvAIA6OJ5ziDyJMjxn5Vwx/+czg39ydLp8Hev7/VcLz6wCgBu8oh6Ju4sFlZVjADgrh+4DhefRbgOetjp9PnM0T52/XC1cK7dwX843nj0GtyJRXHwB4FoDpG/+msV2RKrrXUiryFpenHDtaRSffzkGf7l+fKEcw82hLy5izSttikClDwHAWERlGU+qw79cfihJNjBVv8CxXXbq50D6v8wizf4Kp5y2CoiSohavJUeiyBnLfg3XALLL/jJfP3k8V9TUkDJYUY57RoORAgAuhrtRsgxEADD/gBGn/iUPbL6qJ5XLaXT1CypZzrx8LRDHvv37HEpM/4yJFwPGkjSpVrGKU6FaKUxJIfuFJkO7yb096llvTnNOMJbd4JstJ/0szEmzBQDmV99t9qACAAwlmD+773p84bhU1cmyONA2D8Fjx2wnmBid8ntPvlyT5lJFeBYmtlNLF2P7SWCOFk24Am6kJSbKb1jM4N+qbbkxdaOluOIU3OjeLgXMfhX1/8zzI7oL0ZXYadXQATk7b+EB4JK4FYkiUAHg9GTSYMcUTNWowUL/x0M4TiWzzYZ+r93j9y+Rza4YOxSrAUawRRZrJNF6+jnLpysD30BxiYKoLPL089eeClCSCQv2WRSQFbo99a/m0zurGFeugsuO6rX0td/kViz6dzc8dnk8laRLVnXNDKx5sYerOkafhqSxzdvc7V0xXGPJNyYEXU/yo09q7P2nnlUlZ3mdpN08q8nWR624b2E+WfIda0pwXvAUX8OqSsfFFwDOTjzv+L2lkglXdtcPzeYn2clCGRrFFabiayEqRZHCxEbigu5t9fKVlNZPjgoSQrQeapk08NG1ciCpufRsSzlsQkk/aolakdv9uGNx7kuJ5EkokTXkQK1JvYrVDJQ6hxhCbGBLgK+4UKVrtHQi51YKpsQitr0hnKoQy9nKl6XEdQC350FRdaK4WKRdKixkxOWTS1BtEPmh6l8U0ZYb7E0LpwXngEeZULGgAsDVECyb+T3FGaQx6iwuawiNaOYqRJtGFgtJ0bCrZiufGQaRff9tfON747dRgh+/Kcg1mplF1WgFWXfkNCWc476L1J661e65WdlS0VH2aFfj+YZN40p6Uql7fwOFVZ/er7hEm4kCRMZEV6jFWHccjBOy9TXXOSHHyhASRlO8HFdLJa48+aQmW1aY8v6WlU9oq8LykpjlMK/Z0GB5euTUf3Ev6iYA0M1//ybAUAAAi+gdforWMe99Ppe32tN07GH97rSC8L7HDlv/9aN8f/8s5Dm4L4jwr5a1bMWR7WvkYkJFJgvjLVc/Nbqlm11T+dbmK0hWUKH1s2IlYuEvX0E8QgZiISldKdT4L43gz0ohndvilZL79r56TH1NGkvqQKC5LWelNLenpJSIrZub7tLWg9oji3Kl3m4S0nEt6kHrPT6pqmwFJRu2AcCGZUCeAxZUALg2FZOSZPzTRttyTEU76u4B/ACroNudj6iYNSN1XCevZnr/1FLUeBlgXzULNt1351GKtY/IulQp8ivNVwVFAeIM2+xAW4UlywBR4NgYrFq78+ZyXqyg1GS25TXY5iw1QJzfsolatiJ6l23k/lOAXVYz46c/v631z5jjoPD21aEkEaPjhFTo9orQn4HEpF8teR5T7oBre0Z0fosVqE+AwXweU3cXCyoAwLWoW2yCVXjf5m3cm+h5qMkr7ffAkPX76WMqy+0w3lJFBqfUoUiWmVriluUPrwbpNO5qeUnNcMpagnwt1rRiwLQgv7Y0FiPOXqDnfglYKkSMpcl7XZPoSmqC4bbPJi+tn4UZ2u4yaMZKR4qr8tPmck/UKj006f9+KK9pKf8NVybkhYfWCg0WZAqtecBCIMyCxjueoe+jNrCgAsCdmDGaZh5jLVbZ/mRuwKkmFLvrt8nl0mIzLcXSWXWx2NdNbx39NdjDXDE0frRPvwkzsWVGMWVP4+t/RC3SohvtGzMFU3ScflFOipkMQwqJbDmMNqXnpuQ0lvj6dlOY3Z9XgxadElP0tyKSw3hEJRzZWaMNzmFh7SRBcpvqqUYkANBBoALA2YkmVfs+M9KDO5H6uQHLCmr039ybZ0my7GKLqHnGnn+yKD4Y6ZdJi2toaJ0L3AlK4tGcz3+KN3gpe2qSW6lMaetOqMb0kohyr3Fb+oVkt9YK423rDl7N7+ccIkN0mqoUfPfz72fVCZ6ZlkoMEs/bsiSPs5vtWQV4Em5FoghUADg921RoyDjZ4s4XruiPHqfD+df4F8Bhu0aapnXuUqrd9ZR3TMW7rh11Vo3RGmf/js5Zk/5S/bStRPS014SDpNXdnIUgRgFni203LXVizbmpC/nGH1YPKwDXwi1JFYEKAFfhdUDLDntSHl2R6LI/ZgA3+xmelthopxoudHmx5DiGhu4x3cxi8Si34ssOB8mGQHueyolm/xgTbz1oZs7t2RVu24c6t5t+7d2WexvKODTPeyLLPG+1Tt/X9zsfGT6zCSCw6JWMQAWAq7AdzbEk6fqUpnGC44q+cyciKZexlPEGyGR/mV7K2YXvmoX6+esOQ3p2Vqm+lJ2OJE86hddclU0bAn4OGi1dzw3ubOMq1ndkNziFuepp/KlUNcaG4auwmd+1VEzgrJyEcS05PGnnBljKqvkIAhUALsLw6UPFGhud2WGIw8yp50HxcS+WV1Mi0t8BxRu/sZozcxapPrvF5A2XYw7e8gbzprtuf03yl6lMZ1eoeWxdWSiyyxy+xtgpJBtuhN2TgOW4OcMawyZm3bXGFWgDE/cq+MwMAEDhjJDor/SqcrH4vZjoDzmwb7pSG8UnbGRVcRMmuF17Mgdk45fuHhExKC/dMZfN0HXDVWfHOX5m0e4v3JPH1wdohK/QrPgsgj8gsFquanV/B7mtsvyUokQZ8cf3p+07M66pMpWOBABu4Y6jKRZUnnIAmMBPJiWusJGp83fYb3Jz9GMYaWxJEg+ifF9RNlf+hRltoRhJFn9c4u8fYoXFVdx4+EwtX0kicas2uBG35ig8d1TMQfp7dGVWc21db0Atx2f1jmfRnMVY93Hh7SbUMLA1kckMSCXxWxhiCpla+NYcFh0z1MiYp14P7N7H8zmZcknVY0EFgMsR2z1zS2i8vTO9JhKqA9kSkMWyXYmka/PZJ9thLh9LcWAw7jHTZnlK7Z9RGfMsifUVm56z/Nd/S+ooLGQh6K9ZwsR/po7vj1bHvsJflSDfhJyTq6eCGqRcAH0DqZHxywqDyRZP6ndnKypaLz1niXOkJ+GrJselUo6qLaH92SrGkFkzi73iZx7enSk4ObTxCtZV+hSByioHAJzphdWkUFMB4seN3FVfzWiCHerIWKGanfq0v6vhf//MjYq5Ype0a5DxTISFNwcyXFThgenym8zuF+Y7Gk0by430St2mh1XpHYVWJbyu2S2llzb1SXFZVm5y47ptsacFaQUmkNU24obpyWLDtujWAB+6Ks623jUgSltMA4dCX1tQxOcW4BQseww5JAkArkE0XU69fLObxd996g8cHRqjOoPlF9TUR47lsRFhZ8zd4RP/ZXUjnGYLC0+iqhgMY0X4UwKGBQOr76eo97UcyMlXG1mM+5XBT/LRF0oiN/Lg35+9glmF9WzgTePa0s/Ot/o4dOnyQatq2VM+8IXPViWkstQEmWpXK3SA0cbBzB3csm7Qq+vVo5b/LozTp93oJxhVP+Il5OQ7NP9ibShiuAkBAIbR90nuAbAHFQDOTur95pK/pCEn3mKY/tu0XWmTruocNJkw18a+bwrCbsv8HfDJqDqZbyf8CkNWWK2+4qw1WZo+xdOrT069fHFXRbQsQqiXWnIgq1X73e1Tg3eIT1/8KmKbPA9stUkIc+JbEt/2T/eEK0G2ANI28KQH2HRsU+Zbvo0SKdTWKsqeBWElJ8qP+vDVmjGxnIcLc8lyQnkSqh92/uppRoUqrQkmTbV/jMtXXlCsN8L00SgYj7tTsvQhABhGNnuxmCz6U1o3fhm+TGnMoTwbTJLYW1pVNxbK4XL9KkQmRCj9HFzxu7OtGHQKISrxxxYdVc6IYkopvLGYWl0WbMGaCFeChI9k0gTFEA1lj3RZZzWGJanRopGkwgS5jHw05NJr/S4d5fJQStpykDhAehRUoU20DhkUMSphuIyWNFalrbYg+c+mx1uZxQrlYGZ6cRCoi0CgAgAI5CbExToSvvzmjy0OxFrrxXPfNl3R0R3kZY+SiDAnUZBvWipFDdxcRtXma1ZDmnKNp/3eUkLdnFlcAAgXJfIFCtcswScL1FCxZX+UFiDUmq/JTSGQ3LnUqtcFqt5atfWHvOjm9ZLkgdFXpRIKVaJXLlwQBOoiom8YHJnsBOhCADAMBCoU6PUOzLvVURSNOqO+YvPnsumVCCX9r0pXsYYlCa6I2lxwfuY6lYKGMieVPLpRvVuRNHYHSXBGWRJVmhR7IcdSPXYI1BZ7c920KneVFoFaXi7pMILrQRCoAJc1oSJQAeDkpHNH9ClcWaCelWYbomBOjaLaVbuij2yLgbMt7eYwJatuaOpsVFfCOkD8c1E8qpHJiyKflYpfY4aHW6lpyJHlNvWK0lZzVfBk0Ehrvu4xAJfkrz1pxaOJTvU7NOEZkdJ/AGAgwrYkRhnYpzMRqLAxZFRJNGnTQprSHcV8lUzwkqbtoKzs2msrN7NHvyuyvCEZZVeA2U8YrgBr02tAoAIAyOCpBXMMqPQl+INlL4Czgz5dw982kRUale+gAsDpSVxMeEXBNZeE4XRgYwO4Bk2H8cEg3LLX5X8zIuXVDwBD8eGLiZcUxOzpEbyvHg3ND3AReFifBS6+AADwsE8PYDeD6onKAHAiGj4/BjdYFMCCCgAA9zCu20MJ/4LnEbQ+HQEA4DSwBxUAAJ7G50hoVAm8oScAAMSEn3Q+mjkpM9IDAADA2eHbigA33s4Be1klUbGgAgAAwDNhzgsAcDqm7EEFAAAAAAC4urvpg3GrEkagAgAAAADAaUGePsvHBIEKAAAAAAAnBn/8J9X6HIHKMgcAAAAAAIwAfXo8bp2i4xRfAAAAAAAAOIXFERdfAAAAAAA4LQ7vzAX4e+1BxYAKAAAAAAAArfAdVAAAWM53cZwFTgAASPFYUFfAHlQAgGljHGPSyXH5NMTcZo7WBQC4Owz1j1KoCFQAuDMY5i6B8CryDaFoXaVyqBgAuAeOAe1RFlRcfAEA4GGvzfuvW7j5JodjKvF6PhAsDQBMgafqeNwy12oEKlTApwIuDdtWLoH/DDRbax0z8Nx2fHOXzbIXf71OQ30zzHQaYCg8T8+CU3yhAq0J14YefKVm+rUWzfZQfXrFrIeE2b94UQBOBZ+ZedZnZqZYUK+z1AkAACfC/vbwe+b/GNYvxkVmFUm3YjIEAJfG3es7qCwbAgDAZLzvX9y9uXLwRxTzU/uD0lCiGZrGbL77ZX/9kskQwCguMgrcDXevhOlFAHAW5ENW2CJ2D7qP0JF3PMJClCZxbY208MkOO+P9j+ECgEfg1iTLIUkAcJkPZH5/6NEjPo9Wm/m2+rQUsqRcaj7ns3LA/jC1hW6HZSh+183ydJVXmisXplFoAwCcgUU7YqakyiAMAHOHqHCUcd/h01fVbeHXLDHjQKacO/tRepGBLy+MLQ1XLkXw9qjEl2RAra9hY7isd0eq4Io0d9/jgW0B9fx+2Z1vvkEys3KW2i2TLhUb969lsaeXAsBaCyoCFQBOjKsOM0a5KQfQdGsemyV/aVw+nqVKZWlOo6B2Y+/CaGKspB/J/FK+RIlszrZgvI5//uVR0xdCmPiKZqVWsyykVFhqGPeCU3MVttPN/dErbeZ3eBWsFKhZsS7s8Xu9j8/CA+DQsUdtQuUUXwC4zdAZjj3yoJr73e06zkRJPtRzbvSgWI0r8nL8/CHPNYOovjNS6bOTrsNRMfnahrQ8kFRXHEJJ31yRUWxlo2gxwJ53s6Arw6IIywafb6LH0utXPfZO1COHtIWDWGFl7VJYGpCexuDsZUNb6uWI+kyhfauLI8GlxTOXE9lYi73+YlobbsMqoQR3am/GLQAYg2D2s9gEFXNoPAcU/W9/frmGkUwzukoRB/FKGa4mEszsY5tMuZBhWX7//jlFS+6IWel7TIhqGNdmDK6ZdrVZfcWZObdj2uztUlwKkhYSaqXuIlAxBRdSbrEFS4GinpB0Cz1TYvLlJo7vkpqk0r42J3o31kWg14IarL5sncTtbfnfaohk/AwXfLRlE6Gm3vEpGt+WrTiQvEzWF1dYJB/kUlhpuJkHwmNZv4j0SNyuL7rtSXhKrHQhABjFb8IV/yNQXMk/xalh/u+CC55xyqQlL86zI4XYMC0rWLGUWbVUFdncNZ4yalJdtH0ZBvgsoWhKrlRYnIqmOUSpIsuNLR1FColaTMqZtPBQpKTSoiUQ/R2ct7K6n9aQdkW9iasAXQJVXk+oCdSSPq4mYhOohTWLynLGAIFqFtRqnVUyVSi52of1R6vnijFz+npN88KXOsLJCzNMTK8Ox4wtwd3rO6gAAIfhlRnJ5yf9naZeaXoN+ubrfl8aPv+1EJlyqTHE64ujn6871t9XYf3HDfO3Bu4LJfpLRczT75un9rdlqZqTD6i64NeCdjA33EuG+ySmYJ5sarlfqFfhX9E591eDfbQH9O3xfrK3NZcpqtZC9dSBGmZHle5LuFItSbjmTDrxv5+/nBSjq6fVVfNxD9kRl9hS4W9ylP6YhgaAkSBQAeAilCe5FfnyutA2QTEaULN7a6mMXwX2O+MvWAb3z+kSk4kvtJcgaWtE0+4oHiGacIoqXK6uaFjz9C2nKPXf//sr/lfI/RRdJO165tSd+f+KYCWmJNb01jdfefoLsdnflXWaQhnVZ+q3nCBnIspl+Xpoc9tiO1DHVFe3gpUZc7Z+gqxXsVfDbBVvXa3K/+7Qp+0h3k/8ipYFuAl+ld2a76ACwJVosMsYif0m33/1zvFfMWS/zp4WdeW2kCv90utKa3I/z9T3IoE+V/TdSXqzS6LdS+yV0U9VfEPZvRA/9wfJpyJ6026/ab9u00rzVSRShoVrUS21dyJTdrfcZvueozDSo6OsOSVuntE6kZyGFGNSjXl7taI5kmYjVlTZeYrh8/Fds/j0wpLbQ5j894+wC2fpCWXVEpAer2/F29zO1eVDecgUKfSUb0aSMgV/GaoQAM70HVQEKlRgQIfTYN2rHxsE+9wHzf1eM7v5sz+GtpdOcldLPn5aMFEkDXPSTw4GlV5xNcwsyFLNhHrBlJZxrt9+wy7k2DMVv8vg1FOCHfrwL5C+QKHfJrZQ1wqMgU/Jiqtfce46UxD+qActaH4pUx1rGeUBoCW7+UDrzjzHhoHQhs+qeVx8AeA6iG6Fb5c0bVLVGbPVoW76Ak4hgZaXhtsXR9/2rT8Pu3znl/RbKWfyflFj6tabrTFabw20eamLlOV/wfW6nSwr4h97ErNl148uYtXRt+U2bRO0GcXgW4+0dEfzgkHBOTv9Xdj3/bsSV5nryVQkRC3Z3UU1op+DMTtSAcwsMVRhQYUKGFDhRCizv/LOQpvxK1sj7DXcCRHt5+N5PMm+U0rz99f3H4b0M0+73XlurkM3yWrfWpZmf+jX/0yZO0s+rS8Gq/i3rdLkrmyJLvvl58A65FlIfT/P8cYbtDQhWImDvqUPJ13eFWIGjIENbhJDV2vSNc3TNDzAyXDLLNcIVAA4N9voOGrOW0tnyBRQ2Hy3J1+vCdxB+rSwya83xv5c96W+K8/JxNUdt+shNEr9PlY7OsFkwUbdtieEMsfvZrZTPiIMqKGWBZgZjFJe87Pvu3OluM7X3AyGZCt36c9vQKOeHBroUY7VCFQAuOqbKZ5TahvpGtLoGYnrybhxNkHjlzArEVn8/0Kvz0TCtJtQdcOjzWzyuVWvsiRPobGlXM/6RkRbwkKMlcvxukWgE4+afJUdCkYb6aeUKu9eSTJSZZo185pZsJjlIVnpWHMYNSXV1xazu6bV+lt44s8L0Ie/1SFJLHIAwDB+9kjNddbvm876/J9DTFcTJrp+5Oia26PVzWoDFGp0sR5eDFA4XVif8I54tyb9Ygzyjr5yPkYYs+XEqo2qpi1K/MkGqVpFCOUr3JuayPsyruXJsk4yldGzy0EDW8eoMkAeT3ShB7gdbuXiDhZUADg1uYNl68w+2XQlRx0ZjoZOYIbFNcALzsnZMs73G0oSTDf3q/3GkLsNMlktJfp30N5kOenJC7zVyhnQ998iYELESRJBQ9XaJBgD8n48xIsdrPiFlut0qSvyvcG2cnL4psThLK1xBCoAPOElFQULP3QQHhbTZilTP60XXfjEJSUjhz6GQhGjHIeCxjyRd61KSxIvP1vHnBoKz85Kdw1v6XdTbVdRKZZ3v4765I6v7iC9yERQXd1v/chP0crZ6PTcOIooGeoNPLPl5EyZVzvSG4/b3C2cE1C+DOfkKgPTjXALPQ4QqABwBQJjSfpDTiQ4QgtecACoFn37ivpXNGQT2dSzLA2w5asc/e9OZaosi7jkc4OhTXN74UQWhdw63TfJ1uaxW+3LZRaqQhOujZkJDkHe4nEDzngRsudaeqWa1l4KpTNXvu2+wyeN0cKSrRXzVSIpNlnvvlut/RxwY/f6hjK5eP8bilp39nUoc1Ji6Nd40+ZDWOttwqKOPXIAiBly7EUnfAcVAG5EbP3Lv4SZWzuj0K+7zdOlX9gtIcklNPuS599tmeA28E5B2lkVf6Hz65GrfutPnZgGnpCRmdecRWOgv4SE1lFy66oxVq8Ivs25cedj+JZESphX2wtbV6B6H8t9T5Of7QZULfnt05bfAhW/dVmMK8pk31bdjsmP645B16f25Ax8ulFXKOXH6fbUpnYwLBHaInGf7tg5BW426AJAIwsfqCkCle0cADCdZDoc/0desc8veEFrptd68ia6kA0aGpX5YU/s265b7UIxyXKsoWTP9iV+qzmezbuSpvz+/rs5EI2ZgHxLykTNRzo0SiRY0ZBrICudXvq07n6RptJQyI9cyV/l3CuWkmTff2TLOUJRkvvF+9T8JkskJbHVsfTgLGs5UkVX1gDUZOqVHz7n8ihSqCtlYDrVLEzK1M7lmmbyhyBuwnyhDgCuqOiOG8UAAHrY5phO+m+2N1KdciYXfOQuVp6eV/Imh8mnnoGBMvp3PY3syye6vU3M1+dyyfok1GFvvVTrPrsSzufFf+eB9JzplhVzGD+kW2Su1HF8aYdM/yGVv0cPBFWcPQPS/cFyjRS5EKi0BCNWcNbBwuZRY8v7SrrupPW86K4oAknCik+SpebVjh/XeGgIV9fDgizrq25S2sFYUX64gi6RLNQoWRLSsAxe0Y3fQVdoEXNcSZxqycNMGjMMZ4Y9qAtAoAIANFOYD0eznnBubozLPIrJus4euBYmyXs4lSslHUzVghiqE8EsQ/qUu5ppKYx2oaoZsmAl7dSkXSVtI60z5Fd0dF0pCB71NSxo6h0qqfiwqKmUFZ8lEfn+XKHpuqqeRnVBwXWscyQRmlq+Xszkgj7sFNafbGnXFxqSEVJdAiisV5mGLylMx9KPG7Egxfz0ukw/4xzuL1DpQgBwHD9R5XYOP6Z1fC3gnHEvy5LJmLLdKarNpqx2CneT3MssuMGMWpR0mjxP41PNUiYJoQfqWraQGiEreaC6f9b1rJyd6rhRicm5++arVvnVJYhiyuHVBm3jh4oYrfg2lIpUMlaQoa1LEyVFK9dl0vH0XKlStz1Xxmo3RVVYljAMEnA1EKiLpleLNCoWVACA07JDoKqx9UrwTmnrx6i9n9CI58qB/mhWEKIQHfT6arO8CeluBW2t+0ajpxDWW5c6pMhMAk3WgLX8KldKWSsZEetWzB6Bqi10yfrRqiqtK1JaAKmOk6WHQq60lmzOVRCo2UJcCGI23DM9vTLTvjkGJ7SfIlABAE5MJk4WCVS4wX6pglk3uckmFkJ9sLOw4aeaBIX4trlZXW+V1YrY/K5IZEWz+4nVX9KhLYmXF35CCZp86ii0r/erx2q+0phM3bEYWcFGLGnX0z2Q0AYW1MN5jaWrRCoCFQDgtKSScp/ERKBCl/UPjreq90bvW/eXh2pVsUn6KXnboR01S39lXQIuDQL1cNzfd1DvJVDpRAAAI4hnds3esVJcjNCgwnR+IsOMsXrsw6IfbXnUHQp6XA3opk8Egbqmxu8lUOlDAABDGHjMB95uUIOZ/1V5lHsE3fSRnG/bxCNwi9L9b1G6AABgIH8l85KGG5+MAbt4UtM9qawAT2OKQGX6BAAwaUDtH2C3kAzSUJzyM/W/LE9oOropwO2Z8ngz9wEAGA6n7MNccAK/Lg9quwcVFQLYg7qKNStBuPgCAFwD73k/w0zoXwBwUhienlXzUwQqXhcAAABX470E4lkKuTK3b7vbFxBE0BZrcItqnlN8AQAAAC7Oc1wg931vCwAaDk5etDLAHlQAAAAAAABIYA8qAAAAAAAAnIIb7UEFAAAAAACAK+OWpMohSQAAAAAAAHAKUTdFoLIHFQAAAAAAhoD161H8b3UGAADg5lMKVi0BAGAH6NM1OO/uI1BfxxIDADyDv9H7SqPecfllRgEAAHBV3CJ9yiFJAHB93FIh5C4mxQ7L79YsF6odAAAAeLFs8R0XXwC4Mh/p4yYOoxWDo7tojfnJ1XO1evnl+ZzGcDyTAODJMAQ+69UzZQpBJwKAw4cwPzUBX7vjMuNevUQ90fnyy8VfYW/s4Jr5Rbk/vo6cdaQ8cL/wzAUjeDpXG3IBro1bkioWVAC4LPOHzSuaAQ9Fq6BL6NN4bdjNM+8fX37XvvbtRjuRn67VR7HV1G2LeIXqx6kA4BDW7EJFoALAZfFnUJDvsdtf7V0zNcPrW+UM+XPrInJnmPYvEhCz7Wth3aKRjiaq/QsNu7Af2vtZIFAB4Mr4uWLju3JYejFe7aXpp0+r3dkrqLgg7E+37GzphSfCPShpFOqxnH3pCwDOfIovIwgAHMbcGaL3N5yB+rkxJu69Z6xArzb1yOwuL/nyDBzMIZOPp1XqmbjA0ALzoL2X4Bapujmp0okA4DCuZV66HcJ5OBNOG7pop1nXN9tNe+PyurDU2z/9MfOmE/fxG8JYD3A0q4yOuPgCAJThSNISXnZJPaDG9mz+XfXt8cPwXTu6x7Sav/+2gtv3nzNz8/4FcBpW7mGYNMYyfADAiVfVGwRU6Uih3wDaFtn79qZsD1J8zRm+rzXlgKOirmFLnvN14Nub2e7bsmfmmKcWzgmHJC3C3cmCSh8CgPO+nD5fwWhxTRXXEV1lmTGbTf0OSg0MMKYVStejCDIDY/CakVI99+RvtiCaomqkDnXuar7PhPHEWQMAgDK4+ALABfgqtAETz1CmRdEFejNPp6Ij88ubApVyXNCK+f1RxnzjlzD//kfKgJZIJYkgd69/qm62vd+KFCo6qMogtjDDe/2QwhouGsu1zOlNplxo0NvvKlaLqC6OoNBECmtNw/qx2LrHfT3V7X4g6klohdAXLQYsZ0ifL4bnQLs/Cg5JAoDLHd4oXmya7gversEP0XRV/2aKq+YpvSiOuD+H382sqtg9pZQUxAwUMpxnLfdDlv5Q8lRssGqOk7UBIV9N9VKXJPbCaKkXm0zpSqaKKR37o3psF/xP5Usl328xxC5ncUk9q1lutzhXFhOKT6tcyMK1QiraWNFUnCZX4tIDrtz/Ge3MPaV0yVAnDT1VT7YlTGGRDi4GCxNreK0Br0l3AnQiABhIMMNw+wRqMNtN5kzRTMmoUNWJV5aMqmvelwrKRY2qRJ5MpiqlSsxqIi6eLlDLktKuw7av2kqGba0oaZDc0Bq3WVDjBoEqNr/06iwsQ1SzrGFe6JD1cXEVQq5ikzzXMqZFpNS2WJ6CRGxZgyqXxKRDi924IqgrUXUsMymrLDtEsGXZz97tCrHl3a7jUaiNBOEf0tPAvPTynHpLwY1xiwTqFBdfuhAADCTVGGMWUr9DbhxZNLVJL0nTKmngDmdJ72S+UcXjfMHoJ02+4qhMFSbMWd0YI0PhjRVk+v3PepYDzZIEkZYUDDHFFRg5JjcVJrsQyltjkCy1LZd9Pdl1zt3icEkVp79KKclB5NSFOleKq2QrL+euB18rpdzCpQsNae4aqfShJXgetmp2jV0ia0Nt/SEZjEx5LT5xrq+q0qdUyFX2XG1XUTcA7byfpRX6lD2oAHByBLthNJlpGTpjeRiqspoZ1mtXfef8q2e2ZFSokfGj+80SphIK5G/6mlCLLBaf9GtZDlsiTkVIP7pNzq8lnSiVquqMKzJIPFObVa3rG9pFnhxUlrND07eUgd/f4qpJKcQUtkdPXJsYmsqv3n9yrGn4qHdjL0YbjmHWBH9hXNPQYk8kb3Z1Vci4ATrqrR9BOEDmKzk2P/DbH0hUgDb8rlnELv5bkioAwB6Gj5eJPs0mMn5gXAK/e/zwKdRbJ1oEYhwsUuRafReijYtfbjCTnFJXCfybYgpZlL7jLZ3m5FtNbXEFktjYkfP4t+TbO0wQ5ieZe+KJ44zzlV4u/rn96MXnaG/mtsj+4jFH1t5l/35ztZWuNj/lhu4lLeSZAub1G3mAmGKSnixV1PbrxGCctD/wQoeHSzL+7Qg2/H0EKmMAADyW3NnNIFs/k8HXBDoPu1c8VMNHyk+fFOtKacBrwTeGLtZkIdZGObndLijUjobpspyXfjdPvgPZsVujBbUSaQVFTda7U9l1YfcESTK9tc9U/JrZkG/PgamIebxfh/icP+EdNfP3d0vscZDk15EPhLTE0faQAEDGjSyoLHIAwPmHRsFsaEnbfY0kfanUx0eDWbIt4flD8r4UDPXp3lgW0f3grpQuGrQEFRYbwnjHMMQiWIlG0xGy6miLvN0IbaK+NOGMysqYYBxdwYSamuP1yLzZV11JtafL1z1AWlossK3naz1v8djgTKAn0HjXexD/DCvI1mtAO61h1QMyZQ8qR0EDwEUOkmserV5+fGb3sn4K30axxtBQQp8catI/incbfdWzacoJ5ZT7SbvANRiLxEuvOfmp51TmRtJ2tY5JvZiN747nv/SnTi20jVatBde3Iv+esR3lUPdhS5tee+MVcb6pN2+tK7Xc6ufCSVt7mbmeHcTFCpY9q+xBBYCLYDN4FNkru3YM1ge+WhM/N+P6Z/MBJKORrRlJTrbrXUsLhlCKTGleRfZnfvm/LKItWj12VO+lEry0F3nXTtTYddW4NbPxajRE/HpLLH0aLXa9LsXWBAqFGMiv5SJtPTwZZ94nrNXPqReTAJ4Gp/gCwOXon93IXyqYzsF6LzUGxSfiuvGHl5RWtnuNJV4J37WK7g3ZUjK6K/vCrPmQviCc0Pq5sN2iBJUyuH/qHp7N3FjPnTZ5oRylh/9PsA9SKPVoWg7iFi+o23f3j2/W56KxtpapP2QnwB6WuTsgUAHgIvym/H7vYPubH1Zi8rsGazlyd8gLIZGoRu0ZfnRlNX5sdQi/mZxGdTVvuGkdWo7O0LKqeTa9IfNanZl7N+dbCn7gKkt36vMD1D76dJonpLYZGgBOAgIVAC6BUVMaFepfPIKFpb7d0JjAHn0qBOootG6qKiX0MiSFsfTWxJblvYo+K4rpo6pSNJl1qV6vm0Nx51bEWtQHT4rbepK0j3J/htNYv89L3XQ3VtZVNNSQwgf7bFO5XYyr1t3CnOi5GlNd9p4v2cdPI00DtsYImgV5CnB/gcpzDgDnRhmlGhRLIe5xc7LOqL6z3y6RenyWP0HKM/Z/E8qSbNYt3pjUZbWYwdk+xhCHUO/hfs4pSaGPb5ShXwp5bx1v1HwtSrjwSDDhlihfXU+Rz4vp3+sh7oiFKXP8+yP+OV28N3dmN4erdZ2+2rvyp9xU93SH80FbLWLRuwsLKgA8CjdgStjkLzuCprgiJ2b5sko5neNfU7F0tb0nhbsCe25BmajHrOw9necSlA6ZKdm2O5OJdWAtAdf+HIhu3Z//a8l3exnz86deh8a+jgrqV/oDh6ZyDCM96qPmPWKaK9jh5ycKcGf8IoXKKb4AcAm2ETI6g3E7EtM2hLoGW5rhtJhf8uHRnKkNJji4M/zNnLnflQavUMVzLaiu/o+bhe62Vs9JQ6ZrpR/UeyamYoot6gnHzZ796ji9+a9/6iN1oC9Fw69VxvSs8XNEPzy5vxN7d5y2vId8oEGaAlwYLKgAcGp+a3ev/74NEB8PPWm3k3F/YuBtV/PzzF0TlZ2qLo3s9UOYYuV+gZ+TY/NcXfqsaC3Dr5qN3R+/npmyv6U4if16+0XR2LL8znTekMHvu4l2x0o7ZSvtom//e/8lfZzydeV7ob8YI4zynW6jbn9cYcUY1ytGnyVkjy82GbgRqTQV5vMQ+WK+5DWu6MG3VPTmw1x1fC4nvga9qf6GLFTqfaA1l7HEhDolTboQAAxEMdO5PU6qwZz7HUJzDctTUfRpMTJtE2USVxRazkCTKTKW4YUMx9fCNFxDIbWaqeZZTURPXa9Lad+btAku0MG19OO7orrM/mgpje1lGc+5g5+SmgiVs5BAsiCT6HChA5QesLSOpS6Tlk4SqGJfDypLfEAqCGIrXd8ptn3SVtHKTB5GWuNQIhM6oakQ+b+jbldavTEOh9HdcXcOl4vUJ0sbptRxraNG8gftXzVXcCcQqMtYshyFQAWA01OZRwnXajHlE78kui0aVW2Z9V4hz6mk03RUnq0CmkAqqD15yq1FV9OOal1q9Khgk0KNhUmTDk41gBZVqF/U1heTaVpriIIp0sS21JJpGy1ISfMUtHZWHfmV7GZBGenStYZwb9S9KytT1cLXHmJLZPZnQsludv5sj0JVOmR19DKsyhQkbZp3s6h07QNxFpj56XU56ONMcAp5ikAFgCsgz0xKEqkYUTK1yWbpcSSq2ipNO01yV/hZmrDpM34F+ww6vuJ3rw8Y9K4pCV076SsH5RmrpjrKAlW9YjawxXkbUC+ZWDaK8EK2WlY0tIqplTy6WnyIhLWB8qebEsTHpWUJpFJ29Slq6EVdbV9ZF7LptEIS1UW5wqqMQdPKNZp1YGtuLc+7cJH56XVBoC7iTgKVEQAAhlPUUL1xOEuczQKxIW4pCbNFwRBdy2TYN9VAZXmgtRC6EFWUTWnqWdBJciB7gHRGnv9hWLowt2xVUWe2rFKzaDqpKhKFQGJ7VTSS3CcaVg1My09ymOa1CYOeylIxatfOZ6K6BlDqdoYE1AdIWimTBWouN2uTzBECtdhVEKi3AYH6LIWKBRUAHkNuh2kRkQdmrUnEDEs90Q1Wj7vws/f7M9EWkRYm/j08DWmr3PjXehrFm5MWK8rtJpQeKuljTaeEod1ei/MegaqsMim6ud3sWEzemsrv0q+KX1vftpy3yOA0y9Y+FwdJItMrpnVhSn/kKv1EdjBObiwIanFBrnUBQuvX8bW+tQE4IexBfZZCRaACwGM4sUBdS1YNRyvkHShZHWFw38P0GuzQOt9wdStmpoV+ykxRtXVLdGeuWxY/yvpYVG/KHGhTqKHSqUnaIMqhTZ82magek7sb1l68veLDnGQqNBOFUSX/bgxrUVpfMWZc0P5KJGYBDOcGgboMBCoAwPEClRErm9yh26H+iHQIi9P5AWYyzCLvEuvhdISKHjNXH7WKI44fp+sZcHEQqM9y8Z3yHVT8xO8ErQn34ftRz6JvIwBs6G+Ac74b/PxABxdc9cCeEfHKeADgdLglH0H99+/ff2uShetwzjkIwB7cZ8DFUBjxew0x4QSARsZtvAYQ8PSoR5mpcPEFgAfRfvDKM6juHQS4I/L5Uufq+9M8ioeVNnGUPmUtAkAv7i4uvgxKAHARGK6krxRSK/BIG8EpXQfc+Q0kXx9ABhGYCHtQn8WckY8+BABnpedrJo/g6KNfANaTfSvpdA/AvIwNfOJxTYHpIFDXsWLtDhdfAHgenP2lwRwAnkU+CzrZEzDvKykjl6T43CjMhpfTIhZ5liBQAQAA4Mmc+FuZUz0bxn1na/WHh+H2sK68hlU7HxCoAAAA8GzOe6T3eXMGcCAI1DUgUAEAAAAAABIQqM+SqDNO8QUAAAAAAIAL4xal+9+idAEAAAAAAAAiEKgAAAAAAAAQ4e8kUE/5rWsAAAAAAAA4tULFggoAAAAAAACnUKgIVAAAAAAAADiFQuUUXwB4JHxXHgAAAOB8IFAB4IG4QV9W+8YzROgOjQxgFH8dk04JAAvheJuHMUWg8iIDgCfg5sR11u+RDzI6v6I5cxFPmjcFNzvD72Z3F6uWM3J3r427lw/gobj7JMr4BACnxo0YrsLxc4xsGxXZDEbYd4dU+0TcmTO3KsMXM+z/+pjvmQP5ZRV5fTP1xToKXI2zrtzeGvfPr7JdY0EFgAfiT+cudL4cTZ0lMNcYwVX6zHGmN7fz9lX9cpyZOijSsWW5S2eEs8I741mVzh5UAHgiI/TgWE3pTz7HW7aOChruSFk1KYnQtf0MM9A1mXBTojlFhQIMglXNRfg1UxM+MwMAj2TEu857/6RXpn9IhV0giwnX1aenYeuY7rI1meecNSW4D3cfgyAGgQoAT37b7X7n8dK8UYX95e0KEvpQXvUxrVIGV3ewBGIRZ7+b/Svo0KzkiUUp5pf2sliNBlUJALATDkkCgIcy6MTWkUdXnvyQnpE1dtYyno7y4TnTz/C94vE6TdFFz++6c2j3P/rR6VCLDixqdMK8/sFQcCC4+K5jxeoXe1AB4OyEky1pHtd2bmcWaibOH/NSvYdOqfLACe2rm+qdyN+iN1zmhLAa/QL3UwUDhouVTd+uT1EdACCBQAWAc+NKnwqNJ7Ytcx2nBBlm3vueyzlFLQjWEks6OyeDoo4YWD7ZivRrkWFT+AvhOsM8q5Z2MFQaa4PKEcQPz4UkP10VbNBRnvWIIlAB4LL0fSQiCiWbYvcff+mGju+6jTiKupKOC+V3jw+g04wgUsYa45dPc3XSZT/JZ3Loa7gxeeXjIK47a4O+BiRlan+E155pBmUY7pO/N6az1ixu/QAXxS3a3o5ABYBzI37eJJnqNNgLnFFT7ptNpd97GBXZnogi+d3/hZItQFjINJpQWfrB38cIr2aC5+sF/JN2DTsRC7NoTYkoOjxf6sj6naRD9Rw7L7TU7Fl/d8crmMI//xoqn5XIJtXM10wa/eT3fpxUHJcaVnnS8NmQWF1rcA0Xcl/7vw5acDnf/ps+u0o3XrSJFgASVrljTEmWAQUAZo5U3rY3VY9o+65XprY27eb7bUJZzprikrTLL8dC2a05DqeoW43W/YKTdLIc5MnL7ZVHqNwvtYt0NZ/2l+4uEYZL1G4hsviyFi5qIjGAKl71elEyrOcqqnTpaREETCER6do3VrlvZQpKiM0+eVCrfrvYY2gX1zuEOzK8vR2l5QfpYvkhUqJIGk9sy/ePhR4Z1oL4zGd5svYUU2SGCoMngjP4OlZoVD4zAwDnx4vfkfDBf5pno7rVZdzXJgZEFOZYdSoMK8KYHXPWXOXNJFXYN4/NNSl8I0SI4/NTlLNaNrtwjWbf6F+/sriafaw54dLdaUVE9r7E+BdaSN2OqowDhLFq9+yc8SiFHMQmu8J0fp1az5XhFymYkIoQtrVZ/gbKcNy05MppCUXdJ4upmDXtmhrGRRWyaG4MJwR9+iwQqABwJQS5ol1oiuljKPAVE8OOFLqI5aimUK05lRR9i2FGtuxq2diWAYz5e9V+vdJafCStdJju9Fn5z3a1Keli/Jueb/qG50hkRWAWY2pdCCbgcU/FeIpS/0tHAQr1WNedZWeCnjwUFerWwZMLUrBo2NRibAM5CnA2ljyV7EEFgOuQTIRaRVoi91SPvN28oo5yd8Dir90o+lao7TWWJxNX5aeULR6WW3j1/l9GpSWFQLT/pf7zNw5zYqn8v1vy/hC6XmrVtflLv9NxYsXEjtBRgKh0aqv8RRAbxGxzBqnsyv7ELWe/jInVEke9hYgaSg71ku1S6XuQ3Wp/2OL/tlASbfhnmt+8L1TaTs9qzYj+WUuqN7XkWBFd82FzbVVjidtQm2qLR89udMdWW+++LI3tiFWAxzLFgsqYciOmOM4B9FEyRBiCF+5pdMGsshnDEq/KNsRp555sGX6pZ6cSOlZotkQs3sDiHblptxqkhqRVXto3uiyr5gLGCnlfT90C/n5Iq0iusp+K+iBm0xfEkAlZzwlFjLuMvghhSza6uxqm70HJhVLpqYkqOf3VbC2W4hDysmsQSX+Le8aWfmERMPhVMPX3+j68fQ1MycKjYTr6LHDxBYAr87dhyeAmp4c3/9gR966chREl/32Res82TOlcp0C2eglWJ/hNeZONQ4KZdt70RdduIybScUv+CZv9sSkY9WItpKWmBcVRVMktTJQvgfaM/0csdbFE9VyGHrKx6u5vKDkNYUGlObdR0P4sJaNJGhHSFOBUTPmU+yoXX8aXG0FjwonZZyL5bRXcGZ+CO2NcgRdiXvz+bJTy126TO+v4JLhwRr6dO70Sf5HMLJXkqZk7JVdyIPlwVx1qfcWi18ScKjI7GDSbz8vRfCKbah+yPoY+zUfYuZuiiuO1h91uwWAG8FwZgAUVAK5K6F52uqWUyea8LB3faK0badrdH1enpVk0LXfjz2BhHWR076eukHMb+THeDlMRvGx3mrLNKX/+G1bMkZWUOyhbbjLek/520taHC0DfWcWiUZtDkgDgmoRnbOy1P+gnuuyJMHXCHUx0vIt9K2RDfrKzYFxqKovPp/UDVhrcJecs+5RMUuj80N8BQkmqWNnqOUmVucPj210Q2d9WtCr2MCSSD63DnzOfjtQQp+0mf6UHG87DXBcDOB0IVAA4P2YX0p0ngw6am+c+k3vxUsGiQ2bbKB362c57stvoLqz4U+6YOO8tzbr5T9pHjLP4MbhD5oXlSM65LvFuhmQlbEu/s42UMeqz3LSv4Q3B9XOit4IOrN+OuNAhIHM6P6mH4N19BOoRH1QAAPhj5HAzVJ+ORHE27BJzY182ykknTS+KQWr5lC8et9NWN59q7Q/WpwNMd6FbuxszFVG25vatFPjzzwj9YbnKPogUN4sv9BSUKsAZWPMoTtmDesppAgBcl0FucLXDOGdIt12RVss912AsbiCLThvdIWuG6dPXF1gs36kZw9R0lJOETjBTz4vdkqnNOLf/EKjvfqjw8Nsd+OqZVYO71kEdNdnwqx3wFQT4/Vhp2ebeKH+LR47s17h7T7MGgEvDIUkAcH4Kh/G0nJNTnfCcQAjMp33a52x/jMlFW5RNn5s8KaGQaCrKkHLPPGU5TWpESw06QVeJNfkh3j/w78RMfga6d65vMln6dmpHOmc+aQumcvFxHk4gUOlDADCU33QknJn8pjvRjMUycwkPF0rMd4HFYfA3TFvuVWbLI7M1aqyuG2Y6s7FgCmrLeUWgtxvjX7cunHHvPcvLvCFz6NzAj0rIvL+9KWR7+r6egm8ZKqt3pDEbCht5T5gQR9k6Vc8MFCrAzZkhUBk4AGAaNYFmVaiJGAzk7rbob1e70oz/lUp9wrglHMnQT1RfvfPOz/c/copW2ueJ1YoIVwkSiaYYPDQRnlVYeelB8RC05nu2QO92Xz7PUad5/e+1gw7VGCWvitm4fRVZWsvwY+yXGgY1fBSdyTLRBDiMJYZHDkkCgOds3P8GKYbMjbS1+1IlEn0A5ndHMTZBr0VxLZqQBan/Drd5F6SQL6H4v8Nmts9bbGr2e39ynMo7nUC1/wLI6BVsfCf9FIS3HDn8K8aWzbDFXkEkYa7txfsrffUAITl0yztXy5ccSdyGv8ovP3pRw2XRTunIYSphj/E7Gl2KsZBs5WfX1Vx/oYx3/zpk8tjEvwtlqXW57N9KJ9z+Vd7Wm/36eu7jc8rTQgDA05jz/CNQAWDWQCVORb9nRbY4wSXxtTqrFg0fql21JTbNwhLN5AxxK2l1eLSW81X6cKQWpOBfKl/KjxFS1FIsxGqFVXLmpLzoeZaLmd4fylBZLipnJUWX0otZmE8yhbiSUgb5rBUx6HbZP6Wq/6WgPMpxPRcRm6R0vI/vGFmiaqgkIrbId7Gl/KyEFe92jkdRDFFkpb79u/f7FGUdIjT4CikoSZR8L7Rr2tKJXMXMMx/HoV/fgqs6V1SgDwHAUFQdFph12uL6TLJysfelGm1lMpxM3DsVknBJnUdbaRS1rWpTuFZwZtRNJWIgVZ99ruZrFlk4CS1n0XTY9Ql0QeVUZJVaj+XUi/q4aRUgrb1aGumPedXb47K2VRqtSd4ocQk3Crq7p7lMArX9sZcxr/8U7JOlFaOgTaM6aVldqwjU8rofAvXRIFCfJVCnuPgCAIxFfTF1vLG8Fji1PNhjlCRf8JcltnReGgVXhdYRbw7NnzOdmHr1mtdj8vGF1CYn3azna/j0xck+pL6Wfjx/byVsevvqgMo3680u8aUA0bWsiLmTpxqX8HvFBfbTt4Z0fb0YH0dtSxxKdAFaNL5U+vhiV99WWr4eV62v1OtFfUjkpwSgDvp0Ddpq5WSmpEkfAgCYT65l7cFGjdMF63DZcGwxK9uSFxX+ZqYxJVJyg8yMO7KRq55OWORMhSuNqZjrioYms9FZs9aZ6ixfzJHdPtNc5R4AKbaalBwhKl4NTRgt5MUlo0K+SrbrLDJrGWoW4SxP3pxj1UKtXFAikvMkBvhFLIVhnglwHAhUAACw0jlXUw2UV6XDzbs/pazqZvudKSK4YJkSvFLjK1KGixbRQs5yQd1WHSMl5SfGce0RVJZ5PUWpSG1VqGdpwJR+btZOf9+em99JX7XW3OJItHPBm6HkTaAo8FJld67KwfXhANZ13EagMnIAAMxF9fq1hWSUvjldyxBrukYkR24wCW32DRjjTHA0y8aR4xak4FTcYGy4Ku4+idKJAABm0rnJkSNGAAAAwMiizeK4+AIAPESf9ltdAQAA4Gm4Ren+tyhdAAAYAPoUAAAA7gQCFQDgcny/H+FbpCayFAAAAE4/cUCgAgBc9J3R++JAqQIAAECVpnXwcbAHFQDgMVzzvFAAAABYdHrygo2o/zs+SQAAWAPiFAAAAM59UNJ/dzrxCQAAAAAA7gXaYg1+0ZeHpwhU1ugBAAAAAGAIKNQ1LBJ1HJIEAAAAAAAA93XxBQAAAAAAAGgFgQoAAAAAAACngFN8AQAAAADgvHDAzQoWHZGEBRUAAAAAAE4M+nQJflXFz9n3Si8CAAAAAAC4Mm5FolhQAQAAAAAAIMX7u6hiDKgAAAAAAACXxq1IlEOSAAAAAAAA4ATyFAsqAAAAAAAAnESkztiDij4FAAAAAAC4OO7fPQTqImMwAAAAAAAAXFnRcYovAAAAAAAAnMI1FoEKAAAAAAAAP5xfZ0JFoAIAAAAAAMAPv/BYIQQqAAAAAAAA3PaQJAAAAAAAALg2bkWiCFQAAAAAAABI8bcRqHxnBgAAAAAARoC2eBb/W50BAAAAAAAAOBmLVgYQqAAAAAAAAHAKwzV7UAEAAAAA4Lzg47uEVR+aQaACAAAAAMB5WfdJzifjV9X7FIFKHwIAAAAAALgy/j4GcwQqAAAAAADAxXHHJ8lnZgAAAAAAAOAUsAcVAAAAAAAATgECFQAAAAAATgvemc9iTnuzCRUAAAAAAODKuBWJcoovAAAAAAAAnMJyPSNd9CkAAAAAAMClcf/uYkHFTRwAAAAAAODKuDXJckgSAAAAAAAAnMIvFoEKAAAAAAAAp1CoCFQAAAAAAAA4BQhUAAAAAAAAOAUIVAAAAAAAOC2OI1gX4e6TKt+ZuRGO5gQAAAAAeBxuTbJYUAEAAAAAAOAUTBGoWOEBAAAAAAAujF+TLBZUAAAAAAAAiMHFF06JZwsqAAAAAKwD78w1uEU2VAQqAAAAAACcFxTqo5giULG5AQAAAAAAXBe/aGkACyoAAAAAAACcAgQqAAAAAACcF9wz18ApvgAAAAAAAPBkhYpABQAAAACA04IB9VmnU80TqJy2BQAAAAAAcE3cv5sJVJY6AAAAAABgJw7D16PAxRcAAAAAAM4Lhq9HgUAFAAAAAIDTgj59FghUAAAAAAAAOAUIVAAAAAAAALjvd1DZyHwjaEwAAAAAWAiz0VXwHVQAAAAAAIAYFOqjmCNQ2cl8H2hLAAAAAIAn4lckigUVAAAAAADOCwaTR9mu/7ciUbgSjAhw8cGULixUD5VyxT49v9UcHWNRzcPk9wFNCHAp1+opyTIOAMA68mGNMSmrHarkUhzRavSMh9XK+VeqRiwO/F4H5y4q1GH5bBF3EqiMAwCwDmFYY0zKqoYquWC7+YlC47CJfIPkK5d7WF78whys4+yGxUEdEoF6GxxtuApcfAEA9uO3WaX7/Js3G9yUT1+/Tg93J5oUXa7yAAAOx7u7HJLEUH8jONYbLshnDPJ///j8m54Ml8ffIJEz6VM7zGouD014eTxt+Cg4xRcA7gcvMhnPKx5qqzoPol7YG1eHf0b+3kMeA98NONOSFcyHQ5IA4Obbqy5yzMlhp4Wefe/ZI8/GqO0j1b1Qx3Vvd0ivsO/q3OYn87JlqL3bOgCf/nzii4zccBBPeBGcErdtmzo02Smx0okAYCWXFajHKYSzV8eF5tED2NVHL9mgxvxOf3gvMjo88sF6cNsAnIoVApVDkgAArrJIvOrDECtnik/y68JEIB/OQbUAAKxh0TsYgQoADyTzZizbXBd+niX0iJx6IrH+OQZ3rA/obb/1mFgOL1ibcKeVicNO5vyWTlpsmP6AnmkEgF3c1tkeRHDxBYD7UZSbktoMtrvll13P+FZORYjLSReUIToJ5wd4WDpLtlqGd3UHoTZjVDYnVhxChctBgwumXy2+pKCmLZLvJEqFEVY5gnwJPUxtFz/AZfang4bYJXu/EdrkkjzYgppFV3AOaN0DG9WHEq+m0VrSqYawTuSnWKfjxIPum3cXbcxJLitl1MYpf+wuZoD74+6TKEMBACwlnL7khiurEIwW/ts++C6kIqWhaldd1MpX/U59oInwPPm2yXoaRJViWoBwmppocSXPkhCs11hx8UCgqGfNfay2BKLWSp6YZPiuSAUha4V1i0KFjVghGXFzEEIMpWukgj4yxpT21PCG31pGHqp5XaTaK+z++N+61YRqzwpE3F7F0auw8CeVMIw5y5nYWP1dFABWK1QEKgDckGDKFc3XfhObdIZTmEltcdmnfr9AwayqNFkr6EDzpUbzi2x0TC4WDSDVJBpyrIQo6WNNUtrruZB+rZxFPSunoudLjcygXmTB7ZqWYPSJvJoBtYV7+l9JSLQJ1FK2ihqmTaA2LHLJjrT6023WlVKIl4Xc/qCaF1mMUQWpNz+L9cW6gkBVCoJABbiuQGUPKgDclZezWTSwbrOn75Wv06N0jnogHt53fQLVN4xtmtZvISLn4cp4H6QQ5kyYQm5FbNvHlk/dg/x+4wrngWldFtiqOQmxxRdVvhCzsY6lRAxb67T0IzOXkW+nUCfY1S5WiLucGWf4/Zd6zwwjXbeIXYRbukRmRtS07pDdmHmGa6m8f3A9um5PDef9rlr+5BkSLnxjahVlUdLJuGn2J4hroVonwgKNEqQQU3qp9MQBwIk3rAf8d3yScCkcAzxcGPfrwOEE6zd9UTXhm1cMXclm0ce/eJ8u8ut50X/+m/C/MjnWOJAb1Vr5qJc8a1ljCIqtww6cGkx8OdZXpYml/Eh0C98+9C6l1FW+PUjLRj3yuKdkOCdHmAzav1oR7pWfhDTor7oE06G5771ytWVt6wIuqa79PU/K8C+V5PcsP4FJutxcvyGibLKU4xBs7BVDrBBvnL9AIzZGJUTR9eL/reKZzLhOCaL110pMUQhrG8K1YDq6DCyocD4Y3eGUY6NvW+8rOJwJFou68a58Ry0ZL+VQVqp6vkJjz87VzdBIvP0o6Zn2dKQgqTk5sdRGjnm5oolCfCa4ug1VXSZ439Nfytddif7OVkGyRORmLu1vfilUIUef5HObb1CXNdPytmIi9towr2qlGPvE1sfe+UorXq6uRoQM+zx5FxoF49v+pc2lz8uknifUxauJIrUWmbcroQW0jt8/BAj9a6uUjmiTOlHWAsQuHWQlqrhiGmEIFMyd4Stcy1jyYE0RqPQhAJg7NJpfVa9JVtuYJDi67RnUmiZNTfo0TaPz/d2Qv44E8jl0OLfONZ0SXE5ZE9XZFuMgeSFjSXhBexZyZiBrmOzv5n6mJm5TleZ0tiAfXZeJrIZ6EGTggAds7gNpuTnvd3GBIhWcx7hjncnHzrdpTNYR4afa8yWWhuGhllr+MOYlr1tei7Gbq1BcwASA84CLLwDclo+DlzL9uNhq+4pJ1M9X8ENnHKIjqppYj3pq/H3LgGh9FLxzS3Fkwef3OT0e31DT9R8tiXiDI2Wl3Dua3hRxIofUPKnGPc0O//1JtU3XYzL+qty034V1/LiSrWHkCdXKKK5VySFde5mykax/dIMjoYkexRSBSh8CgLUIk8hoaOqejzTYuN4phOn4S4y1BaNmS6VtxqTEnzW+mv0hCrxCU3aiiAN7xyjc9hNss16GuV9qkHg1dJ9DgR6qxZvhgCnC3JWcnnHDTci57FjSmKC6WPG36NAclcyOCDq0555N+UxdAU70aLAHFQDOjbBFyu8bTyePtiP2hVmTelXOzJ1XadwWp8GvN+jv7zgGQwQzdx85cVtssjPQmpyWr5Vz3Zo/cW9s2SnU/e6Yk+pJ2b48A+ffz97h/IoVO0cHPr1iB29OJop2V0wWL275zIC+9HaEhVND0y5i0euMPagAcHr8eeJ2fXfMKsHbSPtvIukmtAaFagiy4m0hN1Dm62v00pQ2FvY5fI6luVOYfCfFAps/CdR9vZeJFe9OYnBLKj9cONgX74hIOlPr2ZQ7oKmZugJILDp8DAsqADyP5GDNecnETBjmI7PW+Og/0Ub2xfZk8pN1tqin0HFuz8B3cLs+bUx7ld4LaVOoB1E81dbfY36Xfdu5UK7uIp9DfM+i44vEcAKav+wLY7iTBRUA4Mwo5/b8LmZ0zcBru6VGjPp/HyH58/Ed8OIW4/hYEv/+/5ddQ2J1s+vLFbE7r9X0a4fyCHuUX2UMFc7OnWybKK8e4jtWwaRx7avnLbQ7SKGOiEuqzyGZPIVyix8vsXu9XZB72frwwGUbL+wCkPM4f8EDoXNJaLYVLFt/nCJQT7OaCgBPJvvWotu/BfP967+T4Ktyu4NQeATL1m1b7koH4njFvtxQij2KTjxG5Z3466OjPZPy3HIXnVk6uMOUSh/t/N0lLxIRkW0lDH/fW8JRFfSX555C9+R/fHe1jy5Vl4R3T+4kyEePRHW9NeJri2WlXd+nGZRhFjTxErRPcU+Hz8wAwG2Z57VZwHy+zoAszHhr5GeapKazagzBSbi75xTFCEaV37mu01kLeT0k20KkP33cW/FGKZW28Cksi9peRnOAOpsC3NezQxN+cuxROVxwzvSk+fon+t9G0EHRivF8z3aypIQ8eTonGWTgIBCoAPDgN5prsgQmUzdLkGoq2eE86h2zFKr4QQnNRFOnQ+n1HxkaTXB3TmEbk/cnm2FFHpTRH+PTaj2K53ht8fcp295U/eTFg+wP4bIlPmFBZGcH0w2XzQH9UZVc8tUIQNzcABrxUTXPHlQAuB2hNJTnXD/Pte241kAHCrulmmyoUdyfyXxokSx4X24/e/HaHr9YNWD6XZhvMh1lL+Rr+0DGNqf0+n7H8pT7l7WgLoUaU1pytH1TW7gQHcR7o8+KItTx0HmEtFEw7cYtSRb6xGAHzfLWxpbljCx/xRw322N/XbLr2DZXaCxrIaNy6M1gaiDxMLTsqU+u/kru46FocyuMQ0ajZ3gpbN7tZyfZrAHg9OsCCFQAuBuuIsTEITexaARb7dJ7fZ9UFqZS4R/qNrXExPrdwJlO0ST1WoyvpNNKERmLX5Iv2xwzKXwYKL6kTpCdtEsuaGfNs/A7/w2mxXGNNJRTKKQwqY7SVySUmHrYa2vWe4uxXkx9SyTr+qUFlSYsYijpx13JZjHXOlGUmiBuwmyZ9pNazxtNv2pq5dUT5GerLSLz2oBNof7+FS41hf/S11Sypbcs7Xwd7XVJqkNt9Gn4xDEA3FEYMwLcBk4egOuR+6rKl6IbkiveFp8lB7+AkYUym8tpOljLmJxGe66ES+IU3ZREGCa3beoZMGet4NKn5bpUmkL6ddvT7z4nxZS0d0MXCy6qOQ6SjGb4UYWXaj8W0Nbkcxuk0VIXZDKooVTSpGJFFuzNbSLlOEvip3OsnTX/Q13KEh4JredZKzIPIU7nStHlrSg0qbEJ1L6tl881F0NrEq1OmmsETg2fmXmWBRWBCgCPwqb3MouX8GNLMvo00JADg41BvqF2fximNBFt1Al6vgp6Vw1ku1DSWwa9vUOIv9qyZvMTJ8ylQD2SPhEXFX1cXuooq9pWVVVV2lJ07SswwZPiutd5+oSSXJa0EnNJnoTqqMj+1SRt0aC0yGLLViFPSqevPECVx1TpjwjUe4FAfZZGnZMofQgATosy58qmtMPSyaZrwRy4Pl+zpGAM0mMnDENaa8YsxApGRFVBiLHFOdMXG4wirUGHC7fmekRMpmjDrGr6mkjyuwSq3GSa7rBUl56IUsIedZEaUNVUOix8xRyXBWrJgrpdbjMS57E0t4oqUNvXBvSxq7iWIY+5JaFtGiWMPRsuBg59z1KoU9L8jNR0JQA4J38j3wlHqA6N3G7b3YLOrYGq3bdoEFZFrWTbFguibz/V4vpcbhMKaiKlaIS8VaVrMcR2h9X+VJLtksaQ6l3J2E67esGEaTagfrt32Jy1hak8hXcz6QtN1pLEHaLUcfYOE9qSTSmisNtkPeUjXn3/MFRVzZWHQXweastCplQA4JECFQAAIKf9pBJVpHUlP+YVtVtnDMpCbqaN/jyX1aExN68TsFpXaxL5Oav8+tLIHXCHrZOp8d22bgEuh7tLmgwrAABwa04gUMEgUGmhAxgtUAHg6XtQp3xmBlcKWGgeAQC45xsbDBSdl2Ei57LWA8AY1oyj/y1JFSCCtxoAXBMk0NmgRQ6HKge4LW7R841AhTPg/Z9GRacCwNVgcn7uiRXvleMegVUzWXgE9K41vObnd3HxxdED2qHLAMAV4X13Fvx7Bvs9v/f929IcAQDAiQQqrwQAALgt7Z9ZgcOgcQAArm255hRfAACARrDQnZHSBzRhIhzjC9PBV+VZntVzEqYTAQAAwNGwcgAAMIxbWVB5MQAAAAAAAFwWtyrhKaf4ok8BAAAAAACgFfagAgAAAAAAwCmsqJMSRaICAAAAAMB+HNriUQp1iosvAAAAAAAAXBr37zYClUUOAAAAAAAAaAQLKgAAAAAAAJziIN//LUkVAAAAmicJOCgBwCNh8HvUd2YQqAAAY8ZvXp9wv4/RwVHN+9Dx48FFB4CD33mMNQDwlJP8wlHUP29+h12vD9dSaav7GMzlsUtcdGyA0+PWJIsFFco4XhpwtoHyXJ3SPbtKPsU/V5ucHtdUaau7GEBDJ2UoALgVfs0riEOSoAzvGjgP7nwz9eVZ+grEhxb/2riOuxiS74e7VRHcowoOB0J/edRrHgsqAMBO/HJH29U8uOizQZ/enkUGiuU8tNjQC6Pfsmpf8awiUAHgKvjTzWhO49fGm/uepB2edr6vQn1u2z68+AAggECFMmwtgzNxTlODf2yNfJYM/C1PvzpBq2E9fQj+Jk4knUHNxX/SIAHwbBCoUIa3AZyKcyrUB1sfhqXsGg+2fRxUDdzLwaX9APDXIMGDAPAEEKgAAFfmHvO1Z54GXCvuez1m5CLAXfoLPJC2w6/hbtDyi+CQJACAS76nyvm5ll0QA8WpGNoYzO/hfNPY9v7Y1YM/maPzXxnGriWscltDoAIAdL4FnTL5CX3XnKj6TqkD3bqsuWLl3/YMFaWwdynrKXv5Wad+WsfXrt2Gdk/ftqh9NFT7Y1IGgFMKY553ABjMW6RkUwq3a+TZpiu/uXTLpEU5Y9VJJ4d4w6RUn4+K6/9Fo4B+USmhkC3pBSFeU1Mx1mSekNzEHS3cnocRL7CKvSapnKBFGiVJk9OuxYi0y0YRZ37M9L9ncaJH13Wm41sqOm+t4vBVutglXZP0P9lvti2qDdsUkz541p6aOEBDElGoXcMKrAAD6rMsqAhUADg/ymmmrnXscUVZIOvJHQK1fi1fz5eSd60TLGfLlSiatwvK+0G4aMlAobGsE8k24bY1pyFQcyrFD8AU2yY4TEavZ6nRlOUMY4ajzp3JsaopT10GUVaL+rKmFbGgAzXpJgXUpJXyuahw/Sq+KNV9cZVFScSiQfOrtcUhibyBm0fPvmU0Q4aCUFEUzpTf1F+lPH7JrcWk9QogUNeAQAUA0JBnZNtsxGhPUC08RYVkyJauJ5PoCrJGl67F0kt5NctNdW4dWFaUQMVJsjD7a9HHpaxZXi/peoMwk61Mfqup2ItT6hu1iXRhFt1sTioKEstyg7oKoS8YGXOmyGMlU19xLT59pkIWH5eo4yUNVFxlKgvUQmEsubKNFCq2btfeifxggRp1qaR/KU0b3tW58sOs9RqwZeBZCnXOHlSWOQBgINEcRNCnv6/PdIw9e4arb7K++L2F4M9soM9KI+VQCVEN8E34FaTtHVNPpfRRCWeLrJRINvl07eVPvkoU9ZGkUtM0W6ZCWecrNNhH9SR6Qa1J/Up6oZ5h13qpkoTLS9j5EShXfiLevfdrq3WlIMVeLmS4EKRalK1Pql1Szdh2IaiyyllruqG2hjzqdLVVuqi3Y/TcngIhjriF5ETqSetjVGEghrOyypAH/+4kUHnSAWAcgS0jmCdH4rD5G3zx3DBWmoGs62SL+hVJGpMwP8zMucmENA+i5jWI6lMtf5fjLMlT61i6/eo0dH0OAqmqMZd7qYLP7Readev3mze3i2Lvq/ItVltP+qvauHrC2JzsKJqkIfTerY6LPbtbaeSGz820JEn49zXFjLcp1B7TlLKcET/fr4rUIkvFm5T/6DEKYuqQKr/x6Fvcd5BoENH66uemQKGWW1BriiCccaAKqzUeEOzkQQaMkmoM6VMSjNe2ENlA/CFeV9w/3APcGbco3f9mRMpzDgDDcLbhUXfqSu/pvz4IUbRquYjk5vaDfPNWXXkk0S+ZzTf9XyVryXxZulfMQPi39594pNZSjHTVnKXJ1yilo/7WkJdAYP6yFESp184//yK8VukqsaCz5DhOIm6vn/AR2zb61zuaVwChS2xXy3ySV27teSTVnL+TeKXkkn6SpR/2UJtkrd/wl0ZbgfIVgVBc2eLSBozP425qpDztYYjjUrEvmPOrpGJzGIDzgbh4VLVPEahwH4yTPYBpJJOidgONCX9MMFVnqhNh2wy5qnYDharO/XyLjKomrN7abdrcG0YSIP2pCPPqymiZmPwt8eq/NQiUyvxesjTm4q2ggmUjX5voyZW22PFdOVvJ5SxOIbKa5pLsyGGAIP44dTUWa8UEj6Sale7RLzEsGtc4xqStZcWahLi4VgxRfqq0VwucDOTpw5giUBE1AHBKbPPQiS9Ck7lClbHb1R/KaNtchKIEaUG0ehZEr3R7Uwq9aBVsjF5TNk0OxnlapYBpJx3ST3WFZs6K9EtX3ira/X011hUlO++45zg0ZKr9o5qcH/9IZir2ILOnsiiwJ6Lqb10gamAVKKFT7kH9axeGhVvQeegFwHSu0TWVgbDTf/TveRSvFc5aanmGR9apG+sj+Y6mOYPVEC8H1S0L5jNr8s2EpSAzNrjpTT4shSax3cfQzP+Oq/rLs+qnXFjVsefGqT3LZE2316kSUbARvI3UYN7buppp+ZTULNEAcDohMEmgwm1goQHuNIjaxtmZo3Fb3Kn1o/95NB4tNJCuCCsnmZrjaamoMFazqbeb/RbkKa2WHE2UIx2IPDgPL4k4ptq/eRKjcyPsvi2l1naB9qSwifCWuOLP73ZkJszQuRTe+EUrgCHc5uAttyZZBCoAnJkGm8a/E6FNgk6VydNn6/ZziL5NpFPazGjDHpwD89ZVm6rI7yp8Uebcs0fzWlqX3j132UeCHIVl3Eah3kqg0igAMBfJxfL0dE6WCoW0zr8slkmTc2IPx7dRX7f4VUD7Fl5ndCQextR597Se0I3RYNgpR8QzdNyuI3h2opcjtYT2dPUtyO7x00/Ugsd2wEu9SZ7Jtd72sBMsqAAAw2dQrn52pmX21T3lC97k9ThiR2Lx/tePBZlciv4yk4rebX1pBMrF3dNt8TOkwqdHe/l6+RaKoV8b3Mq9Zcqq45Xj6lljPQmNP4tJSkV2RI78rX1bjv1V9icPUbzmKC4zTMFF8A5FvQsEKgDAMV5hs87TNKRaUsTpsSnVGG0F2GHDTEje8v4C0+DZE5OoK43pr70bnf90z/jSdpbpr95Lfb39TCElxKhDlN+RNWc30qi2zjYwx4azg2cw2gdBL8IR6hsAivAdVAA4M+ZJwsA5xVzPspJ9qvlCPfbCYabmfDXnYj3u3HPttlzmOyvf/xmR8W8cQly16F8fIv3TPZNszs0498+9PwMjf81JzagbeIhtx1OihRRPePrjdXFHtZ+D1kOb5HO8yrXw2QjSlo3+lgTYuPoD+mPRWINABYArkJ8hGk1XjF9frpzpabyw487Dpj1uRPjASKPEnU/l9r3JisfYmNYgzK9SdV76FgHGWKpxmS+0M3TScM7Z+I6DY/2cmvLjwwT9zhjhwAWKhpo9/CDwpnQaRah+bFTjsw+g0fLhKshAoALAqfHCUrjLzCbJzRW0ZfXWt0mkaHIJXYwxlnaxccAFZpI8pUI0mUATJluJ9MzSVhKKrmXF0w1Kek5F3kX/Jh4vQvxr37cnzUH12MK0O6apr/hFy12UiJT8xeYxPV4ARfJQ38YSeqotLkOXlK5sCeb7P0VvhOJihrawow4c0jASPnadvbIQst/im+X+93NTLOJ6UDRKiUNJ0k5JzqQ0vql4dShM4rvYUwkwC3efRG9j1waA5Th1kClMLZpiCzd0RRvYrJaP9HZXmSLGp5xoR6Ym2nTLmTzlTOdVQSJJCml57S+C34qwvM9PKImwvS5MUqsyPWeW14vWMFLm9Qqwtv6viL6pvaJEsu4gppQkksZrtHBlCkvNlrBKIP2hx9XwQAYRy66caVsJOcmrPo8suSbKUTUDem+JHunQcBLlLEtE7XjOcjST0qD/jA28Be8d8fY8QMpDKhfcNwcRs6UON3FWrdUBx3K9I4eC4ezKuDsdkvQ5Nu8GzQIA13GTMe20rEQWfzfRDxm1s2iaxvtvjtOvn0hmBR+ESOfIcn5e/zafSCOYd/KIvemu/N+mxje9Virlic1aWgWYX2CJFAraK4lIz1ZcY2H95LeGCxGxlDHO3/46UijEes4j+nYxQS4rmS3HFJ2265R8ley2xUejcO2XyMg5mFpseyJyoxR7Ri8Nz2NbVylGpsXU0Rv3B2Gyeg2up1Cvmuk7u/i+Zko0CgCMQBtM4q37xiFn3MDkrTH7Yg6/ukaNXjCNNuVs5FBccX9TM5ieslA3fv8qLY7GmE35Pj10fqW11rYkk5C+OfuB5Cxebd0smzVexQIX3ZXK7i0DO/fs/ezAjRFF2aq6lVYfTuEnLUxT17A+s/1U4546GfOzR8/gYnODJANh+Cia0wboRncvgDqzKo7nHQAGEjnlZVqnecD5hYlsQKJXbX+GxdCZr59mFIksudKvBYdRxUmt4AEpi5WiCauUvmifCPMk5S8IlJucO5silQcFS2mrX1+pkxSLIqStNX3BjNZl81XN0eUGE3xWlb6hm+33ZUvtJkmCeo/N60uufOXBi6+Jv0dZcc2pfAPJT2T4BPRY/6QOFiRgHvG0piqORm2UFq9cbTT61KIpaX19prJyA2DF3BtPjLtXuldvDgA4Gz069EzxWzPxIsuJRT5OKEDt7fqZUbsmSR3M5iX1NrYQufdprCP6UzOZH/3Oti/J0C7bnDbDlxqsKFA1maS6+1pzVQuciP+kGQriTU+kInt0BROHyRafLA9FH62rKcqaSexOPmBlZhB6EoWCj9xWdgdZcT8u6Sx7g67k7pXuxVsDAADu8F6W9NKYrF3VymLXtbEYyMo7UG81qZ5EozjfKq3GNFlfL1p4OMcpluAeq1NgP5c82eYkL8I9IFDhlPAmAIDrMnEH4FUFKgDA9bjqCstV871coc45JOnibQEAAPdhxvuVky8AAKACJ8ae6xRfuAs8WABweXYeNFuMelrMAADwwV92QnrVfC9+x80RqG7qfAAAAKDOEe8h3nUAAHBP3KqEp7n4Zp9XBwAAAAAAaAVZ8SgX5XkuvnhdAwDASngNAQAAXO49+r81yQIAAMzm48sz4QXrOcUXAADujluTLAIVAABuyzQBiTIFAACYAqf4AgAAAADAeWFR8FH1jkAFAAAAAIDTgj59losvAhUAAAAAAABOwbTvoAIAAAAAAACc4juoAAAAAAAAAC3g4gsAAAAAAKfF4Z25Bg5JAgAAAAAAiECeruJWhyTRjQAAAACgFeaQAP+e/jjOSZc9qAAAAADQMStlGgkpjl7xKIH6vxmR0oUA4ODxk2EHAOAmOEZ0gEf7M0wRqAwsAHDw8HnvxdV7SfBXi92nOAAwi3sNfQBXw/27lUBFoQLAyMHRP3nK8n0/dEnwBVpQajLxtpu3YambGuvoUM6Yp8dzE3/X/mKwGxXgobAHFQAuMEJ5fa7j7j3uhIN0axFXVI0hzUWz7vx1NzEHxTKescsekaebyK2l49/+GP2xCxqtA1jcSbIVtjM+O3AM2L5W4W5kQf2DngQA8waU7Id7jjiXMyBcKsPzX1NiCm6w0BsqY+bViVs5O8CtfPBuCGdsy+bO7l0htJugtOEyoCsWET2U1/7MzKsL0Y8AYB4++ddNRxwflsvftmSrcEsiHlXyr0b4N5L5+nSlNLsYZ3hGVqLr09df7nINCjugtR9W9XO+gwoAMHGC5mPd9sf+tNybfydjT+EWzG+98Z6TZG12c/vL6I4z5gnmNI47c9ZdaRu+4Wa4KwxRq1j0mE0RqAwZADDxnfS4F9XtFOoa86kfu6JhSGpSKl7+yw9wfXrcs3VuXu0xrFGWPnU7wob7UV9/000BDuNW30EFALgav1X6E859LrjoN7IWp2w38+9a3dXchY2Nvhjz3i09n/CfJAZtEDpCs7tH7aE6XasMrAZ7VH8lcANT8dduUOjnhO/mB+BWJTzHxZeRAwDGEhwEw1vqeU0/46Xi525sPKKbns8jvcKyZ5dBY2k1+AG3cgb047nacAe7wIIKANci/8BM10an2jxouyGyk4lftxRju9gxk0EZhJw3fHv2Y5osJqXU1zu4/PsIJLNLvwl15WwpLgnmpCrXq6GjXDku9lnpn5++m3la88UG76dAmzwKBCoAnJl0HhJMp1x5Mlf4YN7HJid9Xk+L5q3fhO80bGa0KCFXyUIhqQNew2l9fXPrg/JkCwHmmazfKihJSP/SyHalaESR5euAbW5aClGbWD/9uEaD7Izs2XPyoTKt2inrDe+iIakpZ87r0WfDnPC4X26JYVvaigbr1798TzsFwyGch+stMt0Dv6rip6TLQw0Ao4g+8hgphOIX4IWL+XCX6cz8UtmB07VGV6BUnA5lpEcnfDbTWYuo5Kwo9sVkFB1YDlRIyFY3ST26qkG+UDHaekKxW6oJtXowJo0oL5CoJxf71hy3v9WV+X37goIaoklBlJ8ge0dK7xRyJzZvkH7aNGLi6sgSX1YbstzzymmbyHNQXF9rGMHiW3+tnMbwq3n9GQ0bJ2+A5Oa0GIXCwBLGfMAXmlklULGgAsDVRknD2TDRpff9Le6d2+9KIqJ4U5K3UQrSHJ2tZnoMeFGYMK7C7F9UF4VJYXTdWMe7jZGudSYU2XwNfUJISVrRGGK4CWIT5XOYSK0ef74AmkpSRZLiKt7C9/5cB+6xcml2feGakp/43+pDkVbyX3P8iiT0l6odN60/wZmjpe4rIYyZSH4dqyPUcSDw07A31l+lFwabPJ0znpkH8AiwoALAqSnZsOpWrI++LC+0J0Hs6X9n6JphIjP66sT5lPNgHlpV+635wu/ilrRuMklj0y0Usu0wjFuwDLYm0mVB1aJTK0bLWvRzQQiZzcQiieUr1m+6DUjOnD3LSskLFmexJ+/vyNEVe8sHD6ve9X3PlEnpLqVlFm3ZTKrkam8sPitql9DrV8P6nMjq2NrwyjKJbkrPSIfeIHx3JcJiWC14lgkVCyoAnJ5sKvd7U30VjWCQC82sf9aBwBaqzFK2tOK/tcnwb6qb5iKcA9fPDEriLmXOhirKM92c1WOYkeTvb76qts2ChWJrSMHoZKquJHF15cFAbpUTLObNraHb9QtZ/k2fA0tbN7oNyCmtItuVpHzK9Z1NHPf34TD5rUrlvmeZt/7i2P6bKZc9eY7zsO3lNrZjmLprHTc+wX5xuaQPZhHF41QwulazW37m9Zgay+L3PnK2CPKBMBy5v88iqgjgNp+ZudzJ9wBwakpDijB9UCxCv/m4L5skCklIH4j/qjc1WJOB5x1i1xgayr1ct2sZ/v3gw0CiiEsC/u7/zPWCC2LISn3EM/2t0cJmi+5taUrtPfWpM2/5iJF8x6+wfzmtRZLM3oPUm2bDf3dnpqpvK+e5+F2J/9Zb5CfeoiDebNjdybda8lqRF166oq89xepTUogy76lau6bm3DiMqQ7TFZW/Liw99mrHLUSmIXfx3wLb0QRJvp4+n+ckvCX6h158hOnZoEWWsEzSzfkOKgDAYH6zVSPqBGoHXtAHFutN9aZswt3/TviqHTURZUZmsqDl1yTZuF0YMKWIJ5/qtRbcH0IM0bRWdASUxGc4JS7lrDb5/epbPXkhRLaYEMUmWrEEUVtPJ7Jch4sGsRkyT3yPUTKNMbkS1PuOVPK6KEaWrXdFaj+XRLo6VH+QtFSeevvqz5/Qzx/+pr6gLXEJfTtZcvt3DL73Junp7Fv5ArgXflXCCFQAODNVK48xghGDbB5HbowKbtxkUA+rpkX5vFOuOuGa31eY0Nmy2l6aLm4jNqbUbk6MYruS1IRlO0knyxcGhL7p2x8dxRwVyxFjnXSX2G8F/hmsG2Mw2LetGXn/I34EDP0yWNGQho1iaEHEZllK4nWm2HfViThOXEXX5U8ihrqTcpUudTe8v9MeVB5vABhMuk2vLdTkga2y77BxSHQLB2HJ9PdX5b6YrzFfSmtyEN3usKe9zdUVe5ctwS7cvOhT+6W8g9VWTXo2wk2Rr/YW7ebb9tmxs8nXrk5B1LVHs/Hd7Ln9sCfqNAUtMl1bFp4v+dd4/6Tc7rE+3Uck4KqVNXXzpqwlm1Jkogpw5k+hckgSANyMbdo2ZKtaPamc9JSSBovVzldBPbT60Z1inG7mZC8vc1pjavxNtbWd6dyz2KDd3zcr/skJN3wuYKg7VWEGZPkQc5ZlXwvdS3zCVncs8+55V0uau/byi07lZX9jxY92jaUpOWgovjY4qTTNrkhQqAAnBoEKAJfga8Yzc8AszWxSbJgLzc+223dj27ROmGHb/H398TX118OOnNsrZ+IOTCD/d7va67LGDrFFfiJ5PfhSfxhVf0OboGfFRO/smgeGHMJqYx6szJzYHsfIP1QmwFzGfti4AQQqAJyfv2lI8yAZTJfmqJ0g8tzaFMfaOManNrB9U2g/bsI3wkgjfhWi4iRt/bmbTQwNjXXntlxLEprTs9hpOmYatR7RYTAz5iL4vMxHpiZJNNRhlM3g68itDVF+FKWeXfuhdP3bK037Ut81Uo9/UM+rLD0hHAFgDwhUALg05emWeZrUoQFD8asEb/se5IQ5nZPnt19Di1F7HDDZzMRCeVLethuuTrK9soW+yhmmhAX36O+VpkQGbiP2tcjMXwcV/BAmrUw0PqthCfbk6GtCNScnycL0KSg3fH921w5lcfQHDk0Aj8bfSqAyYgDAU1B87TZfyjUbwnS2ue6iDBQqRFUgiaQxG8Zbs+THNphh6+zo/hHO3HtWXcbs9Nx/nFGTp3x/piOh01ZfhaWBbZ93a316OYl6NNEjUShIT6asKMdzjejlaQSREXwATFsBTgYWVAC4FMfoPcOG18IMKZoEjlMglnllem5K8OexUrmW2cwG1V5fzSE0j8my3h1ab4I1O4m+2YIbBRg8b49IM5qlMj7x5MglFxpnR+5Ib82z+th/FjnsEbmhQnuqztIehO/vySd3piTera0tT/HeNADg1N9BLRzkBgAwh1CI7YvI/X3A9P0PNYk5tO7D7Imqy1HPzRjot6A2N8fpaP1mSBmN6x17sMTQ5PQrhW14uPS0jJEE3xEWQgxREXtqveqX2xif8IHW9BnZj2b1bYn/ECfhYSNORzPFdYJcPQ3L3xFwcYH6N7vjmQaAEfxc3LTffxcyPRnc80f+e/xHcsSMJRPBb8I0rxRKIShMXpxh87hg1iukInvYvm9Ma7Jj+heE//1LdN+9DG7v7eLLsuENaru1f0XBLGHaeoYpuj5zaTNx5RRzbs2I9gBr9vJMnZbHADdgYUTYwd1XzXnf0oaJcd4k4h9JqmEBtRFatPpfbQwCuCGTHkPUKQCMHaLSSZByEoi++S0IEG51LJxLK8/pswDh6SrZeSWyCMtwDRsyrba4IF/5MSpp+ZVpql7HUgVGORbu0iyxpVImjRZlN8m73Ugpz0fj6ISOIStpKVkpTHh/lIbUSqb+IpRfuqC2l9LQacnzfMn/Lien/mgpopBMl4tvVjHB7zZVt2XERQGTRyrvAMblGHUhQW1sve7VLhHlKRkYS4Q3ik+2/kdekmbUqLQRWhtY9EWigbmF4eB7vQp3o1TpRAAwgmzaHE69DOIpviIKNF2hKpOWgqLVJ2XVQVGeGckjdIe3aKlaWqd4+RQ6lOHJzFxcFEgjK8pwsVkyhZFkW6JgKsoFlyYVgnBZ0To6jNIuDWsQ/3ShoqxBBNcqaqgiqbN/F55ITQPXCpnUqbAEYpP0FYFq3wv6C5r8Q1tOyitZlOzp/RaBKj1baTZk3ax1yZ5hSi958UIPSqUUHh+jQi08okxnzwMC9UnylEOSAODMZCdb9B9YU3+3JZK3GkDPS57teuLNIqWJgeef+jzHE15gfsjnOdpIPmMi1pn04zfIdnZretlWmu1vW37/ovb6OS+ufARyIcffiL/5ys2BWWzVM7GkPw3ljL+h4oWjbZv6QKHAbWyVG2e0HqDaH4oxaY2aJ/Mjb0XlBDc/+NvGwzE+J80y2+8ZuQFgClhQAeDUpGv++aXNlCOZt4LA2f1axFo62f2pJUleureOiHWjrjE6VewWpl+1QlYubFedyYL6/rNmcyxcjOOKK1+h0CablSnJo8WCWro/CaU1QNvSSKYYnSn5mqG0lq+0GCYTeSFbNaH2vUcxmbbEpWRTybNJIf7udZbIlB6uGnDrbZV4hBQqv9gj7cNgkr6asSiBoRbUbASR0ygMUpVHWk8DTgAW1GfZUBGoAHBPcrlXErvnIBAawU/t+S3onbJyNgm9ajpRLI1RmlMJdcF+oq4Rzdm/f+RtI0+MK7akbzRJtZSMlHp2w+rIRXDofVrIsNVHMsttaT0iC1ZWSSKfrq8/yOaYSgI1avt6Z92K/usQYi2/q0Or+qTm8z+1EooCVatifaFrz0NT0dpJ/EOTVsbw4sMjBDAMHeoXXWEdCNRnKVQEKgDA07ja9KtRvh1F0b6Y/GiMzO9YyxAvRZO6sumolC9FZgsCQMtYrvqbrHYlq7pvLcaClSoxx1k+EvmrLCH9rsgLELpKS9PvRJbxwkJC4e6VnH6hEkQQqKu4kwWV5x4AAO4vq52/2qzJvU1vF8v1fpXxV+5ACZ6i/AWBOiOtU5T5BCBQLwk9+Fn6dFqy9CIAAACAMwhU+IFAvSQI1IcJ1P8mxdv9kXkAAAAAgIkwTb0WHn36LHDxBQAAADiadH8vBtQnb2kHOCfuTt9B5ZkHAAAA2HXqNgwHy+lFOeMhBE/A/buXiy8AAAAAaEjzbebgABIsLCzC30qg0o0AAAAACvhs7oc+nQ5VfE3Yg/owprj40ocAAAAAyni2RB4O1QxwdrybswcVAAAAAGqglwDgvPg1brFzUmW4BQAAAAAAuDJuRaIckgQAAAAAAAD1zfIHgEAFAAAAAACAU8ApvgAAAAAAcFqQFs+qeyyoAAAAAAAAkMIeVAAAAAAAgAhMqI9izmdm/nbTOg7zBQCY+a7+jbGO0RYAAADu8aGZeRZUjz4FAJgEa8kAAABwS+ZYUF+gTwEArLg9Y6afL4b9ORT56mwAQAcjnTxw0AM4Fr9gTXxOigwdADBvxPIniGQsHVmKXHwPeUmsrLHgVeXP3pgAl2L+AtTI1SVWqh4LO1lWgkAFAKiNV37IoHeecaorS9Gscp5ajd4Ry6pMz8Wlpqv7+t5RSxK38y+IY3pqFapMfoTUtaWd0dGOj4Nn91kbiia6+AIAnHikHTfnXXcAwacM7rFvb3fRvuc7Az+3kYfIc7f+uR9r8h8gLic/QmH0j+y9ANAFn5kBAFgM87ZeA+pTau5KQvy8fFX+hbPg3sSxjSjR1Z6kq+UX9kObP6visaACwFVYsU//xoe4XyxnpZckMxd4FANtke8n3N9/AAGAKzFHoOLHAQCnnO28xybmTHY2H+JllGbQf4sW/v6d90rT/OGC50qFP6osIxXqsJi06Ce030WeeYAb4NYki4svAABcF3+Zuar3/Xm9TCFncKfC+5HB/TUqaOQj6q9QYJjCjRaqLoVblC4CFQDgHJx+1sUEYTdPUain7iqnzlyF8ODuq/UKP2qZ51rFBrg0ftEjh0AFALggfsq0+8pT95vDpBx0G+pJCA5wAhiL4/X0LDgkCQAuzd8WxJG73uS4tjejH/DV1uolb7zdDz3n5P0RjkJEa2bDTtt0p30SMSxD+m/hdlPy2+blVZJAnpy5tRpF2AAcn1MrNM0JRNWsczJ6i9fUip9trEEZCv2/nrAQQSdby89rYaGGO8ZmuCKe420WsuAkgEkp0osAYP733pMBrFU7FqRjdK0nGf3LKOKVUhLhtThb21/7J4VaKuHFxiQKE+WGk43St5RUZVJ9+eTfyf3CSoAgYMVXpC3rSpP0umYKTaAJ9O+15o76qSZJVBZM9vLtUt5KGbZkMk2poz+qGeg5ayvJQFQ8tZ3zC8V8iekG98YNrUclyriitqt1L1UnCkHGCGEpu/IkljkowFAWWK8RqAthNQiga6RKJMp2TKT1kRJv14RQPkx6ewJpSha1lSTRq8LbKKdir1/hnWJS2/YIfXk+7NrWf+WW0ds+SU2jJhRaWlEpaUkQmI1KtVoRdcpXnVhWc4wZNmVRXYZoienTEdorLH1hu/a+IvcKeXArEKUcCFTrKld9jce4jmYY2OLL+wYvKbvaHJbZFcDFBeocF1+GBgA4wrvxO97kXm+daQSmtk9k22zQdcT1CaVmTLuw2XNSG+Ccha20bCNTCeJy7YmoyrLthVm7uyVn9Xy7cVWpyJekPHEiTjQMhra2ikwW8/yN6vOsmXIvZ8pssHSGKy31G4wVWjK/6LLqSjwWbOkrnV+3AFaLo9ZJFpNaxd80Cs+Q9Dy0NDnr7zAcOtWj9OmkQ5JWlOSC8KwBmPhqNPEkufdvsg2hOQ2vPpleS78cV/xTPX9ZEqHpYf6QMee0Pqc1pKm5fhl6Bdvyp2RUKYD0c7Aakab2PepFrI8mfbrvhVg/cuaTwfBGMcz7hs9t1e4Y2vpq7pSa7fBNlHwYm2stvGCnffUIcwV/0vam5vpoUjGrccYyU2pLS5bVcpnqnYGKly+oCtZdZbK3lYAJFcCtmGhBZa0DAAYQSzRtzjVkC39sWBDGMFMqYsaiyCRl9P09nm8LrnETh9axMWeVFaqeBpN34JQZ3R46mca/i56IPve73nK41XOW6+iHv8DGWtqMTj3bG6NsbUX9Vli4BpLWZWLzL9ZxUBmKzewlAeX+ujVAeGCPaJyN1n/yQCJbm7z+JTyN3/v6K1jVWKUHPXwonc0guVWAvHgRVrH9AZfLXTERx/eKl9ICvvNkGPu0gW0MxTy8n+asTQDgokyxoCqrlAAAzRjnOzunRbqt5l/nDjHZSdISSexanAeYNgMcMWgH9k7N5Dzw3aBZUYN/bma85M0kWHFDO7W4gBCZcMs5G/EeDK2OQrrfX2Jb/UcKvY2Lhox+//fzjzCdrG7eSjGq3vxOY5I1gocl7UivMka/mRaORLvh78c4jXoegwYuGCSzBYW6G0gLgqkzfO5c6g6Qp/4V12GkUaZ+Fnoxe1H68/08TPlXP4CTWL63n/g4zjWglR7FxM/MsIAFAMPQ/PJ6Jsg59uADxrXI7tUWcqI23WWFas/jQYfWZ/Pu0JaaZkeTuzYfziyZ8Lch2l/12GxOpFj7RUPgW4MoJs0JBP7FsepqTt3FG0KTgaMY3bdGwhpOVG72UOtiNbBaJitW9oci8bMwtUrjXtmy4T3tggs+QhElr/yeO3Fky3/NdmtYBPL0YXU/Zw8qAMAx/E07R61/B36K37i3dIaP0G+7WPmezrl4d3bGvYmq8+S8iscmU7gsG0erFXD4DLaiFCoKIrmlPoXX1oCqv9Xp6Md5kAE9M9Qlgu0vTM0PM+JnWf8bs4yxN+eh+ljt6MWR84HXHqBlMsKZf8JeelFYRHhUzc8UqAwBADB9HOmYbPT5I348wtxAqdZ8ItH818TucdtF/8kFRupiey629u3N3serMvprHUY/3wK1kvRE374W8nbE7EgqjuE9WpQ2MhZ/DxRYemdqUCxczJKvxGXO6lcjbmNUj+LObpf+JdM1Pk5EycuZsgh2TvnGeAr+Li6+H3eTGVEDAOjYhh3NHW3z8nKFu/cfeaNliUGzGXdATLadw2mgA9YSvKEY+7PxOnpm0Zw+9uqNyM6EMlK+3ZuVbnvy5qbob7O/sSnLUFE7709TTuXMLrPi+H/e7AI8k4l7UAHKOObkMJg5vSk/jdaSTvsEbeWzsO3PfKh9obZ40BFheUNiT4wHUFO95xmw2xaKhlVeYFG2PitzGi7vlmXrsDWezt5+cc7TrwHgBQIV1vB7lZ54nRUugZ8/m3ofCWLVKb0TPr0g0x+SeDve5SebNbYS+o/KCaXkqOL731EyFxnjihsXVTPypN5SNWh3Y/7MTZXIz8J2m3xDX0YaB5rGVLLbtx8Km5X9sRvntxyIH8Tt2b0NAOcAgQpreKqdBoZzzBLH91gQN8mD7HVuip9j3aixd9dlTE3fLl6SSpL3+R9Dx6YjCzskLWlr47DIx5IfBGUMMn4JppiHg1Z8oiUEt7JB3Krn+oSdFMbhVr88Ho13NzkkCekBdT7nOTDgQBE/8zRKy31jDv4IO/vkU53OQcEefGg+1OTDxphh87nUyDY7szNUk+8PMmgT+fsbu9LHReVkgz/HLybEJu6RDdq1BxsA7oQ7Pkk+MwMLqb/ZARpc/vqlpC4d40NZW5imQ20PzU5hvfd15K6hul97DUR92pu9A4e0ITW4cAj2XdcWvzN+Irf/5TWgBFmX3aEi/aDeZTg2Kt8223cyuhb9KcYUmMRr0wQ8hzkClU4EAIfxmeB8/nefQg316JgJqLALsXsa1RDwU5D+KZsUcN/8T5rA+jEZ6s2Y6Fl9mlmuvmxSlW/LyxA+kztiGZQbOSJXT6ip7iv3OGOpRk+gqvHFexe6k4+LJRdS2bKwfzHvU4ZgtbI5Sjg7SItngQUVAE5NLGsUEdqyCr/dqkgeKarvuSpRluoJfdJKXQudYjyIzLXvkB/nyFZP1JaJWiIc89rZMtls79CFgf34ILW5gpw0ZCyVJWn0WXJJvRhxcsb6bfFSr3x/1nPXekr+RDlN7CZVXCnK++4oc27kdHNHN3R2qa/X/a68xQbPbp225V62/8vtKv6WPz/Rn6G9uKjmt9F1+0f8oKpBm8gzm/RkFCrAMNxt0mSZAwCmDlPqgUW+KyrpUo/9SknIV9N3UrnEnXtGB98duR1Ux2G5lLq0lEULU8qZMwcoIWa6nmU9Y66/GYODh5VU8j62nfYUdaSkv22/fqRkcFvlyct6bilnzd1YULZJ2eM/CzE6LS+/UsdX0kST8FJusmaRNogmFR5fEQPqhUnzGySR9bP4h21pSBvb1EwJDa9FVLok9JXGZbdq2kxEbwhnJK3jNgL1PWjQkwBgCM3zqIaINAFT0JTNc6mi8SGeMgsCVZZbByjUPoEa516USLsyVvRhLSWjv+20c3vHZboo99piknPV0seMhzQqWQ71mtRbbdXfszRRaUpvfhbiv9VkqqtJ1Sv1hanCQoOCtHxVE4lal7AXPRf24kJUHqjcVG0CtdIb1VTgJiArniVQ57n40pEAYO5okvxeP7akeD0MHfw7i9Q2toUxlAL7/D/fe7whM4OIih5nqXiz+Y0Wuzrb4xlY4K0637X8O6Pt9QnFQoD6j9V7ekuhh0uqsqGPKbhJJUl7c18s/6zGUjEL5uc+vvCv9UKTVoosrx20uCO0plIb88K0hSf7HSYazAZQWWBJ25E56N1YoZFgYd3PSZSBAQCGos3mMgdDUzybo4e0Jiv+9gk1Yg3XkGeXXu1INzdt1e/3amZeZwn9/U8tJyULarNPXx57Znx5Z+3v9/xakk4p66pj7G8Grk3Ei7FFQTqM8boVcXso8mIp5Rdjc++SfW2T+iOWGzBj25lQTj/oYU0z0G7XjsePoo+C1FnTSzaLpDcWpsnbIX2CwsYLL73atVZfuv1WdNuIE9Diih5FUxfeZUHNB0u4JzT0OhCoAAAwij5z05iEjbLwcUsqXW3SIo3jdDSJ+MWqt8VibLJlWgsXJG2bD7s1oWRFI7lLvSRJ2kLTCw2qLg+pWZWqv2SVLeWtcL+8wJFt3u2lKZbWNTe4FxNHGniKQKULAQA8VqDCednrWHoqRq59iBVjEMiSyVnJll2ETmGAokxKMMKkxSgFcH7cXdJkpAEAWAwzP4DdYLWZyhg7LDwBHsWHKVRcfAEAbggzPwA4N4xSYIY9qA+TqFNO8aULAQAshZkfAJwbzmUFuAjuRp+ZAQCARaBPAQDgNnheZ+t4fyjuBgKVRTEAgJV83uS80AHg7DBOgQG6ybPq/n8zIqUTAQAshWEYAC4BgxUApHCKLwAAAAAczUO/kgxwLdyCNNmDCgAAAABHgz4FM2wffNZCEgIVAAAAAADOCvr0YQtJCFQAAAAAAAA4BQhUAAAAAAA4LfiDr4M9qAAAAAAAAAH4+D6r6hGoAAAAAAAAcApmCFSs8AAAAAAAANfGr0gUCyoAADwRPMYAAK6Bx/r1rHfllETpRAAAcGbeLz/eVtfgM1Xx58zZCbMFcDuWfIwT/q1aykWgAgDADSlJh9+rj9fVFThrc7lzZgvghjies2Xcx4JKJwKA5TjPiuvVcOrro9lQVbK5BS8+eshFGv+MzUU/WgJG62eiDxBwS4X6vwVpAgAcMJq6wa+087oZ3gKnL5N/L/kx79OL7j29tVOyK7TwSdvrpNm6uRjtGAsA4IJMEagMHABwlqnjsJnMN1KmRpObbGgF55G5K6rJLdP37H6Fh+ukOvCk2arJvMbus9aHWRCjl6p2GMwtxz7QwIIKAACLcQdNaQ6Z345Xk5eZloe6fIDHQVpuPygi/5T2iFwTtv/4KyyLXKqSYT7I01W4+whUOhEA3A/PhGkx+98t7oDX1YRu4q5sB+0/2mSYPM1i2nncyhHdCIpQ4wA3h++gAsDt4INpVyNssLzxfHujfm72dxAW7npZ7s1xrGyjK2Mf6j2aPxPO526T/txtBVtRwnPXKhyOu8pC3d1wix5FPjMDADdl/KFGtz6mZj2zT6FKFM9VDne9Tq9LvgbT0p5CIQef3TvFHuuvMjHszfPSk+GkHbDDMsSZsFeDFlvGmqUBBCoA3JQJc6uWDVxwOil25Oc03cUE6pCPDCaPXNPjkqmx0c/vrx53R3zQksHYz6l0nne0dHlEbqkRXfU6qz7wBYG6ihvtQQUAADgdF57e+PkzkCEStZ8s8QnfMfbhbvL+8v6JXH/Ut7IGJ3ThZ+BGRYAuaPlHnb+BQAWAh/G16+QGir9Z53qLgfhRheAV4SeuRI812pSyMNk58vNfv7CMsHdec5pdpzl0IAB4CH6JQuUUXwA4N6GbVyytuhxuk48u+MSI9P1j6jgmi+DfGahSobpeEGIFfQwzeRa29Ft3qflGb9pPVfshW+fy7Bbrqmw9u4t4lcsX9DvReVLr9Y09IrrZ/kUTtUXGbUH9FPA73Vp3+EdDwsfYats3pqbnjxVjOGTZb9zDiwPwObnnR6BBgT2oAHCxMcqLRrJ80lQSYVlsxRNe9dN1muyaeuLaUa3yCN1w6kx6u35STOcJQrKpsnTubEFzZvPCaqZyHVz+4qWc+GeCPnSLamGO2zaR1vbhxWXWerlUmV47zqhYxb6j0G2rENmtYVsW1mwangd57LDEFSuwVn+GMHVtC6zWivpSyoB+VEymOoYk1fn2yy4ur2mLSfp6St5Jy71BuVYYoExPDyxn8R6ER+Nukyh9CAAmjlHxfCU0CEkTKXXSJ05ZXzOsONwwUaeXpTBjKqpaW0qq4rOkb09Hz3OjerRWsHi1mIQUotQqEwRqn7RJAwmCR6tlw2KH3sMbZ+vJoyMocaFa1CSUbHU9EUWBKkmfYrco9kuhhcW6F68aHqKqVpOpdBPrIpNQ9EqDmELUw5RWvbT2+JM0wtpDKcOlaoelIFAfplDZgwoAZybZe7lzmIwmaeK+Cr+doaLMh9W5jP39GZTkk0o4s3dRXD27P37CIC5Jofpcjy9VWv5kbp+3VzkVIXPFwsvJBzPSSoAVDmNhFizmxaws7zwX+8Tr4nbbt5Rad5diEFXaDmfbEd2r8HNzQxb6VfxAyuloHT+9ZslX5SEKb5Qf495enJcwjEmroFLRN+N82FUqIYQLzSOemMRn7BMSKPUg5YGDM0BTPGsX6hSBygN9HzjXG04zMG6icuIQo1q8hKlpKiqrGfsWRZXHH4kV6YrgxtfszzjnjdRaMrHWlX7TGkBFQASlzOqloCLNGVKnkpqEy1vSMFkeyoB3fNhFvj+lMlK+rWGKkc7Wf63QWS9lLVQJtHWBV6CicqyRy6lfSj+/5+2ktErOtk6saqvi4oAUoFSUfgHXTi2JqLbiIVqOKWpFU/W2ZzbqHuIAUK3bFXYiMMJcdCErnoz/ZkRKLwKAYYSy40PFp6wxZks0um3hqwTbU8/CVOStFwMpN8d/GivsrSlbp4VynoRmKyeuIscfJN/f+C5eguuMykrubFh960c5shQ11KdZsklcXmmIVMYZDGvN/NX8lhX1ts+1QElu93a0vKxut4crW9soZS24+i2NWj31jFbvyDrN+L6aqru8hj/d61Vb2y/Rsx4vhgUBtivFdjPVofA2CCLd3UvfTwecC1YPHlb3nOILACdHMBdF6/b5TdYhNZywZ+vr0nwoN6DGYYwm1PBPwSwkmcR6B9bEX1nNS3MSmjVYzG58eurId4Q9rrS8m91HMDruNqF+5+dCPH99t+GFL1aa0Rqq3ZasHijt0tHDteTCqCTXAcHGqkYW9bxdMyfVWPr9/TvMfIVr8LBGLgplo296o9IntEFAXmzK9yI0Eto9U8NvkK7gA5GbhQsWfSVxwf8kvSO7EoyUwngWFaBYJVtbyD1+8FAAo6ApnsUUCyrcB22JHeCcGKer4oxIdPOqRDjx+dgz87YYEyJzqe9MvccypBnk+utyZysUPBOHElqYjhHpA0vRm+EgCzvKrFnPBpGI8MK19thaLzeksS+mYJWiVH7bFSHicgDtYWiu/PIaTGwNtRmfmfScE9rlYXWPQIUyDAlwp767ucm9iC9+fpMMPObU1nshvYpV2eT1NopEBfubw22/10tSmUf6Hte5ltHGaFeuRjmrwRIbZVb8SelG9ryq46kpLneil8p4C7zJ2iebPLN4muWb6bf0WuBfO6JpVInou9dwsgsdfb61jYvrYNboZ/V4gKvjb+LiixUeAKZRdiCrLd5nLnmbZE2DNY5k+0+58/0ec8bzRn9RaVF2l6GtrhTvxXZnZtUAfPY3l9t5a8X7cK8NMI1sTNUkhzb7Y6VoMbWShBL9XwuPZ+j862dYv1W3WAsDqrQ56b1Do+VIrbxSwpZpG0RRqCcFdbGGRQ8En5kBgEtQnEM2kExV8mgbvlNyerR9bL/rmT5vI4+2yfCqf6BjFKW9avKkdfZx+i/ZsrgjNU/zqievHoobX/CKy4HJaTVLTDw1dpDWHxLLylTd4CTaAp6oNwOACAIVAE5O52RCPSDG1ZRccId2cMmQKc78WVJ0oMz7vxV9Xv3GRistO3oPYPES/Mfyed0in8CE4QauV+y1ZA+pq0MtklUjVKMfQ6jdbWH8NbrZCbMC8CQQqABwbtqcs+zbRYWIVY9JyRKyX2UoxtxKZtqSkH5xwxwq1cOB5XYI5r7STt/vFjA/0eUrCOEOn35uZ7SMkahjtvOqcYReBfeap5erXz4yqPwJ5u7q6egJ65d5fqNIZaOqcYgdXaCBffVW3f7inKDfw5EgUAHgevROG6JJVfABBVWgtcrQ9oy9Qhzr86kJxNnp1nbWdtRCTaEKc+Z1U85An48xVB9Vlv3JdHbwwxprVaeI1gBsXWKes8MnWmccs7Srrrl+tQ/WCKELuUOWAtwJTvEFgMthmj8IBwIZHSyn+v1ZIpskV8ODiyMz8oT0Csf0NJ/xssenU8nDivX49jOgdLRTVafMrFecq+M7lNG8z6hpPgd7+Vln34c7f5YuLEHeIQbXh5S13iATsyZSOB1cDzMjIzCL0gnwcEPTNQIVAK5EPgvvMLtlv/hKTJtv5ohdlZElsXrh6/hqjPy7qdTJwvT3r1nv+tPPIRrr831z/lGi3nT97Sp0JvI5VsfnY0t6xjrHL07DabX5jW052FN5+uaI0TSkMOjwvN7kAe6NW/Y0IFAB4Nz8ZkWuNFZm9tL6qJr79b52mf3SCP2BdY/YLoX6IYusFKX1PZHOIqOvm2YCrXe+Wi39x1rdstHT9Qr7/M5AkCu1aYkmvnm/Rh2Ousdv68SStO4vR3sVhO6Z9ei1X3YvCkmR2vu+P04eyz4OtZtXEfeHYKTxSiF+vdGPGwtsIXr9EpbXMXyhKVawfE/MWB694AsAs8epdNYTbcaSlFNqjcyv6ZYayXgah9n+qo59WTJqzpQLTc7NaUgp9+EfiX24ogHju8QYkojCJMXgYtJKzeS1r4vm9MJ2SFFW/FwgNNRJSDYPT03X+fpIMSbFchdtXYz3MaalLDg8K6JBb+NyXvNGidYpClZAodKDQgk91yw2hc6XP9Lvv7ffv2nnv0hdp5wXoYhpgLiCpZ4o3tI2KKQ9sjLKiSUMe5fpmc/qMP9n/Y9iMYSBWHistaEoHzqClwpT2nMw7IPMcI11AQQqAJwdTb3UVWUWyjCRMl/S1aZOQW7Kkrok3Yyp/MLpZZTfBDaFmoeoLSjUQ/wu6UHszVIIkk+7RQ3XKFAVhdwnrLRpslpMeyurnazYLSwCNZjfG3Sc0sWrrRUXt1KT2rKF1Pa/npf/IxQueo63H4rSSu4Scu378Dg3Tb5pyDkW1jiyRRpJYApxqV2r0k2FRaG8C9UGlvJIEAetjASl0QMWg0B9mEKdkS49CABmjVO6pguvm0WKPH9M3oR1XWMe+EpSR9RGXanYZ3KleVm3QK3XcXJR18el+aJcmmJJrFJIzXfzGoSUs9xmZY4uFzf5VfPkuxBZZepvzK2iSWtiodyNksfEKFD11STbak4kuNVFI0FpiZWfJp48BaUFhV+Ilk5ZeVSCyGrjZ3nxRchR7ZnXn4xaItbfxXWMwrOQXWZOew7C5R44DnfwVwaChCdAHwKAgZTm8vLMqLgOrs3s4gllIZVu01rN5GG2iFgTSuPT55GFGbwpjSSERWwHF1vmpAVpoc6u5SBijxAFzz4xICoQW1sb6zi+ZlwfKDRMrYpLiFUsmsWaliCkLO0QqKVeWVg0kS4WO7jSw9MSxnZZg0AVY+sWqM7+DMkVWRB0lac07gOlHtGvmnNbbPFh0McvWAkCdQ1/rhtLFCoCFQDOTnku//fayl5dwZRniOpzFe3aZtk8ZIx810uelir32z2oRAFRTkarAfdTh58GCyeSfz+9CxM3dFEneKVzSE2Z2ZL07vSvjjq7LxjYjFHlJdEqU7r0rXzh86I2Udu0DCOqSmG/uCrqlIK4AQJV11CxgAl3WkYdR1UwSosZFw2ELPyzV5fdCJIKuKyiTY2SZbVhdU8UqGkJ48fRvPKUP255Ryp37NaVRzgABOoiXPgAHZnuhDjpQgAwkiYNeGqOFKjP4CdF5yfzryEpXboL4vAc6Eqvo46zVQBBaKSasyWJI2qxdz6saFelftOfo5LJUSXCq78qgobIO3io0KX1GmGtpJSTbPkrCiL2l8LCi5BcnoWwnwm1X1raOGhYgSZOO3beH3ebROlDADAQBCqshpYDM816uxyTaODzpzJKnXSIDnSm4jhxuiyDChbUhwnU/61IFADg5GMjAEAXfnZMwxLw97ZwBfmRsna27ALAxn/BvwEAzqtPb6BTb1SUh4EBFQBgIZ7hdxXuPgKVyRcAjOdGI8uNivIEHPoUQIfxDI4bhuFoFlX8FIHKSxwAIKd8eCcAwPX4jWYMawAwCFx8AeDc3Mmx51eUG5XpKfg7dUQAAAADi958HJIEAGdn79cUTsQtCvE4/PmOfwEAADiA+CvKR8FnZgAAAABg/Zd1AGT4KtAy1vjuY0EFAAAAgF5QDgB3xd0nWQYqAAAAAACAC+NudEgS57gBAAAAAABcGL8oXU7xBQAAAAAAgFMoVAQqAAAAAACcFYd75iIWVTwCFQAghVchAAAAwBI4xRcAIOZPnTqOewMAAAA4HgQqAEDEx3rqUKjQ1GX8AanQKQEA4Dj8Go8yXHwBAELw7oXOJY2pabzdzumdAABwIP4+FlR84wDgDLj2kRUBAP/O12e2JDDsQw1M7QAwjjXTIlx8AeCmfCxODTM11Ck0406ZxicEMmUFbmnVu6ssZFwgi3AiFjmawr9FFT9FoDLoAMBpBlXzNMhddSAbsQPSXbDcp2CtPtVsZUzlTuDwPe1JKkZ9laZ3eNsBgA4WVACAK03sdgvxUiTYNc7XZ9zMhp/GM0248zvEZeyjtxxsYSlX7/ZXxePiCwAwHn9v8+mQlwfzxR4O6TNp0/j9SwruwE7+rCnlUfoUAOAo7uTiCwBwFuHWPkF+1JT6Dbt7OnDHq9NWyrl6lnh8Ct3jHsDJoVOvAQsqAMBIfM8mpwu+Av2ABc4RcTyYSb3GdafzmlEs7cuPXPM4RaH/MnH2YYzxBpqhyzxsYEOgAsB9sc/Tzj6jO0bOQwd+SSp/f7u+TB0z2ziFWDuaV7W7xcruEmPZ6u6xfAUHrtZl4AYClWceAABujp/uI/ubkfmxMzbsV5cH9+wR3yCjEi8FzfUssKACABy+sD7UCw+1sQi/OgFsCrCHYAvEBfyCD4VP4JwP2mQZS940MwQqi1IAMO3lFM+pwjdWMPR0ftXz9wVDIVjb0SPFYfDzpYgsNveM801ehazWz8SPSP64bUUPrcEjD/1dup60bu4yqhi/vq1/GzccMH8payOSWif7pYLbUZJSAD+i677tq+fs8s+F1biHVfyUdHmmAWD6ianJ5COck4d3e0NUlQvJQFkd4ZySr3y81ZJvGEQ1Ld4xN9M/XVmaLrbN40R5GEYflyeauYd/fOtYy7OSY+2jLfXciiF0sds8we4KIi+bGJpeCleMqzln4z6Eqq7aaOXsWObpWdFSC9j86FUfPN/2lBpzJc3/Ev0qx9XTU+X8/PbsFrqdKREpQOFhL30h6oDTuaEHVgwWgUAFAFAQpxPRhCuefVmlZmEyU5rIVT7eIWVFO9ImEl8NiUiBbGK7Hl2fpLclIk8M5RdRqj7DvyrKUctxYy1r+ZIvz6iZ5JLSNM0tr+ueUmxdcjtzcWi0FsprAAXdLAWIFVWurzoWhwqG+EaBWmoxQQp2LLAZBdz7Ym1RZpSA+3Vd0bLblob08BSG23GDPRwIAnURX9euo2EPKgCcnebRcex4OnNwTjzoNB0rh9XjcuNcF62pmGYPhchag9rv3RJpbEnl9m98emHaq9/ZLu13QnVNiWR3m8oiP37u3Udci4eoWJE//efqfbIjmfbmGvl8RY+RqxZlVwnFdhJ/09Xj3h4ptGF7pzMPKx25Zc/aiaAtFsFnZgAAcpxlkEyuaULvZzlSo8pDhgv8rnnOEmRs+2cxkU/mmmdlQZDUbLtjkpXbqTV9Zs9yUPx3kMrrz5b9fIbrlRwHBpZi1OVsOft8uTqxSnOsR+X3nNDrGgVXxWatxaXp01dM3+7dsZwR44NnMs2x/SkKCxn1yZaM7X++pAHLJV1Vkaje0F0zFey1ELWZaNeShYksIvNZ03I3/QYXnGrqcQHAl79he8WD8d+EOFnjAIBh/Obu/p/34eiS2x7j+YU+Er2myeqlJOFmh7Ziuq//1BK36bFvZHGt/C59fv5Mz3pfL7G34pjBPcjX7ych5uQnsbmj8qd+fl7JcUdZ4paREpJbpiWNOMdOicrQkGrCFX26VWXBO3KXiTaqeWd/8uMWlnKSPKx/Ad6BvkULCyE9Z6+qt+YsSOXfrEdi06eVdAJJphoOP5ezwcJrqv8bYdohCqPOaAqjdIzQXHlHKTdtXg/zywdwFdyaZGcIVACA0RgsR7uiNaqWdoXaojarv5nyE2iBUaIyiiTSTt1z1UKF5xPp/FZRcYT5C28Qq9KQ6W1FobB2IC4PyJrDlloW6zuqgnhsQ17QiNLtTyTUQunPTQswP3z7Aya0vZpm8wJUePNYFSM8ZdKVz0/SUyLnR9D18cJTFF3wkym7OzuktizSXLPCUFBfhhRrETPLSaFZ1uD6V7h3gUAFgDMzdmBMVUP4T5vQ0sxyOXOH9FyFzchNOrvXxEJvjcgTb+WyMRHJzCYr1D+bfL84CmSjPlXvl+5KhDvYjImxdtTtknG2DPX1jiu2V1byU0gwjMuEKEbVZCT92qzPd86Z1S6TWum1bKVO4UJ+DO1r8GAIc2UfdqpoCXfHbWpBfakkezzgNNAsD6t4BCoAPIivCm2e+v+WEE/l+5XtLVvljtMyqRyZwZ6tZdtqsB/kg1jIxUu/+l2ddFB/i7RjIfHt5ijkrpy4mU6etlz1PfaFuIw12RV3htNue+3AdcPtmrX8TI296GresYgW/lx/plodvQHujl8z6ZlxSBKHngHAYAaPKvI0pTwlMRqaftSMc+qc04JTh9v0pJc98yxD2N+JoP/G4Ee/e6RTqjIHRzXG4tViFX+/qWIvUPUc5LzLNDRu7Phdv/2lrKOtnfXAurGyW6HqEaunA3lbF5EVqy2ns4zcMyZX0iLWIPafnPIpURrRYnGINj0niItnwSm+APA0RH2iTUqSsyTP9i22ysE384jFi21LZ5qnYTVpP8A0ubYvB85QMU1pNC6CHDuRbu/6/lv4eNtya6ojp7V/fzRqdTnSxnR3SrwRUvAqsssdEGvfeAHwUNyKRHHxBYBnEnutVLw0jbfuYsDxN12XxmA5RsHrB4Ze2A5fS6W1YipV6Q50ye7q+uNq2blCVbRaMc0+nqaM7Qqex/f73+QRGZ7GBKbUxSrQpwApa85IQqACwE2p2BZjeeqKZzo2uQIb75ow5Ovz2RlbSDTn4jrWY3nakrdkImvcKQ7Qmayrp5LkKwph0WgK9qDazr00Y7UUbdFWr7Uklt4W+HSLt++X/wOf3a9sTrQ4OmnSqBUnkP0ibLemKU7DqXyXnoRfkywuvgDwrN0ndXWkbw8932TFa0Wa/07JqqneSIH7a/+BO0LIhnYZdgRK4Ciauy63R5+6kpvqZ5fbZjGFZK9mr3tuXIymNo99xwe4B4eVtevpCI2wY0eEdPmkuAnXGmdUkc0D6dFDXpTbT94P23sYtGx6PDLAY3H/bmNBZZEDAE47nkRiLramKAaXwLZhUzeVPFu3nf07DZovq/i1y4NK1/bOfE/O85bcmb56QlRSNTbX2N5PyhaiVK+4cqY+qjCvr5Zqr5gyTQyoEEsMHcX6HO/zbxzqB5ZGpnHKKPPqV58s7U5nc7z31xp5AdazaqVmhkBl1QkAjiM9k6Z8c3rikXR/7muXzNNbZjDa+TCCacmdbQy1WfH8mZz35IgDqejGbNosnr30TcRczBYl2N75LFe156BD0aeP2CRHh+hpMe0nNxTB4HwubWId8cRKncXNldq9EakDVeqp3J1qx/gQvQAKzrsA0MSqFRv2oALAFRB0XjiVL0yLpCuy0vjMrmqatXuiHs3rJEHtzC8FyfcvnprN29H2s679vPFmv8B22JzzoH2V4eyz97CpbTWj9Lp64J3yz3Rnf+cZ2C0SZ93tt77s+f4sygpq9xM26hmqGRIroXKitTNx434azf/ZuxctV1W0UaCLHvv9X9keVZULKCB4iZfMec7fe1WigKiET1DDkvnt/QXLL1taIft5YeG2a518yaN6OMoe96CaHgHs9jqTjDTIm0zDjW54TBN5j728b0+LA75k9uqCW+FCknB0C1yc8t+/4/vj+n6GQ7HCoopouufzFT8P1bTiNYaF90L+VUY2oMzPsx6mQUrIL598no0mMonNlfb9j79e8NC6wR3ZlG+0S2q/aUp1dDi33hdczGQur3JS0zTS6yoLosPkLAwz9242DIdmitY4UFk4I9I/eoad/256HJ1Rc1sy+mJ8VSppW5JXI4+KXy7qeOXHX1tdxUtTfW/39JuiyeuNKydJ6brCqIVI7ghf+zIqNuNFqF9ljwsSjiBgz3Yq2x9Lv5x+EwcsLcvPrrKmZU2eiJNm89fdWpjFeGOifIau5CoTTZOu7aifO3RH09kvohm5DVv57KAWyzy/MXPlfdbjqz7TPJNKzn3TlE1al5kAe3xkFAK0wvYnaxdzjBeb1HBzhU1zrOzIWlLjtYe2PVy6OpE5TgstxUy5cqfako0s5x83EMVDKo1PS81h2tZkjq+0pGllt1b9OJtZuXKUn0w0f6jkli7+chS+KbXberVncLZ3kH+VcJM8HUHApgrRU1cgWupBlnsmxW8a2rjZCHXSm6td6G/OohIN9PXw2mOB5jzyKw39lyDm1ikeLt2xSCaPV7e6WLL+XLKJFo7j2Y2Z25XjgCC7TvE46r4CMX8FqCOpUrXULmhkY/fiCNtsqaoFqxS5J7X68d11Rs5cZQsznzUckWsD1LTiis+/7jpUCidJba/XrqPo1J6Doezvik8FqMAVlMO3dJhnLkJr61/F3yyINzLrjTKPRwricLur9VwQvbQnVer4VkPH9kjs9cdcsFnelEpEX/oqLCzve4WZoZ5slLLoekbh6Jut/o6IvpzNbCxU0R7s9o8tVgf+8itlD4xRxr3XhjquTcynmLZf8RqFYi25mNO4V6Zjt+Mx4ta6n6/FpP3L/1HKZza5XIlqTcRMLerT8u3CbTJ1NgN7yPcvK0t2XVRvS6y9fYsCsDSlrZrI0khh/1bO9AnHndTCOo3ZpLtitts7Hz0Nrf3V/p0fHXHRXa3VUan1h1i5mmtDhbPFav6qeCAt2ZQV0e7c4GIugXrdF1bsHPvrqvym+HTUOk2Po6Zzu5Z7aaVMCDc6seKRzmq5Zk7JxhHU+Ltn/s07Jb9js6vPDq4+DzUdWvh3RIQqQAWuY9sAry/jkzZsuX5ZVyw/WqOwWjHarq00U6ZMmuU1h/Vb+FhtWLdC8qyZqAzRcl0d9ck65QG+cpjSlldtnUJIv0DDxYbGPNLY6F3B9WZgPnzNH949Gz4ZSZ9eZ0kfelRNZxxkDu0jvuPq/cn1FfIVjpe2EzUpVLYEpVOy+9rP4pO5KY9Cor1XJeCLhZvk6VwHdtIe03A62QB18d487GLFEbJh9aKYsjcUO6Ol4cxOYdBymQI1Xwo75TWz6XDrmX8uTlmFcDbhPq+ZAYA7/mYeJNuPXtS51iO/CTuyUfnOflV4KZ+ebu2lNgf73w5pfle/AfgcrcvtrOwEOCK47ADqVLj28RxOWZyTlYqLOHND8RWMoAJX8exouLJ5TfG7db5sii57tANLb7E+2xnxsyGnLF+n7e5j3pYfDLgeD0kCrsJjLS5uyYN9ZpNyKHyZ/gcLn7fpyHbBTlXCq9+BeqoSsYoLDUcJt5niC7CrwQ/VJU122xb78Q5DT3ysIThX0zGcvoTAtxtuM8VX6wrsSRtzVck7D1ftx3S6MF/kPR326uFp/J6a6IPL+jspT7MFXW2EOw7gXLxmBriQO7wk49tt1RW8wDNvOIszxx8nmxn7lSa3z75alzMfOV/GFN/DHHI92D2oAMDNnbd767Lb0UJtUPv9Od/0mhneBKgAAHCyrrCu7bGCXXBcxYebPCTJEQQAwAW0dFt1bfla4S4PSTrvPBoAAHjLjxD9dWbdhQoHMMUXAAA4K1N8D+M9qAAAAHwx96ACHCB4kScAcGbhmGz3uAcVgNkW38slAIATG7xmBuBGKs/WeLe8mksAqPMA1gPd5TUzD+avAV8slFtCrSMANBOfHuc2I6gOImAv15kX+2pdh1qze41tuZclr434XcfOurNg/649gYxxwS2FA/J0DypwHScaelz2crwTbcDXeg1tD+3Ryd86+t8Xv5Y0M+v+E++xuP5LNZ9tWHo2hJtsHXAOe0zx1QMDvngC70gaBlW+5NBHKoeWPvmHynN5Ifw9pfpMFfYo0rGz7tvbjZPy9HH4QsNN7kHVfgFfLzcDbryI+PQU4tGfKvvrsgRWmyjVotoFNmWKL3Adw9+wzHCWktQXGX/g2b2n8Nh19gFs1e41tIewzhl++L9UOCLTXUZQHUPA3RvbNe2cNvJQvwPX9sGezle7w6mKcZLSLDAUpn1En1534zgz10DOegvMhUZQNU7Aef22tYc0U7+jDBrIExg6h38MuvY634jaMN/HGr5qEsjG+/Z8exy4sD0C1Eu3vMCZXbsXpG28Knvu5q2HHbza8HoClMoETnkPqtYJ2NGw5g2VSyLcBa+feGZzqtYw2g5DgnwiGNQdYHuOKrg9D0kCrix6bcOwQXz6+DoN49J/zWdzjlHeSQj6eu/He7LjBnOdP/HuyI1dbqb1ogJ/bivzR9FfhHpUPX8k80O3sFv/NbMNr2ItSKrQsjyasctUO9efPvXtF0SGYzo1u+T55bsS2MGju5J0u0N30zN50Uvpq6HcQA7ZWLaUyVD8brpmOcmZTCar5IqQv3NsVQdz2XOJ5zZzElrVutbjbmzI7MHsATN9P+3QWdwoPukKVfI977TgLfnP5FFaq71z/8z5d4ckdfTe3mJGmTpdsyVDT/+xVKjqrhwW7P36V9kUs8da92Weajsys0J3A9NajTPV3pT3c0+Uqtej0L/WcVclLndJc3sCVICsV9cn/qkI3W3PtMUrpZX0kfLrFOPQSoCaCysz2SwZpS3G2pV85jr+9cX7rw8U6iYJ78a930oumc5qyzWFUkLF8ZrcKnEPuhKrVNLLp1YoW2v69VwK34T8H+UrGu99VIwXpkFMd0yVX2dU2ZN8fqLVmeimVCf1i01zp3iuutouQnUHXeVmpHD1bOWlvGFNgFq5KFjPNbNCrVTc3IHjmN8+hPrvkAhVgApcNECNukmts9faA9RahFrokFYG8qafRt3JtQHqUOiNTgKnth50No/MCtUQuS3JXG96vCsrVyEao/3eSwpzWRTKNV4gq1SC0rHUfw2mo9C5CC/+q1yX1SOpECGWS1WU2y3jiDFzjJcj1Fw70RCJjb/M7q2mAyJXrv6KqdTL6Ehvaaqas1gWoD4XborC+5ocfU247wjqLu9BBdhD8gq+uJdU7M/PpljMIx6qHdIvC7nMX91/deCGajjVsh1xkUa90EfsO0T19f5oM++u9szoZXal+RXC7CLZxDbZxO4RrUKRJl+n34fyetOtf1RzwxFeruTcN+lRkyhvfC3ECPkyRsf+32LNR0t6FBeyHlVP+zHZcAzOLlpOI9rFvzJLdJwTzYvk0xxe7zBtaiffi6/xaqaXJxaKm3FErxm+TzgiUw9JAi5gbqpc4/MTXovlO0vD5Fr/o0/8NxhZWemvrz/TBcuEUD+rvPOrhb//2kpcqJdx0bYKVR+XBwq5jEVlK25lOh6c7K9SeDcpUWmkpT3Ge8f/pTWyR1x1+8uDk/GBEX+THq1tx3hvjfU+eeRRlkIdv3MvxEjRd+1HSzqVuKnipwUsqGz/qwD5RUY1HCdU2/zCPtnlJJqs8azKhkxeV/5alm8pbbExigueHL/lPd2QFLCV5vZ0SwJU4A56I9S2L+YHRTtCvTQ+nYTBS6LGYdcnH6Zd7rQyihvTkOyCkkxzqfXs26YTFnJ5jCvGKxZior6qTXbyX4qPEid1mclrckmjJn2YUbxG1PUvd+/n9uS0jjNpFBMazRRtiOczi7zKX1+/sn+S9WauCg3N4VByoakSIpYqpjVwryYV5i5ZtcgN9C6LBNOUOpqJzPaFBUmNlmrYiJnTD/gQU3yBUytNjRtrHB2r9TaW9ERyt1utS6R/GLU/+8YtTac2r+6oxeUrT/irzELMrfM3wDaTWJNnhLiou/sz77BnEmPzYG53vb9GvirfL9+VYf4ESOrxGdpNl21SmtD7SjWXcGUQuSef9PJMa9Eq32Q+H813qJZxUqrG4nQlU0x5kwGUT8d640LP/5TkYvMDxo7IsCOO8bhk+3kCVOAC9m8e3+FFtmPafT9WvWs9e6W+b4Pny7Y0QohXm+/w90xCXXKL2/QuumwS8VBWv/4O+cqb9Yak8/wOdRce9ONKGspR9fTrehlnPm8t8Mr5olGEOtrC8Jmm4/f+7vK39ZXD7Br7NHbtqeanJ6/xvtK1WUqLrW/A4JsMR2Vsii9wZuEamTVPXhvPt1yVY/cvx7H9r+INseWZfO/PahOsN36D+54vhM9cBSmMQOa+6hJaZ2+3JL1FlQy7DvHt43VtJqTXq+ZXrI81t65UL1Zrur+am6glK+2jUh97nqTA8QSowD30PUOm7Yv4Tq6NusHlUiZ3JM5ruGt2sthuvbq+hKvDuYWksutM50aXv54v1ewdkhscAg07efw++rDoARVh5nbA/hT7syzm03s9JzPdYDKaurXRxYLpLOKhfl/keBtnZhEv8pvHTMsUVs25ONjkQNn5qUj9jz4D9iFABS6g9ekWw8JeV2FA6f3vsE/XaEWaIR9DrZrLu7PJUOnsQNA4NnsGb00PP2muhE/2xbM94PGkyvw9lX/LLstiiTOEKOGUI2idd2V13Bw+t+g2W73ZzcAn92w+htcZNb76s8nAN7A9ASpwATtfOE+eVZLrJL5GKqrje41enaWr9H0+UtBCJjPB2yYOC3aG0kb2PGhnbNeNqd7ueUyRikfEXrn2To/utffZtiD9q7RUE+PHTw233VK4GQEqcGZzPcDOeKWa3Gf6JnM3su0TLW3wFJ9NSjEaEN3yvrxVq7RNA9+iIn7ekvJ8v2704fyBOTf4k7nWsvWhNKxa5l19G9xgOp/EFhuf2+PJI7jKb3pZdHDOlvmx9oIjsf+JZMVJKcvPrzMMynNZl7mkyxYEqMCVvF+/uOxZk9m+VeONqV0/j2fpiq0qR/u9go/l55bKPSp5thDpKvFeWNNhmX2h6PKk55IdKvfLZrZyPArUviO2udixviaWl6MlPs3vyVdDkfmqfYvKi25axTtaWsD6+5v69J+nQhGmHBRfxWtmgCsIM89+2aebOJoZ9nrvYofJw1zCbrUSR27b5LLtHXFhXbnid7ksiHNzxektQdfHHSWJXs+4LrHRhYJ1R8Gw6MuOGy7/bSRcvK+cthELU156+/1yDbdrjj5puEG+9WrMme+1ZydnvxjEpgSowNWMxjV/7w/9+/cmfbso+egZSe+8GtKJ3wc/eTn8lu8bD7MjccmnxTC/W+UxPnW5rU/mo6YPUprUXsfkzoVbGT7dP/rMg3GWJ7Z8CK6QUM/hUvu49CrdqEXofZLzv8brSels5aV7aOh/pe7cZa6WomROqo4cyvtx7sxpKttMuXa9IAlMHHWymeILnFru5Zm/d+PFT9h9LtucamWVMH/HXFSWv3+OItBcmnGJ4wUmE1Ybfw2iaslP68xkEkXNXT33x92PmdvfouzXj2eUJlTXpvtVpwJmv4wrofL95mMzM3cPZl6Qmx4vz5ru2m9RytOpns/tj7/JnG2voyUZtMpdZ6gEF8+iTI/X+hrxThqfkeOzcLIVm+zGeMcUW4vMXo0qf/7ZvP3F/F0ll25ySv78ETcIpZWyO2v06SvNKK/i23OG6W7sumRQfh1TofEE9pH8yH/QLplqM4B9W6lsKNdzk95opUImpRYyH0lWJ1aWuobJ5/Efs/dzFnKv1EupyzmfSbzBxQileZLhJEiZq7FksXSPZUpW7sOWRm+jhDPVX0qu88LIOOVXxFM6LGrfNOQxLt4o/yjafVdfGtmVT718DBjvhlxuHRsyqvU0tWR3V8PmUuA6zjv7RaHM8w3StPbj6DZb4MlSFQ2R43yJmw6j6RrFs764gztb6dx5vTAp7qXvqirbWfYq7vXZ7pCmIwjYUmPfp7HpyXbvSj2yQhNZj497u3fxoFn74E9l40tf9QaoScFmY46e5MarzIXumXp5d15LkdikXMWOerlktcBqVD2zmvvwywPUppgyqszKBYJ6ZBO6dmP9gkpB0+WcUkQzyWNJ0QqHxXxjEf/xXiVT3gXVUj6/e9qd/sOofi2lOe/mq1jTSiwddXyHtseYc5f41D2owOkVf5aS+7VW/XgNhc+GNKO//2ZvE6vfO/b4drLMVr+4Q/mvUhZzN7uVjcYrH6nNJ1dZYrbbWonbx7+dW/yW1soTMvnU7+prSHS05PN4606k9vUr7lpTQ/XDvPmrdYdL5LUt9SCsvMmZ2siMoscfLDhx/kK1zB3Vi07CwkrltKYb0nsYLW8t0pZhXYO3XUpcz/JjkHXCMQ/VNoIKXEDnbMq2tFYm15DO9JpvftStNjOznv2w5+XmcWEzHfeZUpQTHK9WGo+tjNM2rlINU7KDaMsG3vrHvgolbhoNb86jNoRcGVzOj4vlR+sqBc7m0XxkZjc+MzY5+iuTftfo4ux+mZkJEf9RHI1tqMrutqcyR6F9akYth+Vj/aHz6E129qSh0M2ETwl3ylfTAWytLxJqSWt1Ykuj5lxfLfmsqTO3ZYXU86h1F5cmmE0nu93NodCox/+c+TstbaarXilX8wTQ3n5/IZtKBfRdBxj6rqpEE4DzAUnhWkutfvM7rOP4yVXXNIQZlzeXweubcXXOTH8t7JeoEO9LQWnuo0iqZQ7AgoZkulb50lRrkJgk3x0y6wGyC1N8vyxCFaACX+j674HfKMj+vCUjIMU5l8V4b1mxepNZchgdPQLUm/8nLoTM5d855HrWk6K8KZ2h4zU2F7YkQP2yCFWACnBBlw1QN+bRjqy7ynBhAlS+hwD1y0ZQvQcVgMvSZ+GGEyQAvpqn+AJc11HPL4ATnwzfcVp8x1YC30iACnDhvumqd4bAPYUv2sZv2FbgywhQAYA7+ao5viJU4G4EqAAX7oB7ezmMzwUnBcCVeYovAMDVeIov38NTfA/jNTMAAAAxz+b+sgjVFF8AAOCsBvdafxcBKgAAcFbi0wPrfbhJgGoUHgAA2ILY4iDhoNFr96ACAABn5SFJXzZ2bYovAAAAp7BLgGqiOAAAAL1M8QUAAOAUw46m+AIAAHAKAlQAAABOcd/mfzukaYYvwGV/iTThAMBx3IMK8O1vxI6yr5VA+HrQzvzbM6oegK8YQRWgApxBOLwJrQeos+FraZ3hiLAufLIqc/HjlgVYUvUAdxI0gAe50UOSvGYG4F7t5oLyhdC9Zv8atZw/VKu5TMIXHRoAe9MOfpl9HpLkMAK4leGTPwRhm/D0Mz4aDAN8JQOoBznop81TfAGIfv8L3YBh+GB34i7B3rBlIvpnwNe6y6/C1YR/NwpQu/sxAMcL4cNjb2drN3/KUCnHByLUTQO6DxnKHw43O0AA+C7DMdl6SBLA55+rc9ISbPwEowVPn92qDj5Zl5vkFc6733fn6SdAnVbiOOEu70EFuII0JDjB/KHhBGW4ywZ9MusN8vpJIWwVT1/sdUDhu6NzAMYEqMBVrH4FSfy6jt9/6xfvKxwXWN4t1r/7phseAWq0Ed91qVmAClzDo4XMxJT5iaSvFnX6qxY1ttPkikHrkgGuvpg6fOZFmLkBtpa3sF4y8PmEsNXE5g3pzAH34efnQKb4Asy3j6+u998/QrZHHnq76knQOg4v4jeJNHb8q0Fw12XKJZsy5CLk33KE3JZkq7dSjvGHOwdDlWsNS1ParcivHJZN2B2t9bf76pc5tgpFl1wF+T2MmgsQhiW1MnPSZY7AUChTegSL4OE6bncDDDM8JAm4WkM1FFqvYbYrmmvx5lPLZl+3YJXCw3Z6U0rTiP7KbHu+Xgoj1NOvQ3mlR0zeE74Wo4dKNvPJ5S80/Jv5sv9BUK+16lVZCJHH+ybde9MVXhHr7BGTL0F1UsGCazBNsxdK9VvZKTNH3vt6S/5gru58XRW4EjfkHOeQiwMCVODs8t33WsD16sGOI6RiHFoJUCe94fkmbsEq6Wqz5Z1JYlRJSU8+l1gtCCwEEJX+/qvWOwLUUphSiN1a06uFQi2XNFrySFeqxtPNF06mwe784vnvWqLwJZVcrrB8DfRteqVYhW5L7risPwRNVwWuQ4B6mHCf96ACbG8Y5l4FGU+v/F3+8fLI0pjKz2s/i5mNP+jv0S5YZfm2R3n2fTHz7evVsJ2136f4Atqw4U9lqGzI+DbSlmzyy9SqaZxLNaEF48Uz1ZO+5/f9x5JKLmzKc0rusEUFLylWmMkl2vumDALMOaildA8qcAnD+D6U1z+n81fje/Z+F3tfe32u9Ugun1ox+wUl3sTwLuLcDX/pnToz9fVOrDTGOjsGOqn9OJvG24aiTPJxTzzMvfiWyyiX33sh47TKJZhLLyO60zc7fPmulcf3k2p6Ha3NBXoe4bUaf1VmIbJOlprNr1S8R0kelfCsgfdRMZd+ZiB+PCxaTiI5XuL842/SNgCA0zGCCpxd++DfI+zILHXR0ZK/4Z6unvTcwsUUc+OKTfHpomLEuUQrzNw2uEJtUzLfhfbx2Eyaz6sj2TWqg6zT4cfpwu/LCvMj67kbN4uztJvFl4CSzydjlklo+VPYobYt8eaUd0pmm5OP4trPzSwWmQK0OarzJEAFTu/db/0bQ0u+fEznLa/c9mE9gWzAUdYQOFSEyrb3ikqxcbe8EOiuHZ1qDJ3XKtdpY2Zh1QWEUgzaeOAkh2O6KdGkgFy8V74+MSlLo/IFouibyrFbOrWS+DQ34T7z9+z1FGOnAB0Ou7i/xxRfTT+wj9L01YbZpCtexjHp5B/hfEPAW0Y5ZzLzVpfGUKi0SpLLXNy1RH0CazzxvXBSdEeorYdmmnff+Vks8DQ+rib0nFQ9W1gA/vXd+bIh96ACV5DehJYz6vf2dkHrT5fpTCw7irRYGoj/+7ids5y9o3B2ua0K0jlOvjKXzz6Ucj546y7PmvoaNlosN824OoN5wZUFAD5MgAqc3+axSdd4aji0wCcetf0basw+ImnTEcstqqAamDzH52rLrPasqM/EwXO3poZcyVrWjNYYh7SNFxSGnU+67Krjw1SICnBeAlTg7Op91aHQBd2oB/pKdGjvNS94kG09pcMm2dQkUU11wU2DgY0SK++X0JDHqlD2iBshw7bbP0p2tPzZjtTcBvdsJcDXCvd5SNIpf5uAi4pfxDl+renYjl3OjqfhlJ812ivp/3+qP934npGmxYbNfzLW1UIoJDSOsBa9pnPOJJPFKW1duqE7/dHQ6dwN4EsKVctwkxT0VeA6XFA6iKf4AmS8w9OGJZtb0u4hovYfx+erWXb6OT1hrzre0lwsvUFNPK9NLK/VmfBkn+hlm7htus2bH1uTCHW2aHODpo89NexzQWHWe15FJYUTnktAntP1y+wyxXfb+VwAo9chDv0/X8OiVmr9bMxTDB4tbJQrz3pNXwISup5T013EDUeQiyUbunbVsonbkzzO82M5flL1fMH+pry/KiLelL791ViXPXsnOyg8/BW5uKPPszMAzqLvt/HkI6haeWBXPc3llo+CjZ+lc6m2c58ib3PrYXmr+8PcicmqlbRGLw5dkPj88n957DW83leW97+nU5rbNm0Y2oZIh/7qeiQbFsanYz/TK343Mg5ek1fUhFw1AHy94YhMTfEFrmD2iTyTyYCh3t/NjKBlpKtVHxNaLfCyjm82jcbJl9Olm57Jm0tqyZprfTZSiEOTYb8wMLq3tbFm2xdaFO9Fh0pfJlvGcvWEOk6gNXuu59QG+CbhLlN8j780DNxOSGYCRtPx/v6ZaUDDMFppFC8U3qLYcsda7S0V0Ts7higg6Hlc0GThn/wWDNeNUogSn+Q0qpmfqos/iV7aOan6bObp2k3lHWbfzLJqwnWa1jSp7WZ4xkdd4SgrTGytz13fooRpTdZya00qsu6J1S3Z9B5Jo2f1FmtQXAonJ7Y4SrhRto4iYOdWKolKX9Fb5QbD6ufZfKpd+WFZiTtWiuPInoSKq8Whd2jYylLgPwrwQrbMyYjdXImjpcLq2o+TTJYtjxDnyty2vzKbOVeV+VyiP9OgKn9Y5go8U/7QVJRRWiW/i2WuGiS7b5pu/qgoHCTvtKY7M38ZKX9UT4+r6UZmDhcA/glQAfJmgqTRp5lVijFKoXu7NkRaEFfmt3FhgJpPLemENwSCxW9Kkes0FukJd8YbXKn+JbF+Nq1cvNNX5mnAMxvrZ0OkWhxa/mK0UH47p2FsPqLNrFP03sdh8YWOuctGtWKNr4oUUqqXLLui/guckqeYfVmAustTfAE2NJk5mP+hSqcCZrucuRBoLvMF/fekwI8/Fv245uZMDovWK6019G//0JT5zwTr1q7F82nB5a/aC1CZOTtOK5NOe6ASzeQe59Oxxkq1qealrW/ZxMaDNRfxly7olK8OFAtRPvBCoRK65hhn89cHBjgBI6jAFeTufMzP8yut1pDHkc1Yc0jZld4w/bA2zbKUezSjc5xDdqW/5XuGpZpHw7uHT0fr5AdIe4PwfFbVEcxqhRVWKkbnuSHf4pBkoQDFGl4yRj+/u0qZV78qHELNuZdquDifWPcFzqnpchw7uNEUX4cQ8AkrhiY/lODSQlylFX2XdVzq95WB5msE7yh4+pCov4c0jR55U0snNYnTyzc8ZhZvzmqczU+Ing+3MssX46fsmH98qM7MF87HaJUAvT86b9qQSoA4+1X94kg++9IAeXbzBKhwbgLUL4tQjaACl1Xub/Ll+sP8hvH4DTKqzDBfWIDOXMoF7r48U1whvkO25fO573ryfnzZX4eLVgI+RIB6lBuNoDqGgI+40mAjALCIhyR9WYD6v2OyBQAAmCU+/TJ7BKgOIuAT/p4We3QpAAA4dYCqvwh8wPZv7QAAzsdP/XcxxRe4+K9V8LsFAHCTebECVOCayu+QBADuw8/8l0WoAlTg6o3m4MZ3ALgvv/Pf5b+jCwCwkN8rAICbDV4LUAEAADjF1GpTfAEAADgFASoAAHBanpJ0iMOe8SFABQAA4BR2CVBd5QAAALiw4ZhsPSQJAAA4LY/tP0a4U74OIgAAgAsLwyFBqntQAQCA03L74EEOGnXcI0A1gAoAAGwhiFAPc0jNuwcVAAA4L8NfhzjqusAeI6iucQAAANDNPagAAACcYtBxj4wNwgMAAFsIgovvilGNoAIAAGclPv0y3oMKAADAbR+SJD4FAAC2EDyB9bt4ii8AAACn4D2oAAAATKbFHjHyaIovAAAAp5gZawQVAAA4LaNfBznoxk2vmQEAAM5KfPpljKACAABwigffGkEFAADgFCPXAlQAAOCsvMLyywhQAQCA0xKhHiD81PpwyCiqe1ABAAB4G46b42sEFQAAgFMMXgtQAQAAeAs/wekxk6v3CFBNEwcAALis8Hcb6gGMoAIAAPB2zPORfnlIEgAAcFrHhUpfbThqYuweuTqGAAAAri3c5h5UN6ECAAAbEFp8mV3uQTWECgAAcGXhkFw9JAkAAICUp/gCAADwzQSoAAAAnIIAFQAAOKngKUlfZpcA1UEEAACs5/GrRzkqpjOCCgAAnJUI9ct4zQwAAACniOmMoAIAAKdl8Ou7CFABAAA4hf+OLgAAAACncthzb42gAgAAkHAPKgAAAF99668AFQAAOK3D5pp+u+GYbAWoAAAApMJwSIgqQAUAAOAUY9cCVAAA4LS8B/W7IlQBKgAAcFZuQf0yAlQAAOCsDKB+Wd3vc0XCYQQAAHBZ4U4jqOJTAABgC+b4HiJ4zQwAAABnMAwHRagCVAAA4LTMzvyuces9cnYMAQAAXFw4IM//DsgTAIBDeprGEbie4LD9KrsExY4hAIBTdvp007iawx7W8/XCMdkaQQW+tsX1ewfJSeGUuHO1hL7BKMEsEA7KV4AKfEODmnSyPK4eRsIXzKJbcF3qetVSHGjqbfaeyx+y8WYiw3czxRf4jnZtmH6/RVtlLJY7TEvb9KQ4+TYOm9XLkjBqzxHZSmlHreJ8Cd4rfPyQ+IaDES4iHJSvEVTgO2w/DmAglvkD5EqDbyxpALr28I4jstX2qDs+XbbsBsIVr+8AF3gPqvYEONLw+TZKrEoxfjm6HGxgo0bjqINhRXwKpxC0pMcYbhSgOoaAczSow4/5xTbMES7NkZytj4tXy5L49LnQxTedmxBafJs9AlSAYyV9qmkH6/eTSuS6JJf9hODSMXsbNjopbhds/tVL/qv+2tqzfstph0XFPuiIuPUhCDTykCTghtIXJOz5IKPdH5LkKUyXdY/XdLiJdofHAg+fPeYqDzw66W2eSx5oxZ0FB8NhjrlC7iFJwO0N4Zpp34+XR1xwh/VFqEe/NvTo/NsajN2i/nx7NGy3f+EQg+P0IEd1cUzxBe7v+r9s9wiDH48w/fclhm/dYcft4b/Z8Bc4wsIlynLKmwuW3POQX+MnpTNuIWAEFfgG05egDotec9/z9sDf5fMT+jpGecLm00XvMfH044Np5x2Zy+3Qzp1cOiuG8271ErmtSWYOpguseB3n0fU2Hm3q25SoEcsPW1Uaw50nSbwejT0suMqSO0UmX3jgMcSGcMxEsT3ydDoDB4v655MO6MO4szLUOurVe7jiTwttar4DlGss057XNLl8x7O3t1ZJqv+OuqE5m2ppl4cDuasADal13NS08I647OWJBT34TDrvwme2tLyTs1tdW7xbffP6bySrVH15U/Jn6TSlUd0laxdWacitfuz13YRaWLpcK5XLFeUvCudOPe/mXJZoKFlbHoVVimHopMnVpT0JU3yPctAsAwEqcEPv7k0SQRV6XpmGsBwl1iPE+QC10seadmyrAepMPzKj1Cv7+emvx80zyRWfyZJ8GxbVSjnX/uRe0VMuhih0+vurebRmoRffGxzPXgfJd7Lzh1jx+G6LeCpfVOKv7ksQtcGsfGIt+zB7nEyvT83HW9nM5o7kxvi0cq7ULylM90qlFvNf1Y74cmLLz5NldduUR6kai9U7e0mQowhQvyxANcUXuKHnjJRxj6a5pX0NZIa+n8l3Dn+x8STZcYBUb/4nBS73Oxt+vt9918est/e/OlMarzQ37lv7ePrVwp7Ia7VCzYRaOQobM66ytrKFDbcyPVKa1nnGQGG0TrKNvVc0sofutFCjE29YsR21k7WwKaFh3LVVpbEofjOpm/L5WldtdtKzdcU2ru94vovV3xxtmHlxifrn78N53EZ4+N3pBBHqUQ46GQSowBfJdbD3WXN4rhINTkaDJ48mf/YnN/1pyEWBr0C49ed72OgXJ51kOomDolGo5o7Fs67Wvfpikn/zOq+/MtkPSxOblOt1OCyI0h7r1PbfK5IcL1UKIZLh89oaxTsSy+NPxYsGS/ZwscIm4cX4m8bjfXS2zYQ3HV9sEAy+a+x1fDcm2XHkzq5Q3MHTL/Ybemxu8mYO60pLLBSCg+0RoLrIAZxYpbMaBzVpSxb1ZVqHUKP1slnVYoxhkl5lJl9rtBlPLqxuSksjHueZJjb9pi2xR8EeIeqwXX97wUjLs3edVH7rC0Jm4tN0BHtRUq1r/FXVI5tatLky+p4PRiaXU+Y3Pg4jpvunURSEZ6dvZkdaZyL3aJ18OVaVeFSwUu7RiT9/GJWuruUaq+oKO14B7Mqi7wJbfI0wqqt6tRlCPRmvmTnMQaeCEVTgcu1j7w/V3C9bGgRu2jOpBVrTTvurezfp8ReSSUrc9QP+jLbiOckdP0XZjnsmhbgyo3/X7mubjwMfFfasrWzBM/syF4VNA5N4mdHyTRFqaKnNnsA97fZnhgT/+t+ZiDqfdb5cuRJl9l0YMkdrRXLR4nm1pje6KBRsGnfXZsQXUp8Zi8tUS1zF5f2YflMq8GzB4lV+y7i4qaou29pylHf9X/IzlbLWT8pJUevnYhzLR8UdnSNJ6xlVuwj1ZMSnX8Z7UIFzy7yp7pPvrhuKY6ANQnjFFZkv358/ku/IKlmv587EiTSNnj70NI1MWf56h6Os8kPKKzJN/oqyHEeY8b9/xYsVS7Bg78e1mcujq55zx0U62vXakrIkrip+XSjAUL9CMv3zr3arpWra+GwK0901HghtyL5NPT7NG7Y+jOYsbw7jhqd/tUnmu4cQz13as8XZwfGM9CLKYcNGcC7hqIwFqMAFtfbsN+ii/nZ2u3KdxtF/gWrar54ZzXutmk+6ZaFCqfpXKSXyKnCoxSyz+6BpEysLTP7RsNvLS6w8YmaK/Zpq2J9WW4iYS2Hhvq7N/1wS8XTW7M8u6jglPqQan0bRf2YAtf5JQ26NTcZ+0vM8vQizuJnsL8W7Ye3Y/tarf3/bkbksCnySKb7ABbV3TJomas0utEVvZZPIsJZy69ItUzPX5/+e8ldfLi7WsgnG2fGO+sBOrlzxlL/2CZ+FBddFppXcm+YXl0PbZRHNaN8U5m3PF2tatKp8YUN3rYwTGOpzfFdEfflLNrOFWJ7PIQpnyidCujWnz+45wF1v/g23ClB3fIIbQF3Sg953TOwvk9kPdmnhl/1ybFySSXJRzJKJUtvTWf4+ofEAc98RMF766N+y97zZ5NMl9dU1J3zrQ2anPk5pvmnr6vXJzU3xd8d1mFaXiJNWVn23XfMwrxfOZL8A9eifdOAeosdbPMKx3qmCq7LfcOw0Z23wXLn7s5bp+J69hbk3Lrb/z0E1Pl2bak/5P97BbZm0+PM/G13H+GgvfjKdtv0ZrDVD/XrKOlvVzcpH9Hy8BxaunoX4FE4VzpniC5xdGoSFj/b9QlvWDTFMHBVW48O9nx759wyhBZF+S8J//1g3grnS7p3M7TbnE/UynLWCWx/rtPvh83w4c1g/e74j03+7OvCVHHu1X9Pmc7cs/naPaBUOJEAFrmWPJ3M25rqk65W9/3HLCCd+yUhHgTYpQvl5paMhzaF7wuDS8o1i//weyz97p5jl65stuqxb7fv8AGf1GT61bWw7tlsLX8jnvVOGvj2ZvHSlmsXywtWuGjVlliYwnfle/KPfsa+EzOQe758dI8jn5bUtTsXKubA6bba3wyVVWuQv3X2Ap/gCzJr7Yfz0D2caZW7ysOIthed7PtKP66Vc2oHPPt1mzwq58ONtNhnja51VXPy06XjdZhZ6v9X5FS8OFP9Ym/Jy07h/i3SyQ9Frn4u7uKj1KwUGSq9iywu7dDjshcACVOC+VresMwNS5Yxeb5WJ/7FRoSrZ7rTORKZCnv3P357oK7r4dJditMM+fiPfx0dlNr7fdia9zEDmRvkXynPwpZe2kzY75jqz9G6dvlNemvlrHDZ8d0vYYNnk8/IxLYA9C/HpIQ47AQSowP28+5Vh025WR2KvnKcrRQ9lyZUvZGdFPs2XaM6rYOu7i1FSP4H4FkMkrwQXrdf2ZpKlUeXOD8zaYpXxzObXMTMszyMeC1+1j/vXzV1oqG3JslO7+KSxKNtRPX6205bcCT/9om+rW+syt/zko0+/LvR5FWxSkPmj592Avg/mwrhu2pqJUM9BfPpl9S5ABW4nCXXKX0+6J8Ur54/r/ytL82roH9n+/m/T5f3p56OeezZ6HYmyfxZhukbrNr7i5sJKC4KqZ2keG7JpNNiUWFgTA2dXqGXbMOdxWL7OY/c2VmK8XP6Y6NwboR5nNhyt2XSS1HoPkErEUbisMV6uFOnX2pjiV23F720eyglVgsrpHk92T/TH+IrNa35InM57L29R7txej8pWXTmJRKM1sg8GSD5Pyi5C5ZsNB81j2eW8c5kDOFB2CDL31fv7pBsU/fH+Z2ncYdJ1C533crzzH3W8S9NUK1ME641vYZUkv0JPtDmxcQidDvGU+rnZHCpFiLIYx46vLHJHwfRaQa5g+Z3RWjOhXhWjUjalVU2tuC2R6epxR73lpIiWeVVF9oAZ5TIpU5xWdeuzW1v8K3+EvZ+DkzvEouwzRSoe4LmtH38x3jvxadC57ydH3jSbfKFzmzfelnFitenHow0uNZnZMpSP1qlp7rOl6klstB2lcvZkAncX7pKncxk40jhoyX8RLxB3oPKd6UyS9c7Pu8+X/p1Nq9K3LQSoc13unHz2he1tDMQy+U++KYYJrfFDKe/J80ILlZwvWf3IKPRZF0Xu9UBwg8TqV2HKHfzSEV6pyUpoksulNtzZEqCmOdY3pW/bsyFcQ4Da0ooUVxk1LxXFc2VBFbdvS3kDi0m1XDDrCFD76r0/udx5PbPXdWr5amHXB3MXec0McDs/zWlzn2KoflN5gl2YT3EY/z3Tt8y+fyM7Fpgt2dw2l7JfpD3/yvbX0l9Uqmomoy8aX35TvNxRWD5zYJRyGhYkll0nyWBcAUP/ATM07a6WsyyUk6qvHK0xrYNw5AtZFjzV8rXK4n7eMNcghO02f6vHdi478VefDDOJTItUqNt0WBm+VDgkPDWCCnyV2RlfmYlzPcN+nRf0M1mk41Pjr9P0K6NoTQUYj310jaBWBqqbh7DLsxCbxoIno1Yzo57V+Lz25eiImFPqRy+6PlCqmGrcnN+NzUNv9UO8OoJa3Mj+4KI2YtZ+Us6NuSbr5Xb6KGQppFYa4yuv0jPdYbRsdvSvMvhXLtdcPdabo3r+2UOvs1kpr9V6DbJSj9N9Hq+gJ3syx77894uFG+XrGAK+Smf8MpdCvt+0p2icoDvz7KhvNaeXYfuK7Mi91u1fW4LZXvHSStusYI0J1WLaNPSbuTiwaMsrB2N+hmb3lY7FXkUbj7GVzof3sd12ii07TiYB5ii1erjZfQWm/yBujyp1JeEMBKgAfIElvdsdSlCJIvyI9e6uZHBjw3h60W78VP77+thA3ofOx70vPgG3ilBN8QUAthvOEuev98GZpn2TIBbn8ctBAdcSDsrXQ5IAgJIVT6LhCoYvmDXB1XU8+JBb+N/RBQAAAMgTnh5lGI6pe1N8AQBOpOdx2qdnfi9cWrjLCOpR85UBAO7jBj2qR2AqPoVLCre5B1UjBADA3+tUz94zLD5m+AJlhx15ii8AAJ4r9FmZdxOV3x0LXyQclK+n+AIAnMmw6AU/7NctT172C+xLgAoAcDYiIuBgw88rfg4YRjXFFwCALzZ51PDzxZsmW/Ptwm0ydRIDAHARodR/LX4BXyHcKFcnMgAAsNpzQJtvec/VLu9BBQAA2MIN3gh8RcNwpwDVVQ4AAIDrCgfl6ym+ALn22JU2WMNLUr7roULADQ0HRaim+AIkHq2x+USwWAi/J5Cz6K7sWT5qcCnkyxhBBYjod92ekb0PnkZBTR9h9wfPaieBPXnNDPCtDV/xjQLbNGWfmSn8oWjrRm9aWLJfxLR9otNItZ2n8jc7jDdsJoFzCzfKVnMFbC6U2pb+2KkUoKYN4ibx6d4N4vZRcK4Te6fbzRZsy502/yMWxC+Vi0bbnifFdmTTrI47VMqN2HaHcZKHswJuLRyTrSm+wGVayGzf8vnVsLq5Dde9X3azTmKopnf8fM1DhzKP3/xLCCvW2aeKX6m//jPsPbP5oKO0UvdbNW+jdJwTwA4EqMDpNXWt1nZtx5noeJ0vGO2/GLEph0SDcInHUO4bCN/YF2wicAICVOAefaKhs7uaC30WJDab2WYpZVP/TH/xmc1HI7THU2CHfZ68c+lgc9O56FuaHo7nKFx0ngwHX+XY1e6jmy7jcRQTWI4RhoPeM+MeVODat7QtubNqOsdvh6e6fGQ26ub3oBYSPOLGukmeW4XJ3VM8z/aIqMkv93D5cu19CSRuJnbL6/BnB9Wag022Ogr0V6UDXES4U4Cq4QL2aqsKN6FuEbQU0j+5rW+oO1MwNupvf+a5yBfYW7lf7uHiI7t7H3fxwRNuGqDWY9AtarjSDsOujKB+2bR+I6jAJVw2gLyazbqx2wViwwlj51NUzE9SZwoZjpgJvqTqdy3ngZVw5vo/oxtc8foe95yUfw3hkFz/d0iuANzW1j9nd7k4ETarmOH9nyEJ3481DMPv/53Q52rnlJv/3adLPf0TnDjAmIckAd9m0TTL64/e7Td28LG5Vz/3wqzO7HZX4g+6QyhvOOno3qkqqXQ8rjwro3f1tDVXydthkzVGE6Kzd+zv/zrZxtv45xbLHnrhxi3CLdlHhzmo7TTFF7iE3Cja3Mha6Sk7pXWmsyUfPbHOR4NUbkWr3aW3OJfM4rmJn+/qqqyam1U7n0v6/Wz/tfUSwWgrch3NTOe0lPqSOwTXPBRm3O+decRqV68/XThTMQtiiIWhf6a6Kyfrlv2Dnm1Mls3XV+Wg6avH8irjiokPrwWHWnrwZ/pz9dO4oQP4nkM+ahN7Sjp7a/K0xjoeWpd5/NXfOtPNK9eVbisU3eghSc50YGuZPm9r8JTtWhVDs/jLSpevoajT5UNrjyl/12XyV62fmC1BtrlPqjPqJGcroBpsl+q5XLj5qkwWnayX2/+VkHZ+tzw3Or9XOuOXaqd7muKiqxOlALUlsXE4Wrnak78IkFbrbJ2VA9SWKy3TbzpCmPkANXSFMEkwO62c0jHR1sA0j3yO3/2USyuTTV+AWk1qQXM4Sig5S1sbkELyowC12tzVYlfOylOSvitANcUXuEGjOf3pys3gqk3zC41DfGt+JEM5tXzJQrJQ+ldHLq1l6wqSyhsz+qYQ73VW5bRsuf0f8onXRmyTA+X930x8UQ45XkfYpFKKG18sxAYTDuNNKnT6x/lEFZe/DpHUSaicgUk+0+zrZ2rxEshol/QfSNUpvpmtL1dXiP96Vk7HxZbVCudXcQu3yfkvm3Fa81VfyD3XmOWzWNLkllYR4lyYnfddb5kRoAJ3NO7DPTqQ5ZY2ug4fcj+H78HF+Z/JeLZeo2jQJbNutuNW2JbpmOFsB7aQ63SdzKanQyCVlGa+mhHlnA/p50KEYTQKO1umvxyT7Z9s/iS0yu27BcH+up5YbosKx0o+eo2zn9v/czmV49E1afWHSbl0C0dS+VJGJZe5EhRKvKCpeBomJ/TkBH+e+MWzuyn3ONly61IS7+6wcOdU80i2uq8rnVxjEP2cnT30ZfW+R4DqIAI+oNK9esd7mRlplT7MOCh5/XPo6/s098Zy64b6F0N7JsNshFoawH1111oqLE25oZ6G1k5hXP/jEo7L95vYXOYdAcEjQo3yypQgum4x+9NXih8ylyd6B1GzMURHx7s1EmwfrBtXdO0Yah75G21LdGy2hhe/y6Uh0CSC2ihUmUnmVZXTzWzOfxKhjqO7KMXQl0Jy8hUP3HkdlyNqqSyIUNObettb4/EYuh4t3CZAdSEK+IhS9BR1+HNBWaiukcR1cVC4zUSXNOIZ8tnnG9G/AiQt7KRMaa9q9HXxYU+TTnph9DizSqmY8erjBZrrMrtzoxpMhqFyPz3j+/QypVu4V//C01HfvzGx7ETWdIx/8e/oO7GGXvkjl2mAXMq9tVhdF3S6L+fEJ2XnANg06H2XITnD4iPndRGia6eU5huEaoDVmnrUJDUVa+5oeF+RKgVmz2cDv9boqPlMVRSuaa1tZKeXF3ON9++fo0bulfv40oou7TmILb6MKb7ApbWGOhv8uG0RoU7HgMbxaTIKsElMPFuMUf7F6sqMY8aR8KuPO02vnkpLWXN9+1xEmtua6oNhokjkGZs39LwzozbjOeHFvnY2Ph0XZ4lXCBHvlTjcSi5AhEqAnESumQgy2rp0q0u7vvFB2JnZxdPMsxXWeYKXpg5M0v1bOD9I17u76kVcPHDap/XULg+hjs7zamb/Dle42Pf7v5/77WC1ExxLXyoclO//DsoXYK82NL3On/ynuvY7Qty2bO+yDGm/aDTJcAON09Ly46eLMnzm+Ny2uWwbFqsnUP482fglG7W0aNH4bPyP8e5tS377g2JGNvqYjOqVijXaqHjZrEX7P1lni6mXmTmw0X9n6n71FqxN9XWyFeZP9Oezcwg2V63FAftn81LTlex74dCUOHy94aArNEZQgVuo36b0wYK88ix2f7JjT8n3a6/Zjx5qW0+uvcMfp/PavPpwaeq1VO8M3+3m2ZV2S5z+/NBQdkjvBCMt5TnRU8+hx8dfjakt3cUzw+oz6bUM1nUegkus2MPbHxs3Cq/Cx7eub0r58Sc2Zlp/HQEqcE/poMgSO/dLyvHpeIrlBTqvtRe5TBddksF0FK0lpP793732Y/Lm2JU2LePPXN80pstEeIVdVo8FS0OP07RnP5lRn6kdf/rpg/34s/JDWzz7yLFTxMhLZlmXZ9/nvhEa8dXCMdkKUIFLmH8+68mEVQOWmwbHm40+pn+EtS9U6S5X6BganBk2Hg4YiNkky9a8WnKr1MLkq+ETmznMf7Fuhm/1/t9dzWXVfkSOU+qrip4j/1MR6Nzw+pqTtfL64sz9zVEEe7pfFDjKIdeiBKjAHWR6Ias7GKXRoVXdpXraC/vM9SLtdkttf1GX/sx9trN4ioGhvbbg9Zzg1rQ645+upfdPZ5zsQWHHdpsTPrxNw8HnyYqNm5tn8XfDdHYrRKfwbl8O+UkUoAJfpnxv6P69kvn4dNPrlsU31myT5/iHa+7Vj7tVeL3IwwevEx8z63F+Vu70SUi7lDQ5vnetimvdFxg224D0kVt7H20bNEAdG57c4/7vLI0w52BQ+yCH1boAFbiDju7e6k7XutWjJB4/uemLMv7+WpvJsPdvS3i87fL9V8MKH+pZv+b47h4txrcKJ49Z2jvjSmm2yX/Yp+c/dw1jQbZbPNW30dI80iKGDdI+4Hbc9+Ov2k/6NIG5O8K3vm7yfs0ScLUZRV4zA9zCwoewzHy1vmlOhxgnXxWi0c5OVePia7cmWv8vBFySyCb9xaEpbuwpX7xBQ+9lgF/vZA7vBMzM+N550m4Sv6yc1H392dbbHvn1I3Tz2gqVxDtOlrAut7bVk+Ntskp52LariBym5UVm3IkAFbib/nCtrTcctg1WpzNeF6TSsHhjnPZcqjuq67NlJyMsyHG6mY+B65n1Vuh7vNeqAcHlYd1ZO+jFSGOTAo8TKyQa5j9rL05HHq0H82L1q3S/LcfPf0e5d2QbrzGdZl67ivFstn7ar7Ym7HXBb/pxEocO2cbRa1HhVEzxBW5+z8p4kPLdJak/1DNeJX7cY9ucsUouP0mMOmvPTlRhVuroHSuTR5q+PoneThp1DSclTm5NfT01J14q/iNkPk1fopmVracFEdQ4nWTz4/nCmW0arTn+I55UnZQyX77p5reFkcnk7Wepx7cHr3izUG9M+5fVc8bl4kirqVBnMTkxVozPj2cSLEolU7KOi2vJPPn6+Z1fN1OG8nn2L3Pc9x10oekJLGm5k0HU2rOOcpcXonRLDdv0CqEhOjjN66R2ydY5DmxtfBV/8nk2Bo0Ubn0sRkzp8snzgObauFIuxWJNvnrf71UpQJgZVxr3InMjGMkXySaXilwJMUeFyI72xKH+XE2mRSmk8Y7pC53b6pBbegnj+Y93f312V8Z/Fiu8VGdDbbOqcvnE60cpR9vx/OdQ+i6NVXIVOypArtJHFTefVn6zMwfitL5a46TSpafssT/ap5OyvxbLnYG1bckc/KVjYm5D0geU5U/WUrRXbXXqIXcti3qBm8/H8nnansdo70waz/xG6rvCea41ClCB0yv0ijLtV6XzM9P1yfej4m5NJuZpK+5rlYagbpLBTFg1WaeyjeXOZVeJy/3YaR89l31yPbZWk5M4Nh+t55OahAnlPuk0Enl92XClIy7La4VxFXVH+41hSlzq4v6vBOGT+CsTrGbC3ZmQMrcp5QC15drMKA7tjerK12Z6dkrp8J4Wc7JK+xqdmxKvNHsxZW6NyuKF8rb09orNTunkqjYtjZlMgtK56wK6rqdngPvLIlRTfIHLNY7POZLl37DMrM3sp9H3xTGWzLL/NvNKqvTI2UyZC/3Iv1qpjHKUN3/BHJ58DX/o1y4M0/wX75RQ7P40HS5JGBqqcyxbHyvcsSmTIL5t6fc/fp/E/PdnuXChMhM5ilpbzq8wfxg/vsrN3BxNlk6TqohXmFt4mP08u53ZiybVV2Ns14wsTal+3pcuA/Udc8Urg8UmZMlAbf2IGCrLi3qg7qAXoe6TpxMe2Erf6F5xzKJ03Tw7jDj9MFl90eX87BeZlF5DXRuNHxeSGuVcSK0yHlsdS8l+1ztqEZoG1QrJTPdVaVum4591tfrPRqtxMWaHC5t+QasjrvmDrLRpmS/rY6K5uHJ2UKxzfG9+YLnjclK8Qn7J0J1Fvl4qLVLzVjZsy/SATVJKB8wbTuJhtgmaC7Wb5FrPSh13R5CZTYmzbG28OakF7/RmMwJUgLFyL3U24KlEOM/+ZK5HMxM0bdDApf3K3JfZ7agEgZWeWV+ZRilWQ6FyNq3xy7q6rPZhQ3t8/u7YT8pd2/5cjU0OsPFacxcP2mqkOsKUDYKrAepc1VSXL4S0z9oonq2V03h2nSUBTE1uULC+Q97Zl46eNME4h1qwvMvEx+qFuY8pVOjnAo9sNM5VmOJ7IAEqwNfbtPu6sAjDDbZi9mLDRlnU4szdhm1mNq40fvwcXXsFraOIrxLpj9KrRYj5w6caVJd1Be4rFGYu9OYb1bx46Jg9CWxMgArw9Y4P7VglGRLaZsj9aJuMcvVNYz6c83BjJtnCNYUjMvWQJIB/3/5TwIaSDvg9euObbMXvLNifkcV71Al9NGxwSeGYbP+3R6J+fADW0Z3jhn66B7oI303TxhKOmy+zS4AKwMpfYT/HcDin4fYVqU7p56j5NgJUAIAc/eJtROPmhtBZwGHzZTUvQAUAAM7KpaIvi1A9xRfgVDw9FI7nrSgA4fnq5k/nu0uqGnQAAIBLCwfkaYovAAAApyBABQAA4BQEqAAAAJyCABUAADgpD/E9kIckAQAA8L2XBnYZQRWfAgAA0Ou/7jUA7im8Lq55FSnwRX6aPA0eMHGn96Bq5IDNG6ph545UlPCjYdSU9f2OqC+4pFdX8MvOYWE5tPAeVAAuxsMrgKs2XUEDBnWHnCOm+AJXm4C7T/JRHoMuS7vwqT0EsYvOczjhfINvaO5yd208t1vDdQXhTKfM9wjDYQ2EABU4u0V3hC7rBy7tqtx+qlg8y3ryOe0VxkYuGl28TpjTlPsbTuFv2Ma7O8v58m3CYTUvQAWu1LkIZxzWC1vmdMqBocIWnrffd3QtbnpIfIHbX+E56QlzugLtK39CfsGBB8scOJ1slwDVbzKwmSXtY7juWM4pe4yFLTxlWU9RruNLcCGvo6srVLjgPPzzl1jnDThHm+A9qMC5fbZBOX8f8jQmDxc5S9NvH17K1+yucPoineUM3txQ+/S2Ww2bOOgMMcUXOLkFQyUrR1c61950LOcqA0NnjU7PMZ/nKnvxyh51fM4Dr2w40TSz6Cg9SYk+6+f5L1+54XD+3zOvmQFuaBgW9jsWrbZpH+eMHaZhrmxLq3sXZyjL43HQRxfjChZX0vDr31VE8fT5Cn2+Em2r3HJ9thxAI/egAve04qJf96qHjKF+8jlA1TKdrsUfTjCb8qfGTlcx53TcewwOsNmN6sNmp7XDFPiOAFVrB2xNu3Ku6j/3/jjBFNtzV9DJXHS67uUj3WtW+FbXfo5+1Dc9DH19G/egAvf+5brc79rxsRVwXuvvsB92DAa70n9vytCWQNjo5Yzhwr8Q38le+jYCVODsxsNhyS9V6O1EFR4MsmrMbf+YsjzCVOle9fa8Np3wt8PswWmSH5tHa4TvExoP2Ph0O+cu6T1clhzHucoqNG6hsm6lqN3B4CufxlVCpkghSWA0yBmHlV01Nq4BVwGhWbhPruf8wQCuKr6knnblQqXpeX5Xe3fnpBf37iV1NGS5nBY8ILO0Mfn++KT1zuc+NE9sK62Tr8dCuaql6pfkPS74K69KTz0b0tfWqPXU89VZOOwq5SrVSWHoaJtnrabb1xFBZasyqsNsdU7Dh+iTTCUUaj/3cfkMHn/fuZd/y7h+OK3pdM1vUWHzR18VK6DwZO1sPy+J/2bqselI6X9jTba4o7rIHbVbFOv81zjgLA66nCNABS4gvuJf7pHNB1Ybx0/FvuJcJ3o2qUwYln4+bbwLuZd7qeVufz2pbAnGHd7CSn0qXeuZTmY5QJ29blGJEoprNVVYPdIsRSlNx/hsLadZV2O46prxZ0lAUY83k3i4EnXWjrD8kVy9bNJx3aRYJb0zAVpOpPJXDedkMaVSk1A+i1qP+r4DrG2FwhrbBqhNdaXLCieMUE3xBS5gaBoxmJ319e5Nb9LihsYvWkZlSmlNtrF30KC8QjnUf31TTipb97mNWH232CTBXLe7f05hMvAXJzYaEWyqgqbss5lMq6xWy/PpbSu78SF3ZP3+8YxDx0uE+M/s6vOZvyo5PXlHqeTPvPmzPdQ/bI1Sm8/W0j6unJO1cLNUnEyFNa6ZT6p9+dYc4sOmu1DLVzjBU9SAGq+ZAa4quboeSq1Ppj0a3h2UFc1VNOYy7ha/My4WK5vYeFgjt4mt5XqlVQwdo2ItCIMfomjk37B1t6+S3jtkaN+Txa0c137IjOBMu+yjv/5WaK+CKKRboi+EeBfrZ6ml+6ktSgnv4+CxQpJf52uUMianSXmdULpsUr4KULg6034WZ4+W93mSi6jfh0L5nCzJNXmTsef8gGgxdB23Ia2WrRAfEaOjI3ew9GaSbT3XnXzwRcIx2XrNDHBR6eyvj18Sj/ubaeZLeuOvpCqf/6WV7SYPc7USlaP82slpp22mB1sZoNlmkDqXyrt/2hkShsW/XJmgrphYsfs8GTIqBTyZGGW6jb21m6bw/KtpxsH4Skt216YpvRbZ4Hp1dFTOpRafk/EBnylv5uJE9jLTQuWDshSfPlcZjTpHp2t2PLR+/W22BK/Uc1WbzjceWt+o2t8Ub9JKTjWOzM5OWdCnPQNDX0c56kLO/w7KF2CdfBe7pS3d9IdumtgoRGwqVqgmVc93GIbGfvtoxfECj/7vKJ/55OOyRP/YpprjzH/LMg0ARz36kleP/71JlUCrNBQ/GYp6FTC5LjHN/VHHybTY5hK/swnTjZlJpViknvg0reRJ9f19EB/yabFWHAvZozL/UW6McnxmjXdXPHiXLWV7DedKPLOLZ4/j37xH+T+ruXBqzpR2ssrcgTF8oD/bk0dj2JlPelFf20gr32w4KF8BKvA9reirT/cIF/bIdXHgXA6NOkpQHBmrxQv9lZHvJCajtJv/rjX1rBuS6dryKEDIjZLn4oeOMsS3rpbijdGljsxXi+u557pGdtUwOhCS8s9eA+jRsk4an2ar66eAlYBsWuQk8u6xzZhgV8ZzA4E9KUbHdduWlGp2Rgh/TXHPVYC/dVqunG1FhAof5yFJwD2Ec/U3xjP11oVR02HDpWY7w9m7vpqzXnS3YVvKpS/CHulPB4Xz85hblWd8tk22/dc6v3JuqfaZcuOb9srTlje4UtCydFry2Tm00zsbK4Ous7k3LfjOoO0kqiSamZE9W2HD/LO6+gcec8PS1TVaq/S1XNvGpULDKuvO2PVrsTGTfL+LABW4pKVhyVYx02joKO1t/f6jfK9nvVDvvldYXOpM5o2d3L8Fe0dxdwz5cwFcFGo15/xcMH2UbPR9XOdre0KlUuVmZM4UpZpm9BCiriIv2F/leHU8cvfsR25zVLx7pb07JbpnO6zOfX31zpahNqG/7SnVw9zMkP6ptB9rl/tPOfHKVxlcJ/gyAlTgyvbulq/QHTodknnGmn7AR6v4M13oMHt3Xnvs//pHTyFqyz6uZjTtssXP7q2ntvRwaY0vWoeY9zn0ut+StCT2n98zbYXY7g7LpbP+O4yfOjZ/WWP6tPTNQ5bfKwHREbdkdBduJRyUrwAVuLJofGXNCMXejr1ZanXu33sP1mvLyw9qXnYX6soqjdfvH/TtWqM4Gvzx6z3Lj+O5smZngz4+7IlRwgaB5fKtfF8y6N81penTjWktORYKEWr7GnsMoo5uKheb8vWGgzoAezwkyQkNnFn5cTSLrZpZN/q2PCVx4QNbPtkmH9f+r35sbNIrzzxHd0XZMlmsNSxIu/jYohXZbvBAntLanZtYuAdymyPy+TCfmaUaPtmgLDOfL3pcUTbR4kOlill3tax/DfHkZJtdozX55oIAp7tAvccIqvsCgN0VxkSGuRcevj7eoUw/WeXvzasr34Y4SquncR162+fKV9O5daf6GVgxspbcrTiZrJvMYq28hnaabvh8vTSPQDXOmV0+h3errVx19+i6bLNHfetTeRaV+3nX+OIZ0++81+re8WnebUPrYbp8QwU/r9F98FZX4Aim+AL30Nxl2aaLMtsL26Bb/86jedBgtm+5SQ9t/EDYDTvHnQXZeJXHLZ3RXycYiRkKI4MLOulLpuUWNj/MH1IdEX099+YIZk1GtfOvKfvkcHms23Y5Y/TfFUZJrKmwYeVdrPOV9byHNP+A6HjPvx761v8AroYqELVegb10mA/fzfHkPajApbU3nXv8vm3UcG8w93KR3XIcZmZLrr0Dc+t1XiFCZQJhHHGs3mH9941OFx7NkOxMZOXpEG/7uB7WTraeJNu2kWu2KD+He0kN/7t2k7DBlb/43t0FomTe7cTqU22DhOAbhaNOGvegAteU7Q5FzU+xb/N77X59z+fRgyyuH40wtcZjj3HJcR7JxkzSyqc9eYZO/xDdbB7LuqKb/ti9htbWhrwNcXVPQpOKmTtae5OOgvxXABU+OD72yPmR9+wxOJtUZu0Q79UlVdV1DuQKMKnh1uxqp0aonXiTazfxid9xjJeat7D8ztZK7oX2o6G4oTr8m1wESSu0qSqq7Vpcnb+VK3Q9N6HFt1X8Lmekwwg4pvkqPnCjclvYypu+pknl82maHvieTVNJqvRVMhty+l00+3ccOKUTg6fR0zROKFZ+XPzsFNneebP55SsVk3xf/Sh6MOxrm+NJvpltqW5armzj6HFaxUl1T7+YdLTf+efTntERG4/SHZdtpvjFbclEncXdNTrgiiFHkst0D+XWnq7y+Hu8ha0HbbRQ5iJT9agoFjlNL1+xk+WnWRUDwVFNTjPIxNMZ/U1rsfUsn9uVVTqKNduwArGjLt0IUIGrKnVTi12ZJZFjV/7Lez/FbSn3yvKrFLuKcYQ1GdmrBvvZTupMfJwUJdn03kGxSVmLBc6Hz7kP03A9k94klJmkmAk4qxcOcjWTC5EqEephAWp03WSafWFbxmWq7bBMOJevlrnzaxqkzcakueOgWMO953C5zNXBveJWFtaqXRfLNgrl60wN5crqb1pLWXc1bcMHm2j4VuE+D0lyKzNwhKH9CbubZBc+kNb0i+GT7yybJPYcsZmUazxOOmzzmxBlk4xpZeQ716+1ohLPVtHzcaFhdvGfJUO0maGUWPJazVH5pquMa/Nfw1Kb//LmaiyKzpPsQ77ChvmTJfniHRbm6j4zGpgvcK3CXsuk103GG/ab1uM4CKvbg1L0WLky1Nu8LGiOwr7dt2HpwvnGZabJ2aL1BM7ylCQjqMCFZYfKKgOC4372ytaq1GNa1C3Kj7GUp+cVM8l/UR1BnRsQnc9nEh3mckmWaKv7tlp5f1Ubxmofk2oYWi4kVhlKyh4to0oKjbW/YDSpfwS1cCjlgtVChdUHvUv11TuCWFwpc7RMDsv5tmKaXEkl3Gw/jsvflb7InJDpnQLtbchkjagqZja/t9ErHylt6/Qcwu8jbb5ygREBKkCv95DL5NOPtEstIXJz3oUxwnykV+zzFnKPu5yZKLG6Tj6jUPksF7xklphV7MbOhiKZ70t96PQgyvwVLTg3PbI1SJl+Vg7+pqstPsK74tNxRqMtnAtQR7lUj4aWisztocn25A7K/LFfjHfrB0vN9OiPyhDtulrgnmYT+pqXOM/4+lvpWtxOI4zm0cGdhLvkqWUCyIfOm+dQjwbGwUAhCkvTmx/3mitWdZlc0eYSLKyR6wjXBxdzAdS0LuY2IZfRKBzKxSiZLamNoFaDlyUDUEsC1Fz9jIP291+Lk5+NwVeeSZOYtnipYW6csi/TlrUKF6Dib8df5OPWpZ6nkbgSmDKCCsDtdQeo3RkMYfjpbOf724WgsTQOVcvn+Y+f/NZ4j5z/Fn305c90zUL6faPRrzWGc+7ayTDf3z2jpR25oWJcHf727Ukjt5MWC7a3+oYclhOgAnB7uweofZYHqBe085adbNcCNyFA/bYI9X8H5AnAtztzb2P4eeTzvxs65EI4wAaNModovFVhh2y35ygCIG/JbYq7+o5hv/qNjttmcvOqBPgi4YhMjaAC8MXx6fixqeGWw4wfiU8BYAMCVAC+2uP5ROEZnd4yQv0kFQjACgJUAD5sOOXtTfccOx3V+Eeq/sYVCcDu3IMKAKP3vdzPZ5504S5UgJsJ98jSDxMAAMDVhc9naYovAABwVu4b+DL/HV0AAACAPPHpt1W+ABUAAIBTXBvYY4qvyxwAAAB0cw8qAAAAp3j0rQAVAACAU8yLdQ8qAF/5k+udaABXoLX+Nt6DCsB3/vT5tQKA0w2iClCBazMW9g3Cprv49cvnuAGACq+ZAVjWcgaRxt13cugLJ2tjpB41DwDnJUAF7mDbEbY7u+CIc1i+SubKhfCUG/g7jK91Ih+o8/oWcPBv5h4BqqEM4OO0Oz2/M9/bTAtPudFx/L0n8oJpNn4lYIGfM+eAH04jqMAd6Hk0iH5jvrNjO/6R/cZKuOAIOvDtvvMn6yQOqXvvQQVu0HLu237eZdTtC3/h400O4tNoMIkrswP5Mt/YWp/EMP3t/IRd8nQYATdyqzGnZ6M/XK3Qw9pb9NKfu0tt/4a8YOce7Mfbt3rw1ZfD9pjiqwUAbuRezwkerjj4Mmy6yk32JDiUgXsyxReA7zF8d6f+E1Pi2d/PHvzyQ7mDioKr8ZAk4LIvlPnoxC1z6i7OnvulGu7BfgRuTIAKXPVBtNG/hs6bR0tvHMi8XHA0Izad6luLWkNHVzIpzydeh3CR7m24WoEB4D6GY24L2iPXL+9HlLrKwFLvsDEaM5155k0ofpf55i+Sza4ybSTz35UzmW0V0yisJ65dNIicCcLTUrQnVosf69cA+rauq1iVvcKd+LG99aOFprs3abnGzVi9XTH/BRYToN6Ed0HD/q3UbIA6WWsyLzj6NJNFfvH6V1EZul5osjBAXfjSlGxXLSxJKlOTtYqffF0bqM7tmKGlC92/yrOn23dloCBNpKmHXzrAO3LsmiVQS6t7hZ//GY6IOReOrZdqq5xccRMXhW+Fq0Ndz6meOVA7H3ld3Izs6d1YsvK53duqZVvV6FritN3JV+7ou/jkuNVT2mFzBz1XUYB6hvchAAv677UOVDnkzAVCuSyKAdf4m3esPI6SokLOtAnJUo0d39rQbnNehbRaUsr3JGuxfiV8LG1MtZOc7ffOBaiTgeKZEndK+sItQVTpRzizQZUoqbidmbCjPsZUjunLEUwp955LJu+TpWm6/oLoqVaTheSKuSwa2i8XYLYm6xfYsuUqX5spbUj1mlXDRrZUYvtskukKtSs5jdsxLG5uOdxdHqR/TeEeWX75MSRAhY0VOy3F7tirpzteIu6NTKLIXBbl/lXcyxn1/OKOdltXPVmqZ5V4NKGrn14NUDt6o1Ell6qyHIeWrwLkvqpfhMjmMr/KyvHLtQFq+Tc4d0Fl/qrJ5PthRYDWNJqVS6+j0/9edLRS5pSYPykbMsqsUUitHKItyL6Sf7kqc+t0XJebvwLTcg4V8hqbaScb02kNQtPv+vZU0mD2tp7wlcLns/SQpLvcTQz3lby68+cMe/YlSqMu789Gb/1M+rlRZPcKMH/Gl8Z9muog6DB32re1CMvbjWG7N5sWR5NnVnkWPr7CnesbZ0L66Rf/RokVt2788Tv3yfzv8Sq5Am8k2ZGvP8r5JJcXpqUeffIocGbr4oHRtG7rA1CduRQS+8s9U/zVFZwf8I1O+tCYz+hyVLxG+UiqptWxQqaOSxFclFZ+h5VP98nnv2nlln5mMr6Q98r83SAWT6a5zCfFnmQyu8I4QJ/b8Fcer9p9bGAlHT02qMv0ii77HtRvP90H7yaD3QxLz7B4pVfsM+0DFdPODxLVZ8W9klxQ4sZVNmxtupJKNj8OTIe5MZ+5saNJMfL7pP5Dk41qHmUefo6hVyLJcbFBbcYXT1qq9Jnn3+WU0Q/IM07oOuYnodDsIu9ciqFp3mzBZlOKYos0qfkyPK4N9eQT7ZTH0RAfFqNtmbu6MF1jNv/cITaJdktfRGnUs31/3XZxrHb1rfxltmzTKokuPrWkE19lem1JufImTU9mF0bnOxf27aHF99X9HgEqwE76OxqZsGd+Cl/m22oTnf3yPTbWEqe812j8MfiLZtqWbcp9vWd/cBSmJd/+21Z7kJAOhA+ZLvGyKwmTEjV9NP62FoTHYdU4vcnWvwKv9lKE9nhvdDmntFhphaI48/m0+4+k0F+A9zfj9mJaX82mh9jsFNPsAZ5rwl4xYkO7MKmPTc7Lv2xzh1BSWdWdMbSW6/fMj5rN9MT+GyafZF0u1FOYqJWWz3GR4UCHnAUCVODbbNjzCM//X8mnL7mHprG37X6y+8boJoFSum5rnDFO8zmW1bJidd51RSY8SHq2nUOI5SyiJNpHoIb6cNakM14ORnLDe4Uhv1LQGUXu09WqI2K9R9O82cHV5rHC3oOmdeivObH8tkyH+TqHHpMs4kSSqxlzo9SlWcVdhZhclSoUrl0min+XaVTm1quB+TYkN69diMpXGw7KV4AKfE1LuUNPI4TZDkxbB2c0ma2rDD0LzyS1XdSeftCa/W9EPx/gJH3LyrItOR/d/0zuiMt8kRuNnkusI9ouh/rVCw255eMAsDsKLMz4nspvz4oZDoVM27agcTtnxjWWzlcsAACHAklEQVSLB/Kw8JpRbpD9b79MLltUknxeX1twxaE2JeDwX4JiTLrg2AJ24SFJwGUs6ZXk7hUtLbpVp2r84I32tzv25xa2eMrH9j2wrsfjTOurM76JBkKX5rmhd9K9c1H/NjxsW+NLKmb6vKtSsuUZxTtfHCg/ymlFar9eAV3hvP3bsvdTvNq8lgsLgvV10+Oru6L4JKXn93GpmitxPFNh8WGdFyVfTlZcCRe2S4DqZUXAZ6WtzqRDNtcmVTqAi3o5kwI0tIrxOo1taPh9uF79McNN6Sxec7dMmn5GClOM25zm8Z2Fgryj3LlQsDvp3JLj3Buq9OAK7J89+rdRc6Nk0ygrf4LN3j1aKETlu7+n5ua+mL3GVbrNYL5woakB65io3vcNcG7DMaevEVTgKjrDkOoNnc+uamYYJt8a941PTYZLNr9ul9yitu73I+lpf+inKK3kzBZsXWHhg7++K1PMDChnF2m/265ieVFb72D8iPqGvt4rlF1zXN2zY52jHdQ4QaJSO8WRx95LMJvdGjB0npCTY3bT8e2PyTalhlz4ckO4TYDqbAZ20B6zzLSnTXf1bXML2l4te+5hHm0lnvY80/vgOgq8IIgsrbJTPTUVcJ+8/4a3G4rQdudl4/ofc7XQY+od/JVGH8d/F9dYOE55vlqMIuXOonUsv20XccnZW7kg+bxIpx8LxzLFF7iMSttSa3ZWtUivwZd8KtmP48CkY5ZlT2hY+atTGp9+yqTIldmXr3WWzEOtTFrcz999nF1rzC8Qd5vDfvF1U2rxjYnbZd+5Ja/KWHDoDu33CxQG1ZJPZ4vwoUh0Uo7avcT1OyEmO3dmG0f19Ld0lMWJ+oVzO+NERYUTMMUXYOMItTGqTLpqYVmE+o4flrbmp7grsq0Mk0mOf59OU4g6qGFajdHdlX/92dYCzFVVcWZ1srvOOC+9NB09k9KW14L70orj0y0O4EVb0jH9deYu7fFNvo/iDM//5mdZj1ZqKMDym4mnuW94WSDzWf8ZOdm8ZOLzyiNVxIihr+Mc1DHxmhngwqLXovS8IeXZh+p6T2n65vb0RrXHp5k4d0nbvusv8dr75TKLFULSwkzk/CeVHN+Bw8Ji9q8yGW7tfKPtsj2YVOeHumOlKdfNaz6uO2ya+zEm71IplS5zKIR9Njr0zUBYllZh0a5dGlVJcU7JEuO51M1LdmdxhquDwL4B6ql+coDLi6LQ+NNxP3E2hBhKAUeuk90VuJY+3/kl71vM9B3yQ49ta/1uXzpJeCiNXM38MpRyjKvwXaH1wajcZYuOEfZSzX6iDzsexluZykLDtX72W4/W3Kr9J2kyf7tnlnm0/mzBtrkFfpXOiLb1otZMdSftx/haTXaK+7Qoz4fHZctZnFdTLRZHE1kcpvstyOed4usoAvYyM5F23Ksf3QKVnRiXPLUzWv85R60wm65rkl1Xs9gyehXPo2svSBzrjTMaj1U0FjmUXhM5XfQ5yff9wVxy9d0V/RXKvf3xS1Wn7xrJzD1O/1zQde1990+muqeh6mSfTUv32Vm267v1uYnf6VdpbsPo2H+P9rWUP3ljz7Bq47te/jN/HM9lM2mbnv99T3QOmWLN3Db6qLvpORRl3tG6VHZi6N30MDeZYjrjPWoL06qK2sjk1tiFTR58m+GIyzfuQQXObt+2cXKX4nSJ5gh15ia3PSSRVj2f3LzEnw7/smnI7SvNbX22u1heKX38yk+3NMz0p4trJLFqQ3d8xy7s86G/c7Oiy0VIvikENpllc7s/dw2gMb/qUhmP7Mv1Pt0tr0Ov4xCM4qRXRRcj1OdhkU7jz5VrNHugSy7/TJD4vg30FZSNr6407Yhy5pn5wrmwsmkScRQLbnaulAY8h7njofx2oVPc7g9XEY7I1D2owNnlOyh9Uzafk7smk1Uma+SGARrzKCywxwSZJUkWbw5bVL7RVk1rdprteJVa6rNLvPRPo25aY+3QYPS/baZhwtyi07HicR0nU7DjVaZzJB9R22iQPZ/zMJ0du7y65upoOhl/wfEaB4O5sCs/pDb677RcjVudmbY6ii1DGN8qMJRvZZiUJNmS8M4jDWiTbVx+4le9y/pIuzuLWpUW6qGlDe9eArhdVOzEB7ZVvpKfH3Z79tji0Zf3apk5pklfJzcEkJlSluaemXFW+qYkLFz+uZXDggY/rbHX2ELjMMwokcnHueGc7FaG6ghefveXArrygGA+l/RwyBwcM7OS85KgoXXRR92/q6iwLUl5JoXbvGKmmeSPpOxZ1DbylilUvoMSR9PZlZryqCXVXV39mxit1XJOJt+UK2U6gjj+eLpfCqvMjapPVKuklElTSpWEsmdo5fPku94thO8VbpOpsxzY2Hgm2+zC067IAS1TPqwtL/2BcnbO2lucQ3/S/VFgKbB5ffkXNM1GmnHF5+OqhVcbGpeuTcvM9snrAepsID75Kn9UxAmPM8l2/GsrLDr+W6O3jusAk5XaQ5hi5NyQfUdYORsHN0bOme2YC1CLwWBv/F+4ZNWSVuGq12xChVO0YQMnrQRweHwqQAVuZxIhLQ2ZPuu4OPrim7HB7h0/Eqk4Hr5LgDqf0Dj37OBmNoBqGY8cpzhZIZdLZj/XV1iyI+tjlZ2HWrZWal/U0u8NwCejy6UdU47PuyLn4lWZ3H4pXEjrOuiLtfv6tq+ihgW5lNcobN/VG1u4bXwqQAVu55oB6k3i09tsx7oAddtDLpNa1OPP5VUOH+MJ03PlS1Oej7knUVhLJqXs3h8edizNhlUbPTWrEu0WTqe+jJPt6N8vPdmsTna/4gGLGEEF2MK4T3f+kKl/XOC8zl/bSywarLtZHexOrSFAhdM5JEL1FF/gbvI3QF2iw3PQG7HvMyvoHFsj0lriXocMAIt5DypwU4+5gVfq9t4ppLnTa+87RnUWPByIpObudODQ63X+OAzgHMIxLw42ggrcznty7+S1fOc0XKCMjd4/ZFe6MlC36Bi6w848xn0OHFZwGMBJmOILsInhauHCcIEyfrv7TL8+O6EJwGkc8ttnii9wQ6/3MP5MTblCYHGFMjZ5zwUabnU09W7NfbYegG8VDrpmuEemfpcB+Fbt73zkus8zYy/OHziV+7xmRsMCAABwbeGITN2DCgAAwClGUAWoAAAAnOKpdQJUAAAAEke9kliACgAAnNPrjeZ8WLjTCKqjCAAAgHMEkx7jCwAAcGHhmGz/2yFN8Slwel65CAAXcNSNkBzGe1CBr276NFgcdPg59ABaBO3ltw2hClCBqwvd7U7U8mmw1lUl/Z6Hn5oG4OTCXTL1mwucerJu3PBpsF7ETVsKxYo0fA/ARYTb3INqpjjw+bazveW54pPGBY8X3F/5WWmXO/xMSAb4VuHfbQJUgPMKly7vd14AvNwTrcJpD7/QXZHhm488gO823GcE1a8Y8HlNLU+4XHs1LvE3xgmvQfKf/7n29ie789qbAsD9DYdEqP/bIc2jLxAD32dY1tkfrjJ2+GPvvIaT1sloDPkKPzGlOjxJ2U9SDADOLhySqym+wLUtjKdOF4bNz23d/TLmKevkrsHUKSs753HYXaa8AGzGPagAnzJ8b2kvOkd4uFas+hvVTWv6mnV/7ZIDcDW7BKgX7f8AtzfUXv/xBcLl3ngejyEf9KyGRa5Ux9+zKQB8bYDq1wz4lPl4c/Ronfmlt2rCNg+Fh2yKHZcEw9UuL3q7DgB8m32uR+tLAJ9sv4ZKUDqKcUKlnaokuLx0mYiyPY/RopnBz8INgvncSzmH7dvvTW5cnGzFDZ7je7CzXYIA4MTCjbL1+wdsbhJZVt7YEQU2yWrVl3zMvAGkL+LKhHyZ5nY2tblYNszmMbQEzU2bnvmuHO3XrgNsGqDm7/V8fbfZz1HPxOgjniq0U+BpCBvgm4UbZeuXDNjYXMCXjcNScbQ6Waf0gtSZiK+htM9VsoUaVsQHmUxyeUSrjr9O4758mYrr1Kpmq7d91gPU3LjvKzacjZ1bBp1fixb2QyaT3sHoNQdYw6SAyYqPYzGp0ZaX4gwdlwC2uToBwOEEqAAl2Yin3H8uBoPFyKkQJywZ9UxDoFdItShArYzG5ULqmTxC01f1WH8oBm/FqH75T8I0lowiotarAOVDo3QATHJ4P52pWDkN4/rvoyF0FDgniZc7JqY/otEoKI0Pr8mhNhOgzkXtegMAVxdulK2fJGBTxYinNFZT6/fn1pmElNsFlc9gZGFac6Hju5jzQ6iVALUUbxQH+LK1NDRk06M2wzmbS2eEnh/yzQ5NZooys1LpqHwlVjoommd+T9KYWfGZ7TtAjfZ572hw4cvNLk4A8LURqvegAhduHpPxu/jzyszJ8stKhvH3y95rkh/0HI3ChQV3DmbugxxGSadxVKjnkX5R29jqcHK6Yrr1MyVYLizYRTOLvmO20czV4Z1PtCnj1B5fDf9CvkzRrhnq1TJbX68MopK1x6fvPF5rhmzuP5tSqrTRPi8MawNwbcMh7boAFTi76TTE+aYz6cIvb4DTzn9bUFlqy0fBY6skRIhC1AW/GZ2VEpchn+Mowv0rYcbCCLWyhe+6TMYQs1cBysk9y/WecptIpy+H9qsmuX2T3fvjCdKhL0JN90tTJb9C2mIeo9C8Em1Px6wn4+oeGgxAt//924FLqMB28gOSK+SSGn5Ulv0bKmxJfVkYWpOULBSL3N7ydpRt7aL7xifT2cjJ/irlPt7TSc3l76OdXCF5xfrVw6Ze8PdU22eh1gxE7lvVpeHzIpEpAAsZQQXOLe0ZT8ZzZsacch9Xe/8L7wrsy6RbcablDnmNcy5nM5zkosXMYPLj2MhPi10pTmx6DE4nBE+LnBalr2Bd45OZKcm5w6rnKsxk6nN8f2vzpiwsA/A9TMY4zo3uQXUUAXv5vS9uj5+vT7XBC8v5mv+ZbOjcXZUbblRu1up0W0p3LJ7nZ2F8c+lYZepudyS1z1B1VJboTtJlNdx8A2uidod3ZaHWxLpeOgvcn6mZX1f3RlCBi8n3XYeLNMFb9rw/U+hNctk3Qp156NBfCTJrVBYop5O5V3XVLPSWwm+n9NijxdkXLoKsCE8BUi5ZfR0BKkD44J2SnT+05cGk5kKviX2aJs/+KD5yZ/NbiNdJb1JdufeTCbsLNnHFnnkPoTZW8Pjm2c0MmUO0537o7rtbAbg5ASpwC6O+/qJuePH5OCsSWxWUpGNryVhVEhKVSrx2SyrPxH2M+yULlK2df7qZYaO7jsO+EVV7eq+bP/vFR+Kwy6OqGld/r7Mw0AdgD4dNchGgAvzZpme8fVSVhrTpE38+I/fUm2NejZaP77cfFdw6wb4cW7J/PZqpP6fd9tzrSVB9B8f8ODwABzjol36nAPVEj8MAbm6L1nPbWajpc03PpK2qpgWf3ZLKAtv+uIUlD9CJw+vyHaTNr8z9d8Ijv7lQw54havadrgBc1hBu9B5UgK2Fy+W0XYnjlD4ygJjKT54O2bexNr3IM4S+Er+WHs0oXrLdK+547H+uUmWNR6T4MTMXYbY8hB6Z5B+2/WPDvADY0VEN9i4B6mkuMAPXNxPyhAXvsBj/Y3oT3eu/YU2Jf7rivz3ytZ3yQlnKiabfNA0Rvos4/Uc5u6E/LvrNqK0+2lJfcAx8/gd636cYf3i7Fm/M8pMKgM+Lr0BfPkD14wPsFqFG4V4S+BXCwPSzdJnxd+nYXvy4l3TB9rLPlqj13SaVjXt9UU53Nj5OU3/+lW58No2/JaPiDZuO+s49tiq9K7bp6/IQalOcmw4PdjydalS6wuOAeiK4dW8u7V1zYQrpcbW4FAAc4pgIdZ+fC0OowHYKvf1s85UNHKpPu50+oDb7TZJj48jeKLH3p/FNgB0v72x5cG8+w9Kc2FqcVbyNsDS/tjTWXXi+ctsPRRz3Zv4d1eVoR8Y7LCnxO9/XDantx8Wk/uMazNfmKJMo3WT5tFabKqdj4VxxJ5VXWqm0LdFfk/2TK13nrgfgeIdcWnQPKnB2w/6t6/y9eZPB1q7klk6SGa8387zT4952UllrXaGe0c50jHZmX0yH7l5JPRN8rdv3jKHkX4/EJv+OM0/D0Ve2hcA989dsaeYUZ213djzSCnvW5PN/4sg0M2McgOsZjshUgApctHWstZlD65LPCPAdCf79K330T7d05cdf7yzSf9dTKqU6TNMf4s3IxskNmSSfFb+o3tw7tOS5MnBp3rbMIkvvCc4eElFiM0UojNeumEM7Oq5a/EWP+Y/7lWaem8wLcBPhPpmavgNsqnSvYWU2aXES7XOsp+09MEnw0TUB8yeDfd81kxuIe0+4fC0yNNTkO7iMBxvjrx5xaX6SZzLFtVa4BRM9CzNm81symtU8zqs4ZbfwRW0mdmECbHG68PjLSdbpvPWW2inWcaWsaS5xeZIDZ1zacbHyZ16ST3mOrz4CwEWEG+XqxwfY2En6tpNO/OVMbkxdkcr4ekDXbaU92eeD2sKc33F8XY66MnF4JTgvFmq0YimiTr8dB625W1VndE5QzlwtKd9jm36deVdsump+awoXOy5+BgF8j3CnbP36ANzZNNKYjNX2rPxZ7UWdDQFL4f44LJ7LZkll9N5AW07ira/U2ZWq13A6jhIADnenANWvD8AXBqhdYd8Vfik2iAHPXbj6aC8AXywclvN/h+UMwG10xKd/xELbWFeP9gIABa/bO+7xFF+P7wO4tfEzccKesezhTvmjdspCAXAfw1EZm+ILQLfqw2rn17zGz0TfM3U/6LQFA+BGwkH5eg8qABu8E3TVi2PpIT4F4AOO+pERoAKw+merLzwVVwHA2YU75avrAfAVrvNA3iu/ffdaTxcG4CbCnfL1mwkAACcR9M7p5x5UAAAAvpoRVAAAAE4xhmoEFQAAgFMMOwpQAQAAOAUBKgAAACOm+AIAABz/KFnCUXUvQAUAAM7J01cP4zUzAAAAfDUBKgAAALcNUA3EAwAA67kH9SjDcKMA1WEEAACsZ+jr65jiCwAAwCkuDghQAQAAiIWjItR9puMaigcAALiwcEiuRlABAAA4xZOFdglQDaACAABcVzgoXyOoAAAAJO70mhkAAID1vMDyOJ7iCwAAEHHv4NddGPjvuKwBAAA4oXBUxkZQAQAAOMXI9S6RsZF4AACAKwu3GUEVnwIAAHCKANWztgAAAK4s3OgeVBEqAAAApwhQzfEFAACgl6f4AgAAcAqm+AIAAHAKXjPz79v3vr0FAACMec0Mn2ZPAQAAJwoW9giLhT0AAACXFg7J1UOSAAAAuO17UD0jiYfgWAAAgAsKB+VrBJVdw1MRKgAA0EqACgAAwCkeLCRAZTfDv3+DJ2YBAMAFDcdk+98x2fIVRKcAAEAH70EFAADgtk/xBQAA4MLCQfl6zQwAAACn4B5UAAAAYmE4aODRPagAAAC8hd+Y7pC4bpeoWIQKAABwaeGITE3xBQAAIOUpvgAAAHwzASoAAACnIEAFAADgFASoAAAAnIIAFQAAgFMQoAIAAHAKAlQAAABSw79DCFABAAA4RYQqQAUAAOAUEer/7jMYDAAAwJUZQQUAAGAs/LtLpoZQAQAALiwck60RVAAAAFKe4gsAAMA5eIovAAAAXzzH979DcgVu1GwN/8LP/w1f0EDfehsBAI6/B9VDkoDt2o/hMsUeFm7oJbYQAOCqAeoeI6g6cMA+Y5fPIdvcIkPpg5BrldIB31BtvUJ+vfpKAAD0M4IKnHoENddIDcXvh+l45ziOzMzWDdXNGH07Sie/DgDAxYVjsnUPKrDUcFC7lRvGfP1ZDBQ7bpKNU4nj2VBJJztOCwBwVcMxMaoAFVjsFZF9uvV6BYnZ8dXXh8NmGQxRyo/vXtkc1HoDAOzrkB6OABVY7+dBvjtNc42Gad+jmA9pJDppQ9NAclS4eCD0Ufzk6/mN+Ut4mESuAAAs5T2owLkvsD2jvuERb2aWGH3z+LunyI8UfmW+f5Wh+M00SQCAaxuOyFSACly8bRwWNqSlcLKWhDFSAOBrhCMyFaAC12q+ig9IKi/Y8vF0iVDM4qIvgAUA6HDM3DD3oAJXMxT+anuq8N/dpb/Rp7ASAKDgoHuXjKACW/lEvBfeTy/KjWNObxJ9f1daK0p8tOx43coqAABsQIAKrPaxKC2EemZDSwJtS7ZuVvGJSQAAdBOgAtcwjk0/ERU352EgFQBgC+5BBc7ucW/pBkHgKIm5m1A7h1ANoAIArGQEFVgrXDY+23Tg84LbDwBwMkZQgQ/GZ7XHF33U9nNyxacAwG2Ew3o2RlCBTWK9xfHpfKy4dTDZnV7L21DFpwDAfQz//g3DId0bASpwU+U4NOwwgOoxSQAA6wlQgc9FZquuw214GW+TaHJIiyVCBQDuJRyRqQAVOFZr2DlE//f8e3aFde1uS9Hei4hQAYD7CK/Xx3+WhyQBW+iIMt9+mr2+UdFNxlB/E1nT5EZDpsMpniYAALCtw668C1CBwywM6IqBYJhJMn6c0/Plqm0PdxqqbfUjrVx2YlYAgA6m+AK7XV4LP3bI8S/RR+z3ziDkhjXff42K0hQ6jhaabkwo//H710GTYwAAVhl+/DuAABXYQLb9eoxRbpzVX9zXumDxz9rHM3FosrGlkghMAQD6CVCBNcL8V3uHanPpF+Lk+eLFj2QK70cFZJ7SVJ8BDABwReGITAWowDXarekg5tz829KY6WgMNlosmZX7uFf1OZP4udjQN/YKAHBJwVN8gava9Q6F2aHOv2cjxV9HT0B6RZuhKY/M847SjyabGn4+ei3zepxS4cFJAABUGEEFlgvH5hG9gzQd9pz5uCm39yrDzGtPk6f1iksBgFsYjslWgAqcuuEKi/IffZF5rO/7uXSj0dfHh0lU+pztW3mY3VD4wHtmAIBLCjfKVocMvkX62KDcd6tbhGwrlRvIHGUVss8wGtoyGRaNtY5efOo9qADAhYUb5apLBtSj1/50/pVSe31deGhSUwHq95kCAHyfcJ9M9e6AzVuq4Q6ZAABcRbhPprp4AAAAlxYOyNNrZgAAAEgc9WaCXZ7iawAVAADguoaD8vWaGQAAAFLegwoAAMA3z/F1Dypww6Y0d8kv/1rS8grFp/pO3msT3NgAAHDeuFhXDdhCLkScvhQ1Wur95VBu4oZCy1dcZZz26JvMF+/INfcpAMD5hRtlqxcGbCA0hY6FVqwUO1aUVxlKCVWD3VKoCwBwfuFG2eqDAeuNxkp7W6tiUPkZ2RJrHAGACwkH5OkeVOCk4ghzQfN4bHwKAHB14TaZDsEwAbBedEvp1cLN16xk7SEAcFHhNpnqjgEfaLcmTc3kGUnjjyND4U7XkHss0zB9FHAYJZDcJ6sRBACuL9wmU30z4JR+o0pDmgAAZw1Q/3dEpgCH+A1NxacAAGe1S4B6tZvFAAAAOD6q8xRfAAAATjHoaIovAAAAiWG4UYDqDq+bMFcbAAD4ICOoAAAAnGKwSoBKmaFwAAD4SuHffQJUYQ0AAMCFDQflawQVAACAUxCgAgAAcNupxab4AgAAXF24xwiql5MAAABc3fD5LE3xBQAAYF9DW7T7387FAAAA4NuFtsWMoAIAAHAKRlABAIBTCh6/epyDnixkBBUAADgl8en3EaACAABwCgJUAAAATjF8LUAFAADgFBHq/250Py0AAAAXZgQVAACAUwyhClABAAA4BQEqAAAAp7hzU4AKAADAKZ4sJEAFAADgFE++/d+NXpkDAADAhXnNDAAAALEQDhp13CeWNIQKAABwXeGYbN2DCgAAwCkGHQWoAAAApMJwSIgqQAUAAOC+I6huQQUAALi0cESm/x2RKQAAAOcVDsrXFF8AAABOQYAKAADAKW7bFKACAABwCv+703xlAAAArhvSGUEFAAAgNnjNDAAAACdxTFRnBBUAAIBTEKACAABwittQ/zskVwAAAE4r3CpfN6HyPr4cDQAAcC3hqIxN8WU/wQuHAADgioaD8jWCCgAAQOqgsSYjqAAAAJyCABUAAIBTEKACAABwCgJUAAAATvFcoV0CVM9IAgAAoJcRVAAAAO77FF9vvwTgzIL3NAPAKf13dAEAPi+4FeGr/QanDgK45Km784n7d+1K6wAH2ucSstMaOH/Dp6X69h8+RwBf71rR2LTt3r78z/bhKnUCuzpospEAFfg24pOvFv/sNR8BwbFy25jnu13sat04eNy+MX+3D1epE9jTUTfDmOILwNcESEt+bH/WMR+43aOOb1Fln5hR+gGzcZwrMEDOcFCIukuAqp0DDpS2phqkb93/mQApfHu8xZJ9f/XoLTrsS5tysS3csbiDGb6QPyc+ylN8KbIfucWRW35aqw7ILcW98fJXvxwBQLZV0DjAkdGA96BSpHnmmmaHzf4WGBzhX2Z8qcIRsJNnvarfC3i0hld509O4uHsU/DdNBy/88ZAkgM1vQfS4lm+Uv+Mu+b3rOSQcRL3CXarrYo8QWnYT6jEzmBefVaPi3mYXwTmFO2WroQAOFHd9dF+ahJvVUWa3V5/eW9/+MNz9BtTbRJRbu82Jcbo7K7e67KOFhzuGqAJU4BsCVM3Sd40RZnut5Sey3m77+3z55n+HswVyjeUZD+9OrhjssF2VqxK3uWABJ49QvWYG+K7nz23XGd+2r/IzhhWG6zww9DIFfbteiT/qgnuUyyi1lqOrRskFxZAO7ofakTqd4xDnmMk9N+m5+rjjd/ZaEr5JuFG2Tl3gSEkMOu3xRH9nFqlODy19Nl2l+rr3fGcqW7bPTM3sHoU4+yzqzjKdcRNO9JLMJQkOVyv0BQP93JSA4qFcm/Xef0d213q5xnD8xLLsp8mXhYzrH5eaqOxatVbYy8v4WuE+uTpzgSOlg6RR52SuVzIKYkcplFaL3mOd7+rMdyGXvf9kPpNscLxB56u+8Z+aCVcJK/sizmJHfUUUdKG7Ohc/Pao7pfIk62qaxWirlE+1dMOeuzF/CWyl1wWt8aBglM9cE1K7xlY9h8qBXW9bEa8w6XzmtyL6rnRs5Tc8rZ3JxrcUKjeROP8l3Fq4Ua7O3Fsw34tbB6i5XklDgFq/1l/ofpVi0UJ/qa0RraxT6SXnvip0Fqdfl9coFWCDcCfaKcUuY2k6XjEOr3Y+61cmpkmWJwNu9HO4XbDbsvsLlVapgEJ40Vb7LddTqhdU+i/nTDY9G8XUtjwX7s3EPe9LOV2XTR6rpRWc3rgwadpqRWsMUAux2kxTMVVaYb8AdbR0fdfWPq/loZ/L9wi3ytaZC5w9QM30uka9wPe38RfFMYBy72suFogTbh1kKvdIy+MAhY59vdc5F9XPfDmfVkmlgmdHfedGqesBam4/to7itV03aP+ZLMd1xQsH0X6obWcxJJgNXZsqrJZ305FX3MPdUVLDtk9nAhQrPvTVV/0wni3xs2BJ+9USoBZqM79XqoH2pgFq4bCrXvuanl3V4DETk+avo7yqcebaWi4t3Vy+Rjgk1//tkqoTFzijoenjIemNTPqpr97KTEs3/EpWmbTzy6/MR9FJvnM5zruaRmWZdKHaIFA+6gizaTUoRIevCh4nPau+eFP8kCTx+qO5upsKHJJc0hwzFZv85/fDaKneKuraQa+Dri2ptLz55cbXiV4n0fsAnzsFi/lvsGwmfokK1p9ruRTvhuid5zDf6LQoLFlsp1rbvmzBKjlHX2ZSbspsvOHzK+U3orJp6Q9DS6GAcwWo3IL2l3tIei357lu5T1K9Wj75OO6XJr2ZOLGkEGtPs9+UkjweJR4yPalSZsNc3ztTa9MqGQcSkyVawvNcFsPP/8uF+r8fNdfkgiunlVXG2U1GhCZBytwaxUyyAc844iumVs5m7nCoho8ljfHRfHFf2/4KGXIjqn07dVyT+bVn0nyuOtnQeJRuq8v0+bDu9eG7DMly7a1LdW8V9+VPm9NZ89VMsoV/hdtt8Wn7EGe0n9rS1hfie4UFlza34TUzFBkI5yyiwYRkqtbH/WU/vT17rjiZDlgySS/9o+P+7yFaP57YFn/+En836uyXunTR58N4Amc+EJ2uMdma4ozEydYlWxNvTLHyqslNVh2nkN+xufSjkj1HAyf1/5ic+dj+KI/WAseD949R0TT0aK7JKKHxKpPqG0c3mWqL5sP25v0a351MW0jqMQ0yKru4be+H6V75C1BGJ0wS/NUqN3MS506pn40Z5VFoQmrZTJLNfV1uUJYaSpv4DAZbMonWzxaqFh//+4BpoRqi+q59CBcWFjf3qxlBBc4tmeW4oqGsrrp0Xll20VFPtTDhb3rx/vV9f8/nZ5yp+GU6n7In8dDQZc/Fp9n8K2u1lGL6x2jwaP2PaOtAefpN37HzHtmeNQoHpl9Nsl8U9gz14ygZtCseormcG3r68b/Go4PTBUP3oT9bxpmDp+3KU2kAMPvRhmFNZqB06UmQGZ2eL+jQuFDlQs8+enJqPyEFpHyf4fU/HydABS5oswGCXLLT/t4zSG7LttKbni6XDFD8asrjtUY2055uYy312oe1clYTzgVcTemcqINYH3GuHAkdG59Nq0MuhqxOaZxMF09Sya/5mIQ5dIQBmYj6b/1kgLWS559oZG4u8/qx+sh247kZq1uofLVOrhA0R9alDStE/bXbaN+FaKmtZ1prj+e96rvnnl34NsNhk9xN8QVurmc2aXnaVn8TXRhtyo/jpEFxR48p25N/bkal0Ft1yrLpVGe/Pb4cwnZl6N85/VmXt+k9wXp+1efGtx9PaSQSTySeHd5bFRJMh8oz87UbrkQsyrxUpt84N50RsD7luJ7WF3NmVnB/coWje/jbFaNv9w37xlXflN0xnVtgIwedwgJUitxhwTcf4cNnT6XJ3aJ90cc4i85flL5R20rR4uHVuZstF9Zw5RrCUU1WT77PQvaWdeYuzK4idCybDHeGk4wtpik0X+j4rfrsfPMVk+t3HNkfR4Mz2S7cPcXVpgP/mWVmtz0c3Ont3zkbHeZwF4MRVE5GfMopZAebhh3b4N9/VKdCtqf1SHGY79N1/waMQ9rtq6Rp9mDDmPOQH39ZUeDCmFJPCunw3p4B/XTd7i2v5zesS+VTnY/t8qmeX0tK0N8Bi7Ls3JuNWUUzmPNrTM745DpF+waVUt+mouKJ2J/r5Q5rrlqJT+EMEeouAarABrhok1Lqz/SVYXzPVdMY6mPJZxTXGwb/dFjz95PN592UweJkCp83x9RH/6S0TaitGM/FnL0EMs09SWqZI+PTjTMZH+n9UcjqY+ony8oVnOQizNztA7nko7Sy52HIjghPZlIMqw/4kKQzznImg+Qi1ed6ufvMpRg9Qhu4XIBqaihwOo1zZvPRyJJGLfdkkIL34MdQfuVLPoMNRhP3MHun7eLfis9v2arxtXeJl85MnaYUjolPl/fL43G0tnTm6nxhrFCo8q5UkoailEcmo+UH+/LIrvvmgukEh2nmSbtTv928oxyXc8dtghxTfAG2t35CaXcoFc3inO1bvnrsndHaK494JKelJ7tgztviSGqbCHX6yKfRiwg/Mwh4XId0Vc6jyqtd1dh5qzdKKhl/7ordymP5Gx7qW94iXVljcdC6Zo/Gs4hPeatmT2M/VxHv77OzWsSnfItwTLZeMwPcWnvbGvU43l2TpVn2jB2EpXmkQccV/L5y4jrFXStsst8n9TUs77m3rzpsPYC6vNRJmUbjlxscTMmU1c51K28zjhZaUKiZJGcW3XBcfDLAuvg4yE5W/7vU1F2ynjWid3clhf/7Y/Rur+Sf4239/Xt5BQDtjKACN5XcovXuI8a3Ag7dA5bT27MK1+Izn03GD7OP82jq/pTm19WGNSp3t24+GpIdnXhs72+EuiDDsOsY+W9CrUkUX0pUqcj4yNmti5spWPzvJTFiOkzddR9lfrBt241vSq12fL+Pns6JDLP3Vo/O79UmRcu2O/EfudzHd6kuLs3iFdMSPCPUIddAj8ob5Tmp3PC+MTmZUx/mnocXFSoUdmZmje+5ygbHMIIK3E10uXx6+T/tK89eDY97+tMr6uMcM5/l+jzP0o3yiK7lt450zQVtSaFHM2KnWzO+uW48hTY71JTvEWcKVhkraZGEoXNx3sJsquMypU0qr7IuJq3N7+xOMhMUrN76kvyh0SndxGl03F+suGDv02JydSMXTIe+ce2/5CfH+5qR2ukTkv7+Oz5ly0XMnsTvJqDUumVqINmwakOVNAczm5wrX/J3pr1KItidRjb/8mieyA1sw1N8gZsZXWb/UblZMX5fRFj8rJrcYGwohgfvEcTCQ1BmG9H4kbDJ2q8/kh7lZNSkMAT46u6OP5+MwpXGMqL83wumgUX/L8SkwqKsX+Mm8aWEOLf0HT+zORVDoaTo7zfmDOXBwq06zD+FetXAsO6Vn0nBSm/PTY/KOK35MbxxfBeFbdOzYN7fDsxGTpViFVObjJNlzp2oYO9dn82hdY8Ui79kxWTtxkNsEnQXrnBMR96zNdB+YDc1R206Mp3kPvouc0D1tLh6uXyXYbsfsx675OnUBY5T6JXkv8oOnswMNxXC3cIgTDX/fFINbWjoGlYrB+iljm6xA1z4YugoWUdkUe5Iliq/MthVLFl5O9srrLjKaIW429+99Q11WdrIVzA17mh3VdjMuVI8+Oa+SMq+9JisKWxlUo+zNZkWYDKltFj5cS6hsdQzBR7FXpk6bmj06sdK5pvKGVRQOboKBW7f7YXiVi5IzTXRtdI2DhrDHYXb5On0BY7TFTxletiTYaLCCq29n/LYQ3aVxjGy8QeVDul8gNzcuy18UR9eWR5ZlHdlOvZVzb6l+5mvmQ2i3cyHuUHfrCXZF9fpiVNmYoVi7fdnnou089k3HMQ1+Y0chYvxfpm9OpCJNgs1uX2A+vxXPOD//GoyR6Fjr8xdfqmcjyVrD6K+dq299zl3lnYnCLcV7pOpMxo4VOlid+Vi+2uJ7If5Vcodo3LAORq0mc27pBghLgqQK8m1RIJN2a8NUIv97sqYSfR9JXQtbX9/SDv6rho5z+/sLa41NMTnxbQa93G1/lsGdvMBavn8KhySVTM7uCVAjVcabdb0gMns+ukWN5X3LxqN9kl+zShWLaU0Ll3j5afCEdHcWCUVlj1Ymq8x/FXhT1y+vp9ZGxFdcicC3FE4aIavABXgfup9r/7QeWn+1dilefilszyv/vCrR5vPv1C86WdJv31+DLlSqq41JquVo7RaPU8K/ApO5sfJn19OytofqORHjbOx2zj7jboUmeRHx2myu0uVkj+q8sdIskxa3Zv3k/IVDLBWuEue2keAr5btgy+Najb7TfkLHsZPTlqT2tJYs3f8qToyVqjnbYbjZ1dYW5WTSPmzXYhs/F1fvHoR45QXpQAWM4IKwO21j4ndcFBo63CmEGr3TlEU3awLUE9Qb3YhcJfwVIAKwFnpc3MymWsmnWOwO1nyoCCAc8an//53UL4AABd3VPcN4L4NnBFUAM5pw8c2wR6TfM9yB+qWdwUTKTxpTR3zHcLNcnbmArCWaYucz5IXBu3PufKJi2QzTwKH+wl3muLrdAUAvsFwqkKcojQ37JyXuummeHNvw0FNihFUAE7KhDrOZ+H7grig0auxcn1mBwC3FoZjLsIIUAEAumzyLl2uFaGa4su3CffK2PkKAMC9ntQ26jfr8HJr4aABVAEqAAAAIwcFqN6DCgAAwFu42VN8uQfPpgMAgC80HJe1AJUiM7UBAIBPEqACAABwisGq/w7Kl9MLhlCBz9P0AMBXM4IKwFmEn3vf3f8OACdw0BVjI6gAnMMzMg0GUYH+xkPDAVs75k2o3oMKwKofkaH/Z2eY+UHyK8Ltjnx29Go87BPY2hERqhFUAFb9boVhg18683q50E3Jf4dr15EPQCMBKgDLbBdUnjU8vd24zNUmQv5dATltgUWoZ2OHwNYO+X32kCQATvBopDP2MsPpI+hO4VZbcxwVeFJnaTmAdQSoAHyuUzg09PbP2MsUksB5DadtOYAFTPEFYJlhyZNifp4ImKxy1uHTG1PFGz3WUkXOP/vsQ+wKuNPVWQEqBW6tAWYNm65zulbnmMfr7+509XxVKvLpnicK8O+gk9trZsgTnwKfcu725l6DZed8KO6JR+Y44cO3rnYUw3WFO2Wr3QAOFjZukjL95Pf01mzv7CNxje77rZ98e7Vn7t7LeR8efLBCY1g7Ulc2VM/mPG5v3wnWbzTIFe3982AXwykjVAEqcBGVKHDc5iy/qzHb1YmSG6qtZ/bbTRrETLmWhuDHxbRpL/M6o7lHB6jnrrDb+u6LP+UXLOXatijgC8PkFCqEg+0t2CjLNL1iMj8XGPINcdp4D7kd7toQ3DBAdU4DG0/lyvdxWrofTU3SaJVCHpP+SyGjsCj36XBAbUN685iuN7R/Wgrailln1qx3Rxuy6vxhaX9+U1T9HVdBou/2+smb3fJJySZHUlfhzj3Veke5o3mfiwPZuan9OyofI47jxVz82J9DrWmdb6iKFwsrTW6lNMP0z3xRMw10Kev0JybN4VvPCDj6/nIBKnBirx56SydkFDsOHaFNuYNV/Cbbeo6D6b7sx/OF+/tY8xpGg4tRdiF0rkWvhQqrjcqUa7hhG6dVVhp3znbe8wdMKX6Y1GXmg/ZYtzh0W1ihOpCVO/jrne5FlwG6Iqv+HLpixNHmFdadmyJRDvKKOY2/nLmcUJlu2luT0SqZKxOTaG6USVwVoe3yV+n02qD9bBxCHeVXDFArzXOpTNkAVXeWrxdula0zGthCrZtR7PvEfbW2HnQum3Ffb9K7LK/06um0dskzXaOhWqq4h9bRiy8MWlQHFKIP415sJdwsdT2bVyl0etftyLl+aSWn3EGU28hRXD7ZMeVIpPBNZZCpem0mt1rzJYXlQVLtdMtes+jPoGn5dF/k9n+SXr6Wm0b+cuHvY9fnv6rnsaBmsvF43O6Ur3JFp/PoUG05g3O5Z7aj3khnV8krbmB3gFraCgEqnChE3ec1M05oYBPxyOn4lR/TODQzBtX2npDXUkMhsSEON6dJD5nsf/6YrNNeljCkGTz+/czj8d1vJs15jBf8SyztnIbKINAQfVPMtVyaQswddevf277wJzG+jBAa560u2UmZCwTFJV75xws+KjKzblTc0PxV59zcdPElaWU3+lXj0+g8dGcxU63tV39y6b0L0H7yDK0f/jQWIXNaTdar7/1yScpfZdbOnKhx7sm5/sh9EqmNSlW7sFMpWb5dbU0pnUQzCUonMXUxho1XK+acrv6XxM8mvAusn8v3GI4IUb0Hlevo7I9wC3FHIQ1wNm0wo3ivHHsVY7Jn0Jj5rCv70sfFMLQzLHmv1VJ50z7a+J+5VOqhfvZ37jWSMzy//1kju8E9gdi4gNPNf0X7iw+moaNkr51ZvJoySqkUWSQhRLopm/QjGiq5Gp9movNQj3g6yjbNrC2tz/WvfoszOno3zD0/zjcqQstQ58wlpvRK2IzRUpM9UthFa3/L4+aoGKFGf0wOlUrUO207/q7dvT/SE+F7DJ8PUf93n8Fgvobj6xvNjoIVO3J/ke2CTB79tL/IKUqxKZ0VnZe2ztxPHovj02TUJE0+2tRc3N1S0vdXmRJOP8n1bdMhiqF9S9PNyM1fHG1+PpXGDP9ikb9/x7M6h6fs4VSc5NiWX/rnOJqdlvy53Q0b3VrNc/FpIYPof0Pj0h2lyY3yjQ7o9ya+B3v/FprsrkrBKkuWvoqPjPynnVUf1+VceeNFCy3Z9EBNvyqPNI7/HtdOfIpUN2Z2WzIn09wqs5n21CN8teHTGRpB5WpXcPyU0DgDdKsh9+KAVjzAmV9l7dWUvxySsYzXIMDSzepd79mlfXVtuzOurxCahrWb5zEnVZZZrf9KRzmbyZB5MhCfy//RHy5Ndkw/nw4KVbIfFa00jFXu2bdXc/9Bveg0yEZGyZz/UYU9r/FPdktywSUapJ9mmR9gbDwoMvskFzTHCfcf4eli0ZT2mZHp9KD6/at2/0TVX1rvGa9RMpkCv9Yql6qjSUmmY1QXrKfT1Yy6KA7h0xkKULkSwen3evZkJo1k8W6u8arrsv/QOtkk6huwIpuOiokGnrrqc5ibCTeJprq6yvkcK99s1oa8N6xtNCcfN4+mUY9nSpavsUzqtXHDspM/l175SydRz+24RVVfmbk5jrF65/x2DJK3iy7klI69+jWTztbqmN/EJdf+8kdH8RpfOZ16a6iTADs44CKNhyQBpzYZlJpvOKdPU2odAskPXX1oxOijeZRrZD5ArNwk+V5mfoJwNbuVHc386vMb3R+yj+9nLRVo640sD9Ut35R1Rfiw0hWrnNZDetUVjHomlXSXHAbL74Ccq7HR5Ofquk2lyOc3vsezIaH3xIMtrv11XmaDrxWOyXafANU1LOBAk/7EqgdahN4vNmnOm0bkzlz3W82wXvfrst/DasYJzs+u/PtXOke1/Dibnrw3s12S8YY9AotRVkvD4kwZy2kNjbcGbLDhmYINO+T0zGbb8yvsFKnNTuB/Ldi+Hf1XYFZ4T2f+XJ6AKb4UucrAObQNUI00Pqe2Pfu5Z4Vk1shP9VttNE+w0ufeTX1XjMc3Zi4OfLLw4aD0FrzUZKusd0i1cBNkKnlJUmGJZWrhyUye2YsBG8XNn9tjyyO7FXmWvlgyceBSXtunR8QXCsU7KfYnQKXgRK1x2y1efI/SsTB5OMr6ZnX5MEV+tnBvIvVB2k3yaPK8S7Epq2MnxJUz37BYf1F3dUP3DByWb0n2ns3f/+0ubm2Frbe9rzL7pm+OL6gsLnvtcKjtsWGLCHXXc258u/OCzKYr9Qfa07efAns68jQToAJ3a0Bfz3xZerPSuMdeaKTzT2j59wFpAV+3Zp3FqN57n/uyqjM/H59uMLweHiHq74NMS0N6f0tUsho2GdafPnOnb+uaBkTLet7PO/zdP7jJgVq4y3h0m2LlruPJSvWUW/wmlN2+sOnkjua9tKpNKG3G40VJLVNbkut7k9n2288rALZ3q3tQYUu/fY3zdL45xORespnWdPTmifn0X1HtXMqfbNqP+GEImzwwtzetvcLr6B7R3//tPCxm0ozmsg6lvvmo9RqOeUxQsbbTGGJBUqP0Ksn8RTaLKmCjWisX7EfY6MB87vFCJW8wwyBzaaqSaEt+mWWmW770StjQdNS0JLRFg5h7yVPZia77wTEOmhP1v11SdULfwKmuaba/xZybe/QtJp98JO/R00k6ihAWduG6kmqsiclMu9zHmROu8RwMv8rrFLIfL7HlGR9NgTy8IWkpQOs1leWrT1ddWTH1PJ9XBT7geTRnC5Q7HOtH6+JSDPGP1iiDcdk6R7zfBe4q8eiyyhkO6DVtd+mCUMc1sUmFxo8NOFUPCA413ChA5fpC4RcejjGeHpb9d/Lx33S7rsM4iUCH8fX+cpnikyUa3Pj7/5Ml5vJvLvJj8XcxWlecTzTzQSb1zFdzZQjNPc1Ntqd5LuT6rCopR4OoYafuwdINyM5Pbgk3R0uFj9XxTGVMbkSv+mgwkswCWZpIoS2Kvx63eqULa5llxp+Fn57AK4KrjDSvOUR75mzk84ti9npTmx6z702bfr6kdHBP4ZBcTfEl7/CBBqhNtQrDe9bJZEwu6pBl+9/Z5B//m3+fwKjDF19pfy6Qmw+XLNE01BDdoTZZ4blZ7zsb+3423vXyLv/v5MB4wl3cE31nmJ+RF3XiJl9ltzYNZIekXGmlrm6A/jay+3e1Z0Lf+Ij8d4zosFi+8A6lz13QiSOc4fPT0T71yNnWU73vi8xCcYmjNqFwYv6dc8/TPl7m3ZYmT1+O0koauIZZHOlk5tBw8+ny4yE3Ip0MX6cb2H2Ttt4Q3y0ck60RVOAaQkOHZjL2WV60lMvftfNX8NSx4nOVYcXAT3rpvjx4ue5GvmQa7jseHY+UlELuv/9JRiom0yQzEfR4aCNNISlU2oEu/lGV3ZpCjdbHS8a97HQP52d+zw8XjSqwtHz5y1EV57rpbQltJTq+Rlm9jopouKqtLKtKPBlve+3+9Pj/a1sKWWXrMV/rpcKmI4+5yL17S3+rOD1bmgLb33VGrVu85T/hXE/jsmKe+Vb6sypuoFAUTmOnRsRZDmzdSCXPvyyMj00HFhbdJlUfLZi9a3NJQJnLp7C50VBnZy6ha1PeGb7Cz1fIV8y+tb5q34w/nm59/ya+vpgcRuOVRhlMAvn3h+N6eNfTeIFxpu/QIruR0z2QDgxlf7kz35XnAUwGscZnTrWap0dGecB6+dFaKE4almUuaWQOlWQnxptcKVjhqKyc3rNrTA7k2kFZUG5cStVfLFbxlGw+u8tJzU0HLp6nM6b7u7DZ2V2+YN/qz/Ltwq2ydUID28gHaYU+Waab2tfvya7x+106Lfb5xShwWGUaJY76rNON7862WF+57Z+EIZO4q6vnWev75cfb4k8WBKjlSHO0SEut1FcpePWMy9dTKhdgypVZCVB7t2Vm1K8rSsqnNXPdoiOPJKnR5mYilvo1o1KRy7HK7NWBctA1l326I9ouDkyXLmzMfCM5+bIciJbOxNIak/Y73xy0t2RhNuv04IjzK4S1+Rp5nLy6s3y5cK98ndHARqZDPMvD0NZcjjN6KUmuM76yiMWOcLHn9+jlPgtRjJGyXc9sn3C6CdUAeVGAWs2jVuK9AtR8H35RgFqp/e5gu7Al7dcB5pIqVNjsYTwbUWeu4cRrloePa+WqDM11BKjPP+dG5rIBal/kXomucod3/apN49naVarc3pgpVa/Xr0JPSFlqTre64Ag3EW6VrZMbuJStAt0LKHUYl6VTG3VenU26V5p6jtWMiynMj6dMvs6+nblet7k+fBpQT8PrUgTRNFrXMoZYH0YsCp0ju/3xyPyQbzGsy8UpbRVZqbFKsBlv4tBwXBbmPjSfmeXgMVuESrobtnutQ8DApYQ7ZatxAr4zauNgZxkKL5oEttMPihMYNwn3t6qb3EB5/zhpawbTPOKIfnqBpHodorVUfaOIZ50R+kUX34DNCVABDqMTdxOnD1D7nTXwyZ44G0fBxTzjDIdTHEyn3U3aNmA5ASrAYW4Y13wnO/Lo+r7XPXztTyI77SSMT1wzAO4qHJPtf7uk6r3GwDVpvWCV4au35nwNyEG9S4AV/vdvD6droAFqdOLutiPt0Y9QzZUaOVvlnK08wPmFWwWoAJfiqtrt6I1/gEp+G7/UJQTVA1xc+HerAFWjDFyLCBV6+a3PCeEnNlU3wPUNR2XsPagA3Mi9HtJzal59mSq/U/VYnuMLLHTUtTYBKgCwgAfEjokFgVsJt8pW23x553sUIQAnY7wa4MbCnbL1awUAAHBd4ZhsPcUXAACAU/AUXwAAAE4xK3afANUUXwAAgOsKx2Rrii9Z3uEGAAB82n8fzxHgYME8DwCAUxKgUuA9M9zWz/yAIESF1bxlhjX+5mptdgQ5HOEuTPElxwRf7u97j/JgCj/b+D2QHE4s9DhyCgdQ73H1dyA6GuEOdjqTXcEC9mithi2bve9sqMI3bzw79SBaDyez62lsip9fNh8vX96ww16Ouehjii9woQZyy6nnJ+3GrJul9p4yd+pZ+vefivcFc8hDwxejSjC7vkN3hPbdjJzCnc4sASrwnQ3kSbt9f7PUhg2mzJ03CPwr5akj6HUe9X/fDWyW7OSzhhBnnFQQ1dWNT5QtDWc9vODahmNOLfegAme3cev4190bvvt20zNs/l07lK86v+sGTo+s5HAqbXY4+Yacs3x3NtRao+4m6gxtGtzOcNCptU+AqpkAzmv48e+khq3XHoeop91yLiQ9qJri03O6Vmm/iggVTsE9qNDovFMX2cXwVd3IddNpXmsPxbm0x587JuPdPj59HH7bDI19o7OeI5s9q+6XQwFOLxyTrSm+XJQ3ZXyX14in3T5j+NQ85rDiHLx3v/TMA/Q7yG3s4/DLXhn5prpZ4ZzV9LjkdYZCAB9x0A+aEVQu6Jy/3LDnK+iXDb38/bHHU1Y2SNiJfG1D73OgzrjDzzs944wlO6JAo0bm70HQ1RfTZD4c2p80DZyBABX4njCw/72NbUlOU4sfvLJBXh2vj5x9RO6W4aoHjH7ntZTyYOjpYqprRoInlz/vc23h+5aDzFtzmg68yfL5EuR34bsdnoa5739rxaAm3ClTp/vV6XdyiVdB1N/NPu4wFZ872pp9sVNUKtaCvCa9vL6oetwNTAq+4avs172ksSsk6ojOG7Merj5+vm0DveVrVo6aOHDLUld2TP4wXjAu2HVT6bjLmG2n5t4sNMwXNUTzQIbZVrVYqtC2/Pl2PJzLIXMndkrX6Q7s3Yesh4EzPZyhJRzKtJCFeLfeKxtWbGZnVJ0PUH//nE2pJ3aL86mMZgyrI6JiLbesV+7Cj/bxexRt2CZSXPIwmcJQTumSRdrRX/6r25JCeXAsPzJV2pCj+wbVo2Jl4WY3r/sIK61QOL8qj66qZ5AsntZFUmGVhq01FmxojArtejHz1i+Kyx9/WMK5hdvk6VwHtlaN3Mbf5TtM9Qgt8235+n8t+7ik7T3fth7ebEqFAGwyj7FlPGHUP477qrWhlLmYMj+Om62pxaF+vguf6cGv6K3WwvD+iKcU2mViiPwP9/zUyYa4ZqjOzsyff5VzMlfivth10wHvYvjcubtqjUvpvF8yfWNm2kj63fSoaG4s4sVz21FsD0tH5LA8QJ3L473yXKGiBit3Sae3gYbvFQ7I0z2owB1bzJAb5ypFJNM1KoMh6ZhZlOTzi2VdnkKxou5iaJrb2f16iuny4zz+/n4sVyhA/HG27kuZjb5I45Glv4ohn/8ouVJdNs6fDVvdxbakvlrSGx3ESaWUKjkXD4b2Gp4sNjR99ndoF0OxTW4SbCxxb1LVJUrH3pr8SwdxOK7TGYptYbY5GtaUaRinGgfUuYa4VIyht73MXy0ArhSgun8R2FipHzG+Gp9fOmqUCj2SZZ21R+Abd4xGoxJhi/h00itrT2g8ANfSzXrUVk+VVILKd92XExwFSeMe5nv4t+XXpdCFnw4lr4lQG4PdzmRGSRUyqR8J+UhselwUZwnUtiV7aGwX7yWhaBqFbBpTbhghtlTX5Nhbnn/l9Fr7CtVNHqyWtIXZwrwvFlbOw0x+9c2Kmsjc2G8xo1ZhdhQebivcJ0B14gL7GHcx8qHbZDbYbNckHvZ8d7FeCU/D4KgrVO2h/fw53yROs598/Pyos30d182kroZM7n+ZdHR0c/3JV2rlvZJJ4zGYFif4V5hyjY/USz3Ec1bDEG1kqVxtmSwb5euZBhCpjEvNRufTUa4eM+uktTlabWaSQGlE8HGAbvyorJUR4swlnOypEx/HaweFqydR32OJR0mlRS/8lTZJyWflCLUlkq5dP6vVWH9txtcs5xfOf6SvyzcIx2Rrii9wF+O+bTXKyvVQpwNUj392xWtRD601pipln014e78J9+We76rGC5RG3XIrtOTfOYI8CYmSYL84rtMXuyXR32ZTh3IXYRouM0RFKalcUMksFd97mksgF3U+U2vLqaHvE59662s4mge6MLpYdHjuc+ImOS7JYnGDUq260s7qqO+5RUvHZdMlkMmnwkw44Yu4/nenaBv4Is+xgmKTM+1Ml6UpvFNNg7K+Aobw7ArPLxonH1a1rIvH8TKDnZlRsHxVJZ9EO6ZYvmSZ33oarZDre/8Madc3pFau0scruqfre7ZRCsOP8re//xtdOUnXmwQDr4/KY9WFKwZxWuNcXn9X9tYykwKPhuVWZ/BOZlVatRG+SU57iM6fWoY/58p8GRqWWjS6WP28lkeu3UnS/NOR+2jxXPJ6rHBCRlCBi/oZ4AmLhwlyk9RGkgmg4+/e/5iOZhWmWa7o4vXM2Ptkf6tpKl4cXGVWmBscfM/ubJ/fOx0ozeey4a2jy2RHoovP4colUCxXeWi0MBpeqYvp7Mw0w8VjmzOTHTaL8z56VhSK8PeftQWpR3Ov+hw2LdNHBxmTU+H9V6WQozroLe38CpnJBEZe+R7hiEwFqMCVpJ2XvFHHLd+PqD6Yo+vRjpludV9zHvb8cQhHduUXDQZXZoIu6hIuWKmrd/+yZgZqfupx0xhY8dNyeN6RVN1Gx8rs9YT1NTxsMgW7ZTbENJvmmRSbFaTnht29+p7l6QDNfiexbBTYR2XIhpvzq6ZPHBOe8i3CMdkKUIFLOn5EpDLddRRnfOmDzWcD71q1JM+oalojZ6eKT4dfP3AoNmYxPxi9TOEaz/qEZ8alNt19s1Po16b/sSYpnY2fv7bRFKO23n0wPvFazsONT70NKjeeu/4bYr6nwTQVNmrf1xcGqBOgAlfymaCgNfWoMJn7NaPxoMN7NNsVYNXIzHTuau7f78eX9Eaon71sseVY87BHJkPTgbcoh7BHmNZW3oXCT+q5u3j7HXs6h61q/jW9fM/TZpu0RzPhq4lmmuJpWj8fvw+H4xto4CMBqpMduPkj5qKmbno/67BpwYYrDS2/JuPmNr/7JTml8aJ9f4OWrb75794Gzx76t4+NDrLyXbKTL1bm+DtZNM5vWc30FmPYfL9EEfbcve9zh/H7/t9hyQtzqkusUSn23BOdWopSv08buHWAKj69urUvaYOdFJ/WMjE72LbPMZ5OiWvqAM0ttCY+/XgHLPv4nfcHxdWG8kTVDTdjz4unO8anB16DyThRUQ4q8sLDaLubYPMPleqbXfK+kraHwgO5OhMphNwNkfhctoZR4Nzt/T4BqhP/6i7YAeFLrWhtJl2Unj7LZm9mfCc2TWvTTD7TP4s70AuzDdnB6H0apXW18Bc67/2DN5x1p4/mse9gqwK/54ynf+4u2YCN49Ppi1BXPANojbZmqmNfvhetvjo3SvFxFhaXLjyoWk8HTmuf96ByddPX6sEpZTuc9YGEKP4Z9VvziVcSyL1uL818Jl4r2rrnNHwo666V224k66rC5sfCjKLg3mSiRbdpKzOp5DZ8o7H2NJmFW7DBhnfELOsze+2rsFmCrRMJMp9tncnfHOY0w2Xp1Upb3ZK0zZsUsrz5kxuD4w9Gj2eKX2v688/40VdJAbLnTSikpMMDZ4sH9glQXZUC9pHr/ZS6QNOWaPzW9tE73ItN12OIIPvVb89o2uedvFG+L87ORsFtL37NrFkOf1rK1dS1rHwddxhnqniz349JKnFHdvJhscI/Jt+5n11+y7w7HdFpGZaeYJO1j93q3pIXUtluOLscTxeizqe/FaI10ut0o5VKuU6qYxI6zl8sjNIoFwH48hFUESqwqdKIV/oe0lE89uiyPHtSuU5hukayRHzvYzI+8Z55+kw+W7SF4h7he0Me3cHZCDXu870KlivrtFMYJ5DtXz7XSz8sRXxzBRyvs+TqQINp3zfZl8uMu/CTWClbV7WkRmUsflLs49c/3WEMr/HaTmaZ8tb1XxrZItBboJbrtK0Y/ZG5nLU8t8mSoXRmV5LO75nkqC4kOW4/J4uNr9pl/z0NbJ8tdqYNG+l6otJQ/hg4VUi3U7bOdmAz2e52vvGq9GsLd2aN13inneYyfUNFe6+668bLZKVMkWfu9Mp8lh08jL+abO94fm1DyUbbni6T/BU98SetyHipZVufrvPKqLpfkt2alrgpl0zhQleRs1tcfizStGaSccVpSaaVXNjL04LmqyOTVHbbK5OTy1m/bixMvpleNmndU9PVc2vORUH5xJafLW2ZZeqynFD/ydKVVumb7LlVmpnQ3hg1fVFMq7RH8g2BDiucLz4VoAInV+j19YQIz6+6ordRryjzCsVS32tRB6h50Ks7QK31n/Ndvyhc6OhyjwOhSfd6PqJ/r1TNY2EN5DczKeZkH3fkUrxw0rjHyhdEpqkVj7DcNYHZumw5kLPB4WSdjnAkXSPeRaWIuhDwth8T0wsSk8K1h7uZdboC1N7zuHztba456shkcYBarMTSkdq+HaWDqCEKLhardBkFGBOgAuSUen31QYlsL6faTcyPAWSG/fKdrEyrFz3CY7Nub+NwXHb51v5oUywyF6DmEmzudS8LzudyydfksgC1uJ3lIGU2nXFMX7kG095XX7STO6/AlIpVD1BHq0wC0fre7wpQowh1fM5ucBGkej1nYfTYM7q5fFyweeix5eLbtH0cr1DYgZWkmlvQclOcubjx/kZfFc4aowpQgXOrRJV/4y35rmpXWDdeZdST+nCLNu04pcNM8wkMM0kn45TpwFV+pY7xjFHaoX88Ze1IRzUYmFRlutcLveyGXCoBemOAOlmlklbl8G6ILcblabxAMHP9pyfgqdVX0wWgvgC163pC85GWOy3Lp+qSMd9sucoh1+TEbsynktbaDVnMi0rhqyPUvfLUsgCbKQ1YNK60qsP5DSq91Pf3k68XXAJ4rFcYzuhPqpzFv+5oIO7+L4p55gOumVSmo/RJpUz2UulwLZ8upR1duG5QO++izHOhxPSQeV12Ge//yvWE2kHRe8BEVRtVw6oANV+f5QNo7jzLLdsdcn5C/YIWcC/hPplqt4BT+Pjo5yX1dJyzK39pJReH3PsqZBIfT2K07vrtDWuKEf1v8Ln3WVS91FGszSWjhdXxwM7k1p44ABcQbpWt9hrgKvSzOfqevDD0zuk8wdiiEwe4u3CnbDXXAJfxrVObubTjD1sBKnB74ZBc/3enaBuAblpsLug0h+1pCgKwveFGASoAF/HqX+tocx2nmeHrxAHYmgAVgF862lyN+bUA97NPgOoXAwAAgE5GUAG+2vC6pOjaIhdz6CHrfAG+wHBEpl4zAwAAwCnu/vGaGQAAAE7xcAqvmQEAAODO96CKUAEAAOjjHlQAAABOMeroKb4AAACcYtRRgAoAAMCYEVQAAAC+lwCVnOAxVwAA8M3CIbkKUMnxlCsAAPhm4VbZim+A8wraqE1/QdQmANxPuFe+uivAbu3VsEmjp5la7XJ1Ga5UWAD4zgD1v32SDXoAF2eEiXtyd/X9wsHmbB47P3QW6r38/u3iTxE3yuNvazXk+9QuADsyggp8z3hd3OJppnbeI5sMeDeXYdhj52d+IYeLzJjeqPZvNIn7M8cjwJ2Eg/L1kCTgIjboWOqb7qIan35I+FCa4YuG+cPree6nKdIGj6a//rYAfMpR3SYBKnAVw3CGJFqEH/9ub7jqxYAzl409fMHZCHCf38u9Gm0//8BZb2vcf9rire7/671nM17xA9XQM3Ozd5bn+xdy+Mxe3TCLLWo/3f4rM7kf4EIX+IygAt/m9cibgx1egAZ/I8FnLumwYNmwaOC9Oaw9xfD5FmHY8OPfHdxmQwA+KRzUAdjpKb4A9xkujJrntc+cea3/iPs+32vODdJFj6fNP+n0Lk9mH8KSxYeetcOtKuxOOnc+AP8OajgFqMDFG8rul38Um9tHbDEN3zoze7/P5Fcc/D0jntfTZ4YPPmU0FLbjUa7XNNb7vmZKiMJ5HXLBCqDifX/LZwlQgcsoPVV1o47dO/lM2Jj7bjaddI0o/Uxy0VNGhxW3Ao4zT+PQZMFxsXKlms9mqy71RaLiSSFHQ86ZKw/1FW7rQ6/BvbT3jcKvi1pxezB8yW3uACMCVOAiqi/9WB2jjqK3pXcr1taoTTFMvkqCm/Sbua2cxtPlNWpR6GO1cfCaqZa+yaylYeL4TtetLjZs3XsPo9sY4wsO7Xk9xqgXvIp1OMOrhKep5ecAPAOuYWVIWw7ENg6A+1qQTLHS6pgskLmkk33zzV+NxRPFy3ld5aoOcGXhRplqMoHdWqppB2/8RVtqxTAw+jbpdTaOWozSqozGvr5+pzzudk/WqWafy6FYXdVnBg3VVZLPqzftVjamvJVtO7IptWGDx/jm9kuhyLO7qzD0/BdQh20O8HjdUiVn48DyN9OB4/fllvrFnOjbTD2+d0i2YiYfvkqzZAh/WiXFfFrSGS2fHFvjAy17rJYrrNxSrDomAL47QNVkAtsphC+vTmBn2JFZPO66ZjqaSY5d02zLcUAplySPTP+9nn2ul5wmlvumFFeVwvZaDFiJHEt968wPUfdc5pYweGmA+gqIahcORkPOmfwroUW+yLXE5gu9Ovvku9LgcfRdLUCdOYUbviwdkR39jVKAOnO5pbr4dPPT42BynSs6kASowAWEG03x1WICm4k6e1E7GfX5hrWPTk16rpWZuD9fdeRRXXQSOTw++M0+nbr3t41NPxLJc2cf9dJVLcmy5aqId0WafrmUUQ8+2V+Lfvxm49NnLknpFj7INRounGQ/k+TM+HntqzjICb03QFdKvLlHqeYr9xV7Pbejsspo8Loym7X3tC/PoG9bvT//ySj03yprHiv8OgE9Lxq4X3zqHlTg3NIxr1KX7vH5Np21aSavdIclbyfJJr2gpE392bbwerxUaRC6MjhdiJgnUWhmvXwpu6LV0jhU5lLDFgdFJVBPL5ukOziTdTS+lt7oXBiAfVZYY8W8j7xRFSeHZFovS3sfk6G+3D6P91Fm17eE96uvP7UYXzUpmsx2yCdXHP2OD8p0r/7+9by0NLNXfo67Y3qNwFcJB+UrQCXL4+45mdLx+Ioc1zSi+al/cU91PMFztcL04kL5or7tXCFCbf3SF7N6Z1HmBn2LUXuSRduOjPdHORbYfxgxGYtL4q9HANK5MXGBR8dFU7TdVsdJgaczU3sCwdYrHcViTcP7TOwXhf1p+pvtz+4DfLpuOfKunJPpBY1CKfwYAwc57ELY/47KmHPzg8hJFKO35wS39M/NJRHIj+2Tfab+zCSz+KtXPnqObHc+v5tQ2YxFZ35bLDITO3UVIXR9sefk1t//fY16VZVC1snFjz2a36bZt82hbX3Z+uqFMdbfo/vnAJ8Mub7/8Q5f0/+s38EdlxMmqy34rmXxofDVbwVNBq8BbhUOGEElT4TKRXy6m9YyvLTwRsf571ael+XYoPD3Uq2TR8eD1AvjhL1VwoG/OyPbhn2HLQ6W6vG34MBbdqzO7qPpkTV34nxutyc5lQZtN5Sbg14t08xX5ztBgLsKR91MIEAFGIkb5MnNf6vuhOtt6Ue5N7/2MFvIcPrqbry3YHYwds3Tl3qNCtOSZ8fE50X3KvevMj9zvLBAe7y1RVi1zV2oaSq9I53dB9V7hUXHY6l8Zz2bgVsJB+UrQAWoGoeorb3kNZ3paH7f+Fk3i5MNtadA/dvSsKKf337/+3M/5G722/0ndVz+5tCpXrLaPaDzoVHTAvWCttb937L91RzO2yVqzHPxcML4eVI9mZYTAtjRknZ+EwJU4D4WBm/Vl138Pqd10esoFt3T9hOgbfFmlFGy48cXfeKe3VV1vqFNUpsdYlz0+KrXd+WbrLvGZhvy3mLPh+6Utjne9prcuurk7htbrq7TkvHiNQEWOGiO704BqhdzAZ+yfXOTTMp7DOklQd76HHKFft2BOXoqSlqmhc3rNnexNtxJumhO6ng8csty7vNzNI3x6zsmeVpr8Thqe5XoRhY+5Sh57G7bKXHiqKq/aI/HKfenu8kk5zit0PDELYArRqhGUIFrG65+Za06lhg/r3SDR+DsvYXvgL5hychk63r3RW75fa5cxE+WXbBH/q5CHBaxDUeklURVDfOMd66gUrDdmufofTLjr7sO3c4NTWuyNFV/6ykIAJ/mNTPABRzRoR8muc8+nGePQr9fCbO01zl6VG7833FeC3NoT6ZcgNcbRjbJs5DaqtHn5I+/oaruQrcvvenTkYa9BvEWrLCkDHvdNB3dlz0sq5xDQsHp3dejD048ZA3QwAgqcGbFEYbXF8lNel3dxfeaj8SKD3/9+aKjz/csW2NX/rV43O+Mo8oNnov02sT0++EDg8iPNNM6fhTqVabHMm3VPH9Q9K/aKbyHqdJprk0Z7PtonKSKd5sWsDQ+7dn48q252xiHzmGfCH2nXSEKBW5rpxFU00uATdUG5cL7P8smzEVJhdeI5TD+YnnzlrtXLAlq3rn8KK7TkX9oWyFbAy3LdQ7tVLNMPt3612O0Pas69ZM7ZduX7Ux6+s3Ke4iLO6Zhj9W+Lx6s9ZRab7XdZuNbde2z6dB5HIEn9+m+0v87GKOzvDKjYGayA8CdGUEFTm08vJgd92tNbLzgexSseXLcqk5ynHg83lsauklGHRcG36/ZnQ0Tbx9/ZLbx58P45sFQeqRpucTTPZkb6Qsdz6mp7IuoAK/tCYsHs0ozoksj7s8vG7IpP2Yoqa+unV/JNq7m9BLMeyJC+nlTJq8/pmfr6MDLnM7FwpYOxnpZKmmNZYvWYzzZYZpQGJJc3v8c7dby9I+5V9B6KCVwPztdm9NeAvu1U5W4oO1JqpkVRsFUaZWO8cvZTHK3uY6+Ko54tWY9F2xksyk8RSb6slKTrwmQ72WGplpJEu7czGrBKk/OrWdTTqxSAT1Haymt4ipLq6VW4nR4chRy5U6L9z6ajBOGykk02tZxueavOqUJdB0uaXKTzUuOj9m0Qncdz9V9uWTjz2tNWK52AdY6ZB6HABU4vUI3rrsDX49RsrPyCl3uOYWIrxLuFjqk1YCzlvMw82UaiJS3sj1AnQ+rGmulWPxasWbD0EqE2JNJe4Q+83E9sfznfXHYfP7jgDOJJfsuAtSudDwSzX5ZOu7nj7zkhuWFkfuCg6LjMtf8nmy+YlWLUAWowN3iUwEqcAH98V5LMpN10rGk0ZrLJ4VOshiys/IKvctSSvWMN2yEsyFEVy99Jg7uHybujJ52CFBrhe6Iw+sBavfVic7hvWHzixDdm959zSa+jJS/pJRTLED/UVFdo/X6wHwLVtz11bOlfUQZ4MTxqQAVuIj83Wj98Vh0d+IdW6rtA9TC7MfR7MjpV+MBucmX0/Qz2cwXarLWosGnpiziVcpDf6Xx6KQa02qoRaLj2p3XNj20GArOB6hxJJRsSLFSimFVPQafBlzpZZzskbk6QG2IT8eVOtnUSRr5aLqxwubOoKbvAC4TogpQAW5kjwD1Ex5Dy5sUvXPQeW02+RH3/HfRUHx6xWXbKybFscXS4ZGLqWcmHFQf3jN0FuoxGtoxRpxOH25bp3MovJzSfDxaWrvnUlpDcQBuGaEKUAFuxCS/f+d4umn3rPCjy5W5ONA+h/bSemLMQoB66/oBvlu4T56aaoAjtE56BPoJUIEvE47I9H+7pKqlBvjKBxvANxGfAlwlQAXgCMJS+Nxp5nwDbi7cKVcXEwGOUHhZDbD1+eWGb+Duwr2y1VwDHMKbJmA/i17bC3BR4U65aq4BgNupv7oV4FbCjXLVXgMAd/Qlr98Bvl64V8ZabAAAgOsKx2TrKb4AAACcYtBxnwDVg9cBAAAubDgkVyOoAAAAnIIAFQAAgFMMoQpQAQAAOAUBKgAAAKlwzJOFBKgAAACkhltN8fUYXwAAAE4RoB700hwAAAC2YIovAAAAp3CnKb4AAABcVTgoXwEqAAAAieFeU3w9JOna7D8AAODzjKCS4SFXAADw5YYjMhWgAgAAcAoCVAAAAE7Be1C5luD+WAAAuCsjqOScOQoMYlQAALinnbr6RlABAAAuLByRqRFUAAAARo6ZtihABQAAIHXQbXUCVAAAAE5BgAoAAMApCFABAAA4BQEqAAAAp3gxy04BqhdVAgAAXNdwSK5GUMlzjQEAAL7ZcKMw5KDxYAAAAC47ZGUEFQAAgFPYJ0A1gAoAAMApAlT3LwIAAFxYOCTX/w7JFdacJUboAQBgXwcNOgpQuZLhXxCeAlcSGi+qtS4HAPfmKb4AsO8v7NDzU+wXFIBvHkIVoALA3j+wQ8cPsZ9QAL54iq8AFQC2vx1+/Ps69PwG+xUF4HhGUAHg7MKyYdHc0rWfYL+jAHxnhLrPa2YA4Pa/1SHs98vtfW0AHO2Y3yIBKgBs/Nsd1v/Mi1ABONZBv0QCVABYLBuK5n/SPQ0JAGZ5DyoALHt1TO+gqIgUAGYIUAGg22+sOfwL/0JtIPTvq1ccK0IF4DoG96ACwDUMPeOowlIAODZA9VsMwI2lP3OhNg04WdyTjwC4jHCnKb4mMQFwR9mft/W/eb8piF4BYK97UEWo7Oe3D+cIAz4vTBufoXoPaqO/FAYxKgC4BxUAmk3fFbNVfJr+y2U4AA423GoE1e8q+3F0AQcGp5lR1MV+x0yT1H6eCwwAZ3DQL5KHJAHALj9u2ZHR8TLDykwAYBdHXTE1xRcA2rRN5xViAsDJAlQTlAC4o+HfMB+lilAB4GT3oALA7bTefzqE5WGqS7wAfDUBKgBsHDuWgtOhOQ+jsAAcazjoqulO96C6AAzAHYV91xKfAnAehwR1OwWoflkBuKUlP9bCTgCuJxwz6OgpvgCwq/74VCQLwNG8ZgYA7viDLT4F4LbvVtueABUAdoxQO+LTgyZTAUDGQT9KnuILAPv/urfEpzuXhdO/oChaY6+BiyWvQAq/L05qXO9xGJsGACy116+hdgmAjwkf+dlZ8KyjRfGpn9Cb6YjuFq/Rl3JX4lFXcdhyWeD0wq2y1Spd22e6egDb2K83n8tnSde+Z+RJA3w33THhflFe3OvrOijb1grFZev9Ctdm4JzCvfLVwgDw4R+zvX96+nvRi+JTP6E30x0Upn2z5qh2OF2A+lq4fiKkazn84USMoAJAXXEc5hMRau8IZ1/EKT69o0wva37/LgjYWo+ejgD1cUr1bEEpmg3VVac5OAXgLDwkCQDqHs9q+fRzZRZl0/esGA9IuqNxPBj2uYkmtD6NKbTPkA/dh2Vp2Zk0HPlwXuGgfAWoAByqq8NeXfSMAy9nLBNHHQfDb39vwwspud5jZ/Ihu9Y23dLwqWceA7eyU4D6oavYAFCcirhbXts/uckw0h3lJt7+HKmbBWBh3RD/wkJsOhu9cOR7WCN8MyOoABxqo47ox/qzy54ts+niXEIhkPudp77NhfxoyvsQT8w9IrgLe8zaBw511An6v2OyBYBL6ur7GwXioyZPJZoRDg8PiwU4vGTA3UZQ/SQD8L03hfQ9IClxw9og9XcnavvCCxZrO6keQ7lbhIJL0xCGAlOm+ALALvG0+PS7PSfHDX27eUnMNiw+TIdsYT70EsIzPJQbOJ+dpvi6IgZAm6t1Q8OKB7/AnHVvdhmqyVzrXDt+/jFwDCOoAFxe+GTve3ZkJzdw9vuZMaFvlNvp5ef4joKyYXkWTasOn3wySvfh74SB73xKkgAVgIvLv8nxU1lvkKuRols6/24dPteLHTKn5/krCLjTFF+XvAC4v9D6oa749wqfTDn05LtlZ62e1jDoGcIVhWOy9ZoZAK7jhLelbfqeDL34L7dghu8wDPkVTnKu/BSv5UqOYx948JAkAC4jnOsHJrR+faZCc2IfPVCGT4WncQRdXvCDTxMGGh104cgUXwCu4u9JQyf/zUknWRaKzBfY+7hcflgNv6pLtKRSXWOIP51Pru2ZUcBX8JAkAK5l+rSVg54zuP2I77lCbfY6YEPjM736j4f64VZ+MetsMXpPsZ8B0dCZ088awJm4BxUATvyLuVv0qFf+ZcKHjrhCPkvi08dk3Z7lO9YAzikclK97UAG4qHM8MamnEz5X4FNsEDv728snD97GUebvf5IyD7NHcaieoW0Hu1MCDnRUO2UEFYCr+bux87Cu6zPjsPmP/cmDFrbQfNgMCw7DliNo8azzvmsx57h+BFyQe1ABuJzwd7fah+O50a2um/W/T3sLLdtIbjdtvg90g6O7cJ/r83ibeUzS9LCMPxmvHDaYLeBEAHYMUF0DBmBPYRri7f/T84wk436/HzxmRQdMaL1WMXdghd3nGg/j+LYWn9ayWHOOOL/gCxlBBeB6wjHd2J3HOnXG72V6uLQfP+3x6fpHKZVSqKTclWnr03yzg6pOCvg+O/3Uak4A2P8364Bfm+eoU3n0qfLLOlz5sTn0S+bzNgxAZsLOwuSAKLGhMrWgvNbE7OFXL//M0PDs8qV32Tgr4DjhXiOoLngBsJvM7XHhUz3ZYTakHCbfzd7z50fzph7HQmuvKKzuH4bl3bGet5Z2H7Dzife+NBXY3WG3hZviC8BVvEO/yeTJTz9oaOj5bvhgAM0dJOOnW6YbXzz57CnTECt7RhLwy0OSALiM92NbckHgmZ28eOzq8SrRxS+Y2WxeWjK4PylPPZu14WM6RCoYBYq8BxWA6xDncSWHh2GnuqszXLIK4XsNR2UsQAUA2F54DFjWn3E0/bDhpTSFZySFdS99qa4+826ltT3ZYXD5CfgjQAUA2NwkPJ0JwMrhYXPkNsx/vfgdvqFvVHPmAddbbRKwo6POPw9JAgDYWu+7g8IeXcKh/ufC+bNDy/e598a873KdPodbJArnMxwzyd4IKgDALtKoa1gYn067iJmXGM3m0JJuedHZZZtHisvLiFGBHwJUAICNzd3v2ZzGbDKLRziWrlgozvRe2+4MRKhwLgc9pUyACgDwCV0B2Pyg5XPB7D+XaHko007x5e+6HtkLZ9LcCG1NgAoA8BHlezD/jb/ZomdYjxgX3B87u9gw5B5a3Jr59ENjqnCkg85AASoAwGm6e2Hvubg9hfkdRAntizXfETt5flJTWYCPutcUX80MAPDdau8LrfSUwuT7cKbhjtItqH//0QOE2xiOyninANWMDACAzvjuV5gMWi4L+8IuBS6k+nhPTLJ043RfgA+8B9XbrACArxVO2VX6KdWwT5gbHss9lh5636Ko4wg8uQcVAODCQs/Y5/ph1bDqMUrd3wDfRoAKALC9vkHB7YcQC3NzO0PBzOINKXgFKtzA4Cm+AAC3UQjSHj2+ScdvGMpR2gbvi3nf1jr9x2qh9Mik1onM4lM4o3Cre1ABAOjp8cURavP7WhbkGv4SbHt7zLJlXoGpqbtwYcMxZ7ARVACATxk9Ragk/n442+hjyxzfyVtRU4ZM4QqGQ3IVoDLlcicAnPnndLhCz1N3Aq4uHJKrAJUplzUBYP0v6bIHDI2Wyz+mZMgtOn59am+2C3//h+YsSxn0fg58xEFXmQSoAABn1RC7he7gLv/CmeGTN6+1ZCY+hUMdNQtipwBViwIAfK/CEOpR/b22B/0uXTGfY2bV0ub3h9jAfRlBBQD4iNAae4UzvDi1ecElK279mGJgc8O9AlS3xQMAXyxz62j5FtFtdCQfQuPSi4scZrY21/NN1xC1wtEOOgu9BxWAvND/O/W7SvoCxN6phUNXLqFjjfYM4lWSmZrt637kV71x6zlIdOz07qbOsPDvraPh9GMJXdXg0IajhZvlq1UBuLgFT1DJ/qZ0xo/zy/ffKLdqU4aeiZnRuq3B7PIfzL6omWNEe6n5OkzjCTFKb+aKUtjzYbyLHhI8rQ/TfuFcDopQjaAC0PYMzrBTj7F3sCj74dC5Ke3d3yTpFeFkLunX//xqTzvZnm3LxL/Dj/LWZaPjeote5PHHkRvE4FxuNoJ6fCMHwFqhd6LiohHU7uHNJblEE3bTubvzmSSTJ7cdQc1sSfNE6njMzI/uifUfrh1PtK304joeoVsvUttRuuihTssKBNw9RBWgAtAUaPVEqHFQ17ZKtEbrHN+eubfTWLs1Qk3nHvbcUds1JXroXWvJvbEcou8STFjxVKG5LIppd5aopyS1lWrrOKbheDd7DyoAX2woPcV0KomwGvuk0cJDUyb59Lt+ebsK2Jzos/Q//83dhTdXns6VOMT4GK0fRX3HWGHpzgN1i+N6WPB949kLHMRrZgA4pa7ZrQsNK/LofUzw7j+5CwLfv38OK+7B7cmTTxve5ndz8v0wd7Rmvx52DWcLyy+Ku4srCV3hi+01grr3q74A+LT+LuNnOplLc9lyIGtDTb+fr9Lpx19Mww5LpgW8I9T2EK+cx6Ihy/E6nzjmHNfwzTzFF4A24QPdzMnzdnfJZXerSlR/Kq/rv9/geUvy3zz2uWV7pjpEjwlrL03rS2T67p+tpH2+Uxq4Q4CqbQG4lyVvg9l/0HWvd9+8es5xuNiaVUeRwkyW1eW5r59jYZPbUbML/ib+e5w1vaQoCT2H7kh2mCtNup4eJHw7I6gA7KAvkFr8Ks/Q2sNuexLpFj4cQjYEtVzRrjv0PTK7bTbZCHU2i79pzJ5IDacT7hag+qkEuJWeEdFwzvhqPBeyR+hfcPngbrk2DKByiPcYasOt29GLejtOAf1GYPcRVBEqwMW9hkOaH+Q7GkDpnuo6dP7MLBqn7c9qYXzql5D76Lg9/H3YOwGABUzxBaAufK7f23XfXX+5wt3m98LHCDaBi79mRkMGcHnhIw376M0XHwnxukZquws17LcxflsBuLn9AlQAvl24dNQ1eXzvx8p50goBgP2Z4gvA8tcbltboWyW+N7Tjxs3+gj3tdXPo7k98MoUYgJvbbQTV5V+Auwn7/gq8HrLbPvDam8vwnE+8JNDruzs2LM4HAL6YKb4A7HXNsXO9RUHt6BbW2Qw6ItT3ot1xZmuQ3au4sS4LA7CpcLsA1UVjgPtYMO44vEYru7PZd5X+Nbqjzb6weR0/twDciim+ADRbMJI4F93lFthrwHL0Rpu9ftd+l1wxl7iBsBSAfQ13C1DFpwB3MiwLn0LnS1yW/Xj8hKe7RKi9xflL0i8gAFcXjvs5cw8qAA12/ZlaNx644BnDOyw6KciCIdSWmDmfrKAYgC0NszOgdiNABaD7VTCN+qfqxnk1Jrv4B7TjOUlrQsDQvWQ9q/Rbc30BuBcBKgAdUWM9IEq+7b/2uiT8DSveZ7NgndnytH8+/q4tPs2t+blHMgHwJYbDcv7vsJwBOLfoTtLoZyoMm9x7Ol5xWLRWt2RTqtvyMPRn0pDquzjpf39zbCzS2jt3AaBmOGiWjhFUALImP0vPux93+b2KHvc7Nx64JC59r/Pzr6E7qa4YcBxAbl1ho8KITwHY3u2e4gvA7X6Zhh3mk5Zy2ddJ5sTmIteWkiXLnGNTALiZcNRTknbL1g8mwMW9pqrGc1ar81dDbmrs3O9B9/Nos79c7bnEd6AOmz5pf3QT6XwNhOW/nn03rAJAr3C7fP1mAnyl9DbP1nV+9Ny7OaTrXvQ3x8tiADitcLNs/coCAABcVLjXPajiUwAAgIsK/24VoIpPAQAA6OMpvgAAANw5QD1qQBgAAICrMoIKAADAKQhQAQAAOIX/ji4AAAAAZxJul7PH+AIAAFxVOCZbU3wBAAA4BQEqAAAAdx64NcMXAADgosJRGXsPKgAAAKeI50zxBQAAIDIcNiVWgAoAAEBiuFmAao4vAAAA5xhBFaECAADQwxRfAAAATkGACgAAwCkIUAEAALh3gHrYc4kBAAC45DOF9gpQxacAAAAXNRyUrym+AAAA3HoEFQAAALoIUAEAALjzFF+3oAIAAFxVuFeAetTmAAAAcFWm+AIAAHAKAlQAAABOQYAKAADAKe7ZFKCS4yZiAAD4XsPNnuLLxXkMMwAAfLFwUL4CVAAAAE5BgAoAAEDMPagAAAB8t70CVA/ZAQAAuKbhdiOoIlQAAABOEaB6DCwAAAA9/vu3D/HpVQU7DwAAOIaHJDERzM8GAAAOIEAlNRg/BQCAbzcclK8AlbHBHF8AAPhu4aB8BahMiE8BAOC7DQflK0AFAADgFBHqTgGqMTgAAIDLCsdkawSVKU/xBQAA7hWKGEUFAAC4ovDvbiOo4lMAAAA6mOILAABAwlN8AQAA+GoCVMY8IgkAAL7dcEy2AlTG3D0MAADfLtwsQBXlAAAA0OO/f/sQn15YsP8AAIAbjaC6j/G67DsAAOBeU3xFORc2GEAFAADuM8WX6xKdAgAAh/AUXwAAAE5BgAoAAMApbtn0mhkAAABOEc8ZQWXCA64AAIB7xSKGUAEAAC4pHJSvEVQAAABOwWtmGAuGvwEAgCN4SBJTdh4AAHy14WZTi4U4AAAAFxVuNoLqQbAAAAAXNdxtiq8IFQAAgB4ekgQAAMApxhs9JAkAAIBThHOm+AIAAHAKuwWoAAAAXNNwUL6m+AIAADA2HBHTeQ8qAAAAp7hn0xRfAAAATkGACgAAwCkeertXgOohvgAAAHTxmhkAAABOwRRfAAAATkGACgAAwCl4DyoAAACnYAQVAACAUzxSyEOSAAAAOIX/ji4AAAAAJ3LgaKMpvgAAAESG4XaxsYckAQAAXFQ4Jlv3oAIAAHAKpvgCAABwigFHASoAAAD3fs0MAAAAVxQOy1mACgAAwCkeebtbgOopvgAAAJwhQBWfAgAA0MUUXwAAAE4x4PjfURkDAABwRuF2I6jHbREAAACXvGNzx0DSbagAAABXFG53D6r4FAAAgA5eMwMAAMAp4jmvmQEAAOAUPCQJAACAe9+DKkIFAADgHA9JAgAAgA4CVAAAAE4xIXa3jD0lCQAA4KLCMdm6BxUAAIBTMMUXAACAU/jv6AIAAABwKuF2I6juQQUAALik4aiMTfEFAADg3iOoHpIEAABwScNRGRtBBQAA4N7vQXUXKgAAwEWFY7I1ggoAAMAphlD3C1ANoAIAAHCKANVTkgAAAOhgii8AAAD3fs2MKb4AAACXNByV8X9HZQwAAMAZhcNydg8qAAAAp5gOa4ovAAAAp+AhSQAAANx8ii8AAAAXNByWswAVAACA2HBUiCpABQAA4BSTfAWoAAAAnIIAFQAAgHsHqN4yAwAAwCkC1OMeTAwAAMAVmeILAADAKQhQAQAAOAUBKgAAAAnvQQUAAOCrCVABAAA4xUNvvWYGAACAm79mxntmAAAAOMUUX0OoAAAAdHAPKgAAAAlP8QUAAOAUjrpj87+D8gUAAOCUwg1zdg8qAADAVYV7TfH1FF8AAICrGo7I1FN8AQAAOAUPSQIAAOAU02EFqAAAAJwiQvWQJAAAAE4RoBpBBQAA4BQ8xRcAAIBT8BRfAAAAThHN7Ragik8BAACuabhbgGqGLwAAAD08JAkAAIBTDKEKUAEAADhFhCpABQAA4BQRqgAVAACARDjosUI7Zuo5vgAAAFcUDsrXe1ABAAC492tmAAAA4BQBqgFUAAAAThGgHjVnGQAAgHXudw+qCBUAAIAOHpIEAADAKXhIEgAAAKeYD7tfxkZQAQAALiockut/h+QKAADAWYWjMjbFFwAAgFMQoAIAAHAKAlQAAABO8UQhASoAAACnIEAFAADg5g9JOmyTAAAAuGIwZwQVAACAyHDYXagCVAAAABLDQYOoAlQAAADOEJ/uGKAe9mBiAAAArhjOeUgSAAAAqdvdg2oEFQAA4KKGQ3I1ggoAAMApIlQPSQIAAOAUBKgAAACcwn9HFwAAAIBTOeyGTSOoAAAAnOJ5QgJUAAAA3obj3skiQAUAACBxVITqPagAAACcYpavEVQAAABO4X93vLEWAACA6zGCCgAAwCkIUAEAADgFASoAAACneObtfwflCwAAwDmFozI2ggoAAMApCFABAAA4wwxfASoAAADnIEAFAADgFASoAAAAnIIAFQAAgFPchPq/Gz6ZGAAAgAsyggoAAMApCFABAACIhMPmwwpQAQAAOMNrUPcMUI/bKAAAAK73QCEjqAAAAJzigbee4gsAAMApZsPuGEWa4gsAAHBJ4ZhsTfEFAAAg4Sm+AAAAnMEdH5LkHlQAAIALGo7K2AgqAAAAdx9B9ZAkAAAA2hlBBQAA4OZTfA2gAgAAcIoA1TOSAAAALmk4KF9TfAEAADjFaKMAFQAAgMhwWIgqQAUAAOAUBKgAAACcggAVAACAU9yE6jUzAAAAnIIRVAAAAE4x3Og9qAAAANx8ii8AAAB0EKACAABw8ym+AAAA0EGACgAAwN0DVE9JAgAAoJ0RVAAAAO7+FN/D7qsFAADggoygAgAAcAruQQUAAODur5kxxRcAAOCCwlEZm+ILAADAKZjiCwAAwCkYQQUAAOAUg40CVAAAAE7BQ5IAAAA4RSy3X4AqPgUAALii4aiMTfEFAADgFBHqfwflCwAAwDmFozI2ggoAAEAkHDaEumNk7CZUAACACwpHZWwEFQAAgJiHJAEAAHAOHpIEAADAGZjiCwAAwHcToAIAAHAKAlQAAABu/pAkb5kBAACggxFUAAAAbv6QpMM2CQAAgCsyggoAAMApbtj0HlQAAABOMRt2v6w9JAkAAOCSwkH5muILAADAKQhQAQAAOMWE2B2f4usxvgAAwP/bu5fdOJIcCqCiUP//yzFoeFrK6kVP2oMULyPOAbwrmMrlBR/xAbfpoAIAAHBRdlABAABIsNrGYR8MqM74AgAADLS6CuugAgAAcLVjBxUAAADuE1ABAACIIKACAAAQQUAFAABg84DqiC8AAAC/QQcVAACAq7W2C6hth4kBAACYGOd0UAEAAIggoAIAABBBQAUAACBiYVNABQAAIIKACgAAQAQBFQAAgDdrw9nirm8CAADg/+CZGQAAAI4moAIAALD7FV8TvgAAAPNUW5jTQQUAAGD3DmrbNwEAADBwGtaILwAAABGM+AIAABBBQAUAACCCgAoAAEDEPaHnKltBBQAAGKma6r6a6gIAABCp2iob8QUAAGD3aGzGFwAAYKTqKauDCgAAQARHkgAAAIhYQn2y8M9G1BKJAQAAJidUO6gAAABEBFQ7qAAAAEQQUAEAAIggoAIAABBxJElABQAAIMLnhqEbAACAgR4MqK74AgAAcJ8RXwAAACIIqAAAAEQQUAEAAIggoAIAABBBQAUAACCCgAoAAMDmAdUrMwAAAPyG+niMhAoAADBS9ZR99ZQFAAAgVHUVtoMKAABAxDjs54ahGwAAgIEeDKh2UAEAAAaqrsJGfAEAALhaXf1GARUAAICIeVg7qAAAAETEOR1UAAAAItqNjiQBAACw+4gvAAAAE1VTXQEVAACA3Z+ZcSQJAACA++ygAgAAEBHmXl2FAQAACFR9pe2gAgAAEMEOKgAAAN/W8swMAAAACWpt+MyMI0kAAADjVF+WezQYi6gAAADzVFNdI74AAABEeDKgaqACAAAMtJrq2kEFAADgjRFfAAAAImzYQQUAAID7BFQAAADeGPEFAADgaJ/7ZW4AAAAmZjkdVAAAAC5WW0IVUAEAAIjgHVQAAAAi2EEFAAAgghFfAAAAIgioAAAAROxr2kEFAAAggg4qAAAAVzs+M+NIEgAAAPfpoAIAABDBDioAAAAR07BGfAEAAIhoNuqgAgAAEMEOKgAAALu/g2rEFwAAgPtev/FbAAAAtldtlY34AgAAsPuRJAAAAAZaXYUFVAAAACJmfAVUAAAALuygAgAAkKDxQRYBFQAAgIQbSQIqAAAAV674AgAAcDgBFQAAgAgCKgAAABEEVAAAACKWUAVUAAAAIgioAAAARLyE+rnn864AAAD8ISO+AAAAnJ1QX011AQAAyFQ7dlDb2sIAAADMY8QXAACAiHNCAioAAAARBFQAAAAiCKgAAABEEFABAAC4WN5BBQAA4GzeQQUAACDiiq+ACgAAwJf6WG0R1YgvAAAA39o2UAVUAAAALlbjjK+ACgAAQAQBFQAAgCvPzAAAAHA2ARUAAIAIAioAAAARBFQAAAC+td3wFVABAAAIIaACAADwbe35DmpjYxgAAIBpUa62fDwHAACAcRn11VMWAACASNVX+skRXw1UAACAeVZXYTuoAAAARPQa7aACAAAQ0Ws04gsAAEBElDPiCwAAwIUOKgAAABkcSQIAACDBniO+AAAAzFNdhQVUAAAAIthBBQAAIIIOKgAAABEcSQIAACAiyRnxBQAAICLJGfEFAAAggoAKAABAxIyvHVQAAAAi6KACAAAQQUAFAAAggiu+AAAARNBBBQAAIKLX6EgSAAAAEQlVBxUAAICIZqOACgAAQMQw7KutMgAAAHGqsbYOKgAAABHPsTwZjj0zAwAAME91FdZBBQAAIGLI1zMzAAAARNBBBQAA4GJt+Q6qHVQAAICBVlNdHVQAAAAi2EEFAAAgIszpoAIAAHDlmRkAAAAibHkkCQAAgHmqq7CACgAAwBtXfAEAAIjgSBIAAABHE1ABAAC4ciQJAACAs9WeuRsAAIBhR3yfrSyfAgAAzFNNdY34AgAAENFBfTKgaqACAABMU6t2DKh9sRsAAIBxrUYjvgAAAFx5ZgYAAICz2UEFAAAggh1UAAAArrY8kgQAAMA41VZZQAUAACCCgAoAAMDF2vKKryNJAAAAA62muo4kAQAAEOHJEKmDCgAAME91FdZBBQAA4MIVXwAAACL0DcMKqAAAAER4NKCa8QUAABhnbRlQXUkCAADgLiO+AAAAbP8OqhFfAAAAbjPiCwAAQAQdVAAAACKynB1UAAAAIgioAAAARHh1/wEAAAAk6VvW1EEFAAAg4piQK74AAAB8qcYkZ8QXAACAiEajEV8AAAAieAcVAACAiCaqDioAAAD7H0kCAABgmNUXUV3xBQAA4MqILwAAAGcTUAEAAIggoAIAAHC15w6qZ2YAAACmqbYd1EczpCNJAAAA41RXYSO+AAAARBBQAQAAiCCgAgAA8K28gwoAAECCxmNCrvgCAABw5UgSAAAAEfYc8fXMDAAAAHe9bv8SAACAA1RbZSO+AAAARBwTera0GV8AAIBpqquwHVQAAAD2P5IEAAAAdwmoAAAARLRQPzfdrQUAAGBYltNBBQAAIIIjSQAAAERkOc/MAAAAsP8zMwAAAIyztjySpIEKAAAwTzXV1UEFAABg/xFfz8wAAABwlxFfAAAAIqKcEV8AAAAiCKgAAADsv4MKAAAAdzmSBAAAQAQdVAAAAA44kqSFCgAAME3tWdg7MwAAALNUX2kjvgAAAEQQUAEAAIiYhBVQAQAAuFibHkkCAABgmuoqLKACAAAQQUAFAADgooz4AgAAcPaVJAEVAACACAIqAAAAEQRUAAAAIgioAAAAXHlmBgAAgAiu+AIAAHB2QhVQAQAAiCCgAgAAsH9A7XveFQAAgGlXkj63PP0EAADAn3LFFwAAgLM9m4zN+AIAAAxULVV1UAEAAIgY8hVQAQAAeFNN07ACKgAAAO90UAEAAAjgii8AAABnE1ABAACIIKACAAAQQUAFAADgqumGr4AKAABASEIVUAEAAIggoAIAABBBQAUAACCCgAoAAMCb+ughoAIAABBBQAUAAOCAgNrVFwYAAGBckvvc83lXAAAApjHiCwAAQESzUUAFAADganUN+QqoAAAARGxrCqgAAAC88Q4qAAAARxNQAQAAiCCgAgAAEEFABQAAIGEFVUAFAAAgg4AKAABAwiszD7du2z4LAACAaWO+OqgAAABEtBsFVAAAAP5JBxUAAIBzD/m+WqoCAAAQqtoq66ACAAAQce32c9PgDQAAwDDPBlTPzAAAAHCTDioAAAAX1dZqtIMKAADAm66E+nCP04wvAADAMNVVWAcVAACAq9XVanQkCQAAgAg6qAAAAER4df8BAAAARLGDCgAAQATPzAAAAHA2ARUAAIArI74AAACcTUAFAADggHdQAQAAGKea6gqoAAAAXJUOKgAAAAk8MwMAAEAGI74AAAAcTUAFAAAggoAKAADAG0eSAAAAOJqACgAAQAQBFQAAgDeu+AIAABBhyx3UttddAQAA+GNbdlC7PgoAAIB5Uc6ILwAAABHDsAIqAAAA+++gAgAAQEZAtYQKAADATTqoAAAA7H/F1zszAAAA3KWDCgAAwP5HkjRQAQAA5qkdA6obSQAAANNUbdlBBQAAYJq1ZwcVAACAcVZXYe+gAgAA8MaILwAAAAlqz8LO+AIAAIxTTXV1UAEAAIggoAIAAHDAiK8ZXwAAgHmqp6wOKgAAABEEVAAAAN44kgQAAMDBG6gCKgAAACGnhJ4NqG4kAQAAEBFQG1vDAAAAzGLEFwAAgIhhWCO+AAAAvHHFFwAAgARty5oCKgAAACckYzO+AAAA41RPWR1UAAAAIjiSBAAAwBtHkgAAADiagAoAAEAEARUAAIArz8wAAABwNgEVAACACAIqAAAAV6vrQRYBFQAAgAgCKgAAAG+8gwoAAEACV3wBAAAIUB9dK6gCKgAAABdt8VRABQAAIMTnnpPLAAAATAtyOqgAAABcLEeSAAAAiOBIEgAAAGf73PX6EwAAALPooAIAAHDhSBIAAAABqnEUVkAFAADgy1/xtCuiCqgAAABEDPl+bjq6DAAAwDA6qAAAALxZa8uAqoUKAADAPa+bvwMAAOAA1VjbiC8AAAARBFQAAAC+rH0DauenAQAAMCnG6aACAAAQkVCfDagaqAAAANykgwoAAEDEHV8BFQAAgIh3ZgRUAAAA/lYfa9cd1M4XXgEAABh1SejVWRwAAIAw1VfaiC8AAAARBFQAAAAieAcVAACACDqoAAAARHDFFwAAgItdn5kBAABgltWXUAVUAAAAImZhBVQAAAAiCKgAAABE3BISUAEAAIhIqM9W9g4qAADANNVV2DMzAAAAXJ1yxbdEVgAAgGC1bQcVAACAUVZVWwf14WRsCRUAAGCU6iv9cAfVRC8AAAD36KACAAAQ0Wn0zAwAAAAHjPia8AUAABilPnYNqDqoAAAAk9TH6gtyOqgAAAD8bXXmOEeSAAAAiOgyPvzMDAAAAHOs1i6jgAoAAEAEARUAAIBf6q8e6q5HkgAAAJhj7bwB60YSAADALNVX2jMzAAAARMQ4I74AAABEEFABAACI2NR8NqDaQQUAAJhlbRpQ5VMAAIBxVleWc8UXAACAiENJrvgCAADwZs8Oqh4qAADATLXdFV/5FAAAYKJqqPlqqAkAAECw2rSuFioAAMAk1Vf64RFfAAAAuMcOKgAAABExzg4qAAAAEa+F2kEFAAAgIqPaQQUAACCCHVQAAAC+VPUFOSO+AAAARMz4OpIEAABAxJkkO6gAAABEEFABAACI4EgSAAAAEUeSdFABAAC48g4qAAAA/VbjIOznrtefAAAAmBXjdFABAACIIKACAADwbW3cvHXHFwAAYJZqqquDCgAAQMQO6sOl9U8BAAAmqcbaOqgAAABEPMXimRkAAAAiMpwjSQAAAHyzgwoAAEACO6gAAAAcT0AFAADgy2ochHUkCQAAgAg6qAAAABwRULVQAQAA5qjOId+nA6ozvgAAAHOszuKemQEAACBiDtYOKgAAAEdkYy1UAACAWaqrsA4qAAAAEQRUAAAAIl5iEVABAACIWNMUUAEAAIggoAIAABBBQAUAACBiDVVABQAAIMLTAbVaT0ABAAAwxufWJ6AAAAD4PbVtafEUAABgmOoqbAcVAACAL7XvkSQrqAAAALOstsqPB0hDvgAAAINUX+nXz+XTklYBAABozMbrWkpCBQAAyFV7VxdJAQAABqm+0q74AgAAEOHpgLqc8QUAAJijNg6oZcQXAACAiA7qw/8/AAAAm3i8g/rw/w8AAMAmGc6RJAAAAP62OsdgBVQAAACOOJIEAAAAt7zu/QwAAID9VWv1xzuoriQBAABMsVqrP50fPTMDAAAwRrVWt4MKAABARI9RQAUAACDC0wHVCioAAAC36KACAAAQwRVfAAAAIpZQdVABAACI6DE+HlC9MwMAADDG6iyugwoAAMAZHVQAAACmqO2rm/IFAACYoTqL66ACAAAQ0UH9gYCqgQoAAEBEQC1PoQIAAPA/GfEFAAAggoAKAABABAEVAACAiBtCAioAAAARBFQAAAAiCKgAAABE+LEnYLyGCgAAkK7O6KB6DBUAAIB/Y8QXAACACK8fqWK+FwAAgP7JW+kUAABgiNp7xFc+BQAA4AY7qAAAAJx1xRcAAABaA6oJXwAAgCGqt7wOKgAAABEEVAAAACJGYAVUAAAAIgioAAAARBBQAQAAOCKgOuILAADALTqoAAAAHPHMTPPnAQAAcJsrvgAAACCgAgAAcMiILwAAANziii8AAAARHEkCAADgF0eSAAAAiGAHFQAAAH4mH9tDBQAAmKCOKC+jAgAAxKsjRnzdSgIAAEhXzfXtoAIAAJCQT38qoBrxBQAACLfOCKjtnwkAAEB6dHu+hbt+Fen+UAAAAA4/krT++699mBkAAIBoj+fG9VZHHxUAACBW7d1B/Uci1UcFAACgJ6DWhGCa/dcBAACckY1+qr7ZXgAAgGx1yDuoAAAA8O8EVAAAACIIqAAAAEQQUAEAAIggoAIAABBBQAUAACCCgAoAAEAEARUAAIAIAioAAAARBFQAAAAiCKgAAABEEFABAACIIKACAAAQQUAFAAAggoAKAABABAEVAACACAIqAAAAEQRUAAAAIgioAAAARBBQAQAAiCCgAgAAEEFABQAAIIKACgAAQAQBFQAAgAgCKgAAABEEVAAAACIIqAAAAEQQUAEAAIggoAIAABBBQAUAACCCgAoAAEAEARUAAIAIAioAAAARBFQAAAAiCKgAAAB8JPgPJ2B9AIi1COkAAAAASUVORK5CYII=",
          "x": 0,
          "xref": "x",
          "y": 0,
          "yref": "y"
         }
        ],
        "margin": {
         "b": 0,
         "l": 0,
         "r": 0,
         "t": 30
        },
        "shapes": [
         {
          "line": {
           "color": "red",
           "width": 2
          },
          "type": "rect",
          "x0": 1572,
          "x1": 2031,
          "xref": "x",
          "y0": 736,
          "y1": 793,
          "yref": "y"
         },
         {
          "line": {
           "color": "red",
           "width": 2
          },
          "type": "rect",
          "x0": 1675,
          "x1": 1858,
          "xref": "x",
          "y0": 804,
          "y1": 866,
          "yref": "y"
         },
         {
          "line": {
           "color": "red",
           "width": 2
          },
          "type": "rect",
          "x0": 1177,
          "x1": 2832,
          "xref": "x",
          "y0": 933,
          "y1": 993,
          "yref": "y"
         },
         {
          "line": {
           "color": "red",
           "width": 2
          },
          "type": "rect",
          "x0": 1173,
          "x1": 2842,
          "xref": "x",
          "y0": 989,
          "y1": 1049,
          "yref": "y"
         },
         {
          "line": {
           "color": "red",
           "width": 2
          },
          "type": "rect",
          "x0": 1175,
          "x1": 1569,
          "xref": "x",
          "y0": 1038,
          "y1": 1083,
          "yref": "y"
         },
         {
          "line": {
           "color": "red",
           "width": 2
          },
          "type": "rect",
          "x0": 1177,
          "x1": 2868,
          "xref": "x",
          "y0": 1091,
          "y1": 1147,
          "yref": "y"
         },
         {
          "line": {
           "color": "red",
           "width": 2
          },
          "type": "rect",
          "x0": 1178,
          "x1": 2835,
          "xref": "x",
          "y0": 1139,
          "y1": 1194,
          "yref": "y"
         },
         {
          "line": {
           "color": "red",
           "width": 2
          },
          "type": "rect",
          "x0": 1171,
          "x1": 2838,
          "xref": "x",
          "y0": 1191,
          "y1": 1243,
          "yref": "y"
         },
         {
          "line": {
           "color": "red",
           "width": 2
          },
          "type": "rect",
          "x0": 1171,
          "x1": 2840,
          "xref": "x",
          "y0": 1242,
          "y1": 1299,
          "yref": "y"
         },
         {
          "line": {
           "color": "red",
           "width": 2
          },
          "type": "rect",
          "x0": 1170,
          "x1": 2669,
          "xref": "x",
          "y0": 1294,
          "y1": 1341,
          "yref": "y"
         },
         {
          "line": {
           "color": "red",
           "width": 2
          },
          "type": "rect",
          "x0": 1166,
          "x1": 2841,
          "xref": "x",
          "y0": 1393,
          "y1": 1444,
          "yref": "y"
         },
         {
          "line": {
           "color": "red",
           "width": 2
          },
          "type": "rect",
          "x0": 1170,
          "x1": 2847,
          "xref": "x",
          "y0": 1442,
          "y1": 1498,
          "yref": "y"
         },
         {
          "line": {
           "color": "red",
           "width": 2
          },
          "type": "rect",
          "x0": 1162,
          "x1": 2848,
          "xref": "x",
          "y0": 1493,
          "y1": 1546,
          "yref": "y"
         },
         {
          "line": {
           "color": "red",
           "width": 2
          },
          "type": "rect",
          "x0": 1157,
          "x1": 2860,
          "xref": "x",
          "y0": 1536,
          "y1": 1594,
          "yref": "y"
         },
         {
          "line": {
           "color": "red",
           "width": 2
          },
          "type": "rect",
          "x0": 1160,
          "x1": 2865,
          "xref": "x",
          "y0": 1594,
          "y1": 1643,
          "yref": "y"
         },
         {
          "line": {
           "color": "red",
           "width": 2
          },
          "type": "rect",
          "x0": 1825,
          "x1": 1970,
          "xref": "x",
          "y0": 3887,
          "y1": 3960,
          "yref": "y"
         },
         {
          "line": {
           "color": "red",
           "width": 2
          },
          "type": "rect",
          "x0": 1157,
          "x1": 2828,
          "xref": "x",
          "y0": 1744,
          "y1": 1797,
          "yref": "y"
         },
         {
          "line": {
           "color": "red",
           "width": 2
          },
          "type": "rect",
          "x0": 1160,
          "x1": 2844,
          "xref": "x",
          "y0": 1795,
          "y1": 1851,
          "yref": "y"
         },
         {
          "line": {
           "color": "red",
           "width": 2
          },
          "type": "rect",
          "x0": 1155,
          "x1": 2837,
          "xref": "x",
          "y0": 1846,
          "y1": 1899,
          "yref": "y"
         },
         {
          "line": {
           "color": "red",
           "width": 2
          },
          "type": "rect",
          "x0": 1160,
          "x1": 2846,
          "xref": "x",
          "y0": 1893,
          "y1": 1944,
          "yref": "y"
         },
         {
          "line": {
           "color": "red",
           "width": 2
          },
          "type": "rect",
          "x0": 1162,
          "x1": 2741,
          "xref": "x",
          "y0": 1947,
          "y1": 2003,
          "yref": "y"
         },
         {
          "line": {
           "color": "red",
           "width": 2
          },
          "type": "rect",
          "x0": 1162,
          "x1": 2831,
          "xref": "x",
          "y0": 2050,
          "y1": 2099,
          "yref": "y"
         },
         {
          "line": {
           "color": "red",
           "width": 2
          },
          "type": "rect",
          "x0": 1160,
          "x1": 2839,
          "xref": "x",
          "y0": 2101,
          "y1": 2157,
          "yref": "y"
         },
         {
          "line": {
           "color": "red",
           "width": 2
          },
          "type": "rect",
          "x0": 1155,
          "x1": 2843,
          "xref": "x",
          "y0": 2150,
          "y1": 2199,
          "yref": "y"
         },
         {
          "line": {
           "color": "red",
           "width": 2
          },
          "type": "rect",
          "x0": 1162,
          "x1": 2811,
          "xref": "x",
          "y0": 2204,
          "y1": 2255,
          "yref": "y"
         },
         {
          "line": {
           "color": "red",
           "width": 2
          },
          "type": "rect",
          "x0": 1160,
          "x1": 2837,
          "xref": "x",
          "y0": 2304,
          "y1": 2353,
          "yref": "y"
         },
         {
          "line": {
           "color": "red",
           "width": 2
          },
          "type": "rect",
          "x0": 1160,
          "x1": 2857,
          "xref": "x",
          "y0": 2349,
          "y1": 2398,
          "yref": "y"
         },
         {
          "line": {
           "color": "red",
           "width": 2
          },
          "type": "rect",
          "x0": 1155,
          "x1": 2843,
          "xref": "x",
          "y0": 2405,
          "y1": 2456,
          "yref": "y"
         },
         {
          "line": {
           "color": "red",
           "width": 2
          },
          "type": "rect",
          "x0": 1160,
          "x1": 2876,
          "xref": "x",
          "y0": 2454,
          "y1": 2503,
          "yref": "y"
         },
         {
          "line": {
           "color": "red",
           "width": 2
          },
          "type": "rect",
          "x0": 1155,
          "x1": 2862,
          "xref": "x",
          "y0": 2503,
          "y1": 2556,
          "yref": "y"
         },
         {
          "line": {
           "color": "red",
           "width": 2
          },
          "type": "rect",
          "x0": 1155,
          "x1": 2858,
          "xref": "x",
          "y0": 2559,
          "y1": 2608,
          "yref": "y"
         },
         {
          "line": {
           "color": "red",
           "width": 2
          },
          "type": "rect",
          "x0": 1155,
          "x1": 2864,
          "xref": "x",
          "y0": 2610,
          "y1": 2659,
          "yref": "y"
         },
         {
          "line": {
           "color": "red",
           "width": 2
          },
          "type": "rect",
          "x0": 1155,
          "x1": 2860,
          "xref": "x",
          "y0": 2657,
          "y1": 2708,
          "yref": "y"
         },
         {
          "line": {
           "color": "red",
           "width": 2
          },
          "type": "rect",
          "x0": 1155,
          "x1": 2772,
          "xref": "x",
          "y0": 2711,
          "y1": 2756,
          "yref": "y"
         },
         {
          "line": {
           "color": "red",
           "width": 2
          },
          "type": "rect",
          "x0": 1157,
          "x1": 2849,
          "xref": "x",
          "y0": 2809,
          "y1": 2858,
          "yref": "y"
         },
         {
          "line": {
           "color": "red",
           "width": 2
          },
          "type": "rect",
          "x0": 1151,
          "x1": 2886,
          "xref": "x",
          "y0": 2860,
          "y1": 2907,
          "yref": "y"
         },
         {
          "line": {
           "color": "red",
           "width": 2
          },
          "type": "rect",
          "x0": 1149,
          "x1": 2888,
          "xref": "x",
          "y0": 2912,
          "y1": 2959,
          "yref": "y"
         },
         {
          "line": {
           "color": "red",
           "width": 2
          },
          "type": "rect",
          "x0": 1149,
          "x1": 2863,
          "xref": "x",
          "y0": 2961,
          "y1": 3008,
          "yref": "y"
         },
         {
          "line": {
           "color": "red",
           "width": 2
          },
          "type": "rect",
          "x0": 1149,
          "x1": 2886,
          "xref": "x",
          "y0": 3010,
          "y1": 3061,
          "yref": "y"
         },
         {
          "line": {
           "color": "red",
           "width": 2
          },
          "type": "rect",
          "x0": 1151,
          "x1": 2901,
          "xref": "x",
          "y0": 3059,
          "y1": 3115,
          "yref": "y"
         },
         {
          "line": {
           "color": "red",
           "width": 2
          },
          "type": "rect",
          "x0": 1149,
          "x1": 2899,
          "xref": "x",
          "y0": 3113,
          "y1": 3162,
          "yref": "y"
         },
         {
          "line": {
           "color": "red",
           "width": 2
          },
          "type": "rect",
          "x0": 1153,
          "x1": 2360,
          "xref": "x",
          "y0": 3164,
          "y1": 3209,
          "yref": "y"
         },
         {
          "line": {
           "color": "red",
           "width": 2
          },
          "type": "rect",
          "x0": 1153,
          "x1": 2892,
          "xref": "x",
          "y0": 3265,
          "y1": 3318,
          "yref": "y"
         },
         {
          "line": {
           "color": "red",
           "width": 2
          },
          "type": "rect",
          "x0": 1153,
          "x1": 2892,
          "xref": "x",
          "y0": 3312,
          "y1": 3363,
          "yref": "y"
         },
         {
          "line": {
           "color": "red",
           "width": 2
          },
          "type": "rect",
          "x0": 1149,
          "x1": 2897,
          "xref": "x",
          "y0": 3363,
          "y1": 3412,
          "yref": "y"
         },
         {
          "line": {
           "color": "red",
           "width": 2
          },
          "type": "rect",
          "x0": 1153,
          "x1": 2905,
          "xref": "x",
          "y0": 3417,
          "y1": 3466,
          "yref": "y"
         },
         {
          "line": {
           "color": "red",
           "width": 2
          },
          "type": "rect",
          "x0": 1155,
          "x1": 2242,
          "xref": "x",
          "y0": 3466,
          "y1": 3515,
          "yref": "y"
         },
         {
          "line": {
           "color": "red",
           "width": 2
          },
          "type": "rect",
          "x0": 1070,
          "x1": 1404,
          "xref": "x",
          "y0": 3562,
          "y1": 3613,
          "yref": "y"
         },
         {
          "line": {
           "color": "red",
           "width": 2
          },
          "type": "rect",
          "x0": 1160,
          "x1": 2923,
          "xref": "x",
          "y0": 3667,
          "y1": 3720,
          "yref": "y"
         },
         {
          "line": {
           "color": "red",
           "width": 2
          },
          "type": "rect",
          "x0": 1155,
          "x1": 2903,
          "xref": "x",
          "y0": 3718,
          "y1": 3767,
          "yref": "y"
         },
         {
          "line": {
           "color": "red",
           "width": 2
          },
          "type": "rect",
          "x0": 1153,
          "x1": 2912,
          "xref": "x",
          "y0": 3765,
          "y1": 3816,
          "yref": "y"
         },
         {
          "line": {
           "color": "red",
           "width": 2
          },
          "type": "rect",
          "x0": 1160,
          "x1": 2561,
          "xref": "x",
          "y0": 3821,
          "y1": 3868,
          "yref": "y"
         },
         {
          "line": {
           "color": "red",
           "width": 2
          },
          "type": "rect",
          "x0": 2378,
          "x1": 2740,
          "xref": "x",
          "y0": 3902,
          "y1": 4003,
          "yref": "y"
         },
         {
          "line": {
           "color": "red",
           "width": 2
          },
          "type": "rect",
          "x0": 1155,
          "x1": 2320,
          "xref": "x",
          "y0": 1639,
          "y1": 1701,
          "yref": "y"
         },
         {
          "line": {
           "color": "red",
           "width": 2
          },
          "type": "rect",
          "x0": 1545,
          "x1": 2024,
          "xref": "x",
          "y0": 3960,
          "y1": 4018,
          "yref": "y"
         }
        ],
        "showlegend": false,
        "template": {
         "data": {
          "bar": [
           {
            "error_x": {
             "color": "#2a3f5f"
            },
            "error_y": {
             "color": "#2a3f5f"
            },
            "marker": {
             "line": {
              "color": "#E5ECF6",
              "width": 0.5
             },
             "pattern": {
              "fillmode": "overlay",
              "size": 10,
              "solidity": 0.2
             }
            },
            "type": "bar"
           }
          ],
          "barpolar": [
           {
            "marker": {
             "line": {
              "color": "#E5ECF6",
              "width": 0.5
             },
             "pattern": {
              "fillmode": "overlay",
              "size": 10,
              "solidity": 0.2
             }
            },
            "type": "barpolar"
           }
          ],
          "carpet": [
           {
            "aaxis": {
             "endlinecolor": "#2a3f5f",
             "gridcolor": "white",
             "linecolor": "white",
             "minorgridcolor": "white",
             "startlinecolor": "#2a3f5f"
            },
            "baxis": {
             "endlinecolor": "#2a3f5f",
             "gridcolor": "white",
             "linecolor": "white",
             "minorgridcolor": "white",
             "startlinecolor": "#2a3f5f"
            },
            "type": "carpet"
           }
          ],
          "choropleth": [
           {
            "colorbar": {
             "outlinewidth": 0,
             "ticks": ""
            },
            "type": "choropleth"
           }
          ],
          "contour": [
           {
            "colorbar": {
             "outlinewidth": 0,
             "ticks": ""
            },
            "colorscale": [
             [
              0,
              "#0d0887"
             ],
             [
              0.1111111111111111,
              "#46039f"
             ],
             [
              0.2222222222222222,
              "#7201a8"
             ],
             [
              0.3333333333333333,
              "#9c179e"
             ],
             [
              0.4444444444444444,
              "#bd3786"
             ],
             [
              0.5555555555555556,
              "#d8576b"
             ],
             [
              0.6666666666666666,
              "#ed7953"
             ],
             [
              0.7777777777777778,
              "#fb9f3a"
             ],
             [
              0.8888888888888888,
              "#fdca26"
             ],
             [
              1,
              "#f0f921"
             ]
            ],
            "type": "contour"
           }
          ],
          "contourcarpet": [
           {
            "colorbar": {
             "outlinewidth": 0,
             "ticks": ""
            },
            "type": "contourcarpet"
           }
          ],
          "heatmap": [
           {
            "colorbar": {
             "outlinewidth": 0,
             "ticks": ""
            },
            "colorscale": [
             [
              0,
              "#0d0887"
             ],
             [
              0.1111111111111111,
              "#46039f"
             ],
             [
              0.2222222222222222,
              "#7201a8"
             ],
             [
              0.3333333333333333,
              "#9c179e"
             ],
             [
              0.4444444444444444,
              "#bd3786"
             ],
             [
              0.5555555555555556,
              "#d8576b"
             ],
             [
              0.6666666666666666,
              "#ed7953"
             ],
             [
              0.7777777777777778,
              "#fb9f3a"
             ],
             [
              0.8888888888888888,
              "#fdca26"
             ],
             [
              1,
              "#f0f921"
             ]
            ],
            "type": "heatmap"
           }
          ],
          "histogram": [
           {
            "marker": {
             "pattern": {
              "fillmode": "overlay",
              "size": 10,
              "solidity": 0.2
             }
            },
            "type": "histogram"
           }
          ],
          "histogram2d": [
           {
            "colorbar": {
             "outlinewidth": 0,
             "ticks": ""
            },
            "colorscale": [
             [
              0,
              "#0d0887"
             ],
             [
              0.1111111111111111,
              "#46039f"
             ],
             [
              0.2222222222222222,
              "#7201a8"
             ],
             [
              0.3333333333333333,
              "#9c179e"
             ],
             [
              0.4444444444444444,
              "#bd3786"
             ],
             [
              0.5555555555555556,
              "#d8576b"
             ],
             [
              0.6666666666666666,
              "#ed7953"
             ],
             [
              0.7777777777777778,
              "#fb9f3a"
             ],
             [
              0.8888888888888888,
              "#fdca26"
             ],
             [
              1,
              "#f0f921"
             ]
            ],
            "type": "histogram2d"
           }
          ],
          "histogram2dcontour": [
           {
            "colorbar": {
             "outlinewidth": 0,
             "ticks": ""
            },
            "colorscale": [
             [
              0,
              "#0d0887"
             ],
             [
              0.1111111111111111,
              "#46039f"
             ],
             [
              0.2222222222222222,
              "#7201a8"
             ],
             [
              0.3333333333333333,
              "#9c179e"
             ],
             [
              0.4444444444444444,
              "#bd3786"
             ],
             [
              0.5555555555555556,
              "#d8576b"
             ],
             [
              0.6666666666666666,
              "#ed7953"
             ],
             [
              0.7777777777777778,
              "#fb9f3a"
             ],
             [
              0.8888888888888888,
              "#fdca26"
             ],
             [
              1,
              "#f0f921"
             ]
            ],
            "type": "histogram2dcontour"
           }
          ],
          "mesh3d": [
           {
            "colorbar": {
             "outlinewidth": 0,
             "ticks": ""
            },
            "type": "mesh3d"
           }
          ],
          "parcoords": [
           {
            "line": {
             "colorbar": {
              "outlinewidth": 0,
              "ticks": ""
             }
            },
            "type": "parcoords"
           }
          ],
          "pie": [
           {
            "automargin": true,
            "type": "pie"
           }
          ],
          "scatter": [
           {
            "fillpattern": {
             "fillmode": "overlay",
             "size": 10,
             "solidity": 0.2
            },
            "type": "scatter"
           }
          ],
          "scatter3d": [
           {
            "line": {
             "colorbar": {
              "outlinewidth": 0,
              "ticks": ""
             }
            },
            "marker": {
             "colorbar": {
              "outlinewidth": 0,
              "ticks": ""
             }
            },
            "type": "scatter3d"
           }
          ],
          "scattercarpet": [
           {
            "marker": {
             "colorbar": {
              "outlinewidth": 0,
              "ticks": ""
             }
            },
            "type": "scattercarpet"
           }
          ],
          "scattergeo": [
           {
            "marker": {
             "colorbar": {
              "outlinewidth": 0,
              "ticks": ""
             }
            },
            "type": "scattergeo"
           }
          ],
          "scattergl": [
           {
            "marker": {
             "colorbar": {
              "outlinewidth": 0,
              "ticks": ""
             }
            },
            "type": "scattergl"
           }
          ],
          "scattermap": [
           {
            "marker": {
             "colorbar": {
              "outlinewidth": 0,
              "ticks": ""
             }
            },
            "type": "scattermap"
           }
          ],
          "scattermapbox": [
           {
            "marker": {
             "colorbar": {
              "outlinewidth": 0,
              "ticks": ""
             }
            },
            "type": "scattermapbox"
           }
          ],
          "scatterpolar": [
           {
            "marker": {
             "colorbar": {
              "outlinewidth": 0,
              "ticks": ""
             }
            },
            "type": "scatterpolar"
           }
          ],
          "scatterpolargl": [
           {
            "marker": {
             "colorbar": {
              "outlinewidth": 0,
              "ticks": ""
             }
            },
            "type": "scatterpolargl"
           }
          ],
          "scatterternary": [
           {
            "marker": {
             "colorbar": {
              "outlinewidth": 0,
              "ticks": ""
             }
            },
            "type": "scatterternary"
           }
          ],
          "surface": [
           {
            "colorbar": {
             "outlinewidth": 0,
             "ticks": ""
            },
            "colorscale": [
             [
              0,
              "#0d0887"
             ],
             [
              0.1111111111111111,
              "#46039f"
             ],
             [
              0.2222222222222222,
              "#7201a8"
             ],
             [
              0.3333333333333333,
              "#9c179e"
             ],
             [
              0.4444444444444444,
              "#bd3786"
             ],
             [
              0.5555555555555556,
              "#d8576b"
             ],
             [
              0.6666666666666666,
              "#ed7953"
             ],
             [
              0.7777777777777778,
              "#fb9f3a"
             ],
             [
              0.8888888888888888,
              "#fdca26"
             ],
             [
              1,
              "#f0f921"
             ]
            ],
            "type": "surface"
           }
          ],
          "table": [
           {
            "cells": {
             "fill": {
              "color": "#EBF0F8"
             },
             "line": {
              "color": "white"
             }
            },
            "header": {
             "fill": {
              "color": "#C8D4E3"
             },
             "line": {
              "color": "white"
             }
            },
            "type": "table"
           }
          ]
         },
         "layout": {
          "annotationdefaults": {
           "arrowcolor": "#2a3f5f",
           "arrowhead": 0,
           "arrowwidth": 1
          },
          "autotypenumbers": "strict",
          "coloraxis": {
           "colorbar": {
            "outlinewidth": 0,
            "ticks": ""
           }
          },
          "colorscale": {
           "diverging": [
            [
             0,
             "#8e0152"
            ],
            [
             0.1,
             "#c51b7d"
            ],
            [
             0.2,
             "#de77ae"
            ],
            [
             0.3,
             "#f1b6da"
            ],
            [
             0.4,
             "#fde0ef"
            ],
            [
             0.5,
             "#f7f7f7"
            ],
            [
             0.6,
             "#e6f5d0"
            ],
            [
             0.7,
             "#b8e186"
            ],
            [
             0.8,
             "#7fbc41"
            ],
            [
             0.9,
             "#4d9221"
            ],
            [
             1,
             "#276419"
            ]
           ],
           "sequential": [
            [
             0,
             "#0d0887"
            ],
            [
             0.1111111111111111,
             "#46039f"
            ],
            [
             0.2222222222222222,
             "#7201a8"
            ],
            [
             0.3333333333333333,
             "#9c179e"
            ],
            [
             0.4444444444444444,
             "#bd3786"
            ],
            [
             0.5555555555555556,
             "#d8576b"
            ],
            [
             0.6666666666666666,
             "#ed7953"
            ],
            [
             0.7777777777777778,
             "#fb9f3a"
            ],
            [
             0.8888888888888888,
             "#fdca26"
            ],
            [
             1,
             "#f0f921"
            ]
           ],
           "sequentialminus": [
            [
             0,
             "#0d0887"
            ],
            [
             0.1111111111111111,
             "#46039f"
            ],
            [
             0.2222222222222222,
             "#7201a8"
            ],
            [
             0.3333333333333333,
             "#9c179e"
            ],
            [
             0.4444444444444444,
             "#bd3786"
            ],
            [
             0.5555555555555556,
             "#d8576b"
            ],
            [
             0.6666666666666666,
             "#ed7953"
            ],
            [
             0.7777777777777778,
             "#fb9f3a"
            ],
            [
             0.8888888888888888,
             "#fdca26"
            ],
            [
             1,
             "#f0f921"
            ]
           ]
          },
          "colorway": [
           "#636efa",
           "#EF553B",
           "#00cc96",
           "#ab63fa",
           "#FFA15A",
           "#19d3f3",
           "#FF6692",
           "#B6E880",
           "#FF97FF",
           "#FECB52"
          ],
          "font": {
           "color": "#2a3f5f"
          },
          "geo": {
           "bgcolor": "white",
           "lakecolor": "white",
           "landcolor": "#E5ECF6",
           "showlakes": true,
           "showland": true,
           "subunitcolor": "white"
          },
          "hoverlabel": {
           "align": "left"
          },
          "hovermode": "closest",
          "mapbox": {
           "style": "light"
          },
          "paper_bgcolor": "white",
          "plot_bgcolor": "#E5ECF6",
          "polar": {
           "angularaxis": {
            "gridcolor": "white",
            "linecolor": "white",
            "ticks": ""
           },
           "bgcolor": "#E5ECF6",
           "radialaxis": {
            "gridcolor": "white",
            "linecolor": "white",
            "ticks": ""
           }
          },
          "scene": {
           "xaxis": {
            "backgroundcolor": "#E5ECF6",
            "gridcolor": "white",
            "gridwidth": 2,
            "linecolor": "white",
            "showbackground": true,
            "ticks": "",
            "zerolinecolor": "white"
           },
           "yaxis": {
            "backgroundcolor": "#E5ECF6",
            "gridcolor": "white",
            "gridwidth": 2,
            "linecolor": "white",
            "showbackground": true,
            "ticks": "",
            "zerolinecolor": "white"
           },
           "zaxis": {
            "backgroundcolor": "#E5ECF6",
            "gridcolor": "white",
            "gridwidth": 2,
            "linecolor": "white",
            "showbackground": true,
            "ticks": "",
            "zerolinecolor": "white"
           }
          },
          "shapedefaults": {
           "line": {
            "color": "#2a3f5f"
           }
          },
          "ternary": {
           "aaxis": {
            "gridcolor": "white",
            "linecolor": "white",
            "ticks": ""
           },
           "baxis": {
            "gridcolor": "white",
            "linecolor": "white",
            "ticks": ""
           },
           "bgcolor": "#E5ECF6",
           "caxis": {
            "gridcolor": "white",
            "linecolor": "white",
            "ticks": ""
           }
          },
          "title": {
           "x": 0.05
          },
          "xaxis": {
           "automargin": true,
           "gridcolor": "white",
           "linecolor": "white",
           "ticks": "",
           "title": {
            "standoff": 15
           },
           "zerolinecolor": "white",
           "zerolinewidth": 2
          },
          "yaxis": {
           "automargin": true,
           "gridcolor": "white",
           "linecolor": "white",
           "ticks": "",
           "title": {
            "standoff": 15
           },
           "zerolinecolor": "white",
           "zerolinewidth": 2
          }
         }
        },
        "title": {
         "text": "Detections: medium_r0547_1444",
         "x": 0.5
        },
        "xaxis": {
         "constrain": "domain",
         "range": [
          0,
          3744
         ],
         "visible": false
        },
        "yaxis": {
         "range": [
          4832,
          0
         ],
         "scaleanchor": "x",
         "visible": false
        }
       }
      }
     },
     "metadata": {},
     "output_type": "display_data"
    }
   ],
   "source": [
    "ocr_berrutti_dataset.plot_document(doc)"
   ]
  }
 ],
 "metadata": {
  "kernelspec": {
   "display_name": "icdar_2025",
   "language": "python",
   "name": "python3"
  },
  "language_info": {
   "codemirror_mode": {
    "name": "ipython",
    "version": 3
   },
   "file_extension": ".py",
   "mimetype": "text/x-python",
   "name": "python",
   "nbconvert_exporter": "python",
   "pygments_lexer": "ipython3",
   "version": "3.11.11"
  }
 },
 "nbformat": 4,
 "nbformat_minor": 5
}
